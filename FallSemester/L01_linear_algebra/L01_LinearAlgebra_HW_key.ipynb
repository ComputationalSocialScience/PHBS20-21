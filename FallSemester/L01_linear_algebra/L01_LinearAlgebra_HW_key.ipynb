{
 "cells": [
  {
   "cell_type": "markdown",
   "metadata": {},
   "source": [
    "# Linear Algebra: Assignment 1\n",
    "\n",
    "**Name**: (Please add your name here)\n",
    "\n",
    "\n",
    "This assignment has 3 questions. These questions are worth 15 points each.\n",
    "\n",
    "Please be aware that each of the questions below will involve writing code. As previously mentioned, we expect all code written for this class to reflect good coding standards."
   ]
  },
  {
   "cell_type": "code",
   "execution_count": 118,
   "metadata": {},
   "outputs": [],
   "source": [
    "import matplotlib.pyplot as plt\n",
    "import numpy as np\n",
    "\n",
    "%matplotlib inline"
   ]
  },
  {
   "cell_type": "markdown",
   "metadata": {},
   "source": [
    "**Question 1**\n",
    "\n",
    "One of the operations that you will encounter frequently throughout this course is matrix multiplication.\n",
    "\n",
    "As mentioned, the matrix multplication operation takes two matrices ($A$ and $B$) and outputs a new matrix ($C$). It requires that $A$ be an $n \\times k$ matrix and $B$ be a $k \\times m$ matrix with the result, $C$, being an $n \\times m$ matrix.\n",
    "\n",
    "Write a function that takes two matrices as an input and outputs their matrix product. This function should raise an error if the input matrices are incompatible. Use your function on the matrices created below and check that it performs the correct operation by comparing to the `numpy` solution."
   ]
  },
  {
   "cell_type": "code",
   "execution_count": null,
   "metadata": {},
   "outputs": [],
   "source": [
    "# Write your function here"
   ]
  },
  {
   "cell_type": "code",
   "execution_count": null,
   "metadata": {},
   "outputs": [],
   "source": [
    "A = np.array([[1.0, 0.0, 0.0], [0.0, 1.0, 0.0], [0.0, 0.0, 1.0]])\n",
    "B = np.array([[1.0, 0.0], [2.0, 1.0], [3.0, 2.0]])\n",
    "\n",
    "# Use your function here to multiply A and B and compare to numpy\n"
   ]
  },
  {
   "cell_type": "code",
   "execution_count": null,
   "metadata": {},
   "outputs": [],
   "source": [
    "X = np.random.randn(10, 3)\n",
    "Y = np.random.randn(3, 5)\n",
    "\n",
    "# Use your function here to multiply X and Y and compare to numpy\n"
   ]
  },
  {
   "cell_type": "markdown",
   "metadata": {},
   "source": [
    "**Question 2**\n",
    "\n",
    "The logistic curve is frequently used to model growth in systems with a limiting size factor. It is defined by a differential equation,\n",
    "\n",
    "$$\\frac{\\partial P}{\\partial t} = r P \\left(1 - \\frac{P}{K} \\right)$$\n",
    "\n",
    "the solution to this differential equation is given by\n",
    "\n",
    "$$P(t) = \\frac{K}{1 + \\left(\\frac{K - P_0}{P_0}\\right) e^{-rt}}$$\n",
    "\n",
    "Let's play with these parameters a  little bit. Define a function that computes the values of $P$ for $t=0, 1, \\dots, 500$ for given parameters $K$, $P_0$, $r$."
   ]
  },
  {
   "cell_type": "code",
   "execution_count": 116,
   "metadata": {},
   "outputs": [],
   "source": [
    "def logistic_curve_simulation(P0, K, r, T=500):\n",
    "    \"\"\"\n",
    "    Simulates the logistic curve for a given parameterization from\n",
    "    t=0 to t=T\n",
    "    \n",
    "    Parameters\n",
    "    ----------\n",
    "    P0 : scalar\n",
    "        The initial size of the modeled process\n",
    "    K : scalar\n",
    "        The limiting size of the modeled process\n",
    "    r : scalar\n",
    "        The growth rate\n",
    "    \n",
    "    Returns\n",
    "    -------\n",
    "    simulated : np.array(ndim=1)\n",
    "        The simulated process\n",
    "    \"\"\"\n",
    "    Tvals = np.arange(T)\n",
    "    simulated = K / (1 + ((K - P0)/P0)*np.exp(-r*Tvals))\n",
    "    return simulated\n"
   ]
  },
  {
   "cell_type": "markdown",
   "metadata": {},
   "source": [
    "Now that you can simulate the process, let's choose a particular $K$ and $P_0$ and plot the process for different values of $r$."
   ]
  },
  {
   "cell_type": "code",
   "execution_count": 121,
   "metadata": {},
   "outputs": [
    {
     "data": {
      "image/png": "[encoded data removed]",
      "text/plain": [
       "<Figure size 432x288 with 1 Axes>"
      ]
     },
     "metadata": {
      "needs_background": "light"
     },
     "output_type": "display_data"
    }
   ],
   "source": [
    "fig, ax = plt.subplots()\n",
    "\n",
    "K, P0, T = 50.0, 1.0, 500\n",
    "\n",
    "Tvals = np.arange(T)\n",
    "for r in [0.025, 0.05, 0.5]:\n",
    "    ax.plot(Tvals, logistic_curve_simulation(P0, K, r, T))\n"
   ]
  },
  {
   "cell_type": "markdown",
   "metadata": {},
   "source": [
    "Which curves do you think correspond to each growth rate?"
   ]
  },
  {
   "cell_type": "markdown",
   "metadata": {},
   "source": [
    "**Answer question here**"
   ]
  },
  {
   "cell_type": "markdown",
   "metadata": {},
   "source": [
    "**Question 3**\n",
    "\n",
    "This one is somewhat challenging. Take your best shot at it, we will award full points for a reasonable attempt.\n",
    "\n",
    "We would like you to write the code to perform the QR-decomposition. Recall that the QR-decomposition of an $m \\times n$ matrix, $A$, results in\n",
    "\n",
    "$$A = QR$$\n",
    "\n",
    "We will walk you through the steps:"
   ]
  },
  {
   "cell_type": "markdown",
   "metadata": {},
   "source": [
    "*Step 1: Create a normalization function*\n",
    "\n",
    "In this step, you will define a function, `normalize_col`, that will take the elements of a row and make it so that they sum to one.\n",
    "\n",
    "This is done by dividing the vector by its norm. For a vector $x$, the normalized vector, $e$, is given by\n",
    "\n",
    "$$e = \\frac{x}{||x||}$$\n",
    "\n",
    "where $||x|| := \\sqrt{x_1^2 + x_2^2 + \\dots + x_N^2}$"
   ]
  },
  {
   "cell_type": "code",
   "execution_count": 90,
   "metadata": {},
   "outputs": [],
   "source": [
    "def normalize_col(x):\n",
    "    \"\"\"\n",
    "    Normalizes the column so that the elements of the column sum to one\n",
    "    \n",
    "    Parameters\n",
    "    ----------\n",
    "    x : np.array(ndim=1)\n",
    "        The column that we would like to normalize\n",
    "    \n",
    "    Returns\n",
    "    -------\n",
    "    out : np.array(ndim=1)\n",
    "        The normalized version of x\n",
    "    \"\"\"\n",
    "    out = x / np.sqrt(np.dot(x, x))\n",
    "    \n",
    "    return out\n"
   ]
  },
  {
   "cell_type": "markdown",
   "metadata": {},
   "source": [
    "*Step 2: Create an projection function*\n",
    "\n",
    "In this step, you will create a function, `proj_a2b`, that takes two vectors, $a$ and $b$, and projects $a$ onto $b$. Once we've done this projection, then the vector $a - \\text{proj}_ba$ will be orthogonal to $b$.\n",
    "\n",
    "The projection is defined as\n",
    "\n",
    "$$\\text{proj}_b a := \\frac{\\left<a, b\\right>}{\\left<b, b\\right>}b$$\n",
    "\n",
    "where $\\left<x, y\\right>$ is defined as the inner-product (for vectors, this is just the dot product)"
   ]
  },
  {
   "cell_type": "code",
   "execution_count": 91,
   "metadata": {},
   "outputs": [],
   "source": [
    "def proj_a2b(a, b):\n",
    "    \"\"\"\n",
    "    Projects the vector a onto the vector u\n",
    "    \n",
    "    Parameters\n",
    "    ----------\n",
    "    a : np.array(ndim=1)\n",
    "        The vector we are projecting\n",
    "    b : np.array(ndim=1)\n",
    "        The vector we are projecting onto\n",
    "    \n",
    "    Returns\n",
    "    -------\n",
    "    out : np.array(ndim=1)\n",
    "        The vector defined by projecting a onto b\n",
    "    \"\"\"\n",
    "    out = b * (np.dot(a, b) / np.dot(b, b))\n",
    "\n",
    "    return out\n"
   ]
  },
  {
   "cell_type": "markdown",
   "metadata": {},
   "source": [
    "*Step 3: Create an orthogonalization function*\n",
    "\n",
    "In this step, you will write a function, `orthogonalize`, that orthogonalizes one column relative to all columns prior to it in a matrix. It will depend on the `proj_a2b` function that you wrote in the previous step.\n",
    "\n",
    "Recall that once we've projected $a$ onto $b$ that the vector $u := a - \\text{proj}_b a$ will be orthogonal to $b$.\n",
    "\n",
    "If we want column $n$ to be orthogonal to all previous columns then we could do this by:\n",
    "\n",
    "$$A_n = A_n - \\sum_{j=0}^{n-1} \\text{proj}_{A_j} A_n$$"
   ]
  },
  {
   "cell_type": "code",
   "execution_count": 92,
   "metadata": {},
   "outputs": [],
   "source": [
    "def orthogonalize(U, n):\n",
    "    \"\"\"\n",
    "    Takes the matrix U and orthogonalizes the nth column\n",
    "    relative to all previous columns\n",
    "    \n",
    "    Parameters\n",
    "    ----------\n",
    "    U : np.array(ndim=2)\n",
    "        The matrix that should be orthogonalized\n",
    "    n : int\n",
    "        Which column is being orthogonalized\n",
    "    \n",
    "    Returns\n",
    "    -------\n",
    "    U : np.array(ndim=2)\n",
    "        The matrix that is being orthogonalized but the nth column\n",
    "        should be orthogonalized\n",
    "    \"\"\"\n",
    "    for i in range(n):\n",
    "        U[:, n] = U[:, n] - proj_a2b(U[:, n], U[:, i])\n",
    "\n",
    "    return U\n"
   ]
  },
  {
   "cell_type": "markdown",
   "metadata": {},
   "source": [
    "Once you've done all of the previous steps, we can perform the QR-decomposition using the function below"
   ]
  },
  {
   "cell_type": "code",
   "execution_count": 93,
   "metadata": {},
   "outputs": [],
   "source": [
    "def qr_decomposition(A):\n",
    "    \"\"\"\n",
    "    Performs the QR decomposition on a square matrix A such that\n",
    "    \n",
    "      A = Q R    \n",
    "\n",
    "    Parameters\n",
    "    ----------\n",
    "    A : np.array(ndim=2)\n",
    "        The matrix that should decomposed\n",
    "    \n",
    "    Returns\n",
    "    -------\n",
    "    Q : np.array(ndim=2)\n",
    "        An orthonormal matrix\n",
    "    R : np.array(ndim=2)\n",
    "        An upper-diagonal matrix\n",
    "    \"\"\"\n",
    "    # Make sure we get a Q of the right shape\n",
    "    m, n = A.shape\n",
    "    assert m == n\n",
    "\n",
    "    # Allocate space to store the Q matrix\n",
    "    Q = np.copy(A)\n",
    "    \n",
    "    Q[:, 0] = normalize_col(A[:, 0])\n",
    "    for i in range(1, m):\n",
    "        Q = orthogonalize(Q, i)\n",
    "        Q[:, i] = normalize_col(Q[:, i])\n",
    "\n",
    "    R = Q.T @ A\n",
    "    \n",
    "    return Q, R"
   ]
  },
  {
   "cell_type": "markdown",
   "metadata": {},
   "source": [
    "Now let's create a matrix and check how our solution compares to the `scipy` version:"
   ]
  },
  {
   "cell_type": "code",
   "execution_count": 100,
   "metadata": {},
   "outputs": [],
   "source": [
    "A = np.array([[1.0, 0.5, 0.2], [0.5, 0.5, 1.0], [0.0, 1.0, 1.0]])"
   ]
  },
  {
   "cell_type": "code",
   "execution_count": 101,
   "metadata": {},
   "outputs": [],
   "source": [
    "Q, R = qr_decomposition(A)"
   ]
  },
  {
   "cell_type": "code",
   "execution_count": 105,
   "metadata": {},
   "outputs": [],
   "source": [
    "from scipy.linalg import qr"
   ]
  },
  {
   "cell_type": "code",
   "execution_count": 106,
   "metadata": {},
   "outputs": [],
   "source": [
    "Q_scipy, R_scipy = qr(A)"
   ]
  },
  {
   "cell_type": "code",
   "execution_count": 110,
   "metadata": {},
   "outputs": [
    {
     "name": "stdout",
     "output_type": "stream",
     "text": [
      "Our Q is\n",
      "[[ 0.89442719 -0.09759001 -0.43643578]\n",
      " [ 0.4472136   0.19518001  0.87287156]\n",
      " [ 0.          0.97590007 -0.21821789]]\n",
      "Our R is\n",
      "[[ 1.11803399e+00  6.70820393e-01  6.26099034e-01]\n",
      " [-1.11022302e-16  1.02469508e+00  1.15156209e+00]\n",
      " [ 5.55111512e-17  2.77555756e-17  5.67366515e-01]]\n"
     ]
    }
   ],
   "source": [
    "print(\"Our Q is\")\n",
    "print(Q)\n",
    "print(\"Our R is\")\n",
    "print(R)"
   ]
  },
  {
   "cell_type": "code",
   "execution_count": 111,
   "metadata": {},
   "outputs": [
    {
     "name": "stdout",
     "output_type": "stream",
     "text": [
      "Scipy's Q is\n",
      "[[-0.89442719  0.09759001  0.43643578]\n",
      " [-0.4472136  -0.19518001 -0.87287156]\n",
      " [-0.         -0.97590007  0.21821789]]\n",
      "Scipy'sR is\n",
      "[[-1.11803399 -0.67082039 -0.62609903]\n",
      " [ 0.         -1.02469508 -1.15156209]\n",
      " [ 0.          0.         -0.56736651]]\n"
     ]
    }
   ],
   "source": [
    "print(\"Scipy's Q is\")\n",
    "print(Q_scipy)\n",
    "print(\"Scipy'sR is\")\n",
    "print(R_scipy)"
   ]
  },
  {
   "cell_type": "markdown",
   "metadata": {},
   "source": [
    "How do the two solutions differ?"
   ]
  },
  {
   "cell_type": "markdown",
   "metadata": {},
   "source": [
    "**Write your observations about the differences here**:"
   ]
  },
  {
   "cell_type": "markdown",
   "metadata": {},
   "source": [
    "Please note that in practice, we will **not** write our own functions to do scientific or linear algebra operations. Others have written versions that are (1) more general, (2) have better error catching, and (3) perform significantly better. For example, let's compare the speed of our QR decomposition with the scipy version below."
   ]
  },
  {
   "cell_type": "code",
   "execution_count": 112,
   "metadata": {},
   "outputs": [],
   "source": [
    "A_big = np.random.randn(100, 100)"
   ]
  },
  {
   "cell_type": "code",
   "execution_count": 113,
   "metadata": {},
   "outputs": [
    {
     "name": "stdout",
     "output_type": "stream",
     "text": [
      "41.4 ms ± 2.7 ms per loop (mean ± std. dev. of 7 runs, 10 loops each)\n"
     ]
    }
   ],
   "source": [
    "%timeit qr_decomposition(A_big)"
   ]
  },
  {
   "cell_type": "code",
   "execution_count": 114,
   "metadata": {},
   "outputs": [
    {
     "name": "stdout",
     "output_type": "stream",
     "text": [
      "1.5 ms ± 9.66 µs per loop (mean ± std. dev. of 7 runs, 1000 loops each)\n"
     ]
    }
   ],
   "source": [
    "%timeit qr(A_big)"
   ]
  }
 ],
 "metadata": {
  "kernelspec": {
   "display_name": "py3chase",
   "language": "python",
   "name": "py3chase"
  },
  "language_info": {
   "codemirror_mode": {
    "name": "ipython",
    "version": 3
   },
   "file_extension": ".py",
   "mimetype": "text/x-python",
   "name": "python",
   "nbconvert_exporter": "python",
   "pygments_lexer": "ipython3",
   "version": "3.7.3"
  }
 },
 "nbformat": 4,
 "nbformat_minor": 2
}
