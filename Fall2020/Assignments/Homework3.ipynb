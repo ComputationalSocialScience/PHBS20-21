{
 "cells": [
  {
   "cell_type": "markdown",
   "metadata": {},
   "source": [
    "# Homework 3: Groupby and API access\n",
    "\n",
    "**Author**: (Write your name here)"
   ]
  },
  {
   "cell_type": "markdown",
   "metadata": {},
   "source": [
    "## Introduction\n",
    "\n",
    "There are two goals for this assignment:\n",
    "\n",
    "1. Practice using the split-apply-combine strategy using the `.groupby` method \n",
    "2. Pracitce integrating with an API to obtain data"
   ]
  },
  {
   "cell_type": "markdown",
   "metadata": {},
   "source": [
    "## Section 1: Groupby\n",
    "\n",
    "There is one problem in this section: cohort analysis using shopify data\n",
    "\n",
    "This problem was introduced as part of the groupby lecture.\n",
    "\n",
    "The problem introduction and explanation has been copied from that lecture and repeated here\n",
    "\n",
    "The only modification is that instead of using the `qeds` library to simulate data, we load it from a file.\n",
    "\n",
    "In order to read the the `shopify_orders.parquet` file you will need to have the `pyarrow` library installed. The code cell below includes a `pip` instruction for installing this package. If you need to install it, please remove the comment in the cell below and execute the pip command.\n",
    "\n",
    "If after installing pyarrow you get errors about pyarrow not being available when trying to read the data, please restart your jupyter kernel and try loading the data again."
   ]
  },
  {
   "cell_type": "code",
   "execution_count": null,
   "metadata": {},
   "outputs": [],
   "source": [
    "#%pip install --upgrade pyarrow"
   ]
  },
  {
   "cell_type": "code",
   "execution_count": null,
   "metadata": {},
   "outputs": [],
   "source": [
    "import pandas as pd\n",
    "\n",
    "orders = pd.read_parquet(\"shopify_orders.parquet\")\n",
    "orders.info()\n",
    "orders.head()"
   ]
  },
  {
   "cell_type": "markdown",
   "metadata": {
    "slideshow": {
     "slide_type": "subslide"
    }
   },
   "source": [
    "**Definition:** A customer’s cohort is the month in which a customer placed\n",
    "their first order\n",
    "\n",
    "The customer type column indicates whether order was placed by a new or returning customer"
   ]
  },
  {
   "cell_type": "markdown",
   "metadata": {
    "slideshow": {
     "slide_type": "subslide"
    }
   },
   "source": [
    "We now describe the *want* for the exercise, which we ask you to complete\n",
    "\n",
    "**Want**: Compute the monthly total number of orders, total sales, and\n",
    "total quantity separated by customer cohort and customer type\n",
    "\n",
    "Read that carefully one more time…"
   ]
  },
  {
   "cell_type": "markdown",
   "metadata": {
    "slideshow": {
     "slide_type": "subslide"
    }
   },
   "source": [
    "### Extended Exercise\n",
    "\n",
    "Using the reshape and `groupby` tools you have learned, apply the want\n",
    "operator described above\n",
    "\n",
    "See below for advice on how to proceed"
   ]
  },
  {
   "cell_type": "markdown",
   "metadata": {
    "slideshow": {
     "slide_type": "subslide"
    }
   },
   "source": [
    "When you are finished, you should have something that looks like this:\n",
    "\n",
    "<img src=\"shopify_cohort_answer.png\" alt=\"groupby\\_cohort\\_analysis\\_exercise\\_output.png\" style=\"\">\n",
    "\n",
    "  "
   ]
  },
  {
   "cell_type": "markdown",
   "metadata": {
    "slideshow": {
     "slide_type": "subslide"
    }
   },
   "source": [
    "A few notes on the table above:\n",
    "\n",
    "1. Your actual output will be much bigger. This is just to give you an idea of what it might look like\n",
    "1. The numbers you produce should actually be the same as what are included in this table… Index into your answer and compare what you have with this table to verify your progress\n",
    "1. The labels will not have \"Month-year\" by default -- they will be numerical dates like `2016-07-31`. This is ok. The changing to \"Month-year\" representation is optional"
   ]
  },
  {
   "cell_type": "markdown",
   "metadata": {
    "slideshow": {
     "slide_type": "subslide"
    }
   },
   "source": [
    "Now, how to do it?\n",
    "\n",
    "There is more than one way to code this, but here are some suggested\n",
    "steps.\n",
    "\n",
    "1. Convert the `Day` column to have a `datetime` `dtype` instead of object (Hint: use the `pd.to_datetime` function)\n",
    "1. Add a new column that specifies the date associated with each\n",
    "  customer’s `\"First-time\"` order\n",
    "  - Hint 1: You can do this with a combination of `groupby` and\n",
    "    `merge`\n",
    "  - Hint 2: `customer_type` is always one of `Returning` and\n",
    "    `First-time`  \n",
    "  - Hint 3: Some customers don’t have a\n",
    "    `customer_type == \"First-time\"` entry. You will need to set the\n",
    "    value for these users to some date that precedes the dates in the\n",
    "    sample. After adding valid data back into `orders` DataFrame,\n",
    "    you can identify which customers don’t have a `\"First-Time\"`\n",
    "    entry by checking for missing data in the new column.  \n",
    "1. You’ll need to group by 3 things  \n",
    "1. You can apply one of the built-in aggregation functions to the GroupBy\n",
    "1. After doing the aggregation, you’ll need to use your reshaping skills to\n",
    "  move things to the right place in rows and columns\n",
    "\n",
    "\n",
    "Good luck!"
   ]
  },
  {
   "cell_type": "code",
   "execution_count": null,
   "metadata": {},
   "outputs": [],
   "source": []
  },
  {
   "cell_type": "markdown",
   "metadata": {},
   "source": [
    "## Section 2: World Bank API\n",
    "\n",
    "In this section we will be continuing our practice with APIs.\n",
    "\n",
    "In homework 2, we used the `world_bank_data` package as a way to access some time series data from the World Bank\n",
    "\n",
    "In this assignment we will ask you to gather the same data, but this time making the API calls yourself\n",
    "\n",
    "You are not to use `world_bank_data`, but rather a combination of `json`, `requests`, and `pandas` to obtain the datasets\n",
    "\n",
    "As a refresher, here is some background information on the three data series we worked with in homework 2:\n",
    "\n",
    "- **Primary completion rate** (world bank code `\"SE.PRM.CMPT.ZS\"`), or gross intake ratio to the last grade of primary education, is the number of new entrants (enrollments minus repeaters) in the last grade of primary education, regardless of age, divided by the population at the entrance age for the last grade of primary education. Data limitations preclude adjusting for students who drop out during the final year of primary education.\n",
    "- **GDP** (world bank code `\"NY.GDP.MKTP.CD\"`) at purchaser's prices is the sum of gross value added by all resident producers in the economy plus any product taxes and minus any subsidies not included in the value of the products. It is calculated without making deductions for depreciation of fabricated assets or for depletion and degradation of natural resources. Data are in current U.S. dollars.\n",
    "- **Population** (world bank code `\"SP.POP.TOTL\"`) is based on the de facto definition of population, which counts all residents regardless of legal status or citizenship. The values shown are midyear estimates."
   ]
  },
  {
   "cell_type": "markdown",
   "metadata": {},
   "source": [
    "### Question 1\n",
    "\n",
    "The main documentation for the World Bank API page is located at: https://datahelpdesk.worldbank.org/knowledgebase/topics/125589-developer-information\n",
    "\n",
    "We will be able to extract the information we need from a single page they call the [API Basic Call Structures page](https://datahelpdesk.worldbank.org/knowledgebase/articles/898581-api-basic-call-structures)\n",
    "\n",
    "Click the link above to open the API Basic Call Structures page and look for the url needed to access data for **all** countries for a particular indicator\n",
    "\n",
    "> Hint: the API Basic Call Structures page has an example for the `SP.POP.TOTL` indicator\n",
    "\n",
    "In the code cell below, alter the right-hand-side of `url = ` and set it to the url you identified\n",
    "\n",
    "Instead of writing the indicator from the example, use `{}` in its place as a placeholder\n",
    "\n",
    "> Hint: For example `test_url = \"https://github.{}/QuantEcon/{}\"` has two placeholders, one after `github.` and one at the end of the string"
   ]
  },
  {
   "cell_type": "code",
   "execution_count": null,
   "metadata": {},
   "outputs": [],
   "source": [
    "url = \"TODO REPLACE THIS STRING\""
   ]
  },
  {
   "cell_type": "markdown",
   "metadata": {},
   "source": [
    "### Question 2\n",
    "\n",
    "Navigate back to the API Basic Call Structures page and study the examples\n",
    "\n",
    "Determine where to put the indicator name\n",
    "\n",
    "Is it part of the path, query, headers, or payload of the request?\n",
    "\n",
    "Write your answer in the cell below:\n"
   ]
  },
  {
   "cell_type": "markdown",
   "metadata": {},
   "source": []
  },
  {
   "cell_type": "markdown",
   "metadata": {},
   "source": [
    "### Question 3\n",
    "\n",
    "Evaluate the code cell below and verify that the output of `url.format(\"SP.POP.TOTL\")` inserts the indicator name in the correct place\n",
    "\n",
    "If it does not match the examples, create a variable `url_q3` that alters the `url` variable so that the `{}` is in the correct place"
   ]
  },
  {
   "cell_type": "code",
   "execution_count": null,
   "metadata": {},
   "outputs": [],
   "source": [
    "url.format(\"SP.POP.TOTL\")"
   ]
  },
  {
   "cell_type": "code",
   "execution_count": null,
   "metadata": {},
   "outputs": [],
   "source": [
    "# create url_q3 (if necessary) here\n"
   ]
  },
  {
   "cell_type": "markdown",
   "metadata": {},
   "source": [
    "### Question 4\n",
    "\n",
    "In the BLS api example shown in class, the data was returned to us in JSON format\n",
    "\n",
    "This allowed us to use `res.json()` to read the data into a Python dict (where `res` is a `requests.Response` object)\n",
    "\n",
    "JSON is not the default return value for the World Bank API, but it can be chosen via a query parameter. \n",
    "\n",
    "Look at the examples on the API Basic Call Structures page and determine how you can request that the data be returned in JSON format (Hint: it is a query parameter)\n",
    "\n",
    "In the code cell below, create a new variable `url_q4` that adds the JSON format query parameter to the url determined to be correct in question 3"
   ]
  },
  {
   "cell_type": "code",
   "execution_count": null,
   "metadata": {},
   "outputs": [],
   "source": [
    "# create url_q4 here\n"
   ]
  },
  {
   "cell_type": "markdown",
   "metadata": {},
   "source": [
    "### Question 5\n",
    "\n",
    "How can you specify the range of dates for which you would like the indicator data?\n",
    "\n",
    "Create a variable `url_q5` that starts from the value of `url_q4` and adds a query parameter for getting data for years 2000 through 2019 \n",
    "\n",
    "> Hint 1: you may want to start this exercise by copy/paste `url_q4` from above, then renaming and making your change\n",
    "\n",
    "> Hint 2: You may want to consult the `dates` object from Homework 2 for another clue"
   ]
  },
  {
   "cell_type": "code",
   "execution_count": null,
   "metadata": {},
   "outputs": [],
   "source": [
    "# create url_q5 here\n"
   ]
  },
  {
   "cell_type": "markdown",
   "metadata": {},
   "source": [
    "### Question 6\n",
    "\n",
    "By default, the World Bank API will only return 25 data points at a time. The programmer is then required to move through multiple **page**s of data in order to obtain the entire dataset\n",
    "\n",
    "There is a query parameter that can increase the number of data points on each page of data. Determine the name of this query parameter\n",
    "\n",
    "Create a variable `url_q6` that starts from `url_q5` and sets the query parameter you just identified to 10000 (a large enough number for all the data we will fetch to fit on the first page)"
   ]
  },
  {
   "cell_type": "code",
   "execution_count": null,
   "metadata": {},
   "outputs": [],
   "source": [
    "# create url_q6 here\n"
   ]
  },
  {
   "cell_type": "markdown",
   "metadata": {},
   "source": [
    "### Question 7\n",
    "\n",
    "Fill in the python function below\n",
    "\n",
    "Consult the documentation string to determine what the function should do\n",
    "\n",
    "> Hint: see the bls_api notebook from class for how to check status codes and parse the JSON response to a Python dict\n",
    "\n",
    "> Hint 2: You've been building up a url that can be **format**ted to request the data indicated in the docstring"
   ]
  },
  {
   "cell_type": "code",
   "execution_count": null,
   "metadata": {},
   "outputs": [],
   "source": [
    "def request_wb_data(series_code: str) -> dict:\n",
    "    \"\"\"\n",
    "    Uses the requests library to make a GET request to\n",
    "    obtain the data in JSON format for the chosen world \n",
    "    bank series (indicated by `series_code`) for all countries \n",
    "    for years 2000 to 2019\n",
    "    \n",
    "    This function will check that the status code on the \n",
    "    requests.Response object is less than 300 and will then\n",
    "    return the parsed JSON data as a Python dictionary\n",
    "    \n",
    "    If the status_code from the reqeusts.Response object \n",
    "    \n",
    "    Parameters\n",
    "    ----------\n",
    "    series_code: str\n",
    "        The world bank series code for which to fetch data\n",
    "    \n",
    "    Returns\n",
    "    -------\n",
    "    results: dict\n",
    "        A Python dictionary containing the results of the\n",
    "        API call\n",
    "    \n",
    "    \"\"\"\n",
    "    # TODO: delete `pass` below and fill in with your code\n",
    "    pass"
   ]
  },
  {
   "cell_type": "markdown",
   "metadata": {},
   "source": [
    "### Question 8\n",
    "\n",
    "Call the `request_wb_data` function from above using `\"SP.POP.TOTL\"` as the `series_code` argument\n",
    "\n",
    "Study the structure/format of the data that is returned\n",
    "\n",
    "Fill in the indicated sections of the Python function below so that it successfully returns the value indicated in the docstring\n",
    "\n",
    "Note there are helpful comments inside the body of the function that provide guidance on how to do this\n"
   ]
  },
  {
   "cell_type": "code",
   "execution_count": null,
   "metadata": {},
   "outputs": [],
   "source": [
    "def parse_wb_response(results: dict) -> pd.DataFrame:\n",
    "    \"\"\"\n",
    "    Given a dict containing the parsed JSON response from a request\n",
    "    for World Bank indicator data, construct a DataFrame containing\n",
    "    the data values\n",
    "    \n",
    "    Parameters\n",
    "    ----------\n",
    "    results: dict\n",
    "        A dict containing the response from the World Bank API. This should\n",
    "        be the return value from the `request_wb_data` function\n",
    "    \n",
    "    Returns\n",
    "    -------\n",
    "    data: pd.DataFrame\n",
    "        A pandas DataFrame containing the data returned by the World Bank.\n",
    "        This DataFrame will have columns [countryiso3code, date, value, series_code]\n",
    "    \n",
    "    \"\"\"\n",
    "    # step 1: construct DataFrame with all columns returned by World Bank\n",
    "    \n",
    "    # step 2: find the series_code (should only be one) \n",
    "    \n",
    "    # step 3: Add the series_code as a column to the DataFrame\n",
    "    \n",
    "    # step 4: limit the DataFrame to the columns indicated in the docstring\n",
    "    \n",
    "    # step 5: return!\n",
    "    pass"
   ]
  },
  {
   "cell_type": "markdown",
   "metadata": {},
   "source": [
    "### Question 9\n",
    "\n",
    "Write one Python function that will take a World Bank series code and return a DataFrame containing the data for that series, for all countries, and the years 2001 to 2019\n",
    "\n",
    "Make sure to include a helpful docstring for this function by following the examples above\n",
    "\n",
    "> Hint: you should call both `request_wb_data` and `parse_wb_response` inside your new function"
   ]
  },
  {
   "cell_type": "code",
   "execution_count": null,
   "metadata": {},
   "outputs": [],
   "source": [
    "# your code here"
   ]
  },
  {
   "cell_type": "markdown",
   "metadata": {},
   "source": [
    "### Question 10\n",
    "\n",
    "Call your newly defined function from quesiton 9 to obtain the three World Bank indicators mentioned above (\"SE.PRM.CMPT.ZS\", \"NY.GDP.MKTP.CD\", and \"SP.POP.TOTL\")\n",
    "\n",
    "Combine the three DataFrames you recieve into a single long-form DataFrame"
   ]
  },
  {
   "cell_type": "code",
   "execution_count": null,
   "metadata": {},
   "outputs": [],
   "source": [
    "# your code here"
   ]
  }
 ],
 "metadata": {
  "kernelspec": {
   "display_name": "py3sglyon",
   "language": "python",
   "name": "py3sglyon"
  },
  "language_info": {
   "codemirror_mode": {
    "name": "ipython",
    "version": 3
   },
   "file_extension": ".py",
   "mimetype": "text/x-python",
   "name": "python",
   "nbconvert_exporter": "python",
   "pygments_lexer": "ipython3",
   "version": "3.7.8"
  },
  "widgets": {
   "application/vnd.jupyter.widget-state+json": {
    "state": {},
    "version_major": 2,
    "version_minor": 0
   }
  }
 },
 "nbformat": 4,
 "nbformat_minor": 4
}
