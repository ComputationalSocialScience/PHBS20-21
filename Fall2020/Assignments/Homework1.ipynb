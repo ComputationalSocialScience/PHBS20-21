{
 "cells": [
  {
   "cell_type": "markdown",
   "metadata": {},
   "source": [
    "# Assignment 1\n",
    "\n",
    "**Name**: (Please add your name here)\n",
    "\n",
    "\n",
    "This assignment has 5 questions. These questions are worth 10 points each.\n",
    "\n",
    "Please be aware that each of the questions below will involve writing code. As previously mentioned, we expect all code written for this class to reflect good coding standards.\n",
    "\n",
    "This assignment is due by 5:30 pm on September 18, 2020 (Friday)."
   ]
  },
  {
   "cell_type": "code",
   "execution_count": 1,
   "metadata": {},
   "outputs": [],
   "source": [
    "import matplotlib.pyplot as plt\n",
    "import numpy as np\n",
    "import pandas as pd\n",
    "\n",
    "%matplotlib inline"
   ]
  },
  {
   "cell_type": "markdown",
   "metadata": {},
   "source": [
    "### Linear Algebra"
   ]
  },
  {
   "cell_type": "markdown",
   "metadata": {},
   "source": [
    "**Question 1**\n",
    "\n",
    "One of the operations that you will encounter frequently throughout this course is matrix multiplication.\n",
    "\n",
    "As mentioned, the matrix multplication operation takes two matrices ($A$ and $B$) and outputs a new matrix ($C$). It requires that $A$ be an $n \\times k$ matrix and $B$ be a $k \\times m$ matrix with the result, $C$, being an $n \\times m$ matrix.\n",
    "\n",
    "Write a function that takes two matrices as an input and outputs their matrix product. This function should raise an error if the input matrices are incompatible. Use your function on the matrices created below and check that it performs the correct operation by comparing to the `numpy` solution."
   ]
  },
  {
   "cell_type": "code",
   "execution_count": null,
   "metadata": {},
   "outputs": [],
   "source": [
    "# Write your function here"
   ]
  },
  {
   "cell_type": "code",
   "execution_count": null,
   "metadata": {},
   "outputs": [],
   "source": [
    "A = np.array([[1.0, 0.0, 0.0], [0.0, 1.0, 0.0], [0.0, 0.0, 1.0]])\n",
    "B = np.array([[1.0, 0.0], [2.0, 1.0], [3.0, 2.0]])\n",
    "\n",
    "# Use your function here to multiply A and B and compare to numpy\n"
   ]
  },
  {
   "cell_type": "code",
   "execution_count": null,
   "metadata": {},
   "outputs": [],
   "source": [
    "X = np.random.randn(10, 3)\n",
    "Y = np.random.randn(3, 5)\n",
    "\n",
    "# Use your function here to multiply X and Y and compare to numpy\n"
   ]
  },
  {
   "cell_type": "markdown",
   "metadata": {},
   "source": [
    "**Question 2**\n",
    "\n",
    "The logistic curve is frequently used to model growth in systems with a limiting size factor. It is defined by a differential equation,\n",
    "\n",
    "$$\\frac{\\partial P}{\\partial t} = r P \\left(1 - \\frac{P}{K} \\right)$$\n",
    "\n",
    "the solution to this differential equation is given by\n",
    "\n",
    "$$P(t) = \\frac{K}{1 + \\left(\\frac{K - P_0}{P_0}\\right) e^{-rt}}$$\n",
    "\n",
    "Let's play with these parameters a  little bit. Define a function that computes the values of $P$ for $t=0, 1, \\dots, 500$ for given parameters $K$, $P_0$, $r$."
   ]
  },
  {
   "cell_type": "code",
   "execution_count": null,
   "metadata": {},
   "outputs": [],
   "source": [
    "def logistic_curve_simulation(P0, K, r, T=500):\n",
    "    \"\"\"\n",
    "    Simulates the logistic curve for a given parameterization from\n",
    "    t=0 to t=T\n",
    "    \n",
    "    Parameters\n",
    "    ----------\n",
    "    P0 : scalar\n",
    "        The initial size of the modeled process\n",
    "    K : scalar\n",
    "        The limiting size of the modeled process\n",
    "    r : scalar\n",
    "        The growth rate\n",
    "    \n",
    "    Returns\n",
    "    -------\n",
    "    simulated : np.array(ndim=1)\n",
    "        The simulated process\n",
    "    \"\"\"\n",
    "    pass"
   ]
  },
  {
   "cell_type": "markdown",
   "metadata": {},
   "source": [
    "Now that you can simulate the process, let's choose a particular $K$ and $P_0$ and plot the process for different values of $r$."
   ]
  },
  {
   "cell_type": "code",
   "execution_count": null,
   "metadata": {},
   "outputs": [],
   "source": [
    "fig, ax = plt.subplots()\n",
    "\n",
    "K, P0, T = 50.0, 1.0, 500\n",
    "\n",
    "Tvals = np.arange(T)\n",
    "for r in [0.025, 0.05, 0.5]:\n",
    "    ax.plot(Tvals, logistic_curve_simulation(P0, K, r, T))\n"
   ]
  },
  {
   "cell_type": "markdown",
   "metadata": {},
   "source": [
    "Which curves do you think correspond to each growth rate?"
   ]
  },
  {
   "cell_type": "markdown",
   "metadata": {},
   "source": [
    "**Answer question here**"
   ]
  },
  {
   "cell_type": "markdown",
   "metadata": {},
   "source": [
    "**Question 3**\n",
    "\n",
    "This one is somewhat challenging. Take your best shot at it, we will award full points for a reasonable attempt.\n",
    "\n",
    "We would like you to write the code to perform the QR-decomposition. Recall that the QR-decomposition of an $m \\times n$ matrix, $A$, results in\n",
    "\n",
    "$$A = QR$$\n",
    "\n",
    "We will walk you through the steps:"
   ]
  },
  {
   "cell_type": "markdown",
   "metadata": {},
   "source": [
    "*Step 1: Create a normalization function*\n",
    "\n",
    "In this step, you will define a function, `normalize_col`, that will take the elements of a row and make it so that they sum to one.\n",
    "\n",
    "This is done by dividing the vector by its norm. For a vector $x$, the normalized vector, $e$, is given by\n",
    "\n",
    "$$e = \\frac{x}{||x||}$$\n",
    "\n",
    "where $||x|| := \\sqrt{x_1^2 + x_2^2 + \\dots + x_N^2}$"
   ]
  },
  {
   "cell_type": "code",
   "execution_count": null,
   "metadata": {},
   "outputs": [],
   "source": [
    "def normalize_col(x):\n",
    "    \"\"\"\n",
    "    Normalizes the column so that the elements of the column sum to one\n",
    "    \n",
    "    Parameters\n",
    "    ----------\n",
    "    x : np.array(ndim=1)\n",
    "        The column that we would like to normalize\n",
    "    \n",
    "    Returns\n",
    "    -------\n",
    "    out : np.array(ndim=1)\n",
    "        The normalized version of x\n",
    "    \"\"\"\n",
    "    pass\n"
   ]
  },
  {
   "cell_type": "markdown",
   "metadata": {},
   "source": [
    "*Step 2: Create an projection function*\n",
    "\n",
    "In this step, you will create a function, `proj_a2b`, that takes two vectors, $a$ and $b$, and projects $a$ onto $b$. Once we've done this projection, then the vector $a - \\text{proj}_ba$ will be orthogonal to $b$.\n",
    "\n",
    "The projection is defined as\n",
    "\n",
    "$$\\text{proj}_b a := \\frac{\\left<a, b\\right>}{\\left<b, b\\right>}b$$\n",
    "\n",
    "where $\\left<x, y\\right>$ is defined as the inner-product (for vectors, this is just the dot product)"
   ]
  },
  {
   "cell_type": "code",
   "execution_count": null,
   "metadata": {},
   "outputs": [],
   "source": [
    "def proj_a2b(a, b):\n",
    "    \"\"\"\n",
    "    Projects the vector a onto the vector u\n",
    "    \n",
    "    Parameters\n",
    "    ----------\n",
    "    a : np.array(ndim=1)\n",
    "        The vector we are projecting\n",
    "    b : np.array(ndim=1)\n",
    "        The vector we are projecting onto\n",
    "    \n",
    "    Returns\n",
    "    -------\n",
    "    out : np.array(ndim=1)\n",
    "        The vector defined by projecting a onto b\n",
    "    \"\"\"\n",
    "    pass\n"
   ]
  },
  {
   "cell_type": "markdown",
   "metadata": {},
   "source": [
    "*Step 3: Create an orthogonalization function*\n",
    "\n",
    "In this step, you will write a function, `orthogonalize`, that orthogonalizes one column relative to all columns prior to it in a matrix. It will depend on the `proj_a2b` function that you wrote in the previous step.\n",
    "\n",
    "Recall that once we've projected $a$ onto $b$ that the vector $u := a - \\text{proj}_b a$ will be orthogonal to $b$.\n",
    "\n",
    "If we want column $n$ to be orthogonal to all previous columns then we could do this by:\n",
    "\n",
    "$$A_n = A_n - \\sum_{j=0}^{n-1} \\text{proj}_{A_j} A_n$$"
   ]
  },
  {
   "cell_type": "code",
   "execution_count": null,
   "metadata": {},
   "outputs": [],
   "source": [
    "def orthogonalize(U, n):\n",
    "    \"\"\"\n",
    "    Takes the matrix U and orthogonalizes the nth column\n",
    "    relative to all previous columns\n",
    "    \n",
    "    Parameters\n",
    "    ----------\n",
    "    U : np.array(ndim=2)\n",
    "        The matrix that should be orthogonalized\n",
    "    n : int\n",
    "        Which column is being orthogonalized\n",
    "    \n",
    "    Returns\n",
    "    -------\n",
    "    U : np.array(ndim=2)\n",
    "        The matrix that is being orthogonalized but the nth column\n",
    "        should be orthogonalized\n",
    "    \"\"\"\n",
    "    pass\n"
   ]
  },
  {
   "cell_type": "markdown",
   "metadata": {},
   "source": [
    "Once you've done all of the previous steps, we can perform the QR-decomposition using the function below"
   ]
  },
  {
   "cell_type": "code",
   "execution_count": null,
   "metadata": {},
   "outputs": [],
   "source": [
    "def qr_decomposition(A):\n",
    "    \"\"\"\n",
    "    Performs the QR decomposition on a square matrix A such that\n",
    "    \n",
    "      A = Q R    \n",
    "\n",
    "    Parameters\n",
    "    ----------\n",
    "    A : np.array(ndim=2)\n",
    "        The matrix that should decomposed\n",
    "    \n",
    "    Returns\n",
    "    -------\n",
    "    Q : np.array(ndim=2)\n",
    "        An orthonormal matrix\n",
    "    R : np.array(ndim=2)\n",
    "        An upper-diagonal matrix\n",
    "    \"\"\"\n",
    "    # Make sure we get a Q of the right shape\n",
    "    m, n = A.shape\n",
    "    assert m == n\n",
    "\n",
    "    # Allocate space to store the Q matrix\n",
    "    Q = np.copy(A)\n",
    "    \n",
    "    Q[:, 0] = normalize_col(A[:, 0])\n",
    "    for i in range(1, m):\n",
    "        Q = orthogonalize(Q, i)\n",
    "        Q[:, i] = normalize_col(Q[:, i])\n",
    "\n",
    "    R = Q.T @ A\n",
    "    \n",
    "    return Q, R"
   ]
  },
  {
   "cell_type": "markdown",
   "metadata": {},
   "source": [
    "Now let's create a matrix and check how our solution compares to the `scipy` version:"
   ]
  },
  {
   "cell_type": "code",
   "execution_count": null,
   "metadata": {},
   "outputs": [],
   "source": [
    "A = np.array([[1.0, 0.5, 0.2], [0.5, 0.5, 1.0], [0.0, 1.0, 1.0]])"
   ]
  },
  {
   "cell_type": "code",
   "execution_count": null,
   "metadata": {},
   "outputs": [],
   "source": [
    "Q, R = qr_decomposition(A)"
   ]
  },
  {
   "cell_type": "code",
   "execution_count": null,
   "metadata": {},
   "outputs": [],
   "source": [
    "from scipy.linalg import qr"
   ]
  },
  {
   "cell_type": "code",
   "execution_count": null,
   "metadata": {},
   "outputs": [],
   "source": [
    "Q_scipy, R_scipy = qr(A)"
   ]
  },
  {
   "cell_type": "code",
   "execution_count": null,
   "metadata": {},
   "outputs": [],
   "source": [
    "print(\"Our Q is\")\n",
    "print(Q)\n",
    "print(\"Our R is\")\n",
    "print(R)"
   ]
  },
  {
   "cell_type": "code",
   "execution_count": null,
   "metadata": {},
   "outputs": [],
   "source": [
    "print(\"Scipy's Q is\")\n",
    "print(Q_scipy)\n",
    "print(\"Scipy'sR is\")\n",
    "print(R_scipy)"
   ]
  },
  {
   "cell_type": "markdown",
   "metadata": {},
   "source": [
    "How do the two solutions differ?"
   ]
  },
  {
   "cell_type": "markdown",
   "metadata": {},
   "source": [
    "**Write your observations about the differences here**:"
   ]
  },
  {
   "cell_type": "markdown",
   "metadata": {},
   "source": [
    "Please note that in practice, we will **not** write our own functions to do scientific or linear algebra operations. Others have written versions that are (1) more general, (2) have better error catching, and (3) perform significantly better. For example, let's compare the speed of our QR decomposition with the scipy version below."
   ]
  },
  {
   "cell_type": "code",
   "execution_count": null,
   "metadata": {},
   "outputs": [],
   "source": [
    "A_big = np.random.randn(100, 100)"
   ]
  },
  {
   "cell_type": "code",
   "execution_count": null,
   "metadata": {},
   "outputs": [],
   "source": [
    "%timeit qr_decomposition(A_big)"
   ]
  },
  {
   "cell_type": "code",
   "execution_count": null,
   "metadata": {},
   "outputs": [],
   "source": [
    "%timeit qr(A_big)"
   ]
  },
  {
   "cell_type": "markdown",
   "metadata": {},
   "source": [
    "### Pandas\n",
    "\n",
    "The following questions about pandas will use the same dataset as we used in class."
   ]
  },
  {
   "cell_type": "code",
   "execution_count": 2,
   "metadata": {},
   "outputs": [
    {
     "data": {
      "text/html": [
       "<div>\n",
       "<style scoped>\n",
       "    .dataframe tbody tr th:only-of-type {\n",
       "        vertical-align: middle;\n",
       "    }\n",
       "\n",
       "    .dataframe tbody tr th {\n",
       "        vertical-align: top;\n",
       "    }\n",
       "\n",
       "    .dataframe thead th {\n",
       "        text-align: right;\n",
       "    }\n",
       "</style>\n",
       "<table border=\"1\" class=\"dataframe\">\n",
       "  <thead>\n",
       "    <tr style=\"text-align: right;\">\n",
       "      <th>state</th>\n",
       "      <th>Arizona</th>\n",
       "      <th>California</th>\n",
       "      <th>Florida</th>\n",
       "      <th>Illinois</th>\n",
       "      <th>Michigan</th>\n",
       "      <th>New York</th>\n",
       "      <th>Texas</th>\n",
       "    </tr>\n",
       "    <tr>\n",
       "      <th>Date</th>\n",
       "      <th></th>\n",
       "      <th></th>\n",
       "      <th></th>\n",
       "      <th></th>\n",
       "      <th></th>\n",
       "      <th></th>\n",
       "      <th></th>\n",
       "    </tr>\n",
       "  </thead>\n",
       "  <tbody>\n",
       "    <tr>\n",
       "      <td>2000-01-01</td>\n",
       "      <td>4.1</td>\n",
       "      <td>5.0</td>\n",
       "      <td>3.7</td>\n",
       "      <td>4.2</td>\n",
       "      <td>3.3</td>\n",
       "      <td>4.7</td>\n",
       "      <td>4.6</td>\n",
       "    </tr>\n",
       "    <tr>\n",
       "      <td>2000-02-01</td>\n",
       "      <td>4.1</td>\n",
       "      <td>5.0</td>\n",
       "      <td>3.7</td>\n",
       "      <td>4.2</td>\n",
       "      <td>3.2</td>\n",
       "      <td>4.7</td>\n",
       "      <td>4.6</td>\n",
       "    </tr>\n",
       "    <tr>\n",
       "      <td>2000-03-01</td>\n",
       "      <td>4.0</td>\n",
       "      <td>5.0</td>\n",
       "      <td>3.7</td>\n",
       "      <td>4.3</td>\n",
       "      <td>3.2</td>\n",
       "      <td>4.6</td>\n",
       "      <td>4.5</td>\n",
       "    </tr>\n",
       "    <tr>\n",
       "      <td>2000-04-01</td>\n",
       "      <td>4.0</td>\n",
       "      <td>5.1</td>\n",
       "      <td>3.7</td>\n",
       "      <td>4.3</td>\n",
       "      <td>3.3</td>\n",
       "      <td>4.6</td>\n",
       "      <td>4.4</td>\n",
       "    </tr>\n",
       "    <tr>\n",
       "      <td>2000-05-01</td>\n",
       "      <td>4.0</td>\n",
       "      <td>5.1</td>\n",
       "      <td>3.7</td>\n",
       "      <td>4.3</td>\n",
       "      <td>3.5</td>\n",
       "      <td>4.6</td>\n",
       "      <td>4.3</td>\n",
       "    </tr>\n",
       "  </tbody>\n",
       "</table>\n",
       "</div>"
      ],
      "text/plain": [
       "state       Arizona  California  Florida  Illinois  Michigan  New York  Texas\n",
       "Date                                                                         \n",
       "2000-01-01      4.1         5.0      3.7       4.2       3.3       4.7    4.6\n",
       "2000-02-01      4.1         5.0      3.7       4.2       3.2       4.7    4.6\n",
       "2000-03-01      4.0         5.0      3.7       4.3       3.2       4.6    4.5\n",
       "2000-04-01      4.0         5.1      3.7       4.3       3.3       4.6    4.4\n",
       "2000-05-01      4.0         5.1      3.7       4.3       3.5       4.6    4.3"
      ]
     },
     "execution_count": 2,
     "metadata": {},
     "output_type": "execute_result"
    }
   ],
   "source": [
    "url = \"https://datascience.quantecon.org/assets/data/state_unemployment.csv\"\n",
    "unemp_raw = pd.read_csv(url, parse_dates=[\"Date\"])\n",
    "\n",
    "unemp_all = (\n",
    "    unemp_raw\n",
    "    .reset_index()\n",
    "    .pivot_table(index=\"Date\", columns=\"state\", values=\"UnemploymentRate\")\n",
    ")\n",
    "\n",
    "states = [\n",
    "    \"Arizona\", \"California\", \"Florida\", \"Illinois\",\n",
    "    \"Michigan\", \"New York\", \"Texas\"\n",
    "]\n",
    "unemp = unemp_all[states]\n",
    "unemp.head()"
   ]
  },
  {
   "cell_type": "markdown",
   "metadata": {},
   "source": [
    "**Question 4**"
   ]
  },
  {
   "cell_type": "markdown",
   "metadata": {},
   "source": [
    "a) Print the DataFrame's index"
   ]
  },
  {
   "cell_type": "code",
   "execution_count": null,
   "metadata": {},
   "outputs": [],
   "source": []
  },
  {
   "cell_type": "markdown",
   "metadata": {},
   "source": [
    "b) Print the DataFrame's columns"
   ]
  },
  {
   "cell_type": "code",
   "execution_count": null,
   "metadata": {},
   "outputs": [],
   "source": []
  },
  {
   "cell_type": "markdown",
   "metadata": {},
   "source": [
    "c) Use indexing to select the data for all columns starting in June 2007 and ending in December 2010. Save this data into a new DataFrame called `unemp_gr`."
   ]
  },
  {
   "cell_type": "code",
   "execution_count": null,
   "metadata": {},
   "outputs": [],
   "source": [
    "unemp_gr = None  # Index here"
   ]
  },
  {
   "cell_type": "markdown",
   "metadata": {},
   "source": [
    "d) Plot the data from `unemp_gr`."
   ]
  },
  {
   "cell_type": "markdown",
   "metadata": {},
   "source": [
    "**Question 5**\n"
   ]
  },
  {
   "cell_type": "markdown",
   "metadata": {},
   "source": [
    "a) Using `unemp_gr` from the previous section, create a new DataFrame that has the month-by-month difference in the unemployment rate. Save this DataFrame as `unemp_gr_diff`."
   ]
  },
  {
   "cell_type": "code",
   "execution_count": null,
   "metadata": {},
   "outputs": [],
   "source": [
    "unemp_gr_diff = None  # Compute differences"
   ]
  },
  {
   "cell_type": "markdown",
   "metadata": {},
   "source": [
    "b) Now compute the cumulative sum of the differences and save this as a DataFrame called `unemp_gr_cdiff`. This will tell us the total difference of the unemployment from June 2007."
   ]
  },
  {
   "cell_type": "code",
   "execution_count": null,
   "metadata": {},
   "outputs": [],
   "source": []
  },
  {
   "cell_type": "markdown",
   "metadata": {},
   "source": [
    "c) Plot the `unemp_gr_cdiff` DataFrame as a bar plot for one state."
   ]
  },
  {
   "cell_type": "code",
   "execution_count": null,
   "metadata": {},
   "outputs": [],
   "source": []
  },
  {
   "cell_type": "markdown",
   "metadata": {},
   "source": [
    "d) Which state saw the biggest increase in their unemployment rate during this time period?"
   ]
  },
  {
   "cell_type": "code",
   "execution_count": null,
   "metadata": {},
   "outputs": [],
   "source": []
  }
 ],
 "metadata": {
  "kernelspec": {
   "display_name": "Python 3",
   "language": "python",
   "name": "python3"
  },
  "language_info": {
   "codemirror_mode": {
    "name": "ipython",
    "version": 3
   },
   "file_extension": ".py",
   "mimetype": "text/x-python",
   "name": "python",
   "nbconvert_exporter": "python",
   "pygments_lexer": "ipython3",
   "version": "3.7.4"
  }
 },
 "nbformat": 4,
 "nbformat_minor": 2
}
