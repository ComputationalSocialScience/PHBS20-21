{
 "cells": [
  {
   "cell_type": "markdown",
   "metadata": {},
   "source": [
    "# Quiz 1: practice problems\n",
    "\n",
    "This notebook contains practice problems for quiz 1\n",
    "\n",
    "As all assignments in this course, this quiz is comprehensive and will cover materials from the start of the class up until the assignment\n",
    "\n",
    "From the questions below, we will select a subset to form the body of the quiz\n",
    "\n",
    "In other words, the quiz will not have any questions that do not appear in this practice file. So, study it well!\n",
    "\n",
    "The questions are organized into questions and subquestions\n",
    "\n",
    "Each question has the form `X.Y` and each subquestion has the form `X.Y.Z`"
   ]
  },
  {
   "cell_type": "markdown",
   "metadata": {},
   "source": [
    "# Linear Algebra"
   ]
  },
  {
   "cell_type": "markdown",
   "metadata": {},
   "source": [
    "## Linear Systems"
   ]
  },
  {
   "cell_type": "markdown",
   "metadata": {},
   "source": [
    "### Solving a linear system\n",
    "\n",
    "Consider the following\n",
    "\n",
    "$$ A = \\begin{bmatrix}1 & 2 \\\\ 3 & 4 \\end{bmatrix}$$\n",
    "\n",
    "and \n",
    "\n",
    "$$y = \\begin{bmatrix}1 \\\\ 1 \\end{bmatrix}$$\n",
    "\n",
    "Using numpy, solve for $x$ in $y = Ax$"
   ]
  },
  {
   "cell_type": "code",
   "execution_count": null,
   "metadata": {},
   "outputs": [],
   "source": [
    "## Your code here"
   ]
  },
  {
   "cell_type": "markdown",
   "metadata": {},
   "source": [
    "## QR-Decomposition\n",
    "\n",
    "We provide a refresher on the [QR-decomposition](https://en.wikipedia.org/wiki/QR_decomposition) below before asking you to reason through a certain feature of the decomposition.\n",
    "\n",
    "The QR-decomposition takes a matrix, $A$, and decomposes it into two matrices, $Q$ and $R$:\n",
    "\n",
    "* $Q$ is an orthonormal  matrix which means that $Q^T Q = Q Q^T = I$\n",
    "* $R$ is an upper-triangular matrix\n",
    "\n",
    "The matrix $Q$ is constructed one column at a time. For a given column $k$,\n",
    "\n",
    "* For $k > 1$, we create $u_k = a_k - \\sum_{j=1}^{k-1} \\text{proj}_{u_j} a_k$ while for $k=1$ we use $u_1 = a_1$\n",
    "* $q_k$ is then defined by $q_k = \\frac{u_k}{||u_k||}$"
   ]
  },
  {
   "cell_type": "markdown",
   "metadata": {},
   "source": [
    "### QR (1)\n",
    "\n",
    "Using the properties of $Q$ and the decomposition $A = QR$, please show that $R = Q^T A$."
   ]
  },
  {
   "cell_type": "markdown",
   "metadata": {},
   "source": [
    "your response here"
   ]
  },
  {
   "cell_type": "markdown",
   "metadata": {},
   "source": [
    "### QR (2)\n",
    "\n",
    "Provide a loose sketch of why $R$ is upper-triangular. Hint, think carefully about the definition of orthogonality and the matrix multiplication of $Q^T A$'"
   ]
  },
  {
   "cell_type": "markdown",
   "metadata": {},
   "source": [
    "your response here"
   ]
  },
  {
   "cell_type": "markdown",
   "metadata": {},
   "source": [
    "# Probability"
   ]
  },
  {
   "cell_type": "markdown",
   "metadata": {},
   "source": [
    "## Discrete Distributions\n",
    "\n",
    "Consider the following counts across the two bins of variables presented below.\n",
    "\n",
    "| **Inflation Rate**    | -1.0  to 0.57 | 0.57 to 1.38 | 1.38 to 2.19 | 2.19 to 3.0 | 3.0 and above |\n",
    "| --------------------- | ------------- | ------------ | ------------ | ----------- | ------------- |\n",
    "| **Unemployment Rate** |               |              |              |             |               |\n",
    "| 3.5 to 5.7            | 11            | 10           | 27           | 17          | 0             |\n",
    "| 5.7 to 8.0            | 0             | 6            | 19           | 0           | 0             |\n",
    "| 8.0 to 10.2           | 0             | 6            | 10           | 7           | 10            |\n",
    "| 10.2 to 12.5          | 0             | 1            | 0            | 0           | 0             |\n",
    "| 12.5 and above        | 2             | 0            | 0            | 0           | 0             |\n",
    "\n",
    "Use the data from this table to answer the questions that follow"
   ]
  },
  {
   "cell_type": "code",
   "execution_count": null,
   "metadata": {},
   "outputs": [],
   "source": []
  },
  {
   "cell_type": "markdown",
   "metadata": {},
   "source": [
    "### Probability (1)\n",
    "\n",
    "Create a DataFrame that includes the counts from the table shown above. Please structure it in the \"natural\" way that you would structure a pandas DataFrame."
   ]
  },
  {
   "cell_type": "code",
   "execution_count": null,
   "metadata": {},
   "outputs": [],
   "source": [
    "## Your code here"
   ]
  },
  {
   "cell_type": "markdown",
   "metadata": {},
   "source": [
    "### Probability (2)\n",
    "\n",
    "Turn the count data you are given above into a joint distribution."
   ]
  },
  {
   "cell_type": "code",
   "execution_count": null,
   "metadata": {},
   "outputs": [],
   "source": [
    "## Your code here"
   ]
  },
  {
   "cell_type": "markdown",
   "metadata": {},
   "source": [
    "### Probability (3)\n",
    "\n",
    "Compute the marginal distribution for the inflation rate."
   ]
  },
  {
   "cell_type": "code",
   "execution_count": null,
   "metadata": {},
   "outputs": [],
   "source": [
    "## Your code here"
   ]
  },
  {
   "cell_type": "markdown",
   "metadata": {},
   "source": [
    "### Probability (4)\n",
    "\n",
    "Compute the conditional distribution of the unemployment rate conditional on the inflation rate being above 2.0."
   ]
  },
  {
   "cell_type": "code",
   "execution_count": null,
   "metadata": {},
   "outputs": [],
   "source": [
    "## Your code here"
   ]
  },
  {
   "cell_type": "markdown",
   "metadata": {},
   "source": [
    "## Beta-Binomial Distribution\n",
    "\n",
    "In class we showed that when you initially believe that the probability of success, $p$, for a Bernoulli random variable is distributed according to a $\\text{Beta}(\\alpha, \\beta)$ that Bayes law implies that the distribution of $p$ after observing a success or failure is $\\text{Beta}(\\alpha + 1, \\beta)$ if you observe a success or $\\text{Beta}(\\alpha, \\beta + 1)$ if you observe a failure.\n",
    "\n",
    "We are now going to take this a step further. Consider a student who takes $N$ classes per semester and succeeds in each class with probability $p$ -- This means that the number of classes that a student passes each semester is given by $\\text{binomial}(N, p)$. Prior to observing anything about the student, we believe that the probability with which a student passes any given class is given by $\\text{Beta}(\\alpha, \\beta)$."
   ]
  },
  {
   "cell_type": "markdown",
   "metadata": {},
   "source": [
    "### Beta-Binomial Distribution (1)\n",
    "\n",
    "What is the probability distribution over $p$, the probability of successfully passing each individual class, after one semester? Let $k$ be the number of classes that the student successfully completed. Show your work."
   ]
  },
  {
   "cell_type": "markdown",
   "metadata": {},
   "source": [
    "# Data Handling "
   ]
  },
  {
   "cell_type": "markdown",
   "metadata": {},
   "source": [
    "## FIFA-data\n",
    "\n",
    "In this section you will have the opportunity to explore a new (to this class) dataset\n",
    "\n",
    "You should have downloaded two supplementary data files from CMS\n",
    "\n",
    "These are called `epl_stats.csv` and `fifa_data.csv`\n",
    "\n",
    "If you do not have these in the same directory as this notebook, please download them now and/or move them to sit alongside this file on your computer's hard drive\n",
    "\n",
    "**fifa_data.csv**\n",
    "\n",
    "The `fifa_data.csv` contains the ratings for all attributes from all players in the video game FIFA 19, by EA Sports\n",
    "\n",
    "The first few rows of the data look like this (note many columns have been removed for legibility purposes):\n",
    "\n",
    "|    |     ID | Name              |   Age | Preferred Foot   |   International Reputation |   Weak Foot |   Skill Moves | Work Rate      | Body Type   |   Crossing |   Finishing |   Balance |\n",
    "|---:|-------:|:------------------|------:|:-----------------|---------------------------:|------------:|--------------:|:---------------|:------------|-----------:|------------:|----------:|\n",
    "|  0 | 158023 | L. Messi          |    31 | Left             |                          5 |           4 |             4 | Medium/ Medium | Messi       |         84 |          95 |        95 |\n",
    "|  1 |  20801 | Cristiano Ronaldo |    33 | Right            |                          5 |           4 |             5 | High/ Low      | C. Ronaldo  |         84 |          94 |        70 |\n",
    "|  2 | 190871 | Neymar Jr         |    26 | Right            |                          5 |           5 |             5 | High/ Medium   | Neymar      |         79 |          87 |        84 |\n",
    "|  3 | 193080 | De Gea            |    27 | Right            |                          4 |           3 |             1 | Medium/ Medium | Lean        |         17 |          13 |        43 |\n",
    "|  4 | 192985 | K. De Bruyne      |    27 | Right            |                          4 |           5 |             4 | High/ High     | Normal      |         93 |          82 |        77 |\n",
    "\n",
    "The ID field is internal to the FIFA game and will not be used by us.\n",
    "\n",
    "**epl_stats.csv**\n",
    "\n",
    "The `epl_stats.csv` file contains actual summary data for each player in the English Premier League (EPL) for the 2019-2020 season\n",
    "\n",
    "The first few rows of this dataset look as follows (again, some columns are removed for legibility)\n",
    "\n",
    "|    |   Age |   Ranking | Name             | Nationality   | ClubName             |   MinutesPlayed |   YellowCard |   RedCard |   Goals |   Assists |   CrossesP90 |   SavesP90 |   GoalConP90 |   FouledP90 |\n",
    "|---:|------:|----------:|:-----------------|:--------------|:---------------------|----------------:|-------------:|----------:|--------:|----------:|-------------:|-----------:|-------------:|------------:|\n",
    "|  0 |    33 |        55 | Aaron Lennon     | England       | Burnley FC           |             485 |            4 |         0 |       0 |         0 |         1.49 |       0    |         2.78 |        1.3  |\n",
    "|  1 |    31 |        69 | Theo Walcott     | England       | Everton FC           |            1295 |            1 |         0 |       2 |         3 |         2.84 |       0    |         1.32 |        1.18 |\n",
    "|  2 |    38 |        71 | Pepe Reina       | Spain         | Aston Villa FC       |            1080 |            1 |         0 |       0 |         0 |         0    |       2.75 |         1.67 |        0.33 |\n",
    "|  3 |    35 |        74 | Łukasz Fabiański | Poland        | West Ham United FC   |            2119 |            1 |         0 |       0 |         0 |         0    |       3.06 |         1.44 |        0.08 |\n",
    "|  4 |    33 |        83 | Hugo Lloris      | France        | Tottenham Hotspur FC |            1808 |            0 |         0 |       0 |         0 |         0    |       3.98 |         1.04 |        0.05 |\n",
    "\n",
    "Columns ending in `P90` mean \"per 90 minutes\", so the column `SavesP90` means saves per 90 minutes."
   ]
  },
  {
   "cell_type": "markdown",
   "metadata": {},
   "source": [
    "The goal of our analysis with these two datasets will be the following:\n",
    "\n",
    "- Demonstrate skills in cleaning and preparing data for analysis\n",
    "- Identify how to merge the two datasets\n",
    "- Determine if the FIFA 19 player ratings are correlated with and/or have predictive capacity for actual player outputs\n",
    "\n",
    "Let's begin!"
   ]
  },
  {
   "cell_type": "markdown",
   "metadata": {},
   "source": [
    "### FIFA-data (1)\n",
    "\n",
    "Read in both data files mentioned above to pandas DataFrames"
   ]
  },
  {
   "cell_type": "code",
   "execution_count": null,
   "metadata": {},
   "outputs": [],
   "source": [
    "## Your code here"
   ]
  },
  {
   "cell_type": "markdown",
   "metadata": {},
   "source": [
    "Find how many rows and columns each of the DataFrames has\n"
   ]
  },
  {
   "cell_type": "code",
   "execution_count": null,
   "metadata": {},
   "outputs": [],
   "source": [
    "## Your code here"
   ]
  },
  {
   "cell_type": "markdown",
   "metadata": {},
   "source": [
    "Analyze the column names and types\n",
    "\n",
    "Make note of any \"oddities\", such as columns that likely should be numeric but are being represented by pandas as integer"
   ]
  },
  {
   "cell_type": "code",
   "execution_count": null,
   "metadata": {},
   "outputs": [],
   "source": [
    "## Your code here"
   ]
  },
  {
   "cell_type": "markdown",
   "metadata": {},
   "source": [
    "### FIFA-data (2)\n",
    "\n",
    "Using the `fifa` dataset, determine the minimum, maximum, median, and average wage for all players\n",
    "\n",
    "> Note that you may need to do some data cleaning and type conversions on this column before applying mathematical operations"
   ]
  },
  {
   "cell_type": "code",
   "execution_count": null,
   "metadata": {},
   "outputs": [],
   "source": [
    "## Your code here"
   ]
  },
  {
   "cell_type": "markdown",
   "metadata": {},
   "source": [
    "### FIFA-data (3)\n",
    "\n",
    "Compare the `Name` column in the `epl` dataset against the `Name` column from the `fifa` dataset\n",
    "\n",
    "Notice that they are not in the same format\n",
    "\n",
    "Use the pandas string operators ([documented here](https://pandas.pydata.org/pandas-docs/stable/user_guide/text.html)) to create a new column named `fifa_name` on the `epl` dataset that matches the format of the `Name` column on the `fifa` dataset\n",
    "\n",
    "> Hint: our solution uses the `.str` accessor property a few times, as well as the `.str.split` and `.str.get` methods"
   ]
  },
  {
   "cell_type": "code",
   "execution_count": null,
   "metadata": {},
   "outputs": [],
   "source": [
    "## Your code here"
   ]
  },
  {
   "cell_type": "markdown",
   "metadata": {},
   "source": [
    "### FIFA-data (4)\n",
    "\n",
    "Merge the `epl` and `fifa` datasets into a single DataFrame called `stats`\n",
    "\n",
    "You should set the `how` argument of this function to a value that will result in only rows where `epl[\"fifa_name\"]` has a corresponding entry in `fifa[\"Name\"]`\n",
    "\n",
    "> Note, you will need to use the `epl[\"fifa_name\"]` column created in the previous step"
   ]
  },
  {
   "cell_type": "code",
   "execution_count": null,
   "metadata": {},
   "outputs": [],
   "source": [
    "## Your code here"
   ]
  },
  {
   "cell_type": "markdown",
   "metadata": {},
   "source": [
    "### FIFA-data (5)\n",
    "\n",
    "Using the `stats` DataFrame, find the correlation between the `GoalP90` statistic and `Finishing`, `HeadingAccuracy`, `FKAccuracy`, `ShotPower`, and `LongShots` FIFA-19 ratings\n",
    "\n",
    "Which correlation is the highest? Which is the lowest?\n",
    "\n",
    "> Hint: you will find the `DataFrame.corrwith` function useful"
   ]
  },
  {
   "cell_type": "code",
   "execution_count": null,
   "metadata": {},
   "outputs": [],
   "source": [
    "## Your code here"
   ]
  },
  {
   "cell_type": "markdown",
   "metadata": {},
   "source": [
    "### FIFA-data (6)\n",
    "\n",
    "Make a scatter chart of the `Ranking` column (from the `epl` DataFrame) against the `Overall` column (from the `fifa` DataFrame)\n",
    "\n",
    "These are both measures of \"overall player ability\"\n",
    "\n",
    "Is there a positive correlation? Would you say the correlation strong?"
   ]
  },
  {
   "cell_type": "code",
   "execution_count": null,
   "metadata": {},
   "outputs": [],
   "source": [
    "## Your code here"
   ]
  },
  {
   "cell_type": "markdown",
   "metadata": {},
   "source": [
    "### FIFA-data (7) (bonus)\n",
    "\n",
    "Make two other \"interesting\" charts using the combined `stats` DataFrame\n",
    "\n",
    "Think about what columns might be related to one another and why\n",
    "\n",
    "After making the chart, use a markdown cell to write a brief explanation for why the chart is interesting to you"
   ]
  },
  {
   "cell_type": "code",
   "execution_count": null,
   "metadata": {},
   "outputs": [],
   "source": [
    "## Your code here"
   ]
  },
  {
   "cell_type": "markdown",
   "metadata": {},
   "source": [
    "**your writing here**"
   ]
  },
  {
   "cell_type": "code",
   "execution_count": null,
   "metadata": {},
   "outputs": [],
   "source": [
    "## Your code here"
   ]
  },
  {
   "cell_type": "markdown",
   "metadata": {},
   "source": [
    "**your writing here**"
   ]
  }
 ],
 "metadata": {
  "kernelspec": {
   "display_name": "Python 3",
   "language": "python",
   "name": "python3"
  },
  "language_info": {
   "codemirror_mode": {
    "name": "ipython",
    "version": 3
   },
   "file_extension": ".py",
   "mimetype": "text/x-python",
   "name": "python",
   "nbconvert_exporter": "python",
   "pygments_lexer": "ipython3",
   "version": "3.8.5"
  },
  "toc-autonumbering": true,
  "toc-showcode": false,
  "toc-showmarkdowntxt": false,
  "toc-showtags": false,
  "widgets": {
   "application/vnd.jupyter.widget-state+json": {
    "state": {},
    "version_major": 2,
    "version_minor": 0
   }
  }
 },
 "nbformat": 4,
 "nbformat_minor": 4
}
