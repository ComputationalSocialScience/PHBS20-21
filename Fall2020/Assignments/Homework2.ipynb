{
 "cells": [
  {
   "cell_type": "markdown",
   "metadata": {},
   "source": [
    "# Homework 2: Data cleaning, reshaping, merging and probability\n",
    "\n",
    "**Author**: (Write your name here)"
   ]
  },
  {
   "cell_type": "markdown",
   "metadata": {},
   "source": [
    "## Introduction\n",
    "\n",
    "This assignment is meant to give you an opportunity to use the tools that we've discussed for the last two weeks. We will be downloading data from the World Bank _World Development Indicators_ and doing a \"guided case-study.\"\n",
    "\n",
    "In order to run the code below, you will need to install the `world_bank_data` package. This package has built a client library for the World Bank Data API which saves us time by allowing us simplified methods for interfacing with the data. the package can be installed by uncommenting the cell below and running it. "
   ]
  },
  {
   "cell_type": "markdown",
   "metadata": {},
   "source": [
    "## Section 1: Data ingestion\n"
   ]
  },
  {
   "cell_type": "code",
   "execution_count": 3,
   "metadata": {
    "execution": {
     "iopub.execute_input": "2020-10-06T14:19:34.271837Z",
     "iopub.status.busy": "2020-10-06T14:19:34.271576Z",
     "iopub.status.idle": "2020-10-06T14:19:34.312961Z",
     "shell.execute_reply": "2020-10-06T14:19:34.312632Z",
     "shell.execute_reply.started": "2020-10-06T14:19:34.271812Z"
    }
   },
   "outputs": [],
   "source": [
    "import matplotlib.pyplot as plt\n",
    "import numpy as np\n",
    "import pandas as pd\n",
    "\n",
    "import world_bank_data as wb\n",
    "\n",
    "%matplotlib inline"
   ]
  },
  {
   "cell_type": "markdown",
   "metadata": {},
   "source": [
    "In this section, we are going to read in a few different datasets from the World Bank.\n",
    "\n",
    "* **Primary completion rate**, or gross intake ratio to the last grade of primary education, is the number of new entrants (enrollments minus repeaters) in the last grade of primary education, regardless of age, divided by the population at the entrance age for the last grade of primary education. Data limitations preclude adjusting for students who drop out during the final year of primary education.\n",
    "* **GDP** at purchaser's prices is the sum of gross value added by all resident producers in the economy plus any product taxes and minus any subsidies not included in the value of the products. It is calculated without making deductions for depreciation of fabricated assets or for depletion and degradation of natural resources. Data are in current U.S. dollars.\n",
    "* **Population** is based on the de facto definition of population, which counts all residents regardless of legal status or citizenship. The values shown are midyear estimates."
   ]
  },
  {
   "cell_type": "code",
   "execution_count": 4,
   "metadata": {
    "execution": {
     "iopub.execute_input": "2020-10-06T14:19:34.930197Z",
     "iopub.status.busy": "2020-10-06T14:19:34.929757Z",
     "iopub.status.idle": "2020-10-06T14:19:35.758165Z",
     "shell.execute_reply": "2020-10-06T14:19:35.757666Z",
     "shell.execute_reply.started": "2020-10-06T14:19:34.930155Z"
    }
   },
   "outputs": [],
   "source": [
    "countries = wb.get_countries()\n",
    "\n",
    "dates = \"2000:2019\"\n",
    "educ_primary_completion = wb.get_series(\"SE.PRM.CMPT.ZS\", date=dates)\n",
    "gdp = wb.get_series(\"NY.GDP.MKTP.CD\", date=dates)\n",
    "populations = wb.get_series(\"SP.POP.TOTL\", date=dates)"
   ]
  },
  {
   "cell_type": "code",
   "execution_count": 5,
   "metadata": {
    "execution": {
     "iopub.execute_input": "2020-10-06T14:19:35.759053Z",
     "iopub.status.busy": "2020-10-06T14:19:35.758896Z",
     "iopub.status.idle": "2020-10-06T14:19:35.773438Z",
     "shell.execute_reply": "2020-10-06T14:19:35.772885Z",
     "shell.execute_reply.started": "2020-10-06T14:19:35.759036Z"
    }
   },
   "outputs": [
    {
     "data": {
      "text/html": [
       "<div>\n",
       "<style scoped>\n",
       "    .dataframe tbody tr th:only-of-type {\n",
       "        vertical-align: middle;\n",
       "    }\n",
       "\n",
       "    .dataframe tbody tr th {\n",
       "        vertical-align: top;\n",
       "    }\n",
       "\n",
       "    .dataframe thead th {\n",
       "        text-align: right;\n",
       "    }\n",
       "</style>\n",
       "<table border=\"1\" class=\"dataframe\">\n",
       "  <thead>\n",
       "    <tr style=\"text-align: right;\">\n",
       "      <th></th>\n",
       "      <th>iso2Code</th>\n",
       "      <th>name</th>\n",
       "      <th>region</th>\n",
       "      <th>adminregion</th>\n",
       "      <th>incomeLevel</th>\n",
       "      <th>lendingType</th>\n",
       "      <th>capitalCity</th>\n",
       "      <th>longitude</th>\n",
       "      <th>latitude</th>\n",
       "    </tr>\n",
       "    <tr>\n",
       "      <th>id</th>\n",
       "      <th></th>\n",
       "      <th></th>\n",
       "      <th></th>\n",
       "      <th></th>\n",
       "      <th></th>\n",
       "      <th></th>\n",
       "      <th></th>\n",
       "      <th></th>\n",
       "      <th></th>\n",
       "    </tr>\n",
       "  </thead>\n",
       "  <tbody>\n",
       "    <tr>\n",
       "      <th>ABW</th>\n",
       "      <td>AW</td>\n",
       "      <td>Aruba</td>\n",
       "      <td>Latin America &amp; Caribbean</td>\n",
       "      <td></td>\n",
       "      <td>High income</td>\n",
       "      <td>Not classified</td>\n",
       "      <td>Oranjestad</td>\n",
       "      <td>-70.0167</td>\n",
       "      <td>12.51670</td>\n",
       "    </tr>\n",
       "    <tr>\n",
       "      <th>AFG</th>\n",
       "      <td>AF</td>\n",
       "      <td>Afghanistan</td>\n",
       "      <td>South Asia</td>\n",
       "      <td>South Asia</td>\n",
       "      <td>Low income</td>\n",
       "      <td>IDA</td>\n",
       "      <td>Kabul</td>\n",
       "      <td>69.1761</td>\n",
       "      <td>34.52280</td>\n",
       "    </tr>\n",
       "    <tr>\n",
       "      <th>AFR</th>\n",
       "      <td>A9</td>\n",
       "      <td>Africa</td>\n",
       "      <td>Aggregates</td>\n",
       "      <td></td>\n",
       "      <td>Aggregates</td>\n",
       "      <td>Aggregates</td>\n",
       "      <td></td>\n",
       "      <td>NaN</td>\n",
       "      <td>NaN</td>\n",
       "    </tr>\n",
       "    <tr>\n",
       "      <th>AGO</th>\n",
       "      <td>AO</td>\n",
       "      <td>Angola</td>\n",
       "      <td>Sub-Saharan Africa</td>\n",
       "      <td>Sub-Saharan Africa (excluding high income)</td>\n",
       "      <td>Lower middle income</td>\n",
       "      <td>IBRD</td>\n",
       "      <td>Luanda</td>\n",
       "      <td>13.2420</td>\n",
       "      <td>-8.81155</td>\n",
       "    </tr>\n",
       "    <tr>\n",
       "      <th>ALB</th>\n",
       "      <td>AL</td>\n",
       "      <td>Albania</td>\n",
       "      <td>Europe &amp; Central Asia</td>\n",
       "      <td>Europe &amp; Central Asia (excluding high income)</td>\n",
       "      <td>Upper middle income</td>\n",
       "      <td>IBRD</td>\n",
       "      <td>Tirane</td>\n",
       "      <td>19.8172</td>\n",
       "      <td>41.33170</td>\n",
       "    </tr>\n",
       "  </tbody>\n",
       "</table>\n",
       "</div>"
      ],
      "text/plain": [
       "    iso2Code         name                      region  \\\n",
       "id                                                      \n",
       "ABW       AW        Aruba  Latin America & Caribbean    \n",
       "AFG       AF  Afghanistan                  South Asia   \n",
       "AFR       A9       Africa                  Aggregates   \n",
       "AGO       AO       Angola         Sub-Saharan Africa    \n",
       "ALB       AL      Albania       Europe & Central Asia   \n",
       "\n",
       "                                       adminregion          incomeLevel  \\\n",
       "id                                                                        \n",
       "ABW                                                         High income   \n",
       "AFG                                     South Asia           Low income   \n",
       "AFR                                                          Aggregates   \n",
       "AGO     Sub-Saharan Africa (excluding high income)  Lower middle income   \n",
       "ALB  Europe & Central Asia (excluding high income)  Upper middle income   \n",
       "\n",
       "        lendingType capitalCity  longitude  latitude  \n",
       "id                                                    \n",
       "ABW  Not classified  Oranjestad   -70.0167  12.51670  \n",
       "AFG             IDA       Kabul    69.1761  34.52280  \n",
       "AFR      Aggregates                    NaN       NaN  \n",
       "AGO            IBRD      Luanda    13.2420  -8.81155  \n",
       "ALB            IBRD      Tirane    19.8172  41.33170  "
      ]
     },
     "execution_count": 5,
     "metadata": {},
     "output_type": "execute_result"
    }
   ],
   "source": [
    "countries.head()"
   ]
  },
  {
   "cell_type": "code",
   "execution_count": 6,
   "metadata": {
    "execution": {
     "iopub.execute_input": "2020-10-06T14:19:35.774550Z",
     "iopub.status.busy": "2020-10-06T14:19:35.774373Z",
     "iopub.status.idle": "2020-10-06T14:19:35.779978Z",
     "shell.execute_reply": "2020-10-06T14:19:35.779428Z",
     "shell.execute_reply.started": "2020-10-06T14:19:35.774531Z"
    }
   },
   "outputs": [
    {
     "data": {
      "text/plain": [
       "Country     Series                                                    Year\n",
       "Arab World  Primary completion rate, total (% of relevant age group)  2000    75.54742\n",
       "                                                                      2001    76.56348\n",
       "                                                                      2002    77.41953\n",
       "                                                                      2003    79.82804\n",
       "                                                                      2004    81.66797\n",
       "Name: SE.PRM.CMPT.ZS, dtype: float64"
      ]
     },
     "execution_count": 6,
     "metadata": {},
     "output_type": "execute_result"
    }
   ],
   "source": [
    "educ_primary_completion.head()"
   ]
  },
  {
   "cell_type": "code",
   "execution_count": 7,
   "metadata": {
    "execution": {
     "iopub.execute_input": "2020-10-06T14:19:35.780840Z",
     "iopub.status.busy": "2020-10-06T14:19:35.780677Z",
     "iopub.status.idle": "2020-10-06T14:19:35.785142Z",
     "shell.execute_reply": "2020-10-06T14:19:35.784640Z",
     "shell.execute_reply.started": "2020-10-06T14:19:35.780822Z"
    }
   },
   "outputs": [
    {
     "data": {
      "text/plain": [
       "Country     Series             Year\n",
       "Arab World  GDP (current US$)  2000    7.358105e+11\n",
       "                               2001    7.240403e+11\n",
       "                               2002    7.297961e+11\n",
       "                               2003    8.239927e+11\n",
       "                               2004    9.650495e+11\n",
       "Name: NY.GDP.MKTP.CD, dtype: float64"
      ]
     },
     "execution_count": 7,
     "metadata": {},
     "output_type": "execute_result"
    }
   ],
   "source": [
    "gdp.head()"
   ]
  },
  {
   "cell_type": "code",
   "execution_count": 8,
   "metadata": {
    "execution": {
     "iopub.execute_input": "2020-10-06T14:19:35.785692Z",
     "iopub.status.busy": "2020-10-06T14:19:35.785589Z",
     "iopub.status.idle": "2020-10-06T14:19:35.788812Z",
     "shell.execute_reply": "2020-10-06T14:19:35.788470Z",
     "shell.execute_reply.started": "2020-10-06T14:19:35.785681Z"
    }
   },
   "outputs": [
    {
     "data": {
      "text/plain": [
       "Country     Series             Year\n",
       "Arab World  Population, total  2000    282344154.0\n",
       "                               2001    288432163.0\n",
       "                               2002    294665185.0\n",
       "                               2003    301113849.0\n",
       "                               2004    307862843.0\n",
       "Name: SP.POP.TOTL, dtype: float64"
      ]
     },
     "execution_count": 8,
     "metadata": {},
     "output_type": "execute_result"
    }
   ],
   "source": [
    "populations.head()"
   ]
  },
  {
   "cell_type": "code",
   "execution_count": 9,
   "metadata": {
    "execution": {
     "iopub.execute_input": "2020-10-06T14:19:35.961228Z",
     "iopub.status.busy": "2020-10-06T14:19:35.960936Z",
     "iopub.status.idle": "2020-10-06T14:19:35.972911Z",
     "shell.execute_reply": "2020-10-06T14:19:35.972319Z",
     "shell.execute_reply.started": "2020-10-06T14:19:35.961201Z"
    }
   },
   "outputs": [
    {
     "data": {
      "text/html": [
       "<div>\n",
       "<style scoped>\n",
       "    .dataframe tbody tr th:only-of-type {\n",
       "        vertical-align: middle;\n",
       "    }\n",
       "\n",
       "    .dataframe tbody tr th {\n",
       "        vertical-align: top;\n",
       "    }\n",
       "\n",
       "    .dataframe thead th {\n",
       "        text-align: right;\n",
       "    }\n",
       "</style>\n",
       "<table border=\"1\" class=\"dataframe\">\n",
       "  <thead>\n",
       "    <tr style=\"text-align: right;\">\n",
       "      <th></th>\n",
       "      <th>iso2Code</th>\n",
       "      <th>name</th>\n",
       "      <th>region</th>\n",
       "      <th>adminregion</th>\n",
       "      <th>incomeLevel</th>\n",
       "      <th>lendingType</th>\n",
       "      <th>capitalCity</th>\n",
       "      <th>longitude</th>\n",
       "      <th>latitude</th>\n",
       "    </tr>\n",
       "    <tr>\n",
       "      <th>id</th>\n",
       "      <th></th>\n",
       "      <th></th>\n",
       "      <th></th>\n",
       "      <th></th>\n",
       "      <th></th>\n",
       "      <th></th>\n",
       "      <th></th>\n",
       "      <th></th>\n",
       "      <th></th>\n",
       "    </tr>\n",
       "  </thead>\n",
       "  <tbody>\n",
       "    <tr>\n",
       "      <th>ABW</th>\n",
       "      <td>AW</td>\n",
       "      <td>Aruba</td>\n",
       "      <td>Latin America &amp; Caribbean</td>\n",
       "      <td></td>\n",
       "      <td>High income</td>\n",
       "      <td>Not classified</td>\n",
       "      <td>Oranjestad</td>\n",
       "      <td>-70.0167</td>\n",
       "      <td>12.51670</td>\n",
       "    </tr>\n",
       "    <tr>\n",
       "      <th>AFG</th>\n",
       "      <td>AF</td>\n",
       "      <td>Afghanistan</td>\n",
       "      <td>South Asia</td>\n",
       "      <td>South Asia</td>\n",
       "      <td>Low income</td>\n",
       "      <td>IDA</td>\n",
       "      <td>Kabul</td>\n",
       "      <td>69.1761</td>\n",
       "      <td>34.52280</td>\n",
       "    </tr>\n",
       "    <tr>\n",
       "      <th>AFR</th>\n",
       "      <td>A9</td>\n",
       "      <td>Africa</td>\n",
       "      <td>Aggregates</td>\n",
       "      <td></td>\n",
       "      <td>Aggregates</td>\n",
       "      <td>Aggregates</td>\n",
       "      <td></td>\n",
       "      <td>NaN</td>\n",
       "      <td>NaN</td>\n",
       "    </tr>\n",
       "    <tr>\n",
       "      <th>AGO</th>\n",
       "      <td>AO</td>\n",
       "      <td>Angola</td>\n",
       "      <td>Sub-Saharan Africa</td>\n",
       "      <td>Sub-Saharan Africa (excluding high income)</td>\n",
       "      <td>Lower middle income</td>\n",
       "      <td>IBRD</td>\n",
       "      <td>Luanda</td>\n",
       "      <td>13.2420</td>\n",
       "      <td>-8.81155</td>\n",
       "    </tr>\n",
       "    <tr>\n",
       "      <th>ALB</th>\n",
       "      <td>AL</td>\n",
       "      <td>Albania</td>\n",
       "      <td>Europe &amp; Central Asia</td>\n",
       "      <td>Europe &amp; Central Asia (excluding high income)</td>\n",
       "      <td>Upper middle income</td>\n",
       "      <td>IBRD</td>\n",
       "      <td>Tirane</td>\n",
       "      <td>19.8172</td>\n",
       "      <td>41.33170</td>\n",
       "    </tr>\n",
       "  </tbody>\n",
       "</table>\n",
       "</div>"
      ],
      "text/plain": [
       "    iso2Code         name                      region  \\\n",
       "id                                                      \n",
       "ABW       AW        Aruba  Latin America & Caribbean    \n",
       "AFG       AF  Afghanistan                  South Asia   \n",
       "AFR       A9       Africa                  Aggregates   \n",
       "AGO       AO       Angola         Sub-Saharan Africa    \n",
       "ALB       AL      Albania       Europe & Central Asia   \n",
       "\n",
       "                                       adminregion          incomeLevel  \\\n",
       "id                                                                        \n",
       "ABW                                                         High income   \n",
       "AFG                                     South Asia           Low income   \n",
       "AFR                                                          Aggregates   \n",
       "AGO     Sub-Saharan Africa (excluding high income)  Lower middle income   \n",
       "ALB  Europe & Central Asia (excluding high income)  Upper middle income   \n",
       "\n",
       "        lendingType capitalCity  longitude  latitude  \n",
       "id                                                    \n",
       "ABW  Not classified  Oranjestad   -70.0167  12.51670  \n",
       "AFG             IDA       Kabul    69.1761  34.52280  \n",
       "AFR      Aggregates                    NaN       NaN  \n",
       "AGO            IBRD      Luanda    13.2420  -8.81155  \n",
       "ALB            IBRD      Tirane    19.8172  41.33170  "
      ]
     },
     "execution_count": 9,
     "metadata": {},
     "output_type": "execute_result"
    }
   ],
   "source": [
    "countries.head()"
   ]
  },
  {
   "cell_type": "markdown",
   "metadata": {},
   "source": [
    "### Question 1:\n",
    "\n",
    "We want to create a dataset that has `(country, year)` on the index with  `gdp` (GDP), `pop` (total population), , and `pcr` (primary completion rate) as the columns. We only want to include countries in this dataset so you will need to drop any of the aggregated regions reported by the World Bank (i.e. there are reported values for \"Africa\" and \"Asia\" but these are aggregated numbers rather than country specific so we would drop these and the other aggregates -- Hint: the `countries` DataFrame should help you with this).\n",
    "\n",
    "Use the data that we read in above to create this dataset and call the new dataset `df_full`.\n",
    "\n",
    "After you've created the full dataset, create a new dataset with only the observations from the year 2018. Call this dataset `df` -- We will use this subset of data for the remainder of the assignment."
   ]
  },
  {
   "cell_type": "code",
   "execution_count": null,
   "metadata": {},
   "outputs": [],
   "source": []
  },
  {
   "cell_type": "markdown",
   "metadata": {},
   "source": [
    "### Question 2:\n",
    "\n",
    "Create a new variable, `loggdp_percapita` that defined as $\\log \\left( \\frac{\\text{GDP}}{\\text{population}} \\right)$."
   ]
  },
  {
   "cell_type": "code",
   "execution_count": null,
   "metadata": {},
   "outputs": [],
   "source": []
  },
  {
   "cell_type": "markdown",
   "metadata": {},
   "source": [
    "### Question 3:\n",
    "\n",
    "Create a scatter plot with `loggdp_percapita` on the x-axis and `pcr` on the y-axis.\n",
    "\n",
    "What relationships do you observe between these two variables?"
   ]
  },
  {
   "cell_type": "code",
   "execution_count": null,
   "metadata": {},
   "outputs": [],
   "source": []
  },
  {
   "cell_type": "markdown",
   "metadata": {},
   "source": []
  },
  {
   "cell_type": "markdown",
   "metadata": {},
   "source": [
    "### Question 4:\n",
    "\n",
    "Read the documentation for the `np.histogram2d` function. Create a two-dimensional histogram and store it as `count` and the bin values as `xvals` and `yvals`."
   ]
  },
  {
   "cell_type": "code",
   "execution_count": null,
   "metadata": {},
   "outputs": [],
   "source": []
  },
  {
   "cell_type": "markdown",
   "metadata": {},
   "source": [
    "### Question 5:\n",
    "\n",
    "Turn the numpy array `count` into a joint probability distribution called `jd`."
   ]
  },
  {
   "cell_type": "code",
   "execution_count": null,
   "metadata": {},
   "outputs": [],
   "source": []
  },
  {
   "cell_type": "markdown",
   "metadata": {},
   "source": [
    "### Question 6:\n",
    "\n",
    "Compute the marginal distributions for `loggdp_percapita` and `pcr`"
   ]
  },
  {
   "cell_type": "code",
   "execution_count": null,
   "metadata": {},
   "outputs": [],
   "source": []
  },
  {
   "cell_type": "markdown",
   "metadata": {},
   "source": [
    "### Question 7:\n",
    "\n",
    "For each \"primary schooling completed\" bin, compute the conditional distribution across log GDP per capita."
   ]
  },
  {
   "cell_type": "code",
   "execution_count": null,
   "metadata": {},
   "outputs": [],
   "source": []
  },
  {
   "cell_type": "markdown",
   "metadata": {},
   "source": [
    "### Question 8:\n",
    "\n",
    "Is the joint distribution created from the histogram the only joint distribution that could match with the marginal distributions found in question 6? If not, please find one more joint distribution that could describe the marginals."
   ]
  },
  {
   "cell_type": "code",
   "execution_count": null,
   "metadata": {},
   "outputs": [],
   "source": []
  },
  {
   "cell_type": "markdown",
   "metadata": {},
   "source": [
    "### Question 9:\n",
    "\n",
    "Consider daily sales data from a local convenience store. The data is broken into 12 datasets (one for each month). What function do you think is best to combine this data into a single dataset? Why?\n",
    "\n",
    "Below is a fake dataset with this information. Please use the function you mention previously to create a `df_sales` using the `jan_sales`, `feb_sales`, ..., `dec_sales` DataFrames."
   ]
  },
  {
   "cell_type": "markdown",
   "metadata": {},
   "source": [
    "Answer here about which function and why"
   ]
  },
  {
   "cell_type": "code",
   "execution_count": 10,
   "metadata": {
    "execution": {
     "iopub.execute_input": "2020-10-06T14:19:40.517030Z",
     "iopub.status.busy": "2020-10-06T14:19:40.516711Z",
     "iopub.status.idle": "2020-10-06T14:19:40.534474Z",
     "shell.execute_reply": "2020-10-06T14:19:40.533962Z",
     "shell.execute_reply.started": "2020-10-06T14:19:40.517001Z"
    }
   },
   "outputs": [],
   "source": [
    "# Don't change this cell -- It creates the dataset for you\n",
    "import calendar\n",
    "\n",
    "weeks = pd.date_range(\"2020-01-01\", \"2020-12-31\", freq=\"W\")\n",
    "\n",
    "dfs_sales = []\n",
    "for month in range(1, 13):\n",
    "    days = calendar.monthrange(2020, month)\n",
    "    weeks = pd.date_range(\n",
    "        f\"2020-{month:0>2}-01\", f\"2020-{month:0>2}-{days[1]:0>2}\",\n",
    "        freq=\"d\"\n",
    "    )\n",
    "    dfs_sales.append(\n",
    "        pd.DataFrame(\n",
    "            index=weeks, data={\n",
    "                \"revenue\": 2500 + 100*np.random.randn(len(weeks)),\n",
    "                \"customers\": np.random.randint(10, 25)\n",
    "            }\n",
    "    ))\n",
    "\n",
    "(jan_sales, feb_sales, mar_sales, apr_sales,\n",
    " may_sales, jun_sales, jul_sales, aug_sales,\n",
    " sep_sales, oct_sales, nov_sales, dec_sales) = dfs_sales"
   ]
  },
  {
   "cell_type": "code",
   "execution_count": 11,
   "metadata": {
    "execution": {
     "iopub.execute_input": "2020-10-06T14:19:44.696754Z",
     "iopub.status.busy": "2020-10-06T14:19:44.696487Z",
     "iopub.status.idle": "2020-10-06T14:19:44.699330Z",
     "shell.execute_reply": "2020-10-06T14:19:44.698748Z",
     "shell.execute_reply.started": "2020-10-06T14:19:44.696717Z"
    }
   },
   "outputs": [],
   "source": [
    "# Your data merging here\n"
   ]
  },
  {
   "cell_type": "markdown",
   "metadata": {},
   "source": [
    "### Question 10:\n",
    "\n",
    "Using the basketball dataset below, use `set_index`, `reset_index`, `stack`, and `unstack` to replicate the operations below:"
   ]
  },
  {
   "cell_type": "code",
   "execution_count": 12,
   "metadata": {
    "execution": {
     "iopub.execute_input": "2020-10-06T14:19:46.380477Z",
     "iopub.status.busy": "2020-10-06T14:19:46.380225Z",
     "iopub.status.idle": "2020-10-06T14:19:46.811622Z",
     "shell.execute_reply": "2020-10-06T14:19:46.810920Z",
     "shell.execute_reply.started": "2020-10-06T14:19:46.380455Z"
    }
   },
   "outputs": [
    {
     "name": "stdout",
     "output_type": "stream",
     "text": [
      "<class 'pandas.core.frame.DataFrame'>\n",
      "Int64Index: 6 entries, 0 to 5\n",
      "Data columns (total 8 columns):\n",
      " #   Column    Non-Null Count  Dtype  \n",
      "---  ------    --------------  -----  \n",
      " 0   Year      6 non-null      int64  \n",
      " 1   Player    6 non-null      object \n",
      " 2   Team      6 non-null      object \n",
      " 3   TeamName  6 non-null      object \n",
      " 4   Games     6 non-null      int64  \n",
      " 5   Pts       6 non-null      float64\n",
      " 6   Assist    6 non-null      float64\n",
      " 7   Rebound   6 non-null      float64\n",
      "dtypes: float64(3), int64(2), object(3)\n",
      "memory usage: 432.0+ bytes\n"
     ]
    },
    {
     "data": {
      "text/html": [
       "<div>\n",
       "<style scoped>\n",
       "    .dataframe tbody tr th:only-of-type {\n",
       "        vertical-align: middle;\n",
       "    }\n",
       "\n",
       "    .dataframe tbody tr th {\n",
       "        vertical-align: top;\n",
       "    }\n",
       "\n",
       "    .dataframe thead th {\n",
       "        text-align: right;\n",
       "    }\n",
       "</style>\n",
       "<table border=\"1\" class=\"dataframe\">\n",
       "  <thead>\n",
       "    <tr style=\"text-align: right;\">\n",
       "      <th></th>\n",
       "      <th>Year</th>\n",
       "      <th>Player</th>\n",
       "      <th>Team</th>\n",
       "      <th>TeamName</th>\n",
       "      <th>Games</th>\n",
       "      <th>Pts</th>\n",
       "      <th>Assist</th>\n",
       "      <th>Rebound</th>\n",
       "    </tr>\n",
       "  </thead>\n",
       "  <tbody>\n",
       "    <tr>\n",
       "      <th>0</th>\n",
       "      <td>2015</td>\n",
       "      <td>Curry</td>\n",
       "      <td>GSW</td>\n",
       "      <td>Warriors</td>\n",
       "      <td>79</td>\n",
       "      <td>30.1</td>\n",
       "      <td>6.7</td>\n",
       "      <td>5.4</td>\n",
       "    </tr>\n",
       "    <tr>\n",
       "      <th>1</th>\n",
       "      <td>2016</td>\n",
       "      <td>Curry</td>\n",
       "      <td>GSW</td>\n",
       "      <td>Warriors</td>\n",
       "      <td>79</td>\n",
       "      <td>25.3</td>\n",
       "      <td>6.6</td>\n",
       "      <td>4.5</td>\n",
       "    </tr>\n",
       "    <tr>\n",
       "      <th>2</th>\n",
       "      <td>2017</td>\n",
       "      <td>Curry</td>\n",
       "      <td>GSW</td>\n",
       "      <td>Warriors</td>\n",
       "      <td>51</td>\n",
       "      <td>26.4</td>\n",
       "      <td>6.1</td>\n",
       "      <td>5.1</td>\n",
       "    </tr>\n",
       "    <tr>\n",
       "      <th>3</th>\n",
       "      <td>2015</td>\n",
       "      <td>Durant</td>\n",
       "      <td>OKC</td>\n",
       "      <td>Thunder</td>\n",
       "      <td>72</td>\n",
       "      <td>28.2</td>\n",
       "      <td>5.0</td>\n",
       "      <td>8.2</td>\n",
       "    </tr>\n",
       "    <tr>\n",
       "      <th>4</th>\n",
       "      <td>2016</td>\n",
       "      <td>Durant</td>\n",
       "      <td>GSW</td>\n",
       "      <td>Warriors</td>\n",
       "      <td>62</td>\n",
       "      <td>25.1</td>\n",
       "      <td>4.8</td>\n",
       "      <td>8.3</td>\n",
       "    </tr>\n",
       "    <tr>\n",
       "      <th>5</th>\n",
       "      <td>2017</td>\n",
       "      <td>Durant</td>\n",
       "      <td>GSW</td>\n",
       "      <td>Warriors</td>\n",
       "      <td>68</td>\n",
       "      <td>26.4</td>\n",
       "      <td>5.4</td>\n",
       "      <td>6.8</td>\n",
       "    </tr>\n",
       "  </tbody>\n",
       "</table>\n",
       "</div>"
      ],
      "text/plain": [
       "   Year  Player Team  TeamName  Games   Pts  Assist  Rebound\n",
       "0  2015   Curry  GSW  Warriors     79  30.1     6.7      5.4\n",
       "1  2016   Curry  GSW  Warriors     79  25.3     6.6      4.5\n",
       "2  2017   Curry  GSW  Warriors     51  26.4     6.1      5.1\n",
       "3  2015  Durant  OKC   Thunder     72  28.2     5.0      8.2\n",
       "4  2016  Durant  GSW  Warriors     62  25.1     4.8      8.3\n",
       "5  2017  Durant  GSW  Warriors     68  26.4     5.4      6.8"
      ]
     },
     "execution_count": 12,
     "metadata": {},
     "output_type": "execute_result"
    }
   ],
   "source": [
    "url = \"https://datascience.quantecon.org/assets/data/bball.csv\"\n",
    "bball = pd.read_csv(url).query(\"Player != 'Ibaka'\")\n",
    "bball.info()\n",
    "\n",
    "bball"
   ]
  },
  {
   "cell_type": "code",
   "execution_count": 13,
   "metadata": {
    "execution": {
     "iopub.execute_input": "2020-10-06T14:19:47.447608Z",
     "iopub.status.busy": "2020-10-06T14:19:47.447349Z",
     "iopub.status.idle": "2020-10-06T14:19:47.461951Z",
     "shell.execute_reply": "2020-10-06T14:19:47.461411Z",
     "shell.execute_reply.started": "2020-10-06T14:19:47.447584Z"
    }
   },
   "outputs": [
    {
     "data": {
      "text/html": [
       "<div>\n",
       "<style scoped>\n",
       "    .dataframe tbody tr th:only-of-type {\n",
       "        vertical-align: middle;\n",
       "    }\n",
       "\n",
       "    .dataframe tbody tr th {\n",
       "        vertical-align: top;\n",
       "    }\n",
       "\n",
       "    .dataframe thead th {\n",
       "        text-align: right;\n",
       "    }\n",
       "</style>\n",
       "<table border=\"1\" class=\"dataframe\">\n",
       "  <thead>\n",
       "    <tr style=\"text-align: right;\">\n",
       "      <th></th>\n",
       "      <th>Year</th>\n",
       "      <th>Player</th>\n",
       "      <th>Team</th>\n",
       "      <th>variable</th>\n",
       "      <th>value</th>\n",
       "    </tr>\n",
       "  </thead>\n",
       "  <tbody>\n",
       "    <tr>\n",
       "      <th>0</th>\n",
       "      <td>2015</td>\n",
       "      <td>Curry</td>\n",
       "      <td>GSW</td>\n",
       "      <td>Games</td>\n",
       "      <td>79.0</td>\n",
       "    </tr>\n",
       "    <tr>\n",
       "      <th>1</th>\n",
       "      <td>2016</td>\n",
       "      <td>Curry</td>\n",
       "      <td>GSW</td>\n",
       "      <td>Games</td>\n",
       "      <td>79.0</td>\n",
       "    </tr>\n",
       "    <tr>\n",
       "      <th>2</th>\n",
       "      <td>2017</td>\n",
       "      <td>Curry</td>\n",
       "      <td>GSW</td>\n",
       "      <td>Games</td>\n",
       "      <td>51.0</td>\n",
       "    </tr>\n",
       "    <tr>\n",
       "      <th>3</th>\n",
       "      <td>2015</td>\n",
       "      <td>Durant</td>\n",
       "      <td>OKC</td>\n",
       "      <td>Games</td>\n",
       "      <td>72.0</td>\n",
       "    </tr>\n",
       "    <tr>\n",
       "      <th>4</th>\n",
       "      <td>2016</td>\n",
       "      <td>Durant</td>\n",
       "      <td>GSW</td>\n",
       "      <td>Games</td>\n",
       "      <td>62.0</td>\n",
       "    </tr>\n",
       "    <tr>\n",
       "      <th>5</th>\n",
       "      <td>2017</td>\n",
       "      <td>Durant</td>\n",
       "      <td>GSW</td>\n",
       "      <td>Games</td>\n",
       "      <td>68.0</td>\n",
       "    </tr>\n",
       "    <tr>\n",
       "      <th>6</th>\n",
       "      <td>2015</td>\n",
       "      <td>Curry</td>\n",
       "      <td>GSW</td>\n",
       "      <td>Pts</td>\n",
       "      <td>30.1</td>\n",
       "    </tr>\n",
       "    <tr>\n",
       "      <th>7</th>\n",
       "      <td>2016</td>\n",
       "      <td>Curry</td>\n",
       "      <td>GSW</td>\n",
       "      <td>Pts</td>\n",
       "      <td>25.3</td>\n",
       "    </tr>\n",
       "    <tr>\n",
       "      <th>8</th>\n",
       "      <td>2017</td>\n",
       "      <td>Curry</td>\n",
       "      <td>GSW</td>\n",
       "      <td>Pts</td>\n",
       "      <td>26.4</td>\n",
       "    </tr>\n",
       "    <tr>\n",
       "      <th>9</th>\n",
       "      <td>2015</td>\n",
       "      <td>Durant</td>\n",
       "      <td>OKC</td>\n",
       "      <td>Pts</td>\n",
       "      <td>28.2</td>\n",
       "    </tr>\n",
       "    <tr>\n",
       "      <th>10</th>\n",
       "      <td>2016</td>\n",
       "      <td>Durant</td>\n",
       "      <td>GSW</td>\n",
       "      <td>Pts</td>\n",
       "      <td>25.1</td>\n",
       "    </tr>\n",
       "    <tr>\n",
       "      <th>11</th>\n",
       "      <td>2017</td>\n",
       "      <td>Durant</td>\n",
       "      <td>GSW</td>\n",
       "      <td>Pts</td>\n",
       "      <td>26.4</td>\n",
       "    </tr>\n",
       "    <tr>\n",
       "      <th>12</th>\n",
       "      <td>2015</td>\n",
       "      <td>Curry</td>\n",
       "      <td>GSW</td>\n",
       "      <td>Assist</td>\n",
       "      <td>6.7</td>\n",
       "    </tr>\n",
       "    <tr>\n",
       "      <th>13</th>\n",
       "      <td>2016</td>\n",
       "      <td>Curry</td>\n",
       "      <td>GSW</td>\n",
       "      <td>Assist</td>\n",
       "      <td>6.6</td>\n",
       "    </tr>\n",
       "    <tr>\n",
       "      <th>14</th>\n",
       "      <td>2017</td>\n",
       "      <td>Curry</td>\n",
       "      <td>GSW</td>\n",
       "      <td>Assist</td>\n",
       "      <td>6.1</td>\n",
       "    </tr>\n",
       "    <tr>\n",
       "      <th>15</th>\n",
       "      <td>2015</td>\n",
       "      <td>Durant</td>\n",
       "      <td>OKC</td>\n",
       "      <td>Assist</td>\n",
       "      <td>5.0</td>\n",
       "    </tr>\n",
       "    <tr>\n",
       "      <th>16</th>\n",
       "      <td>2016</td>\n",
       "      <td>Durant</td>\n",
       "      <td>GSW</td>\n",
       "      <td>Assist</td>\n",
       "      <td>4.8</td>\n",
       "    </tr>\n",
       "    <tr>\n",
       "      <th>17</th>\n",
       "      <td>2017</td>\n",
       "      <td>Durant</td>\n",
       "      <td>GSW</td>\n",
       "      <td>Assist</td>\n",
       "      <td>5.4</td>\n",
       "    </tr>\n",
       "  </tbody>\n",
       "</table>\n",
       "</div>"
      ],
      "text/plain": [
       "    Year  Player Team variable  value\n",
       "0   2015   Curry  GSW    Games   79.0\n",
       "1   2016   Curry  GSW    Games   79.0\n",
       "2   2017   Curry  GSW    Games   51.0\n",
       "3   2015  Durant  OKC    Games   72.0\n",
       "4   2016  Durant  GSW    Games   62.0\n",
       "5   2017  Durant  GSW    Games   68.0\n",
       "6   2015   Curry  GSW      Pts   30.1\n",
       "7   2016   Curry  GSW      Pts   25.3\n",
       "8   2017   Curry  GSW      Pts   26.4\n",
       "9   2015  Durant  OKC      Pts   28.2\n",
       "10  2016  Durant  GSW      Pts   25.1\n",
       "11  2017  Durant  GSW      Pts   26.4\n",
       "12  2015   Curry  GSW   Assist    6.7\n",
       "13  2016   Curry  GSW   Assist    6.6\n",
       "14  2017   Curry  GSW   Assist    6.1\n",
       "15  2015  Durant  OKC   Assist    5.0\n",
       "16  2016  Durant  GSW   Assist    4.8\n",
       "17  2017  Durant  GSW   Assist    5.4"
      ]
     },
     "execution_count": 13,
     "metadata": {},
     "output_type": "execute_result"
    }
   ],
   "source": [
    "# Operation to replicate\n",
    "bball.melt(id_vars=[\"Year\", \"Player\", \"Team\"], value_vars=[\"Games\", \"Pts\", \"Assist\"])"
   ]
  },
  {
   "cell_type": "code",
   "execution_count": 14,
   "metadata": {
    "execution": {
     "iopub.execute_input": "2020-10-06T14:19:49.793455Z",
     "iopub.status.busy": "2020-10-06T14:19:49.793170Z",
     "iopub.status.idle": "2020-10-06T14:19:49.795975Z",
     "shell.execute_reply": "2020-10-06T14:19:49.795391Z",
     "shell.execute_reply.started": "2020-10-06T14:19:49.793428Z"
    }
   },
   "outputs": [],
   "source": [
    "# Replicate melt operation here"
   ]
  },
  {
   "cell_type": "code",
   "execution_count": 15,
   "metadata": {
    "execution": {
     "iopub.execute_input": "2020-10-06T14:19:50.799019Z",
     "iopub.status.busy": "2020-10-06T14:19:50.798864Z",
     "iopub.status.idle": "2020-10-06T14:19:50.809693Z",
     "shell.execute_reply": "2020-10-06T14:19:50.809296Z",
     "shell.execute_reply.started": "2020-10-06T14:19:50.799006Z"
    }
   },
   "outputs": [
    {
     "data": {
      "text/html": [
       "<div>\n",
       "<style scoped>\n",
       "    .dataframe tbody tr th:only-of-type {\n",
       "        vertical-align: middle;\n",
       "    }\n",
       "\n",
       "    .dataframe tbody tr th {\n",
       "        vertical-align: top;\n",
       "    }\n",
       "\n",
       "    .dataframe thead th {\n",
       "        text-align: right;\n",
       "    }\n",
       "</style>\n",
       "<table border=\"1\" class=\"dataframe\">\n",
       "  <thead>\n",
       "    <tr style=\"text-align: right;\">\n",
       "      <th>Player</th>\n",
       "      <th>Curry</th>\n",
       "      <th>Durant</th>\n",
       "    </tr>\n",
       "    <tr>\n",
       "      <th>Year</th>\n",
       "      <th></th>\n",
       "      <th></th>\n",
       "    </tr>\n",
       "  </thead>\n",
       "  <tbody>\n",
       "    <tr>\n",
       "      <th>2015</th>\n",
       "      <td>30.1</td>\n",
       "      <td>28.2</td>\n",
       "    </tr>\n",
       "    <tr>\n",
       "      <th>2016</th>\n",
       "      <td>25.3</td>\n",
       "      <td>25.1</td>\n",
       "    </tr>\n",
       "    <tr>\n",
       "      <th>2017</th>\n",
       "      <td>26.4</td>\n",
       "      <td>26.4</td>\n",
       "    </tr>\n",
       "  </tbody>\n",
       "</table>\n",
       "</div>"
      ],
      "text/plain": [
       "Player  Curry  Durant\n",
       "Year                 \n",
       "2015     30.1    28.2\n",
       "2016     25.3    25.1\n",
       "2017     26.4    26.4"
      ]
     },
     "execution_count": 15,
     "metadata": {},
     "output_type": "execute_result"
    }
   ],
   "source": [
    "# Operation to replicate\n",
    "bball.pivot_table(index=\"Year\", columns=\"Player\", values=\"Pts\")"
   ]
  },
  {
   "cell_type": "code",
   "execution_count": 16,
   "metadata": {
    "execution": {
     "iopub.execute_input": "2020-10-06T14:19:51.509387Z",
     "iopub.status.busy": "2020-10-06T14:19:51.509132Z",
     "iopub.status.idle": "2020-10-06T14:19:51.511920Z",
     "shell.execute_reply": "2020-10-06T14:19:51.511345Z",
     "shell.execute_reply.started": "2020-10-06T14:19:51.509364Z"
    }
   },
   "outputs": [],
   "source": [
    "# Replicate pivot table here"
   ]
  },
  {
   "cell_type": "code",
   "execution_count": null,
   "metadata": {},
   "outputs": [],
   "source": []
  }
 ],
 "metadata": {
  "kernelspec": {
   "display_name": "Python 3",
   "language": "python",
   "name": "python3"
  },
  "language_info": {
   "codemirror_mode": {
    "name": "ipython",
    "version": 3
   },
   "file_extension": ".py",
   "mimetype": "text/x-python",
   "name": "python",
   "nbconvert_exporter": "python",
   "pygments_lexer": "ipython3",
   "version": "3.8.5"
  },
  "widgets": {
   "application/vnd.jupyter.widget-state+json": {
    "state": {},
    "version_major": 2,
    "version_minor": 0
   }
  }
 },
 "nbformat": 4,
 "nbformat_minor": 4
}
