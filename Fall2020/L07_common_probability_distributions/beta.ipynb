{
 "cells": [
  {
   "cell_type": "markdown",
   "metadata": {
    "slideshow": {
     "slide_type": "slide"
    }
   },
   "source": [
    "# Beta Distribution"
   ]
  },
  {
   "cell_type": "code",
   "execution_count": 1,
   "metadata": {
    "slideshow": {
     "slide_type": "-"
    }
   },
   "outputs": [],
   "source": [
    "import matplotlib.pyplot as plt\n",
    "import numpy as np\n",
    "import scipy.stats as st\n",
    "\n",
    "from ipywidgets import interact, IntSlider, FloatSlider\n",
    "\n",
    "%matplotlib inline"
   ]
  },
  {
   "cell_type": "markdown",
   "metadata": {
    "slideshow": {
     "slide_type": "slide"
    }
   },
   "source": [
    "### Introduction\n",
    "\n",
    "The beta distribution is a distribution that often is used to describe probabilities since it has support of $[0, 1]$.\n"
   ]
  },
  {
   "cell_type": "markdown",
   "metadata": {
    "slideshow": {
     "slide_type": "slide"
    }
   },
   "source": [
    "### Details\n",
    "\n",
    "The beta distribution is governed by two parameters $\\alpha$ and $\\beta$. These don't necessarily have a great interpretation, but, if the beta distribution describes the $p$ from a Bernoulli random variable, then the $\\alpha$ can be interpreted as the number of successes and $\\beta$ as the number of failures.\n",
    "\n",
    "The probability mass function is given by\n",
    "\n",
    "$$f(\\theta; \\alpha, \\beta) = \\frac{\\theta^{\\alpha - 1} (1 - \\theta)^{\\beta - 1}}{B(\\alpha, \\beta)}$$\n",
    "\n",
    "where $B(\\alpha, \\beta)$ is the Beta function and is used to normalize the function so it is a distribution -- The Beta distribution is defined by $\\text{B}(\\alpha, \\beta) = \\int_0^1 t^{\\alpha - 1} (1 - t)^{\\beta - 1} dt$.\n",
    "\n",
    "The mean is $\\frac{\\alpha}{\\alpha + \\beta}$\n",
    "\n",
    "The variance is $\\frac{\\alpha \\beta}{(\\alpha + \\beta)^2 (\\alpha + \\beta + 1)}$"
   ]
  },
  {
   "cell_type": "code",
   "execution_count": 2,
   "metadata": {
    "slideshow": {
     "slide_type": "-"
    }
   },
   "outputs": [],
   "source": [
    "def beta_plot_pdf_cdf(a, b):\n",
    "    brv = st.beta(a, b)\n",
    "    fig, ax = plt.subplots(1, 2, figsize=(9, 6))\n",
    "    \n",
    "    xvals = np.linspace(0, 1, 5000)\n",
    "    ax[0].plot(xvals, brv.pdf(xvals))\n",
    "    ax[0].set_title(\"Probability Density Function\")\n",
    "\n",
    "    ax[1].plot(xvals, brv.cdf(xvals))\n",
    "    ax[1].set_title(\"Cumulative Distribution Function\")\n",
    "    \n",
    "    return None"
   ]
  },
  {
   "cell_type": "code",
   "execution_count": 3,
   "metadata": {
    "slideshow": {
     "slide_type": "-"
    }
   },
   "outputs": [
    {
     "data": {
      "application/vnd.jupyter.widget-view+json": {
       "model_id": "5e8f08faf7004a0793e73eee049c1755",
       "version_major": 2,
       "version_minor": 0
      },
      "text/plain": [
       "interactive(children=(FloatSlider(value=1.0, description='Alpha', layout=Layout(width='40%'), max=10.0, min=0.…"
      ]
     },
     "metadata": {},
     "output_type": "display_data"
    }
   ],
   "source": [
    "_as = FloatSlider(\n",
    "    value=1, min=0.25, max=10,\n",
    "    step=0.25, description=\"Alpha\",\n",
    "    style={\"description_width\": \"50%\"},\n",
    "    layout={\"width\": \"40%\"}\n",
    ")\n",
    "_bs = FloatSlider(\n",
    "    value=1, min=0.25, max=10.0,\n",
    "    step=0.25, description=\"Beta\",\n",
    "    style={\"description_width\": \"50%\"},\n",
    "    layout={\"width\": \"40%\"}\n",
    ")\n",
    "\n",
    "output = interact(beta_plot_pdf_cdf, a=_as, b=_bs)"
   ]
  },
  {
   "cell_type": "markdown",
   "metadata": {
    "slideshow": {
     "slide_type": "slide"
    }
   },
   "source": [
    "### Example: Conjugate-prior Bernoulli-Beta/Binomial-Beta\n",
    "\n",
    "Suppose that the probability with which a student passes a class, $p$, is unknown, but, prior to observing any additional information, we believe it is distributed according to $\\text{beta}(1, 1)$."
   ]
  },
  {
   "cell_type": "code",
   "execution_count": 4,
   "metadata": {
    "slideshow": {
     "slide_type": "-"
    }
   },
   "outputs": [],
   "source": [
    "alpha = 1\n",
    "beta = 1\n",
    "\n",
    "brv = st.beta(alpha, beta)"
   ]
  },
  {
   "cell_type": "code",
   "execution_count": 30,
   "metadata": {
    "slideshow": {
     "slide_type": "-"
    }
   },
   "outputs": [
    {
     "data": {
      "text/plain": [
       "0.32681045242724005"
      ]
     },
     "execution_count": 30,
     "metadata": {},
     "output_type": "execute_result"
    }
   ],
   "source": [
    "brv.rvs()"
   ]
  },
  {
   "cell_type": "code",
   "execution_count": 31,
   "metadata": {},
   "outputs": [
    {
     "data": {
      "text/plain": [
       "0.5"
      ]
     },
     "execution_count": 31,
     "metadata": {},
     "output_type": "execute_result"
    }
   ],
   "source": [
    "brv.mean()"
   ]
  },
  {
   "cell_type": "code",
   "execution_count": 32,
   "metadata": {},
   "outputs": [
    {
     "data": {
      "text/plain": [
       "0.08333333333333333"
      ]
     },
     "execution_count": 32,
     "metadata": {},
     "output_type": "execute_result"
    }
   ],
   "source": [
    "brv.var()"
   ]
  },
  {
   "cell_type": "markdown",
   "metadata": {
    "slideshow": {
     "slide_type": "subslide"
    }
   },
   "source": [
    "We observe the student take their first class over the summer and they pass. What should we believe about the probability with which they'll pass classes going forward?"
   ]
  },
  {
   "cell_type": "markdown",
   "metadata": {
    "slideshow": {
     "slide_type": "fragment"
    }
   },
   "source": [
    "\\begin{align*}\n",
    "  \\text{Probability}(p | \\text{success}) &= \\frac{\\text{Probability}(\\text{success} | p) \\text{Probability}(p)}{\\text{Probability}(\\text{success})} \\\\\n",
    "  &= \\frac{p \\frac{p^{1-1} (1 - p)^{1 - 1}}{\\text{B}(1, 1)}}{\\int_0^1 p} \\\\\n",
    "  &= \\frac{p^{2 - 1} (1 - p)^{1 - 1}}{\\text{B}(2, 1)} \\\\\n",
    "  &\\rightarrow p \\sim \\text{Beta}(\\alpha + 1, \\beta)\n",
    "\\end{align*}\n",
    "\n",
    "We could write this in a more generalized way, but, suffice it to say, that $\\alpha$ will correspond to the number of successful classes (plus 1) and $\\beta$ will correspond to the number of failed classes (plus 1)"
   ]
  },
  {
   "cell_type": "markdown",
   "metadata": {
    "slideshow": {
     "slide_type": "subslide"
    }
   },
   "source": [
    "### Simulation\n",
    "\n",
    "Suppose the actual probability with which a student passes a class is 0.8. How many classes does the student need to take before our 25th percentile estimate of their class passing probability is above 0.7?"
   ]
  },
  {
   "cell_type": "code",
   "execution_count": 33,
   "metadata": {
    "slideshow": {
     "slide_type": "fragment"
    }
   },
   "outputs": [],
   "source": [
    "p = 0.8\n",
    "bern_rv = st.bernoulli(p)\n",
    "nsims = 1_000\n",
    "n_until_pp0p7 = np.zeros(nsims)\n",
    "\n",
    "for sim in range(nsims):\n",
    "    a, b = 1, 1\n",
    "    nclasses = 0\n",
    "    pp_lt_0p7 = True\n",
    "\n",
    "    while pp_lt_0p7:\n",
    "        passed_class = bern_rv.rvs()\n",
    "        nclasses = nclasses + 1\n",
    "        \n",
    "        a = a + passed_class\n",
    "        b = b + (1 - passed_class)\n",
    "\n",
    "        beta_rv = st.beta(a, b)\n",
    "        pp_lt_0p7 = (beta_rv.ppf(0.25) < 0.7)\n",
    "\n",
    "    n_until_pp0p7[sim] = nclasses"
   ]
  },
  {
   "cell_type": "code",
   "execution_count": 34,
   "metadata": {
    "slideshow": {
     "slide_type": "fragment"
    }
   },
   "outputs": [
    {
     "name": "stdout",
     "output_type": "stream",
     "text": [
      "3.0\n",
      "185.0\n",
      "0.7071067811865476\n"
     ]
    }
   ],
   "source": [
    "print(np.min(n_until_pp0p7))\n",
    "print(np.max(n_until_pp0p7))\n",
    "print(st.beta(3 + 1, 1).ppf(0.25))  # Number of classes plus 1"
   ]
  },
  {
   "cell_type": "code",
   "execution_count": 35,
   "metadata": {
    "slideshow": {
     "slide_type": "fragment"
    }
   },
   "outputs": [
    {
     "data": {
      "image/png": "[encoded data removed]",
      "text/plain": [
       "<Figure size 432x288 with 1 Axes>"
      ]
     },
     "metadata": {
      "needs_background": "light"
     },
     "output_type": "display_data"
    }
   ],
   "source": [
    "plt.hist(n_until_pp0p7, bins=20);"
   ]
  },
  {
   "cell_type": "markdown",
   "metadata": {
    "slideshow": {
     "slide_type": "-"
    }
   },
   "source": [
    "**Note**: In creating this notebook, I referenced the \"Distribution Explorer\" material found at https://distribution-explorer.github.io/index.html. I certainly encourage others to find additional information there."
   ]
  }
 ],
 "metadata": {
  "celltoolbar": "Slideshow",
  "kernelspec": {
   "display_name": "Python 3",
   "language": "python",
   "name": "python3"
  },
  "language_info": {
   "codemirror_mode": {
    "name": "ipython",
    "version": 3
   },
   "file_extension": ".py",
   "mimetype": "text/x-python",
   "name": "python",
   "nbconvert_exporter": "python",
   "pygments_lexer": "ipython3",
   "version": "3.7.4"
  }
 },
 "nbformat": 4,
 "nbformat_minor": 4
}
