{
 "cells": [
  {
   "cell_type": "markdown",
   "metadata": {
    "slideshow": {
     "slide_type": "slide"
    }
   },
   "source": [
    "# Data Visualization: Rules and Guidelines\n",
    "\n",
    "**Co-authored with** [Paul Schrimpf (*UBC*)](https://economics.ubc.ca/faculty-and-staff/paul-schrimpf/)\n",
    "\n",
    "\n",
    "**Prerequisites**\n",
    "\n",
    "- [Introduction to Plotting](../scientific/plotting.ipynb)  \n",
    "\n",
    "\n",
    "**Outcomes**\n",
    "\n",
    "- Understand steps of creating a visualization  \n",
    "- Know when to use each of the core plots  \n",
    "- Introductory ability to make effective visualizations  "
   ]
  },
  {
   "cell_type": "markdown",
   "metadata": {
    "slideshow": {
     "slide_type": "subslide"
    }
   },
   "source": [
    "## Outline\n",
    "\n",
    "- [Data Visualization: Rules and Guidelines](#Data-Visualization:-Rules-and-Guidelines)  \n",
    "  - [Introduction](#Introduction)  \n",
    "  - [Steps to Creating Effective Charts](#Steps-to-Creating-Effective-Charts)  \n",
    "  - [Visualization Types](#Visualization-Types)  \n",
    "  - [Color in Plots](#Color-in-Plots)  \n",
    "  - [Visualization Rules](#Visualization-Rules)  \n",
    "  - [References](#References)  \n",
    "  - [Exercises](#Exercises)  "
   ]
  },
  {
   "cell_type": "code",
   "execution_count": 10,
   "metadata": {
    "hide-output": false,
    "slideshow": {
     "slide_type": "fragment"
    }
   },
   "outputs": [],
   "source": [
    "import matplotlib.colors as mplc\n",
    "import matplotlib.patches as patches\n",
    "import matplotlib.pyplot as plt\n",
    "import numpy as np\n",
    "import pandas as pd\n",
    "import statsmodels.formula.api as sm\n",
    "\n",
    "from pandas_datareader import DataReader\n",
    "\n",
    "%matplotlib inline\n",
    "\n",
    "# activate plot theme\n",
    "import qeds\n",
    "qeds.themes.mpl_style();"
   ]
  },
  {
   "cell_type": "markdown",
   "metadata": {
    "slideshow": {
     "slide_type": "slide"
    }
   },
   "source": [
    "## Introduction\n",
    "\n",
    "An economist’s (or data scientist’s) job goes beyond simply learning new things using data and\n",
    "theory.\n",
    "\n",
    "Learning these new things is meant to help economists or data scientists communicate these ideas to others,\n",
    "whether the medium is an academic paper or a business meeting.\n",
    "\n",
    "One of the most effective mediums of communication is visualization.\n",
    "\n",
    "Well-done visualizations can help your audience remember your message.\n",
    "\n",
    "They accomplish this through at least two main channels:\n",
    "\n",
    "1. Psychology researchers have observed [*picture superiority*](https://en.wikipedia.org/wiki/Picture_superiority_effect): the fact that images are more likely to be remembered than\n",
    "words. While the reasons and extent of the effect are debated, the consensus view is that the effect exists.\n",
    "How large might this effect be? In a paper by Defeyter, Russo, and McPartlin (2009), the authors found that participants were able to identify pictures they had previously studied for approximately 500 ms each with 75-85% accuracy but words with only a 55-65% accuracy.\n",
    "\n",
    "1. Data visualizations help people walk through the logic you used to build the chart,\n",
    "  allowing them to reason through the argument and thus makes your claim more convincing.  \n",
    "\n",
    "\n",
    "In this lecture, we will discuss the process of creating a data visualization, ways to best ensure\n",
    "successfully communication, and some general design guidelines.\n",
    "\n",
    "Along the way, you will be introduced to many features of `matplotlib` that were not discussed in the\n",
    "introductory lecture.\n",
    "\n",
    "We won’t discuss most of these features, but we encourage you to read more in the\n",
    "[online documentation](https://matplotlib.org/contents.html) if you have questions."
   ]
  },
  {
   "cell_type": "markdown",
   "metadata": {
    "slideshow": {
     "slide_type": "subslide"
    }
   },
   "source": [
    "## Steps to Creating Effective Charts\n",
    "\n",
    "Before we begin discussions of specific recommendations, it is helpful to agree on\n",
    "the goal of a data visualization and a process that can be used to accomplish the goal.\n",
    "\n",
    "As mentioned in the introduction, the purpose of a visualization is to facilitate the communication\n",
    "of a message or idea.\n",
    "\n",
    "We have found the following steps to be useful for achieving this goal:\n",
    "\n",
    "1. Identify the message.  \n",
    "1. Describe your visualization.  \n",
    "1. Create a draft of the visualization (and verify your data!).  \n",
    "1. Fine tune the visualization details.  \n",
    "\n",
    "\n",
    "After discussing the role research plays in data visualization, we will use an example to provide\n",
    "deeper context for the remaining steps.\n",
    "\n",
    "**Step 0: Research**\n",
    "\n",
    "Before we proceed, note that prior to reaching this process, you will have spent\n",
    "a significant amount of time exploring the data and thinking about your overall message.\n",
    "\n",
    "In fact, during the research step, you will almost certainly produce visualizations to help yourself\n",
    "understand the data.\n",
    "\n",
    "These visualizations can highlight outliers or unlikely combinations of variables.\n",
    "\n",
    "For example, NYC publishes data on taxi pickups and dropoffs.\n",
    "\n",
    "One might expect tips to be somewhat independent of whether someone pays cash or credit, but\n",
    "the 75th percentile tip for cash payers is 0!\n",
    "\n",
    "Because it’s unlikely that cash payers choose not to tip, one likely explanation\n",
    "is a reporting issue in the data collection.\n",
    "\n",
    "The steps and guidelines that follow may be helpful in the research process, but refining each of your exploratory visualizations to a publishable version is not practical.\n",
    "Some of these recommendations will be specific to creating a visualization after you understand the story you’re telling."
   ]
  },
  {
   "cell_type": "markdown",
   "metadata": {
    "slideshow": {
     "slide_type": "slide"
    }
   },
   "source": [
    "### Example\n",
    "\n",
    "The output of this example will be a reproduction of a visualization from\n",
    "[this NYT article](https://www.nytimes.com/2019/01/11/upshot/big-cities-low-skilled-workers-wages.html).\n",
    "\n",
    "This NYT article is based on research done by David Autor <sup>[1](#ely)</sup> , an\n",
    "economist at MIT, and his co-authors.\n",
    "\n",
    "Autor’s research investigates the observable changes over time between work opportunities\n",
    "in rural and urban locations in the United States.\n",
    "\n",
    "This particular graph explores how both college-educated workers and non-college-educated workers were able\n",
    "to find higher-paying jobs by working in urban areas in the 20th century.\n",
    "\n",
    "More recently, this *city wage premium* is still apparent for those\n",
    "with college educations. However, for those without a college education, it has\n",
    "disappeared."
   ]
  },
  {
   "cell_type": "markdown",
   "metadata": {
    "slideshow": {
     "slide_type": "subslide"
    }
   },
   "source": [
    "#### Identify the Message\n",
    "\n",
    "The first step to creating a visualization might feel a little obvious, but is\n",
    "the most important step.\n",
    "\n",
    "If you fail to choose a concise message, then you won’t be able to clearly communicate the idea.\n",
    "\n",
    "In this example, we want people to be able to answer the question, “What happened to the\n",
    "rural/urban wage gap for non-college-educated workers since the 1950s?”.\n",
    "\n",
    "Part of what makes the answer interesting is that the wage gap changes are unique to non-college-educated workers; we will want to display changes in the wage gap for college-educated workers as well."
   ]
  },
  {
   "cell_type": "markdown",
   "metadata": {
    "slideshow": {
     "slide_type": "subslide"
    }
   },
   "source": [
    "#### Visualize\n",
    "\n",
    "Choosing the type of visualization that best illustrates your point is an important\n",
    "skill to develop.\n",
    "\n",
    "Using the wrong type of visualization can inhibit the flow of information from the\n",
    "graph to your audience’s brain.\n",
    "\n",
    "In our case, we need to display the relationship between population density (our measure of\n",
    "rural/urban) and wages for different years and education levels.\n",
    "\n",
    "Since the wage gap will be the main focus, we want to choose a visualization that highlights\n",
    "this aspect of the data.\n",
    "\n",
    "Scatter plots are one of the most effective ways to demonstrate the relationship of two\n",
    "variables.\n",
    "\n",
    "We will place the log of population density on the x-axis and the log of wages on the y-axis.\n",
    "\n",
    "We will then need to find a way to demonstrate this for different years and education levels.\n",
    "\n",
    "One natural solution is to demonstrate one of these variables using color and the other using\n",
    "different subplots.\n",
    "\n",
    "In the original article, they chose to highlight differences in college\n",
    "education using color and time using subplots."
   ]
  },
  {
   "cell_type": "markdown",
   "metadata": {
    "slideshow": {
     "slide_type": "subslide"
    }
   },
   "source": [
    "#### Visualization Draft\n",
    "\n",
    "Drafting an early version of your visualization without concerning yourself about its aesthetics allows you to think about whether it is able to answer the proposed question.\n",
    "\n",
    "Sometimes you’ll get to this step and realize that you need to go back to one of the previous\n",
    "steps…\n",
    "\n",
    "It’s ok to scrap what you have and restart at square one.\n",
    "\n",
    "In fact, you will frequently do this, no matter how much experience you’ve developed.\n",
    "\n",
    "In our own work, we’ve found that it’s not uncommon to discard ten or more versions of a graph before\n",
    "settling on a draft we are happy with.\n",
    "\n",
    "Below, we create a draft of our plot."
   ]
  },
  {
   "cell_type": "code",
   "execution_count": 11,
   "metadata": {
    "hide-output": false,
    "slideshow": {
     "slide_type": "-"
    }
   },
   "outputs": [
    {
     "data": {
      "image/png": "[encoded data removed]",
      "text/plain": [
       "<Figure size 1152x432 with 4 Axes>"
      ]
     },
     "metadata": {},
     "output_type": "display_data"
    }
   ],
   "source": [
    "# Read in data\n",
    "df = pd.read_csv(\"https://datascience.quantecon.org/assets/data/density_wage_data.csv\")\n",
    "df[\"year\"] = df.year.astype(int)  # Convert year to int\n",
    "\n",
    "\n",
    "def single_scatter_plot(df, year, educ, ax, color):\n",
    "    \"\"\"\n",
    "    This function creates a single year's and education level's\n",
    "    log density to log wage plot\n",
    "    \"\"\"\n",
    "    # Filter data to keep only the data of interest\n",
    "    _df = df.query(\"(year == @year) & (group == @educ)\")\n",
    "    _df.plot(\n",
    "        kind=\"scatter\", x=\"density_log\", y=\"wages_logs\", ax=ax, color=color\n",
    "    )\n",
    "\n",
    "    return ax\n",
    "\n",
    "# Create initial plot\n",
    "fig, ax = plt.subplots(1, 4, figsize=(16, 6), sharey=True)\n",
    "\n",
    "for (i, year) in enumerate(df.year.unique()):\n",
    "    single_scatter_plot(df, year, \"college\", ax[i], \"b\")\n",
    "    single_scatter_plot(df, year, \"noncollege\", ax[i], \"r\")\n",
    "    ax[i].set_title(str(year))"
   ]
  },
  {
   "cell_type": "markdown",
   "metadata": {
    "slideshow": {
     "slide_type": "subslide"
    }
   },
   "source": [
    "**Exercise 1**\n",
    "\n",
    "Create a draft of the alternative way to organize time and education -- that is, have two subplots (one for each education level) and four groups of points (one for each year).\n",
    "\n",
    "Why do you think they chose to organize the information as they did rather than this way?\n"
   ]
  },
  {
   "cell_type": "code",
   "execution_count": 12,
   "metadata": {
    "hide-output": false,
    "slideshow": {
     "slide_type": "-"
    }
   },
   "outputs": [],
   "source": [
    "# Your code here"
   ]
  },
  {
   "cell_type": "markdown",
   "metadata": {
    "slideshow": {
     "slide_type": "subslide"
    }
   },
   "source": [
    "#### Fine-tune\n",
    "\n",
    "Great! We have now confirmed that our decisions up until this point have made sense and that a\n",
    "version of this graphic can successfully convey our message.\n",
    "\n",
    "The last step is to clean the graph. We want to ensure that no features\n",
    "detract or distract from our message.\n",
    "\n",
    "Much of the remaining lecture will be dedicated to this fine-tuning, so we will post-pone\n",
    "presenting the details.  However, the code we use to create the best version of this graphic is included below."
   ]
  },
  {
   "cell_type": "code",
   "execution_count": 13,
   "metadata": {
    "hide-output": false,
    "scrolled": true,
    "slideshow": {
     "slide_type": "-"
    }
   },
   "outputs": [
    {
     "data": {
      "image/png": "[encoded data removed]",
      "text/plain": [
       "<Figure size 1152x432 with 4 Axes>"
      ]
     },
     "metadata": {},
     "output_type": "display_data"
    }
   ],
   "source": [
    "# Read in data\n",
    "df = pd.read_csv(\"https://datascience.quantecon.org/assets/data/density_wage_data.csv\")\n",
    "df[\"year\"] = df.year.astype(int)  # Convert year to int\n",
    "\n",
    "\n",
    "def single_scatter_plot(df, year, educ, ax, color):\n",
    "    \"\"\"\n",
    "    This function creates a single year's and education level's\n",
    "    log density to log wage plot\n",
    "    \"\"\"\n",
    "    # Filter data to keep only the data of interest\n",
    "    _df = df.query(\"(year == @year) & (group == @educ)\")\n",
    "    _df.plot(\n",
    "        kind=\"scatter\", x=\"density_log\", y=\"wages_logs\", ax=ax, color=color\n",
    "    )\n",
    "\n",
    "    return ax\n",
    "\n",
    "# Create initial plot\n",
    "fig, ax = plt.subplots(1, 4, figsize=(16, 6))\n",
    "colors = {\"college\": \"#1385ff\", \"noncollege\": \"#ff6d13\"}\n",
    "\n",
    "for (i, year) in enumerate(df.year.unique()):\n",
    "    single_scatter_plot(df, year, \"college\", ax[i], colors[\"college\"])\n",
    "    single_scatter_plot(df, year, \"noncollege\", ax[i], colors[\"noncollege\"])\n",
    "    ax[i].set_title(str(year))\n",
    "\n",
    "bgcolor = (250/255, 250/255, 250/255)\n",
    "fig.set_facecolor(bgcolor)\n",
    "for (i, _ax) in enumerate(ax):\n",
    "    # Label with words\n",
    "    if i == 0:\n",
    "        _ax.set_xlabel(\"Population Density\")\n",
    "    else:\n",
    "        _ax.set_xlabel(\"\")\n",
    "\n",
    "    # Turn off right and top axis lines\n",
    "    _ax.spines['right'].set_visible(False)\n",
    "    _ax.spines['top'].set_visible(False)\n",
    "\n",
    "    # Don't use such a white background color\n",
    "    _ax.set_facecolor(bgcolor)\n",
    "\n",
    "    # Change bounds\n",
    "    _ax.set_ylim((np.log(4), np.log(30)))\n",
    "    _ax.set_xlim((0, 10))\n",
    "\n",
    "    # Change ticks\n",
    "    xticks = [10, 100, 1000, 10000]\n",
    "    _ax.set_xticks([np.log(xi) for xi in xticks])\n",
    "    _ax.set_xticklabels([str(xi) for xi in xticks])\n",
    "\n",
    "    yticks = list(range(5, 32, 5))\n",
    "    _ax.set_yticks([np.log(yi) for yi in yticks])\n",
    "    if i == 0:\n",
    "        _ax.set_yticklabels([str(yi) for yi in yticks])\n",
    "        _ax.set_ylabel(\"Average Wage\")\n",
    "    else:\n",
    "        _ax.set_yticklabels([])\n",
    "        _ax.set_ylabel(\"\")\n",
    "\n",
    "ax[0].annotate(\"College Educated Workers\", (np.log(75), np.log(14.0)), color=colors[\"college\"])\n",
    "ax[0].annotate(\"Non-College Educated Workers\", (np.log(10), np.log(5.25)), color=colors[\"noncollege\"]);\n",
    "ax[0].set_zorder(1)"
   ]
  },
  {
   "cell_type": "markdown",
   "metadata": {
    "slideshow": {
     "slide_type": "slide"
    }
   },
   "source": [
    "## Visualization Types\n",
    "\n",
    "You have seen many kinds of visualizations throughout your life.\n",
    "\n",
    "We discuss a few of the most frequently used visualization types and how they describe data below.\n",
    "\n",
    "For a more complete list of visualization types, see the Duke library’s\n",
    "[data visualization guide](https://guides.library.duke.edu/datavis/vis_types)."
   ]
  },
  {
   "cell_type": "markdown",
   "metadata": {
    "slideshow": {
     "slide_type": "subslide"
    }
   },
   "source": [
    "### Scatter Plots\n",
    "\n",
    "Scatter plots can be used in various ways.\n",
    "\n",
    "They are frequently used to show how two variables are related to one another or compare\n",
    "various observations based on two variables.\n",
    "\n",
    "[This article](https://qz.com/1235712/the-origins-of-the-scatter-plot-data-visualizations-greatest-invention/)\n",
    "about the scatter plot is a good read. One piece of this article that stuck out to us was that, \"Edward Tuft once estimated that more than 70% of all charts in scientific publications are scatter plots.\"\n",
    "\n",
    "One strength of a scatter plot is that its simplicity allows the data to speak for itself.\n",
    "A plot of two variables allows viewers to immediately see whether the variables are\n",
    "linearly related, quadratically related, or maybe not related at all.\n",
    "\n",
    "We have already seen an example of a scatter plot which shows the relationship between two\n",
    "variables.\n",
    "\n",
    "Below, we demonstrate how it can be used to compare."
   ]
  },
  {
   "cell_type": "code",
   "execution_count": 14,
   "metadata": {
    "hide-output": false,
    "slideshow": {
     "slide_type": "-"
    }
   },
   "outputs": [
    {
     "data": {
      "image/png": "[encoded data removed]",
      "text/plain": [
       "<Figure size 432x288 with 1 Axes>"
      ]
     },
     "metadata": {},
     "output_type": "display_data"
    }
   ],
   "source": [
    "cities = [\n",
    "    \"San Francisco\", \"Austin\", \"Las Vegas\", \"New York\", \"Seattle\", \"Pittsburgh\",\n",
    "    \"Detroit\", \"Fresno\", \"Phoenix\", \"Orlando\", \"Atlanta\", \"Madison\"\n",
    "]\n",
    "unemp_wage = np.array([\n",
    "    [2.6, 39.89], [2.9, 29.97], [4.6, 24.38], [3.9, 33.09], [3.9, 40.11], [4.2, 27.98],\n",
    "    [4.1, 28.41], [7.1, 22.96], [4.5, 27.42], [3.0, 21.47], [3.6, 25.19], [2.2, 29.48]\n",
    "])\n",
    "df = pd.DataFrame(unemp_wage, index=cities, columns=[\"Unemployment\", \"Wage\"])\n",
    "\n",
    "fig, ax = plt.subplots()\n",
    "df.plot(kind=\"scatter\", x=\"Unemployment\", y=\"Wage\", ax=ax, s=25, color=\"#c90000\")\n",
    "\n",
    "# Add annotations\n",
    "for (i, row) in df.iterrows():\n",
    "    city = row.name\n",
    "\n",
    "    if city in [\"San Francisco\", \"Madison\"]:\n",
    "        offset = (-35, -10.5)\n",
    "    elif city in [\"Atlanta\", \"Phoenix\", \"Madison\"]:\n",
    "        offset = (-25, -12.5)\n",
    "    elif city in [\"Detroit\"]:\n",
    "        offset = (-38, 0)\n",
    "    elif city in [\"Pittsburgh\"]:\n",
    "        offset = (5, 0)\n",
    "    else:\n",
    "        offset = (5, 2.5)\n",
    "    ax.annotate(\n",
    "        city, xy=(row[\"Unemployment\"], row[\"Wage\"]),\n",
    "        xytext=offset, textcoords=\"offset points\"\n",
    "    )\n",
    "\n",
    "bgcolor = (250/255, 250/255, 250/255)\n",
    "fig.set_facecolor(bgcolor)\n",
    "ax.set_facecolor(bgcolor)\n",
    "ax.set_xlim(0, 10)\n",
    "ax.set_ylim(20, 45)\n",
    "ax.spines['right'].set_visible(True)\n",
    "ax.spines['top'].set_visible(True)"
   ]
  },
  {
   "cell_type": "markdown",
   "metadata": {
    "slideshow": {
     "slide_type": "subslide"
    }
   },
   "source": [
    "### Line Plots\n",
    "\n",
    "Line plots are best used to either show how a variable evolves over time or to demonstrate the\n",
    "relationship between variables.\n",
    "\n",
    "Note: it differs from scatter plots in the way it displays relationships between variables.\n",
    "\n",
    "A line plot is restricted to displaying a line, so you cannot just draw a line between all of your\n",
    "datapoints.\n",
    "\n",
    "Instead, before drawing the line, you must fit some kind of statistical model that can\n",
    "show how one variable changes as the other changes.\n",
    "\n",
    "Below, we add regression lines which estimate the relationship between population density and wages to\n",
    "our college/non-college urban wage premium plot.\n",
    "\n",
    "In fact, Dr. Autor’s original slides contain regression lines, but the New York Times\n",
    "chose to remove them."
   ]
  },
  {
   "cell_type": "code",
   "execution_count": 15,
   "metadata": {
    "hide-output": false,
    "scrolled": true
   },
   "outputs": [
    {
     "data": {
      "image/png": "[encoded data removed]",
      "text/plain": [
       "<Figure size 1152x432 with 4 Axes>"
      ]
     },
     "metadata": {},
     "output_type": "display_data"
    }
   ],
   "source": [
    "from sklearn.linear_model import LinearRegression\n",
    "\n",
    "# Read in data\n",
    "df = pd.read_csv(\"https://datascience.quantecon.org/assets/data/density_wage_data.csv\")\n",
    "df[\"year\"] = df.year.astype(int)  # Convert year to int\n",
    "\n",
    "\n",
    "def single_scatter_plot(df, year, educ, ax, color):\n",
    "    \"\"\"\n",
    "    This function creates a single year's and education level's\n",
    "    log density to log wage plot\n",
    "    \"\"\"\n",
    "    # Filter data to keep only the data of interest\n",
    "    _df = df.query(\"(year == @year) & (group == @educ)\")\n",
    "    _df.plot(\n",
    "        kind=\"scatter\", x=\"density_log\", y=\"wages_logs\", ax=ax, color=color\n",
    "    )\n",
    "\n",
    "    lr = LinearRegression()\n",
    "    X = _df[\"density_log\"].values.reshape(-1, 1)\n",
    "    y = _df[\"wages_logs\"].values.reshape(-1, 1)\n",
    "    lr.fit(X, y)\n",
    "\n",
    "    x = np.linspace(2.0, 9.0).reshape(-1, 1)\n",
    "    y_pred = lr.predict(x)\n",
    "    ax.plot(x, y_pred, color=color)\n",
    "\n",
    "    return ax\n",
    "\n",
    "# Create initial plot\n",
    "fig, ax = plt.subplots(1, 4, figsize=(16, 6))\n",
    "colors = {\"college\": \"#1385ff\", \"noncollege\": \"#ff6d13\"}\n",
    "\n",
    "for (i, year) in enumerate(df.year.unique()):\n",
    "    single_scatter_plot(df, year, \"college\", ax[i], colors[\"college\"])\n",
    "    single_scatter_plot(df, year, \"noncollege\", ax[i], colors[\"noncollege\"])\n",
    "    ax[i].set_title(str(year))\n",
    "\n",
    "bgcolor = (250/255, 250/255, 250/255)\n",
    "fig.set_facecolor(bgcolor)\n",
    "for (i, _ax) in enumerate(ax):\n",
    "    # Label with words\n",
    "    if i == 0:\n",
    "        _ax.set_xlabel(\"Population Density\")\n",
    "    else:\n",
    "        _ax.set_xlabel(\"\")\n",
    "\n",
    "    # Turn off right and top axis lines\n",
    "    _ax.spines['right'].set_visible(False)\n",
    "    _ax.spines['top'].set_visible(False)\n",
    "\n",
    "    # Don't use such a white background color\n",
    "    _ax.set_facecolor(bgcolor)\n",
    "\n",
    "    # Change bounds\n",
    "    _ax.set_ylim((np.log(4), np.log(30)))\n",
    "    _ax.set_xlim((0, 10))\n",
    "\n",
    "    # Change ticks\n",
    "    xticks = [10, 100, 1000, 10000]\n",
    "    _ax.set_xticks([np.log(xi) for xi in xticks])\n",
    "    _ax.set_xticklabels([str(xi) for xi in xticks])\n",
    "\n",
    "    yticks = list(range(5, 32, 5))\n",
    "    _ax.set_yticks([np.log(yi) for yi in yticks])\n",
    "    if i == 0:\n",
    "        _ax.set_yticklabels([str(yi) for yi in yticks])\n",
    "        _ax.set_ylabel(\"Average Wage\")\n",
    "    else:\n",
    "        _ax.set_yticklabels([])\n",
    "        _ax.set_ylabel(\"\")\n",
    "\n",
    "ax[0].annotate(\"College Educated Workers\", (np.log(75), np.log(14.0)), color=colors[\"college\"])\n",
    "ax[0].annotate(\"Non-College Educated Workers\", (np.log(10), np.log(5.25)), color=colors[\"noncollege\"])\n",
    "ax[0].set_zorder(1)"
   ]
  },
  {
   "cell_type": "markdown",
   "metadata": {},
   "source": [
    "### Bar Charts\n",
    "\n",
    "Bar charts are mostly used to display differences for a variable between groups though they can also\n",
    "be used to show how a variable changes over time (which in some ways, is just showing a difference as grouped by time…).\n",
    "\n",
    "Bar charts show the differences between these groups using the length of each bar, so that comparing the different groups is straightforward.\n",
    "\n",
    "In the example below, we show a bar chart of how the unemployment rate differs across several cities\n",
    "in the United States."
   ]
  },
  {
   "cell_type": "code",
   "execution_count": 16,
   "metadata": {
    "hide-output": false
   },
   "outputs": [
    {
     "data": {
      "text/plain": [
       "Text(0.5, 1.0, 'Unemployment Rate in US Cities')"
      ]
     },
     "execution_count": 16,
     "metadata": {},
     "output_type": "execute_result"
    },
    {
     "data": {
      "image/png": "[encoded data removed]",
      "text/plain": [
       "<Figure size 432x288 with 1 Axes>"
      ]
     },
     "metadata": {},
     "output_type": "display_data"
    }
   ],
   "source": [
    "cities = [\n",
    "    \"San Francisco\", \"Austin\", \"Las Vegas\", \"New York\", \"Seattle\", \"Pittsburgh\",\n",
    "    \"Detroit\", \"Fresno\", \"Phoenix\", \"Orlando\", \"Atlanta\", \"Madison\"\n",
    "]\n",
    "unemp_wage = np.array([\n",
    "    [2.6, 39.89], [2.9, 29.97], [4.6, 24.38], [3.9, 33.09], [3.9, 40.11], [4.2, 27.98],\n",
    "    [4.1, 28.41], [7.1, 22.96], [4.5, 27.42], [3.0, 21.47], [3.6, 25.19], [2.2, 29.48]\n",
    "])\n",
    "df = pd.DataFrame(unemp_wage, index=cities, columns=[\"Unemployment\", \"Wage\"])\n",
    "df = df.sort_values([\"Unemployment\"], ascending=False)\n",
    "\n",
    "fig, ax = plt.subplots()\n",
    "\n",
    "df[\"Unemployment\"].plot(kind=\"barh\", ax=ax, color=\"#1b48fc\")\n",
    "ax.spines['right'].set_visible(False)\n",
    "ax.spines['top'].set_visible(False)\n",
    "ax.set_title(\"Unemployment Rate in US Cities\")"
   ]
  },
  {
   "cell_type": "markdown",
   "metadata": {
    "slideshow": {
     "slide_type": "subslide"
    }
   },
   "source": [
    "### Histograms\n",
    "\n",
    "Histograms display the approximate distribution of a single variable.\n",
    "\n",
    "They can be particularly important when your variables are not distributed normally\n",
    "since we typically think of means and variances in terms of the normal distribution.\n",
    "\n",
    "In the example below, we show a histogram of GDP growth rates over the period 1948 - 2019.\n",
    "\n",
    "Our histogram indicates this variable is approximately normally distributed."
   ]
  },
  {
   "cell_type": "code",
   "execution_count": 17,
   "metadata": {
    "hide-output": false,
    "slideshow": {
     "slide_type": "-"
    }
   },
   "outputs": [
    {
     "data": {
      "text/plain": [
       "Text(0.5, 1.0, 'US GDP Growth from 1948-2019')"
      ]
     },
     "execution_count": 17,
     "metadata": {},
     "output_type": "execute_result"
    },
    {
     "data": {
      "image/png": "[encoded data removed]",
      "text/plain": [
       "<Figure size 432x288 with 1 Axes>"
      ]
     },
     "metadata": {},
     "output_type": "display_data"
    }
   ],
   "source": [
    "# GDP quarterly growth\n",
    "gdp = DataReader(\"GDP\", \"fred\", 1948, 2019).pct_change().dropna()\n",
    "gdp = gdp * 100\n",
    "\n",
    "fig, ax = plt.subplots()\n",
    "gdp.plot(\n",
    "    kind=\"hist\", y=\"GDP\", color=(244/255, 77/255, 24/255),\n",
    "    bins=23, legend=False, density=True, ax=ax\n",
    ")\n",
    "ax.set_facecolor((0.96, 0.96, 0.96))\n",
    "fig.set_facecolor((0.96, 0.96, 0.96))\n",
    "ax.spines['right'].set_visible(False)\n",
    "ax.spines['top'].set_visible(False)\n",
    "ax.set_title(\"US GDP Growth from 1948-2019\")"
   ]
  },
  {
   "cell_type": "markdown",
   "metadata": {
    "slideshow": {
     "slide_type": "slide"
    }
   },
   "source": [
    "## Color in Plots\n",
    "\n",
    "Choosing colors for your plots is not always a straightforward task.\n",
    "\n",
    "Visualization expert Edward Tufte <https://www.edwardtufte.com/tufte/> wrote,\n",
    "\n",
    "> … Avoiding catastrophe becomes the first principle in bringing color to information: Above\n",
    "all, do no harm ([*Envisioning Information*](https://www.edwardtufte.com/tufte/books_ei) by Edward Tufte)\n",
    "\n",
    "\n",
    "So how do we “do no harm”?"
   ]
  },
  {
   "cell_type": "markdown",
   "metadata": {
    "slideshow": {
     "slide_type": "subslide"
    }
   },
   "source": [
    "### Hue Saturation Lightness\n",
    "\n",
    "We will use the [Hue Saturation Value](https://en.wikipedia.org/wiki/HSL_and_HSV) (HSV) paradigm as a way to formalize our discussion of colors.\n",
    "\n",
    "- **Hue**: This represents the share of each of the primary colors (red, green, blue)\n",
    "  as angles around a circle. The hue begins with red at 0 degrees, green at 120\n",
    "  degrees, and blue at 240 degrees (Note: matplotlib converts these back into numbers between 0 and\n",
    "  1 by dividing by 360). Angles between these colors are mixes of the primary colors.  \n",
    "- **Saturation**: Denotes how rich the color is using numbers between 0 and 1. At full saturation\n",
    "  (saturation is 1), the color is as rich as possible. At saturation 0, the color has no\n",
    "  color and is approximately a projection of the color into grayscale (Note that this is not\n",
    "  exactly true).  \n",
    "- **Value**: Denotes how dark the color is using numbers between 0 and 1. We view this as how much black\n",
    "  has been added to a color. If a color has value 0, then it is as dark as possible (the\n",
    "  color black). If the color has value 1 then it has no black and is just the original color.  \n",
    "\n",
    "\n",
    "The way in which HSV covers the color space is demonstrated in the following figure.\n",
    "\n",
    "<img src=\"https://datascience.quantecon.org/assets/_static/visualization_files/HSV_color_solid_cylinder_saturation_gray.png\" alt=\"HSL_cylinder.png\" style=\"\" width=\"500\">\n",
    "\n",
    "  \n",
    "Image attribution: By [SharkD](https://commons.wikimedia.org/w/index.php?curid=9801673).\n",
    "\n",
    "Below, we demonstrate how colors change as we move hue/saturation/value one at a time."
   ]
  },
  {
   "cell_type": "code",
   "execution_count": null,
   "metadata": {
    "hide-output": false,
    "slideshow": {
     "slide_type": "fragment"
    }
   },
   "outputs": [],
   "source": [
    "def color_swatches(colors):\n",
    "\n",
    "    ncolors = len(colors)\n",
    "    fig, ax = plt.subplots(figsize=(ncolors*2, 2))\n",
    "\n",
    "    for (start_x, color) in enumerate(colors):\n",
    "        color_rect = patches.Rectangle((start_x, 0), 1, 1, color=color)\n",
    "        ax.add_patch(color_rect)\n",
    "\n",
    "    ax.set_xlim(0, len(colors))\n",
    "    ax.set_ylim(0, 1)\n",
    "    ax.set_yticks([])\n",
    "    ax.set_yticklabels([])\n",
    "    ax.set_xticks([])\n",
    "    ax.set_xticklabels([])\n",
    "\n",
    "    return fig"
   ]
  },
  {
   "cell_type": "code",
   "execution_count": null,
   "metadata": {
    "hide-output": false,
    "slideshow": {
     "slide_type": "-"
    }
   },
   "outputs": [],
   "source": [
    "# Vary hue\n",
    "colors = [mplc.hsv_to_rgb((i/360, 1, 1)) for i in np.linspace(0, 360, 6)]\n",
    "fig = color_swatches(colors)\n",
    "fig.suptitle(\"Varying Hue\")"
   ]
  },
  {
   "cell_type": "code",
   "execution_count": null,
   "metadata": {
    "hide-output": false,
    "slideshow": {
     "slide_type": "fragment"
    }
   },
   "outputs": [],
   "source": [
    "# Vary saturation\n",
    "colors = [mplc.hsv_to_rgb((0, i, 1)) for i in np.linspace(0, 1, 5)]\n",
    "fig = color_swatches(colors)\n",
    "fig.suptitle(\"Varying Saturation\")"
   ]
  },
  {
   "cell_type": "code",
   "execution_count": null,
   "metadata": {
    "hide-output": false,
    "slideshow": {
     "slide_type": "fragment"
    }
   },
   "outputs": [],
   "source": [
    "# Vary value\n",
    "colors = [mplc.hsv_to_rgb((0.0, 1, i)) for i in np.linspace(0, 1, 5)]\n",
    "fig = color_swatches(colors)\n",
    "fig.suptitle(\"Varying Value\")"
   ]
  },
  {
   "cell_type": "markdown",
   "metadata": {
    "slideshow": {
     "slide_type": "subslide"
    }
   },
   "source": [
    "### Color Palettes\n",
    "\n",
    "A good color palette will exploit aspects of hue, saturation, and value to emphasize the information\n",
    "in the data visualization.\n",
    "\n",
    "For example, for qualitatively different groups (where we just want to identify separate groups\n",
    "which have no quantitative relationships between them), one could fix\n",
    "the saturation and value then draw $ N $ evenly spaced values from hue space.\n",
    "\n",
    "However, creating a good color palette sometimes requires more nuance than can be attributed to\n",
    "rules of thumb.\n",
    "\n",
    "Luckily, matplotlib and other Python packages can help us choose good color\n",
    "palettes. Often, relying on these pre-built color palettes and\n",
    "themes is better than than creating your own.\n",
    "\n",
    "We can get a list of all of the color palettes (referred to as colormaps by matplotlib) included\n",
    "with matplotlib by doing:"
   ]
  },
  {
   "cell_type": "code",
   "execution_count": null,
   "metadata": {
    "hide-output": false,
    "slideshow": {
     "slide_type": "-"
    }
   },
   "outputs": [],
   "source": [
    "print(plt.colormaps())"
   ]
  },
  {
   "cell_type": "markdown",
   "metadata": {
    "slideshow": {
     "slide_type": "subslide"
    }
   },
   "source": [
    "The [matplotlib documentation](https://matplotlib.org/tutorials/colors/colormaps.html)\n",
    "differentiates between colormaps used for varying purposes.\n",
    "\n",
    "Colormaps are often split into several categories based on their function (see, e.g., [Moreland]):\n",
    "\n",
    "- Sequential: incrementally change lightness and often saturation of color,\n",
    "  generally using a single hue; should be used for representing information that has ordering.  \n",
    "- Diverging: change lightness and possibly saturation of two different\n",
    "  colors that meet in the middle at an unsaturated color; should be used when the\n",
    "  information being plotted has a critical middle value, such as topography or\n",
    "  when the data deviates around zero.  \n",
    "- Cyclic: change lightness of two different colors that meet in\n",
    "  the middle and beginning/end at an unsaturated color; should be used for\n",
    "  values that wrap around at the endpoints, such as phase angle, wind direction, or time of day.  \n",
    "- Qualitative: often are miscellaneous colors; should be used to represent\n",
    "  information which does not have ordering or relationships.  \n",
    "\n",
    "\n",
    "Most of the examples we have used so far can use qualitative colormaps because they are simply\n",
    "meant to distinguish between different variables/observations and not say something about how they\n",
    "differ.\n",
    "\n",
    "Additionally, three other sources of information on colors and color palettes are:\n",
    "\n",
    "- The [seaborn documentation](https://seaborn.pydata.org/tutorial/color_palettes.html).  \n",
    "- A [talk](https://www.youtube.com/watch?v=xAoljeRJ3lU) given at the Scipy conference in 2015 by\n",
    "  Nathaniel Smith.  \n",
    "- A [website](https://colorusage.arc.nasa.gov/graphics_page_design.php) literally put together by\n",
    "  “rocket scientists” at NASA.  "
   ]
  },
  {
   "cell_type": "markdown",
   "metadata": {
    "slideshow": {
     "slide_type": "subslide"
    }
   },
   "source": [
    "### Do No Harm\n",
    "\n",
    "Now that we have a little background that we can use as a common language, we can proceed with\n",
    "discussing how we can use color effectively."
   ]
  },
  {
   "cell_type": "markdown",
   "metadata": {
    "slideshow": {
     "slide_type": "subslide"
    }
   },
   "source": [
    "#### Sometimes Value is More Effective than Hue\n",
    "\n",
    "Sometimes, in a graph with many lines, using the same color with different values is a more effective way to highlight differences than using different colors.\n",
    "\n",
    "Compare the following example, which is a modification of an example by Larry Arend, Alex Logan, and\n",
    "Galina Havin’s [graphics website](https://colorusage.arc.nasa.gov/graphics_page_design.php) (the NASA one we linked above)."
   ]
  },
  {
   "cell_type": "code",
   "execution_count": null,
   "metadata": {
    "hide-output": false,
    "slideshow": {
     "slide_type": "fragment"
    }
   },
   "outputs": [],
   "source": [
    "def confusing_plot(colors):\n",
    "\n",
    "    c1, c2, c3 = colors\n",
    "\n",
    "    fig, ax = plt.subplots()\n",
    "\n",
    "    x1 = np.linspace(0.2, 0.9, 5)\n",
    "    x2 = np.linspace(0.3, 0.8, 5)\n",
    "\n",
    "    ax.text(0.4, 0.10, \"Not Important\", color=c3, fontsize=15)\n",
    "    ax.text(0.25, 0.25, \"Not Important\", color=c3, fontsize=15)\n",
    "    ax.text(0.5, 0.70, \"Not Important\", color=c3, fontsize=15)\n",
    "    ax.plot(x1, 1.25*x1 - 0.2, color=c3, linewidth=2)\n",
    "    ax.plot(x1, 1.25*x1 + 0.1, color=c3, linewidth=2)\n",
    "    ax.plot(x1, 0*x1 + 0.3, color=c3, linewidth=2)\n",
    "    ax.plot(x2, 0.15*x1 + 0.4, color=c2, linewidth=3)\n",
    "    ax.plot(x1, -x1 + 1.2, color=c2, linewidth=3)\n",
    "    ax.plot(x1, -x1 + 1.25, color=c2, linewidth=3)\n",
    "    ax.text(0.10, 0.5, \"Second order\", color=c2, fontsize=22)\n",
    "    ax.text(0.5, 0.35, \"Second order\", color=c2, fontsize=22)\n",
    "    ax.text(0.40, 0.65, \"Second order\", color=c2, fontsize=22)\n",
    "    ax.plot(x2, 0.25*x1 + 0.1, color=c1, linewidth=5)\n",
    "    ax.text(0.05, 0.4, \"Important\", color=c1, fontsize=34)\n",
    "\n",
    "    ax.set_xlim(0, 1)\n",
    "    ax.set_ylim(0, 1)\n",
    "\n",
    "    return fig"
   ]
  },
  {
   "cell_type": "code",
   "execution_count": null,
   "metadata": {
    "hide-output": false,
    "slideshow": {
     "slide_type": "fragment"
    }
   },
   "outputs": [],
   "source": [
    "# All black\n",
    "colors = [mplc.hsv_to_rgb((0, 1, x)) for x in [0.0, 0.0, 0.0]]\n",
    "fig = confusing_plot(colors)"
   ]
  },
  {
   "cell_type": "code",
   "execution_count": null,
   "metadata": {
    "hide-output": false,
    "slideshow": {
     "slide_type": "fragment"
    }
   },
   "outputs": [],
   "source": [
    "# Vary the hues\n",
    "colors = [mplc.hsv_to_rgb((x, 1, 1)) for x in [0.0, 0.33, 0.66]]\n",
    "fig = confusing_plot(colors)"
   ]
  },
  {
   "cell_type": "code",
   "execution_count": null,
   "metadata": {
    "hide-output": false,
    "slideshow": {
     "slide_type": "fragment"
    }
   },
   "outputs": [],
   "source": [
    "# Vary the values\n",
    "colors = [mplc.hsv_to_rgb((0, 0, x)) for x in [0.00, 0.35, 0.7]]\n",
    "fig = confusing_plot(colors)"
   ]
  },
  {
   "cell_type": "markdown",
   "metadata": {
    "slideshow": {
     "slide_type": "-"
    }
   },
   "source": [
    "In our opinion, the last one with no color is actually the most readable.\n",
    "\n",
    "The point of this exercise is **not** to not use color in your plots, but rather to\n",
    "encourage you to think about whether hue or value will be more effective in\n",
    "communicating your message."
   ]
  },
  {
   "cell_type": "markdown",
   "metadata": {
    "slideshow": {
     "slide_type": "subslide"
    }
   },
   "source": [
    "#### Carelessness with Value Can Make Grayscale Impossible to Read\n",
    "\n",
    "Recall that driving the saturation to 0 is approximately equivalent to projecting the colors\n",
    "onto grayscale.\n",
    "\n",
    "Well, if you aren’t careful in choosing your colors, then they may have the same projected\n",
    "values and become unidentifiable once converted to grayscale.\n",
    "\n",
    "This code is based on an [example](https://matplotlib.org/gallery/statistics/barchart_demo.html#barchart-demo)\n",
    "from the matplotlib documentation."
   ]
  },
  {
   "cell_type": "code",
   "execution_count": 9,
   "metadata": {
    "hide-output": false,
    "slideshow": {
     "slide_type": "-"
    }
   },
   "outputs": [
    {
     "data": {
      "image/png": "[encoded data removed]",
      "text/plain": [
       "<Figure size 432x288 with 1 Axes>"
      ]
     },
     "metadata": {
      "needs_background": "light"
     },
     "output_type": "display_data"
    }
   ],
   "source": [
    "n_groups = 5\n",
    "\n",
    "means_men = (20, 35, 30, 35, 27)\n",
    "means_women = (25, 32, 34, 20, 25)\n",
    "\n",
    "fig, ax = plt.subplots()\n",
    "\n",
    "index = np.arange(n_groups)\n",
    "bar_width = 0.35\n",
    "\n",
    "color_men = mplc.hsv_to_rgb((0.66, 0.35, 0.9))\n",
    "rects1 = ax.bar(\n",
    "    index, means_men, bar_width, color=color_men, label='men'\n",
    ")\n",
    "\n",
    "color_women = mplc.hsv_to_rgb((0.10, 0.65, 0.85))\n",
    "rects2 = ax.bar(\n",
    "    index + bar_width, means_women, bar_width, color=color_women, label='women'\n",
    ")\n",
    "\n",
    "ax.set_xlabel('group')\n",
    "ax.set_ylabel('scores')\n",
    "ax.set_title('scores by group and gender')\n",
    "ax.set_xticks(index + bar_width / 2)\n",
    "ax.set_xticklabels(('a', 'b', 'c', 'd', 'e'))\n",
    "ax.legend()\n",
    "\n",
    "fig.tight_layout()"
   ]
  },
  {
   "cell_type": "markdown",
   "metadata": {
    "slideshow": {
     "slide_type": "fragment"
    }
   },
   "source": [
    "And here is the same image converted to grayscale.\n",
    "\n",
    "<img src=\"https://datascience.quantecon.org/assets/_static/visualization_files/bar_grayscale.png\" alt=\"bar_grayscale.png\" style=\"\">\n",
    "\n",
    "  \n",
    "The image below, from [this flowingdata blog entry](https://flowingdata.com/2012/11/09/incredibly-divided-nation-in-a-map),\n",
    "shows what happens when you don’t check your colors… Don’t do this.\n",
    "\n",
    "<img src=\"https://datascience.quantecon.org/assets/_static/visualization_files/Divided-nation.jpg\" alt=\"Divided-nation.jpg\" style=\"\">\n",
    "\n",
    "  \n",
    "Warm colors (colors like red, yellow, and orange) often appear lighter than cool colors (colors\n",
    "like blue, green and purple) when converted to grayscale even when they have similar values.\n",
    "Sometimes to know whether colors are different enough, you just have to test it out."
   ]
  },
  {
   "cell_type": "markdown",
   "metadata": {
    "slideshow": {
     "slide_type": "subslide"
    }
   },
   "source": [
    "#### Use Color to Draw Attention\n",
    "\n",
    "If you are displaying information about various groups but are really only interested in how one\n",
    "group differs from the others, then you should choose several close-together hues to represent the less\n",
    "important groups and a distinct color to display the group of interest."
   ]
  },
  {
   "cell_type": "code",
   "execution_count": null,
   "metadata": {
    "hide-output": false,
    "slideshow": {
     "slide_type": "-"
    }
   },
   "outputs": [],
   "source": [
    "fig, ax = plt.subplots()\n",
    "\n",
    "npts = 50\n",
    "x = np.linspace(0, 1, npts)\n",
    "\n",
    "np.random.seed(42)  # Set seed for reproducibility\n",
    "y1 = 1.20 + 0.75*x + 0.25*np.random.randn(npts)\n",
    "y2 = 1.35 + 0.50*x + 0.25*np.random.randn(npts)\n",
    "y3 = 1.40 + 0.65*x + 0.25*np.random.randn(npts)\n",
    "y4 = 0.15 + 3.0*x + 0.15*np.random.randn(npts)  # Group of interest\n",
    "\n",
    "colors = [mplc.hsv_to_rgb((x, 0.4, 0.85)) for x in [0.40, 0.50, 0.60]]\n",
    "colors.append(mplc.hsv_to_rgb((0.0, 0.85, 1.0)))\n",
    "\n",
    "for (y, c) in zip([y1, y2, y3, y4], colors):\n",
    "    ax.scatter(x=x, y=y, color=c, s=36)\n",
    "\n",
    "ax.text(0.25, 0.5, \"Group of Interest\", color=colors[-1])\n",
    "ax.spines['right'].set_visible(False)\n",
    "ax.spines['top'].set_visible(False)"
   ]
  },
  {
   "cell_type": "markdown",
   "metadata": {
    "slideshow": {
     "slide_type": "subslide"
    }
   },
   "source": [
    "#### Don’t Use Color to Differentiate Small Objects\n",
    "\n",
    "Color is a great differentiator when there is enough of the colored object to see… However, when the objects\n",
    "become too small, differentiating between colors, no matter how distinct, becomes quite difficult.\n",
    "\n",
    "Below is the same plot as we had above, but we have made the scatter plot’s points smaller."
   ]
  },
  {
   "cell_type": "code",
   "execution_count": null,
   "metadata": {
    "hide-output": false,
    "slideshow": {
     "slide_type": "-"
    }
   },
   "outputs": [],
   "source": [
    "fig, ax = plt.subplots()\n",
    "\n",
    "npts = 50\n",
    "x = np.linspace(0, 1, npts)\n",
    "\n",
    "np.random.seed(42)  # Set seed for reproducibility\n",
    "y1 = 1.20 + 0.75*x + 0.25*np.random.randn(npts)\n",
    "y2 = 1.35 + 0.50*x + 0.25*np.random.randn(npts)\n",
    "y3 = 1.40 + 0.65*x + 0.25*np.random.randn(npts)\n",
    "y4 = 0.15 + 3.0*x + 0.15*np.random.randn(npts)  # Group of interest\n",
    "\n",
    "colors = [mplc.hsv_to_rgb((x, 0.4, 0.85)) for x in [0.40, 0.50, 0.60]]\n",
    "colors.append(mplc.hsv_to_rgb((0.0, 0.85, 1.0)))\n",
    "\n",
    "for (y, c) in zip([y1, y2, y3, y4], colors):\n",
    "    ax.scatter(x=x, y=y, color=c, s=1)\n",
    "\n",
    "ax.text(0.25, 0.5, \"Group of Interest\", color=colors[-1])\n",
    "ax.spines['right'].set_visible(False)\n",
    "ax.spines['top'].set_visible(False)"
   ]
  },
  {
   "cell_type": "markdown",
   "metadata": {
    "slideshow": {
     "slide_type": "-"
    }
   },
   "source": [
    "It becomes harder to read, but because the red is so much darker than some of the other colors,\n",
    "finding the group of interest is still possible (a lesson to be learned here!)."
   ]
  },
  {
   "cell_type": "markdown",
   "metadata": {
    "slideshow": {
     "slide_type": "subslide"
    }
   },
   "source": [
    "#### Colors’ Connotations\n",
    "\n",
    "Some colors have connotations.\n",
    "\n",
    "Using colors to mean the opposite of what they’re usually used for can be confusing.\n",
    "\n",
    "For example, using red to denote positive profits and black to denote negative profits would be\n",
    "a poor color choice because red is often associated with losses and black is associated with profits."
   ]
  },
  {
   "cell_type": "code",
   "execution_count": null,
   "metadata": {
    "hide-output": false,
    "slideshow": {
     "slide_type": "-"
    }
   },
   "outputs": [],
   "source": [
    "df = pd.DataFrame(\n",
    "    {\"profits\": [1.5, 2.5, 3.5, -6.7, -2.0, 1.0]},\n",
    "    index=[2005, 2006, 2007, 2008, 2009, 2010]\n",
    ")"
   ]
  },
  {
   "cell_type": "code",
   "execution_count": null,
   "metadata": {
    "hide-output": false,
    "slideshow": {
     "slide_type": "-"
    }
   },
   "outputs": [],
   "source": [
    "fig, ax = plt.subplots()\n",
    "\n",
    "colors = [\"k\" if x < 0 else \"r\" for x in df[\"profits\"].values]\n",
    "bars = ax.bar(np.arange(len(colors)), df[\"profits\"].values, color=colors, alpha=0.8)\n",
    "ax.hlines(0, -1.0, 6.0)\n",
    "\n",
    "ax.set_xticks([0, 1, 2, 3, 4, 5])\n",
    "ax.set_xticklabels([x for x in df.index])\n",
    "\n",
    "ax.set_xlim(-0.5, 5.5)\n",
    "ax.set_title(\"Profits for Company X\")\n",
    "\n",
    "ax.xaxis.set_ticks_position('none')\n",
    "ax.yaxis.set_ticks_position('none')\n",
    "\n",
    "for _spine in [\"right\", \"top\", \"left\", \"bottom\"]:\n",
    "    ax.spines[_spine].set_visible(False)"
   ]
  },
  {
   "cell_type": "markdown",
   "metadata": {
    "slideshow": {
     "slide_type": "subslide"
    }
   },
   "source": [
    "This plot becomes much more intuitive by using red for negative values."
   ]
  },
  {
   "cell_type": "code",
   "execution_count": null,
   "metadata": {
    "hide-output": false,
    "slideshow": {
     "slide_type": "-"
    }
   },
   "outputs": [],
   "source": [
    "fig, ax = plt.subplots()\n",
    "\n",
    "colors = [\"r\" if x < 0 else \"k\" for x in df[\"profits\"].values]\n",
    "bars = ax.bar(np.arange(len(colors)), df[\"profits\"].values, color=colors, alpha=0.8)\n",
    "ax.hlines(0, -1.0, 6.0)\n",
    "ax.set_xticks([0, 1, 2, 3, 4, 5])\n",
    "ax.set_xticklabels(df.index)\n",
    "\n",
    "ax.set_xlim(-0.5, 5.5)\n",
    "ax.set_title(\"Profits for Company X\")\n",
    "\n",
    "ax.xaxis.set_ticks_position('none')\n",
    "ax.yaxis.set_ticks_position('none')\n",
    "\n",
    "for _spine in [\"right\", \"top\", \"left\", \"bottom\"]:\n",
    "    ax.spines[_spine].set_visible(False)"
   ]
  },
  {
   "cell_type": "markdown",
   "metadata": {
    "slideshow": {
     "slide_type": "subslide"
    }
   },
   "source": [
    "#### Accounting for Color Blindness\n",
    "\n",
    "Nearly 1 in 10 men have some form of color blindness.\n",
    "\n",
    "The most prevalent form makes differentiating between red\n",
    "and green difficult.\n",
    "\n",
    "So, besides making your plots feel “Christmas-themed”, using both red and green to illustrate differences in a plot can often make your visualization difficult for some to follow.\n",
    "\n",
    "Some Python libraries allow you to simulate different forms of color blindness or choose\n",
    "sensible defaults for colors.\n",
    "\n",
    "We recommend viewing the documentation for\n",
    "[colorspacious](https://colorspacious.readthedocs.io/en/latest/tutorial.html#simulating-colorblindness)\n",
    "and [viscm](https://github.com/matplotlib/viscm)."
   ]
  },
  {
   "cell_type": "markdown",
   "metadata": {
    "slideshow": {
     "slide_type": "slide"
    }
   },
   "source": [
    "## Visualization Rules\n",
    "\n",
    "We have already discussed some guidelines for color.\n",
    "\n",
    "We will now discuss some guidelines for which elements to include and how to structure your graphs.\n",
    "\n",
    "Violating each of these may make sense in particular situations, but please have a\n",
    "good reason (and one you can explain when someone points out what you’ve done).\n",
    "\n",
    "The main theme for these guidelines will be to keep the plot as simple as possible so that your\n",
    "readers can get the clearest understanding of your story.\n",
    "\n",
    "Many people try too hard to make their plot eye-catching, and in the process, they destroy the\n",
    "message in the graph.\n",
    "\n",
    "Graphs should be a simple as possible, but not simpler.\n",
    "\n",
    "We will discuss some guidelines that we feel are most abused, but many very good books have\n",
    "been written on this subject.\n",
    "\n",
    "Some books that we have found extremely instructive are:\n",
    "\n",
    "1. *Visual Display of Quantitative Information* by Edward Tufte.  \n",
    "1. *The Wall Street Journal Guide to Information Graphics: The Dos and Don’ts of Presenting Data,\n",
    "  Facts, and Figures* by Dona M Wong.  \n",
    "1. *The Functional Art: An introduction to information graphics and visualization* by Alberto Cairo.  \n",
    "\n",
    "\n",
    "Some blogs that we think are useful for seeing well-done visualizations are:\n",
    "\n",
    "1. Flowing Data: [https://flowingdata.com/](https://flowingdata.com/)  \n",
    "1. Story Telling with Data: [http://www.storytellingwithdata.com/](http://www.storytellingwithdata.com/)  \n",
    "1. Visualizing Data: [http://www.visualisingdata.com/](http://www.visualisingdata.com/)  \n",
    "1. Junk Charts: [https://junkcharts.typepad.com/](https://junkcharts.typepad.com/)  \n",
    "\n",
    "\n",
    "As you begin to create more visualizations in your work, we recommend reading these books and blogs.\n",
    "\n",
    "Seeing how others display their information will ensure that when you run into interesting\n",
    "problems in the future, you’ll have a well of knowledge that you can call upon.\n",
    "\n",
    "In fact, one friend of ours takes this very seriously.\n",
    "\n",
    "He keeps an organized binder of graphics that he has seen and likes.\n",
    "\n",
    "He reads this binder, sometimes for hours, when he is thinking about how to communicate messages\n",
    "for his presentations.\n",
    "\n",
    "A couple last links to specific articles we enjoyed:\n",
    "\n",
    "- [This Financial Times article](https://ig.ft.com/science-of-charts) is a great exercise to\n",
    "  demonstrate how choice of graph type can affect a visualizations interpretability.  \n",
    "- [This article](https://towardsdatascience.com/data-visualization-best-practices-less-is-more-and-people-dont-read-ba41b8f29e7b)\n",
    "  does an exceptional job at redesigning graphics that were originally poorly done.  \n",
    "- [Duke library data visualization guide](https://guides.library.duke.edu/datavis/topten) has a\n",
    "  few concise rules worth reviewing.  "
   ]
  },
  {
   "cell_type": "markdown",
   "metadata": {
    "slideshow": {
     "slide_type": "subslide"
    }
   },
   "source": [
    "### Bar Plot Recommendations\n",
    "\n",
    "In Dona Wong’s book, she advises against using *zebra patterns*."
   ]
  },
  {
   "cell_type": "code",
   "execution_count": null,
   "metadata": {
    "hide-output": false,
    "slideshow": {
     "slide_type": "-"
    }
   },
   "outputs": [],
   "source": [
    "df = pd.DataFrame(\n",
    "    {\n",
    "        \"Unemployment Rate\": [5.20, 5.67, 9.20, 4.03, 3.80],\n",
    "        \"Pension Expenditure (% of GDP)\": [4.18, 4.70, 13.90, 6.24, 7.06],\n",
    "        \"Social Welfare Expenditure (% of GDP)\": [7.42, 9.84, 19.72, 12.98, 14.50],\n",
    "        \"Highest Tax Rate\": [47, 33, 59.6, 50, 39.6]\n",
    "    },\n",
    "    index = [\"Australia\", \"Canada\", \"France\", \"UK\", \"USA\"]\n",
    ")\n",
    "\n",
    "def create_barplot(df, colors):\n",
    "\n",
    "    fig, ax = plt.subplots(figsize=(14, 6))\n",
    "\n",
    "    df.T.plot(kind=\"bar\", color=colors, ax=ax, edgecolor=\"k\", rot=0)\n",
    "    ax.legend(bbox_to_anchor=(0, 1.02, 1.0, 1.02), loc=3, mode=\"expand\", ncol=5)\n",
    "    ax.set_xticklabels(df.columns, fontsize=6)\n",
    "\n",
    "    return fig"
   ]
  },
  {
   "cell_type": "markdown",
   "metadata": {
    "slideshow": {
     "slide_type": "subslide"
    }
   },
   "source": [
    "Instead, she proposes using different shades of the same color (ordered from lightest to darkest!)."
   ]
  },
  {
   "cell_type": "code",
   "execution_count": null,
   "metadata": {
    "hide-output": false,
    "slideshow": {
     "slide_type": "-"
    }
   },
   "outputs": [],
   "source": [
    "colors = [\n",
    "    (0.902, 0.902, 0.997), (0.695, 0.695, 0.993), (0.488, 0.488, 0.989),\n",
    "    (0.282, 0.282, 0.985), (0.078, 0.078, 0.980)\n",
    "]\n",
    "\n",
    "create_barplot(df, colors);"
   ]
  },
  {
   "cell_type": "markdown",
   "metadata": {
    "slideshow": {
     "slide_type": "-"
    }
   },
   "source": [
    "Notice that we put a legend at the top and maintain the same order as kept in the bars."
   ]
  },
  {
   "cell_type": "markdown",
   "metadata": {
    "slideshow": {
     "slide_type": "subslide"
    }
   },
   "source": [
    "Additionally, the general consensus is that starting bar plots at any number besides 0 is a\n",
    "misrepresentation of the data.\n",
    "\n",
    "Always start your bar plots at 0!\n",
    "\n",
    "An example of how starting at a non-zero number is misleading can be seen below and was originally from the\n",
    "[flowingdata blog](https://flowingdata.com/2012/08/06/fox-news-continues-charting-excellence).\n",
    "\n",
    "First, we look at a reproduction of the originally displayed image."
   ]
  },
  {
   "cell_type": "code",
   "execution_count": null,
   "metadata": {
    "hide-output": false,
    "slideshow": {
     "slide_type": "-"
    }
   },
   "outputs": [],
   "source": [
    "fig, ax = plt.subplots()\n",
    "\n",
    "ax.bar([0, 1], [35, 39.6], color=\"orange\")\n",
    "\n",
    "ax.set_xticks([0, 1])\n",
    "ax.set_xticklabels([\"Now\", \"Jan 1, 2013\"])\n",
    "ax.set_ylim(34, 42)\n",
    "\n",
    "ax.xaxis.set_ticks_position('none')\n",
    "ax.yaxis.set_ticks_position('none')\n",
    "\n",
    "for _spine in [\"right\", \"top\", \"left\", \"bottom\"]:\n",
    "    ax.spines[_spine].set_visible(False)\n",
    "\n",
    "ax.set_title(\"IF BUSH TAX CUTS EXPIRE\\nTop Tax Rate\")"
   ]
  },
  {
   "cell_type": "markdown",
   "metadata": {
    "slideshow": {
     "slide_type": "-"
    }
   },
   "source": [
    "This looks like a big difference!\n",
    "\n",
    "In fact, your eyes are telling you that taxes will increase by a factor of 5 if the tax cuts expire.\n",
    "\n",
    "If we start this same bar plot at 0, the chart becomes much less striking and tells you that the percentage\n",
    "increase in the top tax rate is only 5-10 percent."
   ]
  },
  {
   "cell_type": "code",
   "execution_count": null,
   "metadata": {
    "hide-output": false,
    "slideshow": {
     "slide_type": "-"
    }
   },
   "outputs": [],
   "source": [
    "fig, ax = plt.subplots()\n",
    "\n",
    "ax.bar([0, 1], [35, 39.6], color=\"orange\")\n",
    "\n",
    "ax.set_xticks([0, 1])\n",
    "ax.set_xticklabels([\"Now\", \"Jan 1, 2013\"])\n",
    "ax.set_ylim(0, 42)\n",
    "\n",
    "ax.xaxis.set_ticks_position('none')\n",
    "ax.yaxis.set_ticks_position('none')\n",
    "\n",
    "for _spine in [\"right\", \"top\", \"left\", \"bottom\"]:\n",
    "    ax.spines[_spine].set_visible(False)\n",
    "\n",
    "ax.set_title(\"IF BUSH TAX CUTS EXPIRE\\nTop Tax Rate\")"
   ]
  },
  {
   "cell_type": "markdown",
   "metadata": {
    "slideshow": {
     "slide_type": "fragment"
    }
   },
   "source": [
    "We also have opinions about what type of person uses all caps, but we’ll keep that to ourselves for\n",
    "now."
   ]
  },
  {
   "cell_type": "markdown",
   "metadata": {
    "slideshow": {
     "slide_type": "subslide"
    }
   },
   "source": [
    "### Pie Plots\n",
    "\n",
    "As a general rule, you should avoid pie plots.\n",
    "\n",
    "When comparing groups, your reader can more easily measure the heights on a\n",
    "bar graph than determine the size of the angles in a pie chart.\n",
    "\n",
    "Let’s look at an example of this below."
   ]
  },
  {
   "cell_type": "code",
   "execution_count": null,
   "metadata": {
    "hide-output": false,
    "slideshow": {
     "slide_type": "-"
    }
   },
   "outputs": [],
   "source": [
    "df = pd.DataFrame(\n",
    "    {\"values\": [5.5, 4.5, 8.4, 4.75, 2.5]},\n",
    "    index=[\"Bob\", \"Alice\", \"Charlie\", \"Susan\", \"Jessie\"]\n",
    ")\n",
    "\n",
    "colors = [mplc.hsv_to_rgb((0.66, 0.8, 0.9))]*2\n",
    "colors += [mplc.hsv_to_rgb((0.05, 0.6, 0.9))]\n",
    "colors += [mplc.hsv_to_rgb((0.66, 0.8, 0.9))]*2\n",
    "\n",
    "fig, ax = plt.subplots(1, 2)\n",
    "\n",
    "df.plot(kind=\"barh\", y=\"values\", ax=ax[0], legend=False, color=colors)\n",
    "df.plot(kind=\"pie\", y=\"values\", ax=ax[1], legend=False, colors=colors, startangle=0)\n",
    "\n",
    "ax[0].spines['right'].set_visible(False)\n",
    "ax[0].spines['top'].set_visible(False)\n",
    "ax[1].set_ylabel(\"\")\n",
    "fig.suptitle(\"How many pieces of pie eaten\")"
   ]
  },
  {
   "cell_type": "markdown",
   "metadata": {
    "slideshow": {
     "slide_type": "fragment"
    }
   },
   "source": [
    "Using the pie chart, can you tell who ate more pie Alice or Susan? How about with the bar chart?\n",
    "\n",
    "The pie chart can sometimes be used to illustrate whether one or two groups is much larger than the\n",
    "others.\n",
    "\n",
    "If you were making a case that Charlie ate too much of the pie and should pay more than an equal split,\n",
    "then a pie chart works (though a bar plot also works…).\n",
    "\n",
    "If you wanted to make a more precise point, then you might consider going with a bar plot instead."
   ]
  },
  {
   "cell_type": "markdown",
   "metadata": {
    "slideshow": {
     "slide_type": "subslide"
    }
   },
   "source": [
    "### Simplify Line Plots\n",
    "\n",
    "We’ve tried to emphasize repeatedly that simplifying your visualizations is essential to being able\n",
    "to communicate your message.\n",
    "\n",
    "We do it again here and will do it a few more times after this…\n",
    "\n",
    "Don’t try and fit too much information into a single line plot.\n",
    "\n",
    "We see people do this very frequently – remember that a visualization should have ONE main message.\n",
    "\n",
    "Do not pollute your message with extra information.\n",
    "\n",
    "In our example using World Bank data below, we will show that Japan’s population is aging faster\n",
    "than that of many other economically successful countries.\n",
    "\n",
    "We show this using the age dependency ratio, which is the number of individuals aged 65+ divided by the number of individuals who are 15-64, for each country over time.\n",
    "\n",
    "A high age dependency ratio means that the government will have a smaller tax base to collect from\n",
    "but have relatively higher health and pension expenditures to pay to the old."
   ]
  },
  {
   "cell_type": "code",
   "execution_count": null,
   "metadata": {
    "hide-output": false,
    "slideshow": {
     "slide_type": "-"
    }
   },
   "outputs": [],
   "source": [
    "download_url = \"https://datascience.quantecon.org/assets/data/WorldBank_AgeDependencyRatio.csv\"\n",
    "df = pd.read_csv(download_url, na_values=\"..\")\n",
    "df = df[[\"Country Name\", \"1960\", \"1970\", \"1980\", \"1990\", \"2000\", \"2010\", \"2017\"]]\n",
    "df = df.set_index(\"Country Name\").T\n",
    "df.index = df.index.values.astype(int)"
   ]
  },
  {
   "cell_type": "markdown",
   "metadata": {
    "slideshow": {
     "slide_type": "subslide"
    }
   },
   "source": [
    "Let’s visualize these variables for a collection of many developed countries."
   ]
  },
  {
   "cell_type": "code",
   "execution_count": null,
   "metadata": {
    "hide-output": false,
    "slideshow": {
     "slide_type": "-"
    }
   },
   "outputs": [],
   "source": [
    "fig, ax = plt.subplots()\n",
    "\n",
    "df.plot(ax=ax, legend=False)\n",
    "ax.text(2007, 38, \"Japan\")\n",
    "\n",
    "ax.spines[\"right\"].set_visible(False)\n",
    "ax.spines[\"top\"].set_visible(False)\n",
    "ax.set_title(\"Japan's Aging Population\")\n",
    "ax.set_ylabel(\"Age Dependency Ratio\")"
   ]
  },
  {
   "cell_type": "markdown",
   "metadata": {
    "slideshow": {
     "slide_type": "subslide"
    }
   },
   "source": [
    "Notice that with so many lines, the message about Japan is hidden or polluted by noise.\n",
    "\n",
    "If we did want to demonstrate that Japan is significantly different than many other developed countries,\n",
    "we might try a plot like this:"
   ]
  },
  {
   "cell_type": "code",
   "execution_count": null,
   "metadata": {
    "hide-output": false,
    "slideshow": {
     "slide_type": "-"
    }
   },
   "outputs": [],
   "source": [
    "fig, ax = plt.subplots()\n",
    "\n",
    "not_japan = list(df.columns)\n",
    "not_japan.remove(\"Japan\")\n",
    "\n",
    "df[not_japan].plot(ax=ax, color=[(0.8, 0.8, 0.8)], lw=0.4, legend=False)\n",
    "ax.text(1970, 29, \"Other Developed Countries\")\n",
    "\n",
    "df[\"Japan\"].plot(ax=ax, color=(0.95, 0.05, 0.05), lw=2.5, legend=False)\n",
    "ax.text(2006.5, 38, \"Japan\")\n",
    "\n",
    "ax.spines[\"right\"].set_visible(False)\n",
    "ax.spines[\"top\"].set_visible(False)\n",
    "ax.set_title(\"Japan's Aging Population\")\n",
    "ax.set_ylabel(\"Age Dependency Ratio\")"
   ]
  },
  {
   "cell_type": "markdown",
   "metadata": {
    "slideshow": {
     "slide_type": "fragment"
    }
   },
   "source": [
    "However, placing this many lines on a single plot is definitely an exception, and we encourage you\n",
    "to do so sparingly.\n",
    "\n",
    "Generally, you should only have a few informative lines for each plot.\n",
    "\n",
    "We now will focus our graph on a few countries of interest.\n",
    "\n",
    "To do so, the plot below uses many different line styles."
   ]
  },
  {
   "cell_type": "code",
   "execution_count": null,
   "metadata": {
    "hide-output": false,
    "slideshow": {
     "slide_type": "-"
    }
   },
   "outputs": [],
   "source": [
    "fig, ax = plt.subplots()\n",
    "\n",
    "df[\"Japan\"].plot(ax=ax, legend=False, linestyle=\"solid\")\n",
    "ax.text(2002, 35, \"Japan\")\n",
    "df[\"United Kingdom\"].plot(ax=ax, legend=False, linestyle=\"dashed\")\n",
    "ax.text(1975, 24, \"UK\")\n",
    "df[\"United States\"].plot(ax=ax, legend=False, linestyle=\"dashed\")\n",
    "ax.text(1980, 19, \"US\")\n",
    "df[\"China\"].plot(ax=ax, legend=False, linestyle=\"dotted\")\n",
    "ax.text(1990, 10, \"China\")\n",
    "df[\"India\"].plot(ax=ax, legend=False, linestyle=\"dotted\")\n",
    "ax.text(2005, 5, \"India\")\n",
    "\n",
    "ax.spines[\"right\"].set_visible(False)\n",
    "ax.spines[\"top\"].set_visible(False)\n",
    "ax.set_title(\"Japan's Aging Population\")\n",
    "ax.set_ylabel(\"Age Dependency Ratio\")"
   ]
  },
  {
   "cell_type": "markdown",
   "metadata": {
    "slideshow": {
     "slide_type": "fragment"
    }
   },
   "source": [
    "There are some good-use cases for using line styles to distinguish between different pieces\n",
    "of data, but not many.\n",
    "\n",
    "In particular, having this many different styles and colors makes it difficult to figure out what is going on.\n",
    "\n",
    "Instead, we recommend using color and line width instead of line styles to highlight certain pieces of\n",
    "information, as seen below."
   ]
  },
  {
   "cell_type": "code",
   "execution_count": null,
   "metadata": {
    "hide-output": false,
    "slideshow": {
     "slide_type": "-"
    }
   },
   "outputs": [],
   "source": [
    "fig, ax = plt.subplots()\n",
    "\n",
    "emph_color = (0.95, 0.05, 0.05)\n",
    "sec_color = [(0.05, 0.05+0.075*x, 0.95) for x in range(4)]\n",
    "df[\"Japan\"].plot(ax=ax, legend=False, color=emph_color, linewidth=2.5)\n",
    "ax.text(2002, 35, \"Japan\")\n",
    "df[\"United Kingdom\"].plot(ax=ax, legend=False, color=sec_color[0], alpha=0.4, linewidth=0.75)\n",
    "ax.text(1975, 24, \"UK\")\n",
    "df[\"United States\"].plot(ax=ax, legend=False, color=sec_color[1], alpha=0.4, linewidth=0.75)\n",
    "ax.text(1980, 19, \"US\")\n",
    "df[\"China\"].plot(ax=ax, legend=False, color=sec_color[2], alpha=0.4, linewidth=0.75)\n",
    "ax.text(1990, 10, \"China\")\n",
    "df[\"India\"].plot(ax=ax, legend=False, color=sec_color[3], alpha=0.4, linewidth=0.75)\n",
    "ax.text(2005, 5, \"India\")\n",
    "\n",
    "ax.spines[\"right\"].set_visible(False)\n",
    "ax.spines[\"top\"].set_visible(False)\n",
    "ax.set_title(\"Japan's Aging Population\")\n",
    "ax.set_ylabel(\"Age Dependency Ratio\")"
   ]
  },
  {
   "cell_type": "markdown",
   "metadata": {
    "slideshow": {
     "slide_type": "subslide"
    }
   },
   "source": [
    "### Tick Steps\n",
    "\n",
    "Use easy to interpret increments such as multiples of 2, 5, 10, 25 etc…\n",
    "\n",
    "Using increments like `0, 3, 6, 9, 12, ...` make it more difficult for your reader to do mentally\n",
    "determine what the values between the lines are:"
   ]
  },
  {
   "cell_type": "code",
   "execution_count": null,
   "metadata": {
    "hide-output": false,
    "slideshow": {
     "slide_type": "-"
    }
   },
   "outputs": [],
   "source": [
    "fig, ax = plt.subplots(1, 2, figsize=(14, 6))\n",
    "\n",
    "x = np.linspace(0, 26, 50)\n",
    "\n",
    "ax[0].plot(x, np.sqrt(x))\n",
    "ax[1].plot(x, np.sqrt(x))\n",
    "\n",
    "ax[0].set_xticks(np.arange(0, 27, 3))\n",
    "ax[0].set_xticklabels(np.arange(0, 27, 3))\n",
    "ax[1].set_xticks(np.arange(0, 27, 5))\n",
    "ax[1].set_xticklabels(np.arange(0, 27, 5))"
   ]
  },
  {
   "cell_type": "markdown",
   "metadata": {
    "slideshow": {
     "slide_type": "subslide"
    }
   },
   "source": [
    "### No Background Colors\n",
    "\n",
    "There are no reasons to use background colors in your visualizations.\n",
    "\n",
    "Research has shown that white or very light grays provide the best contrast as a background.\n",
    "\n",
    "Compare the following graphs and think about which feels better."
   ]
  },
  {
   "cell_type": "code",
   "execution_count": null,
   "metadata": {
    "hide-output": false,
    "slideshow": {
     "slide_type": "-"
    }
   },
   "outputs": [],
   "source": [
    "fig, ax = plt.subplots()\n",
    "\n",
    "ax.bar([0, 1], [35, 39.6], color=\"orange\")\n",
    "\n",
    "ax.set_xticks([0, 1])\n",
    "ax.set_xticklabels([\"Now\", \"Jan 1, 2013\"])\n",
    "ax.set_ylim(0, 42)\n",
    "\n",
    "bgcolor = \"blue\"\n",
    "fig.set_facecolor(bgcolor)\n",
    "ax.set_facecolor(bgcolor)\n",
    "ax.xaxis.set_ticks_position('none')\n",
    "ax.yaxis.set_ticks_position('none')\n",
    "\n",
    "for _spine in [\"right\", \"top\", \"left\", \"bottom\"]:\n",
    "    ax.spines[_spine].set_visible(False)\n",
    "\n",
    "ax.set_title(\"IF BUSH TAX CUTS EXPIRE\\nTop Tax Rate\")"
   ]
  },
  {
   "cell_type": "markdown",
   "metadata": {},
   "source": [
    "versus"
   ]
  },
  {
   "cell_type": "code",
   "execution_count": null,
   "metadata": {
    "hide-output": false
   },
   "outputs": [],
   "source": [
    "fig, ax = plt.subplots()\n",
    "\n",
    "ax.bar([0, 1], [35, 39.6], color=\"orange\")\n",
    "\n",
    "ax.set_xticks([0, 1])\n",
    "ax.set_xticklabels([\"Now\", \"Jan 1, 2013\"])\n",
    "ax.set_ylim(0, 42)\n",
    "\n",
    "bgcolor = (0.99, 0.99, 0.99)\n",
    "fig.set_facecolor(bgcolor)\n",
    "ax.set_facecolor(bgcolor)\n",
    "ax.xaxis.set_ticks_position('none')\n",
    "ax.yaxis.set_ticks_position('none')\n",
    "\n",
    "for _spine in [\"right\", \"top\", \"left\", \"bottom\"]:\n",
    "    ax.spines[_spine].set_visible(False)\n",
    "\n",
    "ax.set_title(\"IF BUSH TAX CUTS EXPIRE\\nTop Tax Rate\")"
   ]
  },
  {
   "cell_type": "markdown",
   "metadata": {
    "slideshow": {
     "slide_type": "subslide"
    }
   },
   "source": [
    "### Legends\n",
    "\n",
    "Legends are quite common in charts, but many visualization experts advise against using them.\n",
    "\n",
    "Legends have several weaknesses:\n",
    "\n",
    "1. Relying solely on line color often makes a black and white version of your plot effectively\n",
    "  useless, since you don’t know whether the colors will be distinguishable in grayscale.  \n",
    "1. Legends require people to distinguish between small samples of colors. For\n",
    "  someone with weak eyesight or color blindness, this can make interpreting graphs nearly\n",
    "  impossible.  \n",
    "1. They add distance between the data and its description. This requires peoples’ eyes to go back\n",
    "  and forth between the lines and the legend when trying to understand the story being told. This\n",
    "  distracts from the ability to digest the story quickly and succinctly.  \n",
    "\n",
    "\n",
    "To demonstrate this, we revisit our age dependency ratio example from earlier."
   ]
  },
  {
   "cell_type": "code",
   "execution_count": null,
   "metadata": {
    "hide-output": false,
    "slideshow": {
     "slide_type": "-"
    }
   },
   "outputs": [],
   "source": [
    "download_url = \"https://datascience.quantecon.org/assets/data/WorldBank_AgeDependencyRatio.csv\"\n",
    "df = pd.read_csv(download_url, na_values=\"..\")\n",
    "df = df[[\"Country Name\", \"1960\", \"1970\", \"1980\", \"1990\", \"2000\", \"2010\", \"2017\"]]\n",
    "df = df.set_index(\"Country Name\").T\n",
    "df.index = df.index.values.astype(int)"
   ]
  },
  {
   "cell_type": "markdown",
   "metadata": {
    "slideshow": {
     "slide_type": "fragment"
    }
   },
   "source": [
    "With a legend:"
   ]
  },
  {
   "cell_type": "code",
   "execution_count": null,
   "metadata": {
    "hide-output": false,
    "slideshow": {
     "slide_type": "-"
    }
   },
   "outputs": [],
   "source": [
    "fig, ax = plt.subplots()\n",
    "\n",
    "emph_color = (0.95, 0.05, 0.05)\n",
    "sec_color = [(0.05, 0.05+0.075*x, 0.95) for x in range(4)]\n",
    "df[\"Japan\"].plot(ax=ax, legend=True, color=emph_color, linewidth=2.5)\n",
    "df[\"United Kingdom\"].plot(ax=ax, legend=True, color=sec_color[0], alpha=0.4, linewidth=0.75)\n",
    "df[\"United States\"].plot(ax=ax, legend=True, color=sec_color[1], alpha=0.4, linewidth=0.75)\n",
    "df[\"China\"].plot(ax=ax, legend=True, color=sec_color[2], alpha=0.4, linewidth=0.75)\n",
    "df[\"India\"].plot(ax=ax, legend=True, color=sec_color[3], alpha=0.4, linewidth=0.75)\n",
    "\n",
    "ax.spines[\"right\"].set_visible(False)\n",
    "ax.spines[\"top\"].set_visible(False)\n",
    "ax.set_title(\"Japan's Aging Population\")\n",
    "ax.set_ylabel(\"Age Dependency Ratio\")"
   ]
  },
  {
   "cell_type": "markdown",
   "metadata": {
    "slideshow": {
     "slide_type": "fragment"
    }
   },
   "source": [
    "With labels:"
   ]
  },
  {
   "cell_type": "code",
   "execution_count": null,
   "metadata": {
    "hide-output": false,
    "slideshow": {
     "slide_type": "-"
    }
   },
   "outputs": [],
   "source": [
    "fig, ax = plt.subplots()\n",
    "\n",
    "emph_color = (0.95, 0.05, 0.05)\n",
    "sec_color = [(0.05, 0.05+0.075*x, 0.95) for x in range(4)]\n",
    "df[\"Japan\"].plot(ax=ax, legend=False, color=emph_color, linewidth=2.5)\n",
    "ax.text(2002, 35, \"Japan\")\n",
    "df[\"United Kingdom\"].plot(ax=ax, legend=False, color=sec_color[0], alpha=0.4, linewidth=0.75)\n",
    "ax.text(1975, 24, \"UK\")\n",
    "df[\"United States\"].plot(ax=ax, legend=False, color=sec_color[1], alpha=0.4, linewidth=0.75)\n",
    "ax.text(1980, 19, \"US\")\n",
    "df[\"China\"].plot(ax=ax, legend=False, color=sec_color[2], alpha=0.4, linewidth=0.75)\n",
    "ax.text(1990, 10, \"China\")\n",
    "df[\"India\"].plot(ax=ax, legend=False, color=sec_color[3], alpha=0.4, linewidth=0.75)\n",
    "ax.text(2005, 5, \"India\")\n",
    "\n",
    "ax.spines[\"right\"].set_visible(False)\n",
    "ax.spines[\"top\"].set_visible(False)\n",
    "ax.set_title(\"Japan's Aging Population\")\n",
    "ax.set_ylabel(\"Age Dependency Ratio\")"
   ]
  },
  {
   "cell_type": "markdown",
   "metadata": {
    "slideshow": {
     "slide_type": "-"
    }
   },
   "source": [
    "Most people find the example with labels to be a more readable graph."
   ]
  },
  {
   "cell_type": "markdown",
   "metadata": {
    "slideshow": {
     "slide_type": "subslide"
    }
   },
   "source": [
    "### Limit the Information in a Single Plot\n",
    "\n",
    "Don’t try to put too much information in a single plot!\n",
    "\n",
    "We have tried to emphasize this point throughout this lecture, but it is so important that\n",
    "we are emphasizing it again!\n",
    "\n",
    "Don’t information overload your audience!"
   ]
  },
  {
   "cell_type": "markdown",
   "metadata": {
    "slideshow": {
     "slide_type": "subslide"
    }
   },
   "source": [
    "### Talk to Other People\n",
    "\n",
    "Our last guideline: talk with others about your visualization.\n",
    "\n",
    "The best way to determine whether other people understand your message is to show it to them."
   ]
  },
  {
   "cell_type": "markdown",
   "metadata": {
    "slideshow": {
     "slide_type": "-"
    }
   },
   "source": [
    "## References\n",
    "\n",
    "<a id='ely'></a>\n",
    "**[1]** In particular, it is based on [this lecture](https://www.aeaweb.org/webcasts/2019/aea-ely-lecture-work-of-the-past-work-of-the-future)\n",
    "by Autor presented at the annual AEA meeting in January, 2019. This\n",
    "is a prestigious invited lecture with a large audience, so it is a more\n",
    "“polished” than the typical academic lecture. It is worth\n",
    "watching. Notice how almost every slide includes data\n",
    "visualizations, and very few consist solely of text. Also, notice\n",
    "the ways that the NYT modified Autor’s figures and think about\n",
    "whether these changes improved the figures."
   ]
  }
 ],
 "metadata": {
  "celltoolbar": "Slideshow",
  "date": 1595352471.1157434,
  "download_nb": false,
  "filename": "visualization_rules.rst",
  "filename_with_path": "applications/visualization_rules",
  "kernelspec": {
   "display_name": "Python 3",
   "language": "python",
   "name": "python3"
  },
  "language_info": {
   "codemirror_mode": {
    "name": "ipython",
    "version": 3
   },
   "file_extension": ".py",
   "mimetype": "text/x-python",
   "name": "python",
   "nbconvert_exporter": "python",
   "pygments_lexer": "ipython3",
   "version": "3.8.3"
  },
  "title": "Data Visualization: Rules and Guidelines"
 },
 "nbformat": 4,
 "nbformat_minor": 2
}
