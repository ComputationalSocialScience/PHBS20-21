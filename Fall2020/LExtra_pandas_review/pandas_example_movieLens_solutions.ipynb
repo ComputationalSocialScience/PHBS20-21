{
 "cells": [
  {
   "cell_type": "markdown",
   "metadata": {
    "slideshow": {
     "slide_type": "slide"
    }
   },
   "source": [
    "# Pandas Example: MovieLens Data\n",
    "\n",
    "**Outcomes**\n",
    "\n",
    "- Learn how to download file from internet using the [requests](https://requests.readthedocs.io/en/master/) library\n",
    "- Know how to operate on a `.zip` file in memory, without writing to hard drive\n",
    "- Practice merging datasets"
   ]
  },
  {
   "cell_type": "markdown",
   "metadata": {
    "slideshow": {
     "slide_type": "subslide"
    }
   },
   "source": [
    "**Note: requires internet access to run.**  \n",
    "\n",
    "This Jupyter notebook was originally created in 2016 by Dave Backus, Chase Coleman, Brian LeBlanc, and Spencer Lyon for the NYU Stern course [Data Bootcamp](http://databootcamp.nyuecon.com/).\n",
    "\n",
    "The notebook has been modified for this course"
   ]
  },
  {
   "cell_type": "code",
   "execution_count": 2,
   "metadata": {
    "collapsed": false,
    "execution": {
     "iopub.execute_input": "2020-10-06T23:24:29.929851Z",
     "iopub.status.busy": "2020-10-06T23:24:29.929643Z",
     "iopub.status.idle": "2020-10-06T23:24:30.219079Z",
     "shell.execute_reply": "2020-10-06T23:24:30.218664Z",
     "shell.execute_reply.started": "2020-10-06T23:24:29.929833Z"
    },
    "jupyter": {
     "outputs_hidden": false
    },
    "slideshow": {
     "slide_type": "subslide"
    }
   },
   "outputs": [],
   "source": [
    "%matplotlib inline \n",
    "\n",
    "import pandas as pd             # data package\n",
    "import matplotlib.pyplot as plt # graphics \n",
    "import datetime as dt           # date tools, used to note current date  \n",
    "\n",
    "# these are new \n",
    "import os                       # operating system tools (check files)\n",
    "import requests, io             # internet and input tools  \n",
    "import zipfile as zf            # zip file tools \n",
    "import shutil                   # file management tools"
   ]
  },
  {
   "cell_type": "markdown",
   "metadata": {
    "slideshow": {
     "slide_type": "slide"
    }
   },
   "source": [
    "<a id=movielens></a>\n",
    "\n",
    "## MovieLens data \n",
    "\n",
    "The [GroupLens](https://grouplens.org/) team at the University of Minnesota has prepared many datasets\n",
    "\n",
    "One is called [MovieLens](https://grouplens.org/datasets/movielens/), and contains millions of movie ratings by viewers and users of the MovieLens website\n",
    "\n",
    "We will use a small subset of the data with 100,000 ratings"
   ]
  },
  {
   "cell_type": "markdown",
   "metadata": {
    "slideshow": {
     "slide_type": "subslide"
    }
   },
   "source": [
    "This data comes in a `.zip` file that contains a handful of csv's and a readme\n",
    "\n",
    "Here are some details about the zipped files:\n",
    "\n",
    "* `ratings.csv`:  each line is an individual film rating with the rater and movie id's and the rating.  Order:  `userId, movieId, rating, timestamp`. \n",
    "* `tags.csv`:  each line is a tag on a specific film.  Order:  `userId, movieId, tag, timestamp`. \n",
    "* `movies.csv`:  each line is a movie name, its id, and its genre.  Order:  `movieId, title, genres`.  Multiple genres are separated by \"pipes\" `|`.   \n",
    "* `links.csv`:  each line contains the movie id and corresponding id's at [IMBd](http://www.imdb.com/) and [TMDb](https://www.themoviedb.org/).  "
   ]
  },
  {
   "cell_type": "markdown",
   "metadata": {
    "slideshow": {
     "slide_type": "subslide"
    }
   },
   "source": [
    "We are interested in the `ratings.csv` and `movies.csv` files as pandas DataFrames\n",
    "\n",
    "There are at least two approaches to doing this:\n",
    "\n",
    "1. Download the file to the hard drive, unzip manually, then come back and use `pd.read_csv`\n",
    "2. Have Python download the file, learn to use Python to handle zip files, then use `pd.read_csv`\n",
    "\n",
    "The first option is likely easier, but the second is more powerful\n",
    "\n",
    "We will choose option 2 here as it gives us a chance to learn more \"real-world\" data+Python skills"
   ]
  },
  {
   "cell_type": "markdown",
   "metadata": {
    "slideshow": {
     "slide_type": "subslide"
    }
   },
   "source": [
    "**Why do it the hard way?**\n",
    "\n",
    "- It builds character\n",
    "- Entire analysis can be self-contained in our notebook, no external *by hand* steps  needed\n",
    "- Can be applied to other datasets, as we'll surely see a zip file again in the future"
   ]
  },
  {
   "cell_type": "markdown",
   "metadata": {
    "slideshow": {
     "slide_type": "slide"
    }
   },
   "source": [
    "<a id=requests></a>\n",
    "\n",
    "## Automated file download \n",
    "\n",
    "**WANT:** create pandas DataFrames from the `ratings.csv` and `movies.csv` files in the zipfile on the GroupLens website\n",
    "\n",
    "Let's unpack what steps need to happen:\n",
    "\n",
    "1. Download the file: we'll use the [requests](http://docs.python-requests.org/) package\n",
    "2. Unpack raw downloaded content as file: using built-in [io](https://docs.python.org/3.5/library/io.html) module's `io.BytesIO`\n",
    "3. Access csv files inside the zip file: using built-in [zipfile](https://docs.python.org/3.5/library/zipfile.html) module to read csv's from zip\n",
    "4. Read in csvs: easy part -- using `pd.read_csv`"
   ]
  },
  {
   "cell_type": "markdown",
   "metadata": {
    "slideshow": {
     "slide_type": "subslide"
    }
   },
   "source": [
    "### Digression 1\n",
    "\n",
    "The `requests` documentation states\n",
    "\n",
    ">Recreational use of other HTTP libraries may result in dangerous side-effects, including: security vulnerabilities, verbose code, reinventing the wheel, constantly reading documentation, depression, headaches, or even death.\n",
    "\n",
    "We whole-heartedly agree"
   ]
  },
  {
   "cell_type": "markdown",
   "metadata": {
    "slideshow": {
     "slide_type": "subslide"
    }
   },
   "source": [
    "### Digression 2\n",
    "\n",
    "We found this [Stack Overflow exchange](http://stackoverflow.com/questions/23419322/download-a-zip-file-and-extract-it-in-memory-using-python3) helpful when creating this solution"
   ]
  },
  {
   "cell_type": "markdown",
   "metadata": {
    "slideshow": {
     "slide_type": "subslide"
    }
   },
   "source": [
    "### Step 1: Download the file\n",
    "\n",
    "Let's get to it!\n",
    "\n",
    "Here we download the file and print out some information about the response object"
   ]
  },
  {
   "cell_type": "code",
   "execution_count": 13,
   "metadata": {
    "collapsed": false,
    "execution": {
     "iopub.execute_input": "2020-10-06T23:32:04.438369Z",
     "iopub.status.busy": "2020-10-06T23:32:04.438118Z",
     "iopub.status.idle": "2020-10-06T23:32:04.835682Z",
     "shell.execute_reply": "2020-10-06T23:32:04.835039Z",
     "shell.execute_reply.started": "2020-10-06T23:32:04.438347Z"
    },
    "jupyter": {
     "outputs_hidden": false
    }
   },
   "outputs": [
    {
     "name": "stdout",
     "output_type": "stream",
     "text": [
      "Response status code: 200\n",
      "Response type: <class 'requests.models.Response'>\n",
      "Response .content: <class 'bytes'>\n",
      "Response headers:\n",
      "{'Date': 'Tue, 06 Oct 2020 23:32:04 GMT', 'Server': 'Apache/2.4.6 (Red Hat Enterprise Linux) OpenSSL/1.0.2k-fips', 'Last-Modified': 'Tue, 03 Dec 2019 17:14:18 GMT', 'ETag': '\"eed1a-598cfd387dc5a\"', 'Accept-Ranges': 'bytes', 'Content-Length': '978202', 'Keep-Alive': 'timeout=5, max=100', 'Connection': 'Keep-Alive', 'Content-Type': 'application/zip'}\n"
     ]
    }
   ],
   "source": [
    "#  Step 1 -- download the file \n",
    "url = 'http://files.grouplens.org/datasets/movielens/ml-latest-small.zip'\n",
    "res = requests.get(url) \n",
    "\n",
    "# (sub-step, see what the response looks like)\n",
    "print('Response status code:', res.status_code)\n",
    "print('Response type:', type(res))\n",
    "print('Response .content:', type(res.content)) \n",
    "print('Response headers:\\n', res.headers, sep='')"
   ]
  },
  {
   "cell_type": "markdown",
   "metadata": {
    "slideshow": {
     "slide_type": "subslide"
    }
   },
   "source": [
    "### Step 2: read file as bytes\n",
    "\n",
    "The ZipFile is a binary file format (not plain text)\n",
    "\n",
    "For this reason we need to treat the contents of the file as bytes\n",
    "\n",
    "We'll load in `res.content` into an instance of `io.BytesIO"
   ]
  },
  {
   "cell_type": "code",
   "execution_count": 14,
   "metadata": {
    "collapsed": false,
    "execution": {
     "iopub.execute_input": "2020-10-06T23:32:05.389970Z",
     "iopub.status.busy": "2020-10-06T23:32:05.389717Z",
     "iopub.status.idle": "2020-10-06T23:32:05.392822Z",
     "shell.execute_reply": "2020-10-06T23:32:05.392193Z",
     "shell.execute_reply.started": "2020-10-06T23:32:05.389947Z"
    },
    "jupyter": {
     "outputs_hidden": false
    },
    "slideshow": {
     "slide_type": "subslide"
    }
   },
   "outputs": [],
   "source": [
    "# Step 2 -- read bytes of response contentonvert bytes to zip file  \n",
    "bytes = io.BytesIO(res.content)"
   ]
  },
  {
   "cell_type": "markdown",
   "metadata": {
    "slideshow": {
     "slide_type": "subslide"
    }
   },
   "source": [
    "### Step 3: Interpret bytes as ZipFile\n",
    "\n",
    "Now we have downloaded file, and interpreted as a binary source (`BytesIO`)\n",
    "\n",
    "This is not just any binary file, but rather a zip compressed file\n",
    "\n",
    "Python knows how to handle these using the built-in `zipfile` module\n",
    "\n",
    "Below we tell Python to interpret the `BytesIO` as a ZipFile"
   ]
  },
  {
   "cell_type": "code",
   "execution_count": 15,
   "metadata": {
    "collapsed": false,
    "execution": {
     "iopub.execute_input": "2020-10-06T23:32:06.027617Z",
     "iopub.status.busy": "2020-10-06T23:32:06.027366Z",
     "iopub.status.idle": "2020-10-06T23:32:06.031494Z",
     "shell.execute_reply": "2020-10-06T23:32:06.030885Z",
     "shell.execute_reply.started": "2020-10-06T23:32:06.027594Z"
    },
    "jupyter": {
     "outputs_hidden": false
    },
    "slideshow": {
     "slide_type": "subslide"
    }
   },
   "outputs": [
    {
     "name": "stdout",
     "output_type": "stream",
     "text": [
      "Type of zipfile object: <class 'zipfile.ZipFile'>\n"
     ]
    }
   ],
   "source": [
    "# Step 3 -- Interpret bytes as zipfile\n",
    "zip = zf.ZipFile(bytes)\n",
    "print('Type of zipfile object:', type(zip))"
   ]
  },
  {
   "cell_type": "markdown",
   "metadata": {
    "slideshow": {
     "slide_type": "subslide"
    }
   },
   "source": [
    "Now that we have a ZipFile, we need to explore what is inside\n",
    "\n",
    "The `ZipFile` class has a handy method named `namelist` \n",
    "\n",
    "This method lists all folders and files in the zip archive\n",
    "\n",
    "Let's take a look"
   ]
  },
  {
   "cell_type": "code",
   "execution_count": 16,
   "metadata": {
    "collapsed": false,
    "execution": {
     "iopub.execute_input": "2020-10-06T23:32:07.017944Z",
     "iopub.status.busy": "2020-10-06T23:32:07.017591Z",
     "iopub.status.idle": "2020-10-06T23:32:07.022057Z",
     "shell.execute_reply": "2020-10-06T23:32:07.021546Z",
     "shell.execute_reply.started": "2020-10-06T23:32:07.017912Z"
    },
    "jupyter": {
     "outputs_hidden": false
    }
   },
   "outputs": [
    {
     "data": {
      "text/plain": [
       "['ml-latest-small/',\n",
       " 'ml-latest-small/links.csv',\n",
       " 'ml-latest-small/tags.csv',\n",
       " 'ml-latest-small/ratings.csv',\n",
       " 'ml-latest-small/README.txt',\n",
       " 'ml-latest-small/movies.csv']"
      ]
     },
     "execution_count": 16,
     "metadata": {},
     "output_type": "execute_result"
    }
   ],
   "source": [
    "# (sub-step, inspect the file)\n",
    "names = zip.namelist()\n",
    "names"
   ]
  },
  {
   "cell_type": "markdown",
   "metadata": {},
   "source": [
    "Notice that our target `ratings.csv` and `movies.csv` files are there\n",
    "\n",
    "However, they are in a folder named `ml-latest-small`\n",
    "\n",
    "We could write out the \"path\" to those files by hand, but instead we'll let Python find them for us"
   ]
  },
  {
   "cell_type": "code",
   "execution_count": 17,
   "metadata": {
    "execution": {
     "iopub.execute_input": "2020-10-06T23:32:08.905816Z",
     "iopub.status.busy": "2020-10-06T23:32:08.905564Z",
     "iopub.status.idle": "2020-10-06T23:32:08.910314Z",
     "shell.execute_reply": "2020-10-06T23:32:08.909505Z",
     "shell.execute_reply.started": "2020-10-06T23:32:08.905793Z"
    }
   },
   "outputs": [
    {
     "name": "stdout",
     "output_type": "stream",
     "text": [
      "The path to movies.csv is: ml-latest-small/movies.csv\n"
     ]
    }
   ],
   "source": [
    "movie_fn = [n for n in names if \"movies\" in n][0]\n",
    "ratings_fn = [n for n in names if \"ratings\" in n][0]\n",
    "\n",
    "print(\"The path to movies.csv is:\", movie_fn)"
   ]
  },
  {
   "cell_type": "markdown",
   "metadata": {
    "slideshow": {
     "slide_type": "subslide"
    }
   },
   "source": [
    "### Step 4: `pd.read_csv` the Files\n",
    "\n",
    "Now that we have the ZipFile **and** the path to our csvs, let's read them in as DataFrames\n",
    "\n",
    "For this we'll use our friend `pd.read_csv`\n",
    "\n",
    "We need to call the `.open` method on our zipfile\n",
    "\n",
    "This method expects the path to the file we need to open, these are saved in `movie_fn` and `ratings_fn` above"
   ]
  },
  {
   "cell_type": "code",
   "execution_count": 26,
   "metadata": {
    "execution": {
     "iopub.execute_input": "2020-10-06T23:33:17.923867Z",
     "iopub.status.busy": "2020-10-06T23:33:17.923662Z",
     "iopub.status.idle": "2020-10-06T23:33:17.968804Z",
     "shell.execute_reply": "2020-10-06T23:33:17.968341Z",
     "shell.execute_reply.started": "2020-10-06T23:33:17.923850Z"
    }
   },
   "outputs": [],
   "source": [
    "# extract and read csv's\n",
    "movies  = pd.read_csv(zip.open(movie_fn))\n",
    "ratings = pd.read_csv(zip.open(ratings_fn))"
   ]
  },
  {
   "cell_type": "markdown",
   "metadata": {
    "slideshow": {
     "slide_type": "subslide"
    }
   },
   "source": [
    "Let's take a look at the data"
   ]
  },
  {
   "cell_type": "code",
   "execution_count": 36,
   "metadata": {
    "collapsed": false,
    "execution": {
     "iopub.execute_input": "2020-10-06T23:35:43.871268Z",
     "iopub.status.busy": "2020-10-06T23:35:43.870994Z",
     "iopub.status.idle": "2020-10-06T23:35:43.880710Z",
     "shell.execute_reply": "2020-10-06T23:35:43.880383Z",
     "shell.execute_reply.started": "2020-10-06T23:35:43.871243Z"
    },
    "jupyter": {
     "outputs_hidden": false
    },
    "slideshow": {
     "slide_type": "subslide"
    }
   },
   "outputs": [
    {
     "name": "stdout",
     "output_type": "stream",
     "text": [
      "<class 'pandas.core.frame.DataFrame'>\n",
      "RangeIndex: 9742 entries, 0 to 9741\n",
      "Data columns (total 3 columns):\n",
      " #   Column   Non-Null Count  Dtype \n",
      "---  ------   --------------  ----- \n",
      " 0   movieId  9742 non-null   int64 \n",
      " 1   title    9742 non-null   object\n",
      " 2   genres   9742 non-null   object\n",
      "dtypes: int64(1), object(2)\n",
      "memory usage: 228.5+ KB\n"
     ]
    },
    {
     "data": {
      "text/html": [
       "<div>\n",
       "<style scoped>\n",
       "    .dataframe tbody tr th:only-of-type {\n",
       "        vertical-align: middle;\n",
       "    }\n",
       "\n",
       "    .dataframe tbody tr th {\n",
       "        vertical-align: top;\n",
       "    }\n",
       "\n",
       "    .dataframe thead th {\n",
       "        text-align: right;\n",
       "    }\n",
       "</style>\n",
       "<table border=\"1\" class=\"dataframe\">\n",
       "  <thead>\n",
       "    <tr style=\"text-align: right;\">\n",
       "      <th></th>\n",
       "      <th>movieId</th>\n",
       "      <th>title</th>\n",
       "      <th>genres</th>\n",
       "    </tr>\n",
       "  </thead>\n",
       "  <tbody>\n",
       "    <tr>\n",
       "      <th>0</th>\n",
       "      <td>1</td>\n",
       "      <td>Toy Story (1995)</td>\n",
       "      <td>Adventure|Animation|Children|Comedy|Fantasy</td>\n",
       "    </tr>\n",
       "    <tr>\n",
       "      <th>1</th>\n",
       "      <td>2</td>\n",
       "      <td>Jumanji (1995)</td>\n",
       "      <td>Adventure|Children|Fantasy</td>\n",
       "    </tr>\n",
       "    <tr>\n",
       "      <th>2</th>\n",
       "      <td>3</td>\n",
       "      <td>Grumpier Old Men (1995)</td>\n",
       "      <td>Comedy|Romance</td>\n",
       "    </tr>\n",
       "  </tbody>\n",
       "</table>\n",
       "</div>"
      ],
      "text/plain": [
       "   movieId                    title  \\\n",
       "0        1         Toy Story (1995)   \n",
       "1        2           Jumanji (1995)   \n",
       "2        3  Grumpier Old Men (1995)   \n",
       "\n",
       "                                        genres  \n",
       "0  Adventure|Animation|Children|Comedy|Fantasy  \n",
       "1                   Adventure|Children|Fantasy  \n",
       "2                               Comedy|Romance  "
      ]
     },
     "execution_count": 36,
     "metadata": {},
     "output_type": "execute_result"
    }
   ],
   "source": [
    "movies.info()\n",
    "movies.head(3)"
   ]
  },
  {
   "cell_type": "code",
   "execution_count": 37,
   "metadata": {
    "execution": {
     "iopub.execute_input": "2020-10-06T23:35:45.637611Z",
     "iopub.status.busy": "2020-10-06T23:35:45.637372Z",
     "iopub.status.idle": "2020-10-06T23:35:45.648745Z",
     "shell.execute_reply": "2020-10-06T23:35:45.648345Z",
     "shell.execute_reply.started": "2020-10-06T23:35:45.637589Z"
    }
   },
   "outputs": [
    {
     "name": "stdout",
     "output_type": "stream",
     "text": [
      "<class 'pandas.core.frame.DataFrame'>\n",
      "RangeIndex: 100836 entries, 0 to 100835\n",
      "Data columns (total 4 columns):\n",
      " #   Column     Non-Null Count   Dtype  \n",
      "---  ------     --------------   -----  \n",
      " 0   userId     100836 non-null  int64  \n",
      " 1   movieId    100836 non-null  int64  \n",
      " 2   rating     100836 non-null  float64\n",
      " 3   timestamp  100836 non-null  int64  \n",
      "dtypes: float64(1), int64(3)\n",
      "memory usage: 3.1 MB\n"
     ]
    },
    {
     "data": {
      "text/html": [
       "<div>\n",
       "<style scoped>\n",
       "    .dataframe tbody tr th:only-of-type {\n",
       "        vertical-align: middle;\n",
       "    }\n",
       "\n",
       "    .dataframe tbody tr th {\n",
       "        vertical-align: top;\n",
       "    }\n",
       "\n",
       "    .dataframe thead th {\n",
       "        text-align: right;\n",
       "    }\n",
       "</style>\n",
       "<table border=\"1\" class=\"dataframe\">\n",
       "  <thead>\n",
       "    <tr style=\"text-align: right;\">\n",
       "      <th></th>\n",
       "      <th>userId</th>\n",
       "      <th>movieId</th>\n",
       "      <th>rating</th>\n",
       "      <th>timestamp</th>\n",
       "    </tr>\n",
       "  </thead>\n",
       "  <tbody>\n",
       "    <tr>\n",
       "      <th>0</th>\n",
       "      <td>1</td>\n",
       "      <td>1</td>\n",
       "      <td>4.0</td>\n",
       "      <td>964982703</td>\n",
       "    </tr>\n",
       "    <tr>\n",
       "      <th>1</th>\n",
       "      <td>1</td>\n",
       "      <td>3</td>\n",
       "      <td>4.0</td>\n",
       "      <td>964981247</td>\n",
       "    </tr>\n",
       "    <tr>\n",
       "      <th>2</th>\n",
       "      <td>1</td>\n",
       "      <td>6</td>\n",
       "      <td>4.0</td>\n",
       "      <td>964982224</td>\n",
       "    </tr>\n",
       "  </tbody>\n",
       "</table>\n",
       "</div>"
      ],
      "text/plain": [
       "   userId  movieId  rating  timestamp\n",
       "0       1        1     4.0  964982703\n",
       "1       1        3     4.0  964981247\n",
       "2       1        6     4.0  964982224"
      ]
     },
     "execution_count": 37,
     "metadata": {},
     "output_type": "execute_result"
    }
   ],
   "source": [
    "ratings.info()\n",
    "ratings.head(3)"
   ]
  },
  {
   "cell_type": "markdown",
   "metadata": {
    "slideshow": {
     "slide_type": "subslide"
    }
   },
   "source": [
    "**Exercise.** Something to do together.  suppose we wanted to save the files on our computer.  How would we do it? Would we prefer individual csv's or a single zip?"
   ]
  },
  {
   "cell_type": "code",
   "execution_count": 28,
   "metadata": {
    "execution": {
     "iopub.execute_input": "2020-10-06T23:33:21.304992Z",
     "iopub.status.busy": "2020-10-06T23:33:21.304645Z",
     "iopub.status.idle": "2020-10-06T23:33:21.310706Z",
     "shell.execute_reply": "2020-10-06T23:33:21.310332Z",
     "shell.execute_reply.started": "2020-10-06T23:33:21.304963Z"
    },
    "slideshow": {
     "slide_type": "fragment"
    }
   },
   "outputs": [],
   "source": [
    "# writing csv (specify different location)\n",
    "with open('test_01.csv', 'wb') as out_file:\n",
    "    shutil.copyfileobj(zip.open(movie_fn), out_file)"
   ]
  },
  {
   "cell_type": "code",
   "execution_count": 29,
   "metadata": {
    "collapsed": false,
    "execution": {
     "iopub.execute_input": "2020-10-06T23:33:21.640120Z",
     "iopub.status.busy": "2020-10-06T23:33:21.639865Z",
     "iopub.status.idle": "2020-10-06T23:33:21.644105Z",
     "shell.execute_reply": "2020-10-06T23:33:21.643667Z",
     "shell.execute_reply.started": "2020-10-06T23:33:21.640097Z"
    },
    "jupyter": {
     "outputs_hidden": false
    },
    "slideshow": {
     "slide_type": "fragment"
    }
   },
   "outputs": [],
   "source": [
    "# experiment via http://stackoverflow.com/a/18043472/804513\n",
    "with open('test.zip', 'wb') as out_file:\n",
    "    shutil.copyfileobj(io.BytesIO(res.content), out_file)   "
   ]
  },
  {
   "cell_type": "markdown",
   "metadata": {
    "slideshow": {
     "slide_type": "slide"
    }
   },
   "source": [
    "<a id=merge-movies></a>\n",
    "## Merging ratings and movie titles\n",
    "\n",
    "The movie ratings in the dataframe `ratings` give us individual opinions about movies, but they don't include the name of the movie.  \n",
    "\n",
    "**Why not?**"
   ]
  },
  {
   "cell_type": "markdown",
   "metadata": {
    "slideshow": {
     "slide_type": "subslide"
    }
   },
   "source": [
    "### Normalization\n",
    "\n",
    "Storing movie names in rating DataFrame would cause movie name to be repeated many times\n",
    "\n",
    "The string \"Grumpier Old Men (1995)\" takes up more space in a file than the integer `3`\n",
    "\n",
    "So, the GroupLens team decided to store the movie name in `movies.csv`, and a `movidId` column that is an integer\n",
    "\n",
    "In other files, they can use just the `movieId` column\n",
    "\n",
    "This is an eample of a relational database (think SQL) technique known as [normalization](https://en.wikipedia.org/wiki/Database_normalization)"
   ]
  },
  {
   "cell_type": "markdown",
   "metadata": {
    "slideshow": {
     "slide_type": "subslide"
    }
   },
   "source": [
    "**Why normalize?**\n",
    "\n",
    "There are many benefits to normalization, but two that immediately come to mind are:\n",
    "\n",
    "1. Save storage space: movie title (and genres in this example) are not repeated for each rating\n",
    "2. Easier to maintain/update\n",
    "\n",
    "For the second point, suppose the GroupLens team wanted to include the movie's director\n",
    "\n",
    "In the current, normalized format they would add a `director` column to `movies.csv` and have one row to update per movie\n",
    "\n",
    "If they instead chose to put the movie title inside the `ratings.csv` they would have to find all occurances of each movie and add the director"
   ]
  },
  {
   "cell_type": "markdown",
   "metadata": {
    "slideshow": {
     "slide_type": "slide"
    }
   },
   "source": [
    "### Combining ratings and movies\n",
    "\n",
    "We **want** to be able to analyze the ratings for movies, and associate those ratings with a movie name\n",
    "\n",
    "We need a way to bring in the movie title information into the `ratings` DataFrame\n",
    "\n",
    "This is a perfect use case for `merge`!"
   ]
  },
  {
   "cell_type": "markdown",
   "metadata": {
    "slideshow": {
     "slide_type": "subslide"
    }
   },
   "source": [
    "Let's start with a small example, just the first three rows of ratings:\n",
    "\n",
    "Here's what this looks like"
   ]
  },
  {
   "cell_type": "code",
   "execution_count": 39,
   "metadata": {
    "collapsed": false,
    "execution": {
     "iopub.execute_input": "2020-10-06T23:50:42.500229Z",
     "iopub.status.busy": "2020-10-06T23:50:42.499973Z",
     "iopub.status.idle": "2020-10-06T23:50:42.506536Z",
     "shell.execute_reply": "2020-10-06T23:50:42.506109Z",
     "shell.execute_reply.started": "2020-10-06T23:50:42.500206Z"
    },
    "jupyter": {
     "outputs_hidden": false
    }
   },
   "outputs": [
    {
     "data": {
      "text/html": [
       "<div>\n",
       "<style scoped>\n",
       "    .dataframe tbody tr th:only-of-type {\n",
       "        vertical-align: middle;\n",
       "    }\n",
       "\n",
       "    .dataframe tbody tr th {\n",
       "        vertical-align: top;\n",
       "    }\n",
       "\n",
       "    .dataframe thead th {\n",
       "        text-align: right;\n",
       "    }\n",
       "</style>\n",
       "<table border=\"1\" class=\"dataframe\">\n",
       "  <thead>\n",
       "    <tr style=\"text-align: right;\">\n",
       "      <th></th>\n",
       "      <th>userId</th>\n",
       "      <th>movieId</th>\n",
       "      <th>rating</th>\n",
       "      <th>timestamp</th>\n",
       "    </tr>\n",
       "  </thead>\n",
       "  <tbody>\n",
       "    <tr>\n",
       "      <th>0</th>\n",
       "      <td>1</td>\n",
       "      <td>1</td>\n",
       "      <td>4.0</td>\n",
       "      <td>964982703</td>\n",
       "    </tr>\n",
       "    <tr>\n",
       "      <th>1</th>\n",
       "      <td>1</td>\n",
       "      <td>3</td>\n",
       "      <td>4.0</td>\n",
       "      <td>964981247</td>\n",
       "    </tr>\n",
       "    <tr>\n",
       "      <th>2</th>\n",
       "      <td>1</td>\n",
       "      <td>6</td>\n",
       "      <td>4.0</td>\n",
       "      <td>964982224</td>\n",
       "    </tr>\n",
       "  </tbody>\n",
       "</table>\n",
       "</div>"
      ],
      "text/plain": [
       "   userId  movieId  rating  timestamp\n",
       "0       1        1     4.0  964982703\n",
       "1       1        3     4.0  964981247\n",
       "2       1        6     4.0  964982224"
      ]
     },
     "execution_count": 39,
     "metadata": {},
     "output_type": "execute_result"
    }
   ],
   "source": [
    "ratings.head(3)"
   ]
  },
  {
   "cell_type": "markdown",
   "metadata": {
    "slideshow": {
     "slide_type": "subslide"
    }
   },
   "source": [
    "Now let's see what happens when we `merge` this with the `movies` DataFrame"
   ]
  },
  {
   "cell_type": "code",
   "execution_count": 40,
   "metadata": {
    "execution": {
     "iopub.execute_input": "2020-10-06T23:50:43.660890Z",
     "iopub.status.busy": "2020-10-06T23:50:43.660736Z",
     "iopub.status.idle": "2020-10-06T23:50:43.668803Z",
     "shell.execute_reply": "2020-10-06T23:50:43.668500Z",
     "shell.execute_reply.started": "2020-10-06T23:50:43.660876Z"
    }
   },
   "outputs": [
    {
     "data": {
      "text/html": [
       "<div>\n",
       "<style scoped>\n",
       "    .dataframe tbody tr th:only-of-type {\n",
       "        vertical-align: middle;\n",
       "    }\n",
       "\n",
       "    .dataframe tbody tr th {\n",
       "        vertical-align: top;\n",
       "    }\n",
       "\n",
       "    .dataframe thead th {\n",
       "        text-align: right;\n",
       "    }\n",
       "</style>\n",
       "<table border=\"1\" class=\"dataframe\">\n",
       "  <thead>\n",
       "    <tr style=\"text-align: right;\">\n",
       "      <th></th>\n",
       "      <th>userId</th>\n",
       "      <th>movieId</th>\n",
       "      <th>rating</th>\n",
       "      <th>timestamp</th>\n",
       "      <th>title</th>\n",
       "      <th>genres</th>\n",
       "    </tr>\n",
       "  </thead>\n",
       "  <tbody>\n",
       "    <tr>\n",
       "      <th>0</th>\n",
       "      <td>1</td>\n",
       "      <td>1</td>\n",
       "      <td>4.0</td>\n",
       "      <td>964982703</td>\n",
       "      <td>Toy Story (1995)</td>\n",
       "      <td>Adventure|Animation|Children|Comedy|Fantasy</td>\n",
       "    </tr>\n",
       "    <tr>\n",
       "      <th>1</th>\n",
       "      <td>1</td>\n",
       "      <td>3</td>\n",
       "      <td>4.0</td>\n",
       "      <td>964981247</td>\n",
       "      <td>Grumpier Old Men (1995)</td>\n",
       "      <td>Comedy|Romance</td>\n",
       "    </tr>\n",
       "    <tr>\n",
       "      <th>2</th>\n",
       "      <td>1</td>\n",
       "      <td>6</td>\n",
       "      <td>4.0</td>\n",
       "      <td>964982224</td>\n",
       "      <td>Heat (1995)</td>\n",
       "      <td>Action|Crime|Thriller</td>\n",
       "    </tr>\n",
       "  </tbody>\n",
       "</table>\n",
       "</div>"
      ],
      "text/plain": [
       "   userId  movieId  rating  timestamp                    title  \\\n",
       "0       1        1     4.0  964982703         Toy Story (1995)   \n",
       "1       1        3     4.0  964981247  Grumpier Old Men (1995)   \n",
       "2       1        6     4.0  964982224              Heat (1995)   \n",
       "\n",
       "                                        genres  \n",
       "0  Adventure|Animation|Children|Comedy|Fantasy  \n",
       "1                               Comedy|Romance  \n",
       "2                        Action|Crime|Thriller  "
      ]
     },
     "execution_count": 40,
     "metadata": {},
     "output_type": "execute_result"
    }
   ],
   "source": [
    "ratings.head(3).merge(movies, on=\"movieId\")"
   ]
  },
  {
   "cell_type": "markdown",
   "metadata": {},
   "source": [
    "Here's a breakdown of what happened:\n",
    "\n",
    "- For each row in `ratings.head(3)` pandas found the `movieId`\n",
    "- It then looked for row(s) in `movies` that had a matching `movieId`\n",
    "- It then added columns `title` and `genres` alongside existing columns from `ratings` (`userId`, `rating`, `timestamp`) to form combined DataFrame"
   ]
  },
  {
   "cell_type": "markdown",
   "metadata": {
    "slideshow": {
     "slide_type": "subslide"
    }
   },
   "source": [
    "Let's now apply this `merge` to the whole `ratings` dataset"
   ]
  },
  {
   "cell_type": "code",
   "execution_count": 41,
   "metadata": {
    "collapsed": false,
    "execution": {
     "iopub.execute_input": "2020-10-06T23:51:09.734765Z",
     "iopub.status.busy": "2020-10-06T23:51:09.734454Z",
     "iopub.status.idle": "2020-10-06T23:51:09.755707Z",
     "shell.execute_reply": "2020-10-06T23:51:09.755362Z",
     "shell.execute_reply.started": "2020-10-06T23:51:09.734738Z"
    },
    "jupyter": {
     "outputs_hidden": false
    }
   },
   "outputs": [
    {
     "name": "stdout",
     "output_type": "stream",
     "text": [
      "Dimensions of ratings: (100836, 4)\n",
      "Dimensions of movies: (9742, 3)\n",
      "Dimensions of new df: (100836, 6)\n"
     ]
    },
    {
     "data": {
      "text/html": [
       "<div>\n",
       "<style scoped>\n",
       "    .dataframe tbody tr th:only-of-type {\n",
       "        vertical-align: middle;\n",
       "    }\n",
       "\n",
       "    .dataframe tbody tr th {\n",
       "        vertical-align: top;\n",
       "    }\n",
       "\n",
       "    .dataframe thead th {\n",
       "        text-align: right;\n",
       "    }\n",
       "</style>\n",
       "<table border=\"1\" class=\"dataframe\">\n",
       "  <thead>\n",
       "    <tr style=\"text-align: right;\">\n",
       "      <th></th>\n",
       "      <th>userId</th>\n",
       "      <th>movieId</th>\n",
       "      <th>rating</th>\n",
       "      <th>timestamp</th>\n",
       "      <th>title</th>\n",
       "      <th>genres</th>\n",
       "    </tr>\n",
       "  </thead>\n",
       "  <tbody>\n",
       "    <tr>\n",
       "      <th>0</th>\n",
       "      <td>1</td>\n",
       "      <td>1</td>\n",
       "      <td>4.0</td>\n",
       "      <td>964982703</td>\n",
       "      <td>Toy Story (1995)</td>\n",
       "      <td>Adventure|Animation|Children|Comedy|Fantasy</td>\n",
       "    </tr>\n",
       "    <tr>\n",
       "      <th>1</th>\n",
       "      <td>1</td>\n",
       "      <td>3</td>\n",
       "      <td>4.0</td>\n",
       "      <td>964981247</td>\n",
       "      <td>Grumpier Old Men (1995)</td>\n",
       "      <td>Comedy|Romance</td>\n",
       "    </tr>\n",
       "    <tr>\n",
       "      <th>2</th>\n",
       "      <td>1</td>\n",
       "      <td>6</td>\n",
       "      <td>4.0</td>\n",
       "      <td>964982224</td>\n",
       "      <td>Heat (1995)</td>\n",
       "      <td>Action|Crime|Thriller</td>\n",
       "    </tr>\n",
       "    <tr>\n",
       "      <th>3</th>\n",
       "      <td>1</td>\n",
       "      <td>47</td>\n",
       "      <td>5.0</td>\n",
       "      <td>964983815</td>\n",
       "      <td>Seven (a.k.a. Se7en) (1995)</td>\n",
       "      <td>Mystery|Thriller</td>\n",
       "    </tr>\n",
       "    <tr>\n",
       "      <th>4</th>\n",
       "      <td>1</td>\n",
       "      <td>50</td>\n",
       "      <td>5.0</td>\n",
       "      <td>964982931</td>\n",
       "      <td>Usual Suspects, The (1995)</td>\n",
       "      <td>Crime|Mystery|Thriller</td>\n",
       "    </tr>\n",
       "    <tr>\n",
       "      <th>5</th>\n",
       "      <td>1</td>\n",
       "      <td>70</td>\n",
       "      <td>3.0</td>\n",
       "      <td>964982400</td>\n",
       "      <td>From Dusk Till Dawn (1996)</td>\n",
       "      <td>Action|Comedy|Horror|Thriller</td>\n",
       "    </tr>\n",
       "    <tr>\n",
       "      <th>6</th>\n",
       "      <td>1</td>\n",
       "      <td>101</td>\n",
       "      <td>5.0</td>\n",
       "      <td>964980868</td>\n",
       "      <td>Bottle Rocket (1996)</td>\n",
       "      <td>Adventure|Comedy|Crime|Romance</td>\n",
       "    </tr>\n",
       "    <tr>\n",
       "      <th>7</th>\n",
       "      <td>1</td>\n",
       "      <td>110</td>\n",
       "      <td>4.0</td>\n",
       "      <td>964982176</td>\n",
       "      <td>Braveheart (1995)</td>\n",
       "      <td>Action|Drama|War</td>\n",
       "    </tr>\n",
       "    <tr>\n",
       "      <th>8</th>\n",
       "      <td>1</td>\n",
       "      <td>151</td>\n",
       "      <td>5.0</td>\n",
       "      <td>964984041</td>\n",
       "      <td>Rob Roy (1995)</td>\n",
       "      <td>Action|Drama|Romance|War</td>\n",
       "    </tr>\n",
       "    <tr>\n",
       "      <th>9</th>\n",
       "      <td>1</td>\n",
       "      <td>157</td>\n",
       "      <td>5.0</td>\n",
       "      <td>964984100</td>\n",
       "      <td>Canadian Bacon (1995)</td>\n",
       "      <td>Comedy|War</td>\n",
       "    </tr>\n",
       "    <tr>\n",
       "      <th>10</th>\n",
       "      <td>1</td>\n",
       "      <td>163</td>\n",
       "      <td>5.0</td>\n",
       "      <td>964983650</td>\n",
       "      <td>Desperado (1995)</td>\n",
       "      <td>Action|Romance|Western</td>\n",
       "    </tr>\n",
       "    <tr>\n",
       "      <th>11</th>\n",
       "      <td>1</td>\n",
       "      <td>216</td>\n",
       "      <td>5.0</td>\n",
       "      <td>964981208</td>\n",
       "      <td>Billy Madison (1995)</td>\n",
       "      <td>Comedy</td>\n",
       "    </tr>\n",
       "    <tr>\n",
       "      <th>12</th>\n",
       "      <td>1</td>\n",
       "      <td>223</td>\n",
       "      <td>3.0</td>\n",
       "      <td>964980985</td>\n",
       "      <td>Clerks (1994)</td>\n",
       "      <td>Comedy</td>\n",
       "    </tr>\n",
       "    <tr>\n",
       "      <th>13</th>\n",
       "      <td>1</td>\n",
       "      <td>231</td>\n",
       "      <td>5.0</td>\n",
       "      <td>964981179</td>\n",
       "      <td>Dumb &amp; Dumber (Dumb and Dumber) (1994)</td>\n",
       "      <td>Adventure|Comedy</td>\n",
       "    </tr>\n",
       "    <tr>\n",
       "      <th>14</th>\n",
       "      <td>1</td>\n",
       "      <td>235</td>\n",
       "      <td>4.0</td>\n",
       "      <td>964980908</td>\n",
       "      <td>Ed Wood (1994)</td>\n",
       "      <td>Comedy|Drama</td>\n",
       "    </tr>\n",
       "    <tr>\n",
       "      <th>15</th>\n",
       "      <td>1</td>\n",
       "      <td>260</td>\n",
       "      <td>5.0</td>\n",
       "      <td>964981680</td>\n",
       "      <td>Star Wars: Episode IV - A New Hope (1977)</td>\n",
       "      <td>Action|Adventure|Sci-Fi</td>\n",
       "    </tr>\n",
       "    <tr>\n",
       "      <th>16</th>\n",
       "      <td>1</td>\n",
       "      <td>296</td>\n",
       "      <td>3.0</td>\n",
       "      <td>964982967</td>\n",
       "      <td>Pulp Fiction (1994)</td>\n",
       "      <td>Comedy|Crime|Drama|Thriller</td>\n",
       "    </tr>\n",
       "    <tr>\n",
       "      <th>17</th>\n",
       "      <td>1</td>\n",
       "      <td>316</td>\n",
       "      <td>3.0</td>\n",
       "      <td>964982310</td>\n",
       "      <td>Stargate (1994)</td>\n",
       "      <td>Action|Adventure|Sci-Fi</td>\n",
       "    </tr>\n",
       "    <tr>\n",
       "      <th>18</th>\n",
       "      <td>1</td>\n",
       "      <td>333</td>\n",
       "      <td>5.0</td>\n",
       "      <td>964981179</td>\n",
       "      <td>Tommy Boy (1995)</td>\n",
       "      <td>Comedy</td>\n",
       "    </tr>\n",
       "    <tr>\n",
       "      <th>19</th>\n",
       "      <td>1</td>\n",
       "      <td>349</td>\n",
       "      <td>4.0</td>\n",
       "      <td>964982563</td>\n",
       "      <td>Clear and Present Danger (1994)</td>\n",
       "      <td>Action|Crime|Drama|Thriller</td>\n",
       "    </tr>\n",
       "  </tbody>\n",
       "</table>\n",
       "</div>"
      ],
      "text/plain": [
       "    userId  movieId  rating  timestamp  \\\n",
       "0        1        1     4.0  964982703   \n",
       "1        1        3     4.0  964981247   \n",
       "2        1        6     4.0  964982224   \n",
       "3        1       47     5.0  964983815   \n",
       "4        1       50     5.0  964982931   \n",
       "5        1       70     3.0  964982400   \n",
       "6        1      101     5.0  964980868   \n",
       "7        1      110     4.0  964982176   \n",
       "8        1      151     5.0  964984041   \n",
       "9        1      157     5.0  964984100   \n",
       "10       1      163     5.0  964983650   \n",
       "11       1      216     5.0  964981208   \n",
       "12       1      223     3.0  964980985   \n",
       "13       1      231     5.0  964981179   \n",
       "14       1      235     4.0  964980908   \n",
       "15       1      260     5.0  964981680   \n",
       "16       1      296     3.0  964982967   \n",
       "17       1      316     3.0  964982310   \n",
       "18       1      333     5.0  964981179   \n",
       "19       1      349     4.0  964982563   \n",
       "\n",
       "                                        title  \\\n",
       "0                            Toy Story (1995)   \n",
       "1                     Grumpier Old Men (1995)   \n",
       "2                                 Heat (1995)   \n",
       "3                 Seven (a.k.a. Se7en) (1995)   \n",
       "4                  Usual Suspects, The (1995)   \n",
       "5                  From Dusk Till Dawn (1996)   \n",
       "6                        Bottle Rocket (1996)   \n",
       "7                           Braveheart (1995)   \n",
       "8                              Rob Roy (1995)   \n",
       "9                       Canadian Bacon (1995)   \n",
       "10                           Desperado (1995)   \n",
       "11                       Billy Madison (1995)   \n",
       "12                              Clerks (1994)   \n",
       "13     Dumb & Dumber (Dumb and Dumber) (1994)   \n",
       "14                             Ed Wood (1994)   \n",
       "15  Star Wars: Episode IV - A New Hope (1977)   \n",
       "16                        Pulp Fiction (1994)   \n",
       "17                            Stargate (1994)   \n",
       "18                           Tommy Boy (1995)   \n",
       "19            Clear and Present Danger (1994)   \n",
       "\n",
       "                                         genres  \n",
       "0   Adventure|Animation|Children|Comedy|Fantasy  \n",
       "1                                Comedy|Romance  \n",
       "2                         Action|Crime|Thriller  \n",
       "3                              Mystery|Thriller  \n",
       "4                        Crime|Mystery|Thriller  \n",
       "5                 Action|Comedy|Horror|Thriller  \n",
       "6                Adventure|Comedy|Crime|Romance  \n",
       "7                              Action|Drama|War  \n",
       "8                      Action|Drama|Romance|War  \n",
       "9                                    Comedy|War  \n",
       "10                       Action|Romance|Western  \n",
       "11                                       Comedy  \n",
       "12                                       Comedy  \n",
       "13                             Adventure|Comedy  \n",
       "14                                 Comedy|Drama  \n",
       "15                      Action|Adventure|Sci-Fi  \n",
       "16                  Comedy|Crime|Drama|Thriller  \n",
       "17                      Action|Adventure|Sci-Fi  \n",
       "18                                       Comedy  \n",
       "19                  Action|Crime|Drama|Thriller  "
      ]
     },
     "execution_count": 41,
     "metadata": {},
     "output_type": "execute_result"
    }
   ],
   "source": [
    "combo = pd.merge(ratings, movies,   # left and right df's\n",
    "                 how='left',        # add to left \n",
    "                 on='movieId'       # link with this variable/column \n",
    "                ) \n",
    "\n",
    "print('Dimensions of ratings:', ratings.shape)\n",
    "print('Dimensions of movies:', movies.shape)\n",
    "print('Dimensions of new df:', combo.shape)\n",
    "\n",
    "combo.head(20)"
   ]
  },
  {
   "cell_type": "markdown",
   "metadata": {
    "slideshow": {
     "slide_type": "subslide"
    }
   },
   "source": [
    "Now that we've merged the DataFrames, we can save it to our own de-normalized csv\n",
    "\n",
    "This could make future analysis easier as we don't have to repeat the merge step"
   ]
  },
  {
   "cell_type": "code",
   "execution_count": 50,
   "metadata": {
    "execution": {
     "iopub.execute_input": "2020-10-07T00:06:00.736979Z",
     "iopub.status.busy": "2020-10-07T00:06:00.736726Z",
     "iopub.status.idle": "2020-10-07T00:06:01.000908Z",
     "shell.execute_reply": "2020-10-07T00:06:01.000386Z",
     "shell.execute_reply.started": "2020-10-07T00:06:00.736955Z"
    }
   },
   "outputs": [],
   "source": [
    "# save as csv file for future use \n",
    "combo.to_csv('mlcombined.csv')"
   ]
  },
  {
   "cell_type": "code",
   "execution_count": 53,
   "metadata": {
    "collapsed": false,
    "execution": {
     "iopub.execute_input": "2020-10-07T00:06:12.424473Z",
     "iopub.status.busy": "2020-10-07T00:06:12.424221Z",
     "iopub.status.idle": "2020-10-07T00:06:12.428064Z",
     "shell.execute_reply": "2020-10-07T00:06:12.427568Z",
     "shell.execute_reply.started": "2020-10-07T00:06:12.424449Z"
    },
    "jupyter": {
     "outputs_hidden": false
    }
   },
   "outputs": [
    {
     "name": "stdout",
     "output_type": "stream",
     "text": [
      "Current directory:\n",
      "/home/sglyon/valorum/training/CSS/PHBS20-21/Fall2020/LExtra_pandas_review\n",
      "List of files:\n",
      "['test.zip', 'pandas_example_movieLens.ipynb', 'mlcombined.csv', 'test_01.csv', '.ipynb_checkpoints']\n"
     ]
    }
   ],
   "source": [
    "print('Current directory:\\n', os.getcwd(), sep='')\n",
    "print('List of files:', os.listdir(), sep='\\n')"
   ]
  },
  {
   "cell_type": "markdown",
   "metadata": {
    "slideshow": {
     "slide_type": "subslide"
    }
   },
   "source": [
    "**Exercise.** Some of these we know how to do, the others we don't.  For the ones we know, what is the answer?  For the others, what (in loose terms) do we need to be able to do to come up with an answer?  \n",
    "\n",
    "* What is the overall average rating?  \n",
    "* What is the overall distribution of ratings?  \n",
    "* What is the average rating of each movie?  \n",
    "* How many ratings does each movie get?  "
   ]
  },
  {
   "cell_type": "code",
   "execution_count": null,
   "metadata": {},
   "outputs": [],
   "source": [
    "# Your code/idea here -- average rating"
   ]
  },
  {
   "cell_type": "code",
   "execution_count": null,
   "metadata": {},
   "outputs": [],
   "source": [
    "# Your code/idea here -- distribution of ratings"
   ]
  },
  {
   "cell_type": "code",
   "execution_count": null,
   "metadata": {},
   "outputs": [],
   "source": [
    "# Your code/idea here -- average rating of each movie"
   ]
  },
  {
   "cell_type": "code",
   "execution_count": null,
   "metadata": {},
   "outputs": [],
   "source": [
    "# Your code/idea here -- number of ratings for each movie"
   ]
  },
  {
   "cell_type": "code",
   "execution_count": null,
   "metadata": {},
   "outputs": [],
   "source": [
    "combo['rating'].mean()"
   ]
  },
  {
   "cell_type": "code",
   "execution_count": null,
   "metadata": {},
   "outputs": [],
   "source": [
    "fig, ax = plt.subplots()\n",
    "bins = [bin/100 for bin in list(range(25, 575, 50))]\n",
    "print(bins)\n",
    "combo['rating'].plot(kind='hist', ax=ax, bins=bins, color='blue', alpha=0.5)\n",
    "ax.set_xlim(0,5.5)\n",
    "ax.set_ylabel('Number')\n",
    "ax.set_xlabel('Rating')\n",
    "plt.show()"
   ]
  },
  {
   "cell_type": "code",
   "execution_count": null,
   "metadata": {},
   "outputs": [],
   "source": [
    "from plotly.offline import iplot             # plotting functions\n",
    "import plotly.graph_objs as go               # ditto\n",
    "import plotly"
   ]
  },
  {
   "cell_type": "code",
   "execution_count": null,
   "metadata": {
    "collapsed": false,
    "jupyter": {
     "outputs_hidden": false
    }
   },
   "outputs": [],
   "source": [
    "plotly.offline.init_notebook_mode(connected=True)"
   ]
  },
  {
   "cell_type": "code",
   "execution_count": null,
   "metadata": {
    "collapsed": false,
    "jupyter": {
     "outputs_hidden": false
    }
   },
   "outputs": [],
   "source": [
    "trace = go.Histogram(\n",
    "    x=combo['rating'],\n",
    "    histnorm='count',\n",
    "    name='control',\n",
    "    autobinx=False,\n",
    "    xbins=dict(\n",
    "        start=.5,\n",
    "        end=5.0,\n",
    "        size=0.5\n",
    "    ),\n",
    "    marker=dict(\n",
    "        color='Blue',\n",
    "    ),\n",
    "    opacity=0.75\n",
    ")\n",
    "\n",
    "layout = go.Layout(\n",
    "    title='Distribution of ratings',\n",
    "    xaxis=dict(\n",
    "        title='Rating value'\n",
    "    ),\n",
    "    yaxis=dict(\n",
    "        title='Count'\n",
    "    ),\n",
    "    bargap=0.01,\n",
    "    bargroupgap=0.1\n",
    ")\n",
    "\n",
    "iplot(go.Figure(data=[trace], layout=layout))"
   ]
  },
  {
   "cell_type": "code",
   "execution_count": null,
   "metadata": {
    "collapsed": false,
    "jupyter": {
     "outputs_hidden": false
    }
   },
   "outputs": [],
   "source": [
    "combo[combo['movieId']==31]['rating'].mean()"
   ]
  },
  {
   "cell_type": "code",
   "execution_count": null,
   "metadata": {},
   "outputs": [],
   "source": [
    "ave_mov = combo['rating'].groupby(combo['movieId']).mean()"
   ]
  },
  {
   "cell_type": "code",
   "execution_count": null,
   "metadata": {
    "collapsed": false,
    "jupyter": {
     "outputs_hidden": false
    },
    "scrolled": true
   },
   "outputs": [],
   "source": [
    "ave_mov = ave_mov.reset_index()"
   ]
  },
  {
   "cell_type": "code",
   "execution_count": null,
   "metadata": {
    "collapsed": false,
    "jupyter": {
     "outputs_hidden": false
    }
   },
   "outputs": [],
   "source": [
    "ave_mov = ave_mov.rename(columns={\"rating\": \"average rating\"})"
   ]
  },
  {
   "cell_type": "code",
   "execution_count": null,
   "metadata": {},
   "outputs": [],
   "source": [
    "combo2 = combo.merge(ave_mov, how='left', on='movieId')"
   ]
  },
  {
   "cell_type": "code",
   "execution_count": null,
   "metadata": {
    "collapsed": false,
    "jupyter": {
     "outputs_hidden": false
    }
   },
   "outputs": [],
   "source": [
    "combo2.shape"
   ]
  },
  {
   "cell_type": "code",
   "execution_count": null,
   "metadata": {
    "collapsed": false,
    "jupyter": {
     "outputs_hidden": false
    }
   },
   "outputs": [],
   "source": [
    "combo2.head(3)"
   ]
  },
  {
   "cell_type": "code",
   "execution_count": null,
   "metadata": {},
   "outputs": [],
   "source": [
    "combo['ave'] = combo['rating'].groupby(combo['movieId']).transform('mean')"
   ]
  },
  {
   "cell_type": "code",
   "execution_count": null,
   "metadata": {
    "collapsed": false,
    "jupyter": {
     "outputs_hidden": false
    }
   },
   "outputs": [],
   "source": [
    "combo.head()"
   ]
  },
  {
   "cell_type": "code",
   "execution_count": null,
   "metadata": {
    "collapsed": false,
    "jupyter": {
     "outputs_hidden": false
    },
    "scrolled": true
   },
   "outputs": [],
   "source": [
    "combo2[combo['movieId']==1129]"
   ]
  },
  {
   "cell_type": "code",
   "execution_count": null,
   "metadata": {},
   "outputs": [],
   "source": [
    "combo['count'] = combo['rating'].groupby(combo['movieId']).transform('count')"
   ]
  },
  {
   "cell_type": "code",
   "execution_count": null,
   "metadata": {
    "collapsed": false,
    "jupyter": {
     "outputs_hidden": false
    }
   },
   "outputs": [],
   "source": [
    "combo.head()"
   ]
  },
  {
   "cell_type": "markdown",
   "metadata": {},
   "source": [
    "## Resources \n",
    "\n",
    "The [Pandas docs](http://pandas.pydata.org/pandas-docs/stable/merging.html) are ok, but we prefer the Data Carpentry [guide](http://www.datacarpentry.org/python-ecology-lesson/04-merging-data)"
   ]
  },
  {
   "cell_type": "code",
   "execution_count": null,
   "metadata": {},
   "outputs": [],
   "source": []
  }
 ],
 "metadata": {
  "anaconda-cloud": {},
  "kernelspec": {
   "display_name": "Python 3",
   "language": "python",
   "name": "python3"
  },
  "language_info": {
   "codemirror_mode": {
    "name": "ipython",
    "version": 3
   },
   "file_extension": ".py",
   "mimetype": "text/x-python",
   "name": "python",
   "nbconvert_exporter": "python",
   "pygments_lexer": "ipython3",
   "version": "3.8.5"
  },
  "widgets": {
   "application/vnd.jupyter.widget-state+json": {
    "state": {},
    "version_major": 2,
    "version_minor": 0
   }
  }
 },
 "nbformat": 4,
 "nbformat_minor": 4
}
