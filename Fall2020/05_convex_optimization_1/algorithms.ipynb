{
 "cells": [
  {
   "cell_type": "markdown",
   "metadata": {},
   "source": [
    "# Convex Optimization: Algorithms\n",
    "\n",
    "**Prerequisites**\n",
    "\n",
    "- TODO\n",
    "\n",
    "\n",
    "**Outcomes**\n",
    "\n",
    "TODO: clean this up"
   ]
  },
  {
   "cell_type": "markdown",
   "metadata": {},
   "source": [
    "## Simplex Algorithm"
   ]
  }
 ],
 "metadata": {
  "kernelspec": {
   "display_name": "Julia 1.2.0",
   "name": "julia-1.2"
  },
  "orig_nbformat": 2
 },
 "nbformat": 4,
 "nbformat_minor": 2
}