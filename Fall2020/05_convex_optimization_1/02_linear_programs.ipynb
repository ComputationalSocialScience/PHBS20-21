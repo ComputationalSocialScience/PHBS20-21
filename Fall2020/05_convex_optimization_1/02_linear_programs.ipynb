{
 "cells": [
  {
   "cell_type": "markdown",
   "metadata": {
    "slideshow": {
     "slide_type": "slide"
    }
   },
   "source": [
    "# Convex Optimization: Linear Programs\n",
    "\n",
    "**Prerequisites**\n",
    "\n",
    "- Linear Algebra\n",
    "- Calculus\n",
    "- Convex Optimization: Theoretical Foundations\n",
    "\n",
    "\n",
    "**Outcomes**\n",
    "\n",
    "- Understand the format of a linear program\n",
    "- Know how to formulate a linear program in standard form\n",
    "- Understand and interpret slack variables\n",
    "- Know how to set up and solve linear programs"
   ]
  },
  {
   "cell_type": "markdown",
   "metadata": {
    "slideshow": {
     "slide_type": "subslide"
    }
   },
   "source": [
    "**Outline**\n",
    "\n",
    "- Linear Programs\n",
    "- Example: Diet Problem\n",
    "- Optimal Transport Primer\n",
    "- Example: Product Mix Problem"
   ]
  },
  {
   "cell_type": "code",
   "execution_count": 1,
   "metadata": {},
   "outputs": [],
   "source": [
    "import numpy as np"
   ]
  },
  {
   "cell_type": "markdown",
   "metadata": {
    "slideshow": {
     "slide_type": "slide"
    }
   },
   "source": [
    "## Linear Programs\n",
    "\n",
    "A **linear program** is an optimization problem of the form\n",
    "\n",
    "$$\\begin{align*}\n",
    "\\min_x \\ & c^T x \\\\\n",
    "\\mbox{subject to } \\ & Gx \\le h \\\\\n",
    "& Ax = b\\\\\n",
    "\\end{align*}$$"
   ]
  },
  {
   "cell_type": "markdown",
   "metadata": {
    "slideshow": {
     "slide_type": "subslide"
    }
   },
   "source": [
    "### Standard Form\n",
    "\n",
    "A *linear program in standard form* has only equality constraints and a non-negativity constraint on $x$:\n",
    "\n",
    "$$\\begin{align*}\n",
    "\\min_x \\ & c^T x \\\\\n",
    "& Ax = b,\\\\\n",
    "& x_i \\ge 0 \\; \\forall i\n",
    "\\end{align*}$$"
   ]
  },
  {
   "cell_type": "markdown",
   "metadata": {
    "slideshow": {
     "slide_type": "subslide"
    }
   },
   "source": [
    "<a id='exercise-0'></a>\n",
    "**Exercise 1**\n",
    "\n",
    "Convert a linear program in the general form to a linear program in standard form\n",
    "\n",
    "\n",
    "*Hint:* You will need to introduce a new vector (of slack variables) into the constraints"
   ]
  },
  {
   "cell_type": "markdown",
   "metadata": {
    "slideshow": {
     "slide_type": "slide"
    }
   },
   "source": [
    "## Example: Diet Problem\n",
    "\n",
    "**Want**: Construct calorie minimizing diet of $m$ distinct foods, subject to obtaining a minimum level of $k$ nutrients\n",
    "\n",
    "Let \n",
    "\n",
    "- $c_i$ for $i = 1, \\dots, m$ represent calories per serving of food $i$ \n",
    "- $a_{i,j}$ for $i=1,\\dots,k$ and $j=1,\\dots, m$ represent the amount of nutrient $i$ in food $j$\n",
    "- $b_i$ for $i=1,\\dots,k$ be the minimum level of nutrient $i$ needed\n",
    "\n",
    "\n",
    "\n",
    "\n"
   ]
  },
  {
   "cell_type": "markdown",
   "metadata": {
    "slideshow": {
     "slide_type": "subslide"
    }
   },
   "source": [
    "##### A linear program\n",
    "\n",
    "We can formulate the diet problem as a linear program by\n",
    "\n",
    "- Constructing a matrix $A$ of all the $a_{k,m}$ values. Each column will represent nutrient values per serving of a single food, while each row will be value of a single nutrient in all foods\n",
    "- Stack the nutrient requirements $b_k$ in a column vector, matching the order of the rows of $A$"
   ]
  },
  {
   "cell_type": "markdown",
   "metadata": {
    "slideshow": {
     "slide_type": "subslide"
    }
   },
   "source": [
    "Then, the linear program can be written\n",
    "\n",
    "$$\\begin{align*}\n",
    "\\min_x \\ & c^T x \\\\\n",
    "& Ax \\ge b,\\\\\n",
    "& x_i \\ge 0 \\; i=1,\\dots,m\n",
    "\\end{align*}$$\n",
    "\n",
    "> NOTE: the line $Ax \\ge b$ is shorthand for imposing the inequality elementwise (row by row)"
   ]
  },
  {
   "cell_type": "markdown",
   "metadata": {
    "slideshow": {
     "slide_type": "subslide"
    }
   },
   "source": [
    "### Convert to standard form\n",
    "\n",
    "We can convert the linear program to standard form by:\n",
    "\n",
    "- Multiplying the $Ax \\ge b$ inequality by $-1$, which is defining $\\tilde{A} = -A$ and $\\tilde{b} = -b$. Now inequality constraint is $$\\tilde{A} x \\le \\tilde{b}$$\n",
    "- Add a vector slack variables to the modified inequality: $$\\tilde{A} x + s = \\tilde{b}$$\n",
    "- Impose non-negativity on our slack vairables"
   ]
  },
  {
   "cell_type": "markdown",
   "metadata": {
    "slideshow": {
     "slide_type": "subslide"
    }
   },
   "source": [
    "The standard form LP is \n",
    "\n",
    "$$\\begin{align*}\n",
    "\\min_x \\ & c^T x \\\\\n",
    "& \\tilde{A}x  + s \\le \\tilde{b},\\\\\n",
    "& x_i \\ge 0 \\; i=1,\\dots,m\\\\\n",
    "& s_i \\ge 0 \\; i=1,\\dots,k\n",
    "\\end{align*}$$"
   ]
  },
  {
   "cell_type": "markdown",
   "metadata": {
    "slideshow": {
     "slide_type": "slide"
    }
   },
   "source": [
    "## Optimal Transport Primer\n",
    "\n",
    "<a id='exercise-1'></a>\n",
    "**Exercise 2: Transportation problem**\n",
    "\n",
    "> Note: This problem comes from \"Labs for Foundations of Applied Mathematics Volume 2\" by Jeffrey Humpherys And Tyler J. Jarvis released under the [Creative Commons Attribution 3.0 United States license](http://creativecommons.org/licenses/by/3.0/us/). The original source for the lab materials can be found at [https://github.com/Foundations-of-Applied-Mathematics/Labs](https://github.com/Foundations-of-Applied-Mathematics/Labs)"
   ]
  },
  {
   "cell_type": "markdown",
   "metadata": {
    "slideshow": {
     "slide_type": "subslide"
    }
   },
   "source": [
    "Consider the following transportation problem: \n",
    "\n",
    "- A piano company needs to transport thirteen pianos from their three supply centers (denoted by 1, 2, 3) to two demand centers (4, 5)\n",
    "- Transporting a piano from a supply center to a demand center incurs a cost (see table below)\n",
    "- The company wants to minimize shipping costs for the pianos while meeting the demand\n",
    "\n",
    "| Supply Center | Demand Center | Cost of Transportation | Number of Pianos | \n",
    "| :-----------: | :-----------: | :--------------------: | :--------------: |\n",
    "| 1 | 4 | 4 | $p_1$ |\n",
    "| 1 | 5 | 7 | $p_2$ | \n",
    "| 2 | 4 | 6 | $p_3$ | \n",
    "| 2 | 5 | 8 | $p_4$ |\n",
    "| 3 | 4 | 8 | $p_5$ |\n",
    "| 3 | 5 | 9 | $p_6$ |"
   ]
  },
  {
   "cell_type": "markdown",
   "metadata": {
    "slideshow": {
     "slide_type": "subslide"
    }
   },
   "source": [
    "The number of pianos available at each supply center is given by:\n",
    "\n",
    "| Supply Center | Number of pianos available |\n",
    "| :-----------: | :------------------------: |\n",
    "| 1 | 7 |\n",
    "| 2 | 2 | \n",
    "| 3 | 4 |"
   ]
  },
  {
   "cell_type": "markdown",
   "metadata": {
    "slideshow": {
     "slide_type": "subslide"
    }
   },
   "source": [
    "The number of pianos needed at each demand center is given by\n",
    "\n",
    "| Demand Center | Number of pianos needed |\n",
    "| :-----------: | :---------------------: |\n",
    "| 4 | 5 |\n",
    "| 5 | 8 |"
   ]
  },
  {
   "cell_type": "markdown",
   "metadata": {
    "slideshow": {
     "slide_type": "subslide"
    }
   },
   "source": [
    "A linear program can be set up to solve for $p_i$, $i=1,\\dots,6$\n",
    "\n",
    "The objective is to minimize total cost of shipping pianos, subject to these constraints:\n",
    "\n",
    "- There cannot be a negative number of pianos transported along any route\n",
    "- All supply centers must transport all pianos\n",
    "- All demand centers must end up with needed number of pianosFinally, the objective function is the number of pianos shipped along each\n",
    "route multiplied costs found in the costs table."
   ]
  },
  {
   "cell_type": "markdown",
   "metadata": {
    "slideshow": {
     "slide_type": "subslide"
    }
   },
   "source": [
    "Your task is to formulate the transportation problem as a linear program\n",
    "\n",
    "That is define the vector $c$, matrix $A$ and vector $b$ that appropriately defines the problem as described above\n",
    "\n",
    "*Hint:* the matrix $A$ will have 5 rows and 6 columns"
   ]
  },
  {
   "cell_type": "markdown",
   "metadata": {},
   "source": [
    "*your work here*"
   ]
  },
  {
   "cell_type": "markdown",
   "metadata": {
    "slideshow": {
     "slide_type": "slide"
    }
   },
   "source": [
    "## Example: Product Mix Problem\n",
    "\n",
    "> Note: This problem comes from chapter 13 of \"Labs for Foundations of Applied Mathematics Volume 2\" by Jeffrey Humpherys And Tyler J. Jarvis released under the [Creative Commons Attribution 3.0 United States license](http://creativecommons.org/licenses/by/3.0/us/). The original source for the lab materials can be found at [https://github.com/Foundations-of-Applied-Mathematics/Labs](https://github.com/Foundations-of-Applied-Mathematics/Labs)"
   ]
  },
  {
   "cell_type": "markdown",
   "metadata": {
    "slideshow": {
     "slide_type": "subslide"
    }
   },
   "source": [
    "Suppose...\n",
    "\n",
    "- We work for a manufacturing plant \n",
    "- Our firm produces multiple goods, indexed by $i$\n",
    "- Goods produced with common resources, indexed by $j$\n",
    "- For next period, we know:\n",
    "    - Maximum consumer demand for each good: $d_i$\n",
    "    - The market price for each good: $p_i$\n",
    "    - Amount of each resource our firm has: $m_j$\n",
    "    - Amount of resource $j$ needed to produce  one unit of good $i$: $h_{ij}$\n",
    "- We must choose amount of each good ($x_i$) to produce to maximize next period revenue"
   ]
  },
  {
   "cell_type": "markdown",
   "metadata": {
    "slideshow": {
     "slide_type": "fragment"
    }
   },
   "source": [
    "> Note: We acknowledge that this is a simplified view of an economy. This is intentional as we want to focus on the ability to cast this problem as a linear program."
   ]
  },
  {
   "cell_type": "markdown",
   "metadata": {
    "slideshow": {
     "slide_type": "subslide"
    }
   },
   "source": [
    "### Problem setup\n",
    "\n",
    "Our firm's revenue in the next period is given by \n",
    "\n",
    "$$\\sum_i x_i p_i$$"
   ]
  },
  {
   "cell_type": "markdown",
   "metadata": {
    "slideshow": {
     "slide_type": "fragment"
    }
   },
   "source": [
    "The resource constraints can be expressed as\n",
    "\n",
    "$$\\sum_{i=1} h_{ji} x_i \\le m_j \\; \\forall j$$"
   ]
  },
  {
   "cell_type": "markdown",
   "metadata": {
    "slideshow": {
     "slide_type": "fragment"
    }
   },
   "source": [
    "Finally, we must express the constraint that we cannot sell more than the consumers are willing to buy:\n",
    "\n",
    "$$x_i \\le d_i \\; \\forall i$$"
   ]
  },
  {
   "cell_type": "markdown",
   "metadata": {
    "slideshow": {
     "slide_type": "subslide"
    }
   },
   "source": [
    "We can cast this as a standard linear program (as described above) by setting:\n",
    "\n",
    "\\begin{align*}\n",
    "c^T &= - \\begin{bmatrix} p_1 & \\cdots & p_n \\end{bmatrix} \\\\\n",
    "A &= \\begin{bmatrix} h_{11} & \\cdots & h_{1n} \\\\ \\vdots & \\ddots & \\vdots \\\\ h_{j1} & \\cdots & h_{jn} \\\\  &  \\\\ & I_n \\\\ & \\end{bmatrix} \\\\\n",
    "b &= \\begin{bmatrix} m_1 & \\cdots & m_j & d_1 & \\cdots & d_n \\end{bmatrix}^T \\\\\n",
    "x_i &\\ge 0 \\; \\forall i,\n",
    "\\end{align*}\n",
    "\n",
    "where $I_n$ represents the  $n \\times n$ identity matrix"
   ]
  },
  {
   "cell_type": "markdown",
   "metadata": {
    "slideshow": {
     "slide_type": "subslide"
    }
   },
   "source": [
    "The linear program is then:\n",
    "\n",
    "$$\\begin{align*}\n",
    "\\min_x \\ & c^T x \\\\\n",
    "\\mbox{subject to } \\ & Ax \\le b \\\\\n",
    "& x \\ge 0\\\\\n",
    "\\end{align*}$$\n",
    "\n",
    "\n",
    "> Note we would need to introduce slack variables to have only a single inequality constraint on $x$, but as you'll see below we can work with the problem as we just wrote it"
   ]
  },
  {
   "cell_type": "markdown",
   "metadata": {
    "slideshow": {
     "slide_type": "slide"
    }
   },
   "source": [
    "### Solving the Product Mix Problem\n",
    "\n",
    "Let's use the `scipy.optimize.linprog` routine to solve a version of the product mix problem\n",
    "\n",
    "Below we have written out numerical values for the problem described above:"
   ]
  },
  {
   "cell_type": "code",
   "execution_count": 2,
   "metadata": {},
   "outputs": [],
   "source": [
    "p = np.array([250., 215., 275., 180.])  # price vector\n",
    "d = np.array([10., 20., 12., 10.])      # demand vector\n",
    "m = np.array([4., 4., 4.])              # resource constraints\n",
    "\n",
    "H = np.array([                          # resource usage\n",
    "    [0.12, 0.18, 0.13, 0.07],\n",
    "    [0.15, 0.12, 0.13, 0.11],\n",
    "    [0.1 , 0.1 , 0.1 , 0.12]\n",
    "])"
   ]
  },
  {
   "cell_type": "markdown",
   "metadata": {
    "slideshow": {
     "slide_type": "subslide"
    }
   },
   "source": [
    "#### To General Form\n",
    "\n",
    "We apply the transformation above to set up a standard linear program"
   ]
  },
  {
   "cell_type": "code",
   "execution_count": 3,
   "metadata": {},
   "outputs": [],
   "source": [
    "c = -p\n",
    "b = np.concatenate((m, d))\n",
    "A = np.vstack((H, np.eye(len(p))))"
   ]
  },
  {
   "cell_type": "markdown",
   "metadata": {
    "slideshow": {
     "slide_type": "subslide"
    }
   },
   "source": [
    "We will use the `scipy.optimize.linprog` routine to solve our linear program\n",
    "\n",
    "Let's study its docstring:\n"
   ]
  },
  {
   "cell_type": "code",
   "execution_count": 6,
   "metadata": {},
   "outputs": [
    {
     "data": {
      "text/plain": [
       "\u001b[0;31mSignature:\u001b[0m\n",
       "\u001b[0mlinprog\u001b[0m\u001b[0;34m(\u001b[0m\u001b[0;34m\u001b[0m\n",
       "\u001b[0;34m\u001b[0m    \u001b[0mc\u001b[0m\u001b[0;34m,\u001b[0m\u001b[0;34m\u001b[0m\n",
       "\u001b[0;34m\u001b[0m    \u001b[0mA_ub\u001b[0m\u001b[0;34m=\u001b[0m\u001b[0;32mNone\u001b[0m\u001b[0;34m,\u001b[0m\u001b[0;34m\u001b[0m\n",
       "\u001b[0;34m\u001b[0m    \u001b[0mb_ub\u001b[0m\u001b[0;34m=\u001b[0m\u001b[0;32mNone\u001b[0m\u001b[0;34m,\u001b[0m\u001b[0;34m\u001b[0m\n",
       "\u001b[0;34m\u001b[0m    \u001b[0mA_eq\u001b[0m\u001b[0;34m=\u001b[0m\u001b[0;32mNone\u001b[0m\u001b[0;34m,\u001b[0m\u001b[0;34m\u001b[0m\n",
       "\u001b[0;34m\u001b[0m    \u001b[0mb_eq\u001b[0m\u001b[0;34m=\u001b[0m\u001b[0;32mNone\u001b[0m\u001b[0;34m,\u001b[0m\u001b[0;34m\u001b[0m\n",
       "\u001b[0;34m\u001b[0m    \u001b[0mbounds\u001b[0m\u001b[0;34m=\u001b[0m\u001b[0;32mNone\u001b[0m\u001b[0;34m,\u001b[0m\u001b[0;34m\u001b[0m\n",
       "\u001b[0;34m\u001b[0m    \u001b[0mmethod\u001b[0m\u001b[0;34m=\u001b[0m\u001b[0;34m'interior-point'\u001b[0m\u001b[0;34m,\u001b[0m\u001b[0;34m\u001b[0m\n",
       "\u001b[0;34m\u001b[0m    \u001b[0mcallback\u001b[0m\u001b[0;34m=\u001b[0m\u001b[0;32mNone\u001b[0m\u001b[0;34m,\u001b[0m\u001b[0;34m\u001b[0m\n",
       "\u001b[0;34m\u001b[0m    \u001b[0moptions\u001b[0m\u001b[0;34m=\u001b[0m\u001b[0;32mNone\u001b[0m\u001b[0;34m,\u001b[0m\u001b[0;34m\u001b[0m\n",
       "\u001b[0;34m\u001b[0m    \u001b[0mx0\u001b[0m\u001b[0;34m=\u001b[0m\u001b[0;32mNone\u001b[0m\u001b[0;34m,\u001b[0m\u001b[0;34m\u001b[0m\n",
       "\u001b[0;34m\u001b[0m\u001b[0;34m)\u001b[0m\u001b[0;34m\u001b[0m\u001b[0;34m\u001b[0m\u001b[0m\n",
       "\u001b[0;31mDocstring:\u001b[0m\n",
       "Linear programming: minimize a linear objective function subject to linear\n",
       "equality and inequality constraints.\n",
       "\n",
       "Linear programming solves problems of the following form:\n",
       "\n",
       ".. math::\n",
       "\n",
       "    \\min_x \\ & c^T x \\\\\n",
       "    \\mbox{such that} \\ & A_{ub} x \\leq b_{ub},\\\\\n",
       "    & A_{eq} x = b_{eq},\\\\\n",
       "    & l \\leq x \\leq u ,\n",
       "\n",
       "where :math:`x` is a vector of decision variables; :math:`c`,\n",
       ":math:`b_{ub}`, :math:`b_{eq}`, :math:`l`, and :math:`u` are vectors; and\n",
       ":math:`A_{ub}` and :math:`A_{eq}` are matrices.\n",
       "\n",
       "Informally, that's:\n",
       "\n",
       "minimize::\n",
       "\n",
       "    c @ x\n",
       "\n",
       "such that::\n",
       "\n",
       "    A_ub @ x <= b_ub\n",
       "    A_eq @ x == b_eq\n",
       "    lb <= x <= ub\n",
       "\n",
       "Note that by default ``lb = 0`` and ``ub = None`` unless specified with\n",
       "``bounds``.\n",
       "\n",
       "Parameters\n",
       "----------\n",
       "c : 1-D array\n",
       "    The coefficients of the linear objective function to be minimized.\n",
       "A_ub : 2-D array, optional\n",
       "    The inequality constraint matrix. Each row of ``A_ub`` specifies the\n",
       "    coefficients of a linear inequality constraint on ``x``.\n",
       "b_ub : 1-D array, optional\n",
       "    The inequality constraint vector. Each element represents an\n",
       "    upper bound on the corresponding value of ``A_ub @ x``.\n",
       "A_eq : 2-D array, optional\n",
       "    The equality constraint matrix. Each row of ``A_eq`` specifies the\n",
       "    coefficients of a linear equality constraint on ``x``.\n",
       "b_eq : 1-D array, optional\n",
       "    The equality constraint vector. Each element of ``A_eq @ x`` must equal\n",
       "    the corresponding element of ``b_eq``.\n",
       "bounds : sequence, optional\n",
       "    A sequence of ``(min, max)`` pairs for each element in ``x``, defining\n",
       "    the minimum and maximum values of that decision variable. Use ``None`` to\n",
       "    indicate that there is no bound. By default, bounds are ``(0, None)``\n",
       "    (all decision variables are non-negative).\n",
       "    If a single tuple ``(min, max)`` is provided, then ``min`` and\n",
       "    ``max`` will serve as bounds for all decision variables.\n",
       "method : {'interior-point', 'revised simplex', 'simplex'}, optional\n",
       "    The algorithm used to solve the standard form problem.\n",
       "    :ref:`'interior-point' <optimize.linprog-interior-point>` (default),\n",
       "    :ref:`'revised simplex' <optimize.linprog-revised_simplex>`, and\n",
       "    :ref:`'simplex' <optimize.linprog-simplex>` (legacy)\n",
       "    are supported.\n",
       "callback : callable, optional\n",
       "    If a callback function is provided, it will be called at least once per\n",
       "    iteration of the algorithm. The callback function must accept a single\n",
       "    `scipy.optimize.OptimizeResult` consisting of the following fields:\n",
       "\n",
       "        x : 1-D array\n",
       "            The current solution vector.\n",
       "        fun : float\n",
       "            The current value of the objective function ``c @ x``.\n",
       "        success : bool\n",
       "            ``True`` when the algorithm has completed successfully.\n",
       "        slack : 1-D array\n",
       "            The (nominally positive) values of the slack,\n",
       "            ``b_ub - A_ub @ x``.\n",
       "        con : 1-D array\n",
       "            The (nominally zero) residuals of the equality constraints,\n",
       "            ``b_eq - A_eq @ x``.\n",
       "        phase : int\n",
       "            The phase of the algorithm being executed.\n",
       "        status : int\n",
       "            An integer representing the status of the algorithm.\n",
       "\n",
       "            ``0`` : Optimization proceeding nominally.\n",
       "\n",
       "            ``1`` : Iteration limit reached.\n",
       "\n",
       "            ``2`` : Problem appears to be infeasible.\n",
       "\n",
       "            ``3`` : Problem appears to be unbounded.\n",
       "\n",
       "            ``4`` : Numerical difficulties encountered.\n",
       "\n",
       "        nit : int\n",
       "            The current iteration number.\n",
       "        message : str\n",
       "            A string descriptor of the algorithm status.\n",
       "\n",
       "options : dict, optional\n",
       "    A dictionary of solver options. All methods accept the following\n",
       "    options:\n",
       "\n",
       "        maxiter : int\n",
       "            Maximum number of iterations to perform.\n",
       "            Default: see method-specific documentation.\n",
       "        disp : bool\n",
       "            Set to ``True`` to print convergence messages.\n",
       "            Default: ``False``.\n",
       "        autoscale : bool\n",
       "            Set to ``True`` to automatically perform equilibration.\n",
       "            Consider using this option if the numerical values in the\n",
       "            constraints are separated by several orders of magnitude.\n",
       "            Default: ``False``.\n",
       "        presolve : bool\n",
       "            Set to ``False`` to disable automatic presolve.\n",
       "            Default: ``True``.\n",
       "        rr : bool\n",
       "            Set to ``False`` to disable automatic redundancy removal.\n",
       "            Default: ``True``.\n",
       "\n",
       "    For method-specific options, see\n",
       "    :func:`show_options('linprog') <show_options>`.\n",
       "\n",
       "x0 : 1-D array, optional\n",
       "    Guess values of the decision variables, which will be refined by\n",
       "    the optimization algorithm. This argument is currently used only by the\n",
       "    'revised simplex' method, and can only be used if `x0` represents a\n",
       "    basic feasible solution.\n",
       "\n",
       "\n",
       "Returns\n",
       "-------\n",
       "res : OptimizeResult\n",
       "    A :class:`scipy.optimize.OptimizeResult` consisting of the fields:\n",
       "\n",
       "        x : 1-D array\n",
       "            The values of the decision variables that minimizes the\n",
       "            objective function while satisfying the constraints.\n",
       "        fun : float\n",
       "            The optimal value of the objective function ``c @ x``.\n",
       "        slack : 1-D array\n",
       "            The (nominally positive) values of the slack variables,\n",
       "            ``b_ub - A_ub @ x``.\n",
       "        con : 1-D array\n",
       "            The (nominally zero) residuals of the equality constraints,\n",
       "            ``b_eq - A_eq @ x``.\n",
       "        success : bool\n",
       "            ``True`` when the algorithm succeeds in finding an optimal\n",
       "            solution.\n",
       "        status : int\n",
       "            An integer representing the exit status of the algorithm.\n",
       "\n",
       "            ``0`` : Optimization terminated successfully.\n",
       "\n",
       "            ``1`` : Iteration limit reached.\n",
       "\n",
       "            ``2`` : Problem appears to be infeasible.\n",
       "\n",
       "            ``3`` : Problem appears to be unbounded.\n",
       "\n",
       "            ``4`` : Numerical difficulties encountered.\n",
       "\n",
       "        nit : int\n",
       "            The total number of iterations performed in all phases.\n",
       "        message : str\n",
       "            A string descriptor of the exit status of the algorithm.\n",
       "\n",
       "See Also\n",
       "--------\n",
       "show_options : Additional options accepted by the solvers.\n",
       "\n",
       "Notes\n",
       "-----\n",
       "This section describes the available solvers that can be selected by the\n",
       "'method' parameter.\n",
       "\n",
       ":ref:`'interior-point' <optimize.linprog-interior-point>` is the default\n",
       "as it is typically the fastest and most robust method.\n",
       ":ref:`'revised simplex' <optimize.linprog-revised_simplex>` is more\n",
       "accurate for the problems it solves.\n",
       ":ref:`'simplex' <optimize.linprog-simplex>` is the legacy method and is\n",
       "included for backwards compatibility and educational purposes.\n",
       "\n",
       "Method *interior-point* uses the primal-dual path following algorithm\n",
       "as outlined in [4]_. This algorithm supports sparse constraint matrices and\n",
       "is typically faster than the simplex methods, especially for large, sparse\n",
       "problems. Note, however, that the solution returned may be slightly less\n",
       "accurate than those of the simplex methods and will not, in general,\n",
       "correspond with a vertex of the polytope defined by the constraints.\n",
       "\n",
       ".. versionadded:: 1.0.0\n",
       "\n",
       "Method *revised simplex* uses the revised simplex method as described in\n",
       "[9]_, except that a factorization [11]_ of the basis matrix, rather than\n",
       "its inverse, is efficiently maintained and used to solve the linear systems\n",
       "at each iteration of the algorithm.\n",
       "\n",
       ".. versionadded:: 1.3.0\n",
       "\n",
       "Method *simplex* uses a traditional, full-tableau implementation of\n",
       "Dantzig's simplex algorithm [1]_, [2]_ (*not* the\n",
       "Nelder-Mead simplex). This algorithm is included for backwards\n",
       "compatibility and educational purposes.\n",
       "\n",
       ".. versionadded:: 0.15.0\n",
       "\n",
       "Before applying any method, a presolve procedure based on [8]_ attempts\n",
       "to identify trivial infeasibilities, trivial unboundedness, and potential\n",
       "problem simplifications. Specifically, it checks for:\n",
       "\n",
       "- rows of zeros in ``A_eq`` or ``A_ub``, representing trivial constraints;\n",
       "- columns of zeros in ``A_eq`` `and` ``A_ub``, representing unconstrained\n",
       "  variables;\n",
       "- column singletons in ``A_eq``, representing fixed variables; and\n",
       "- column singletons in ``A_ub``, representing simple bounds.\n",
       "\n",
       "If presolve reveals that the problem is unbounded (e.g. an unconstrained\n",
       "and unbounded variable has negative cost) or infeasible (e.g., a row of\n",
       "zeros in ``A_eq`` corresponds with a nonzero in ``b_eq``), the solver\n",
       "terminates with the appropriate status code. Note that presolve terminates\n",
       "as soon as any sign of unboundedness is detected; consequently, a problem\n",
       "may be reported as unbounded when in reality the problem is infeasible\n",
       "(but infeasibility has not been detected yet). Therefore, if it is\n",
       "important to know whether the problem is actually infeasible, solve the\n",
       "problem again with option ``presolve=False``.\n",
       "\n",
       "If neither infeasibility nor unboundedness are detected in a single pass\n",
       "of the presolve, bounds are tightened where possible and fixed\n",
       "variables are removed from the problem. Then, linearly dependent rows\n",
       "of the ``A_eq`` matrix are removed, (unless they represent an\n",
       "infeasibility) to avoid numerical difficulties in the primary solve\n",
       "routine. Note that rows that are nearly linearly dependent (within a\n",
       "prescribed tolerance) may also be removed, which can change the optimal\n",
       "solution in rare cases. If this is a concern, eliminate redundancy from\n",
       "your problem formulation and run with option ``rr=False`` or\n",
       "``presolve=False``.\n",
       "\n",
       "Several potential improvements can be made here: additional presolve\n",
       "checks outlined in [8]_ should be implemented, the presolve routine should\n",
       "be run multiple times (until no further simplifications can be made), and\n",
       "more of the efficiency improvements from [5]_ should be implemented in the\n",
       "redundancy removal routines.\n",
       "\n",
       "After presolve, the problem is transformed to standard form by converting\n",
       "the (tightened) simple bounds to upper bound constraints, introducing\n",
       "non-negative slack variables for inequality constraints, and expressing\n",
       "unbounded variables as the difference between two non-negative variables.\n",
       "Optionally, the problem is automatically scaled via equilibration [12]_.\n",
       "The selected algorithm solves the standard form problem, and a\n",
       "postprocessing routine converts the result to a solution to the original\n",
       "problem.\n",
       "\n",
       "References\n",
       "----------\n",
       ".. [1] Dantzig, George B., Linear programming and extensions. Rand\n",
       "       Corporation Research Study Princeton Univ. Press, Princeton, NJ,\n",
       "       1963\n",
       ".. [2] Hillier, S.H. and Lieberman, G.J. (1995), \"Introduction to\n",
       "       Mathematical Programming\", McGraw-Hill, Chapter 4.\n",
       ".. [3] Bland, Robert G. New finite pivoting rules for the simplex method.\n",
       "       Mathematics of Operations Research (2), 1977: pp. 103-107.\n",
       ".. [4] Andersen, Erling D., and Knud D. Andersen. \"The MOSEK interior point\n",
       "       optimizer for linear programming: an implementation of the\n",
       "       homogeneous algorithm.\" High performance optimization. Springer US,\n",
       "       2000. 197-232.\n",
       ".. [5] Andersen, Erling D. \"Finding all linearly dependent rows in\n",
       "       large-scale linear programming.\" Optimization Methods and Software\n",
       "       6.3 (1995): 219-227.\n",
       ".. [6] Freund, Robert M. \"Primal-Dual Interior-Point Methods for Linear\n",
       "       Programming based on Newton's Method.\" Unpublished Course Notes,\n",
       "       March 2004. Available 2/25/2017 at\n",
       "       https://ocw.mit.edu/courses/sloan-school-of-management/15-084j-nonlinear-programming-spring-2004/lecture-notes/lec14_int_pt_mthd.pdf\n",
       ".. [7] Fourer, Robert. \"Solving Linear Programs by Interior-Point Methods.\"\n",
       "       Unpublished Course Notes, August 26, 2005. Available 2/25/2017 at\n",
       "       http://www.4er.org/CourseNotes/Book%20B/B-III.pdf\n",
       ".. [8] Andersen, Erling D., and Knud D. Andersen. \"Presolving in linear\n",
       "       programming.\" Mathematical Programming 71.2 (1995): 221-245.\n",
       ".. [9] Bertsimas, Dimitris, and J. Tsitsiklis. \"Introduction to linear\n",
       "       programming.\" Athena Scientific 1 (1997): 997.\n",
       ".. [10] Andersen, Erling D., et al. Implementation of interior point\n",
       "        methods for large scale linear programming. HEC/Universite de\n",
       "        Geneve, 1996.\n",
       ".. [11] Bartels, Richard H. \"A stabilization of the simplex method.\"\n",
       "        Journal in  Numerische Mathematik 16.5 (1971): 414-434.\n",
       ".. [12] Tomlin, J. A. \"On scaling linear programming problems.\"\n",
       "        Mathematical Programming Study 4 (1975): 146-166.\n",
       "\n",
       "Examples\n",
       "--------\n",
       "Consider the following problem:\n",
       "\n",
       ".. math::\n",
       "\n",
       "    \\min_{x_0, x_1} \\ -x_0 + 4x_1 & \\\\\n",
       "    \\mbox{such that} \\ -3x_0 + x_1 & \\leq 6,\\\\\n",
       "    -x_0 - 2x_1 & \\geq -4,\\\\\n",
       "    x_1 & \\geq -3.\n",
       "\n",
       "The problem is not presented in the form accepted by `linprog`. This is\n",
       "easily remedied by converting the \"greater than\" inequality\n",
       "constraint to a \"less than\" inequality constraint by\n",
       "multiplying both sides by a factor of :math:`-1`. Note also that the last\n",
       "constraint is really the simple bound :math:`-3 \\leq x_1 \\leq \\infty`.\n",
       "Finally, since there are no bounds on :math:`x_0`, we must explicitly\n",
       "specify the bounds :math:`-\\infty \\leq x_0 \\leq \\infty`, as the\n",
       "default is for variables to be non-negative. After collecting coeffecients\n",
       "into arrays and tuples, the input for this problem is:\n",
       "\n",
       ">>> c = [-1, 4]\n",
       ">>> A = [[-3, 1], [1, 2]]\n",
       ">>> b = [6, 4]\n",
       ">>> x0_bounds = (None, None)\n",
       ">>> x1_bounds = (-3, None)\n",
       ">>> from scipy.optimize import linprog\n",
       ">>> res = linprog(c, A_ub=A, b_ub=b, bounds=[x0_bounds, x1_bounds])\n",
       "\n",
       "Note that the default method for `linprog` is 'interior-point', which is\n",
       "approximate by nature.\n",
       "\n",
       ">>> print(res)\n",
       "     con: array([], dtype=float64)\n",
       "     fun: -21.99999984082494 # may vary\n",
       " message: 'Optimization terminated successfully.'\n",
       "     nit: 6 # may vary\n",
       "   slack: array([3.89999997e+01, 8.46872439e-08] # may vary\n",
       "  status: 0\n",
       " success: True\n",
       "       x: array([ 9.99999989, -2.99999999]) # may vary\n",
       "\n",
       "If you need greater accuracy, try 'revised simplex'.\n",
       "\n",
       ">>> res = linprog(c, A_ub=A, b_ub=b, bounds=[x0_bounds, x1_bounds], method='revised simplex')\n",
       ">>> print(res)\n",
       "     con: array([], dtype=float64)\n",
       "     fun: -22.0 # may vary\n",
       " message: 'Optimization terminated successfully.'\n",
       "     nit: 1 # may vary\n",
       "   slack: array([39.,  0.]) # may vary\n",
       "  status: 0\n",
       " success: True\n",
       "       x: array([10., -3.]) # may vary\n",
       "\u001b[0;31mFile:\u001b[0m      /usr/lib/python3.8/site-packages/scipy/optimize/_linprog.py\n",
       "\u001b[0;31mType:\u001b[0m      function\n"
      ]
     },
     "metadata": {},
     "output_type": "display_data"
    }
   ],
   "source": [
    "from scipy.optimize import linprog\n",
    "linprog?"
   ]
  },
  {
   "cell_type": "code",
   "execution_count": 7,
   "metadata": {
    "slideshow": {
     "slide_type": "subslide"
    }
   },
   "outputs": [
    {
     "data": {
      "text/plain": [
       "     con: array([], dtype=float64)\n",
       "     fun: -7453.596491152559\n",
       " message: 'Optimization terminated successfully.'\n",
       "     nit: 10\n",
       "   slack: array([5.52287105e-11, 3.70965481e-11, 9.65964912e-01, 1.68914482e-09,\n",
       "       1.38070175e+01, 1.65481850e-10, 8.21052631e+00])\n",
       "  status: 0\n",
       " success: True\n",
       "       x: array([10.        ,  6.19298246, 12.        ,  1.78947369])"
      ]
     },
     "execution_count": 7,
     "metadata": {},
     "output_type": "execute_result"
    }
   ],
   "source": [
    "linprog(c=c, A_ub=A, b_ub=b)"
   ]
  },
  {
   "cell_type": "markdown",
   "metadata": {},
   "source": [
    "From the above we can see the following:\n",
    "\n",
    "- Total revenue will be \\$7,453.59\n",
    "- The optimal amount of the goods is approximately (10, 6.2, 12, 1.8)\n",
    "- Given the values of the slack variables, we see that we:\n",
    "    - Used all of resources 1 and 2, \n",
    "    - ... but had 0.96 units of resource 3 left\n",
    "    - Satisfied all of the demand for goods 1 and 3\n",
    "    - ... but were 13.8 units shy of demand for good 2\n",
    "    - ... and 8.21 units shy of demand for good 4"
   ]
  },
  {
   "cell_type": "markdown",
   "metadata": {
    "slideshow": {
     "slide_type": "slide"
    }
   },
   "source": [
    "<a id='exercise-2'></a>\n",
    "**Exercise 3: Solving the Transportation Problem**\n",
    "\n",
    "Using `scipy.optimize.linprog` solve the transportation problem from exercise 2 above."
   ]
  },
  {
   "cell_type": "code",
   "execution_count": null,
   "metadata": {},
   "outputs": [],
   "source": [
    "def solve_transportation():\n",
    "    # your code here\n",
    "    \n",
    "    # define c\n",
    "    \n",
    "    # define A\n",
    "    \n",
    "    # define b\n",
    "    \n",
    "    # call linprog\n",
    "    \n",
    "    # return result of linprog\n",
    "    \n",
    "    pass  # delete this line when finished\n",
    "\n",
    "solve_transportation()"
   ]
  },
  {
   "cell_type": "markdown",
   "metadata": {
    "slideshow": {
     "slide_type": "slide"
    }
   },
   "source": [
    "### References\n",
    "\n",
    "Boyd, Stephen, Stephen P. Boyd, and Lieven Vandenberghe. 2004. Convex Optimization. Cambridge University Press.\n",
    "\n",
    "Jeffrey Humpherys And Tyler J. Jarvis. \"Labs for Foundations of Applied Mathematics Volume 2\""
   ]
  },
  {
   "cell_type": "code",
   "execution_count": null,
   "metadata": {},
   "outputs": [],
   "source": []
  }
 ],
 "metadata": {
  "kernelspec": {
   "display_name": "Python 3",
   "language": "python",
   "name": "python3"
  },
  "language_info": {
   "codemirror_mode": {
    "name": "ipython",
    "version": 3
   },
   "file_extension": ".py",
   "mimetype": "text/x-python",
   "name": "python",
   "nbconvert_exporter": "python",
   "pygments_lexer": "ipython3",
   "version": "3.8.5"
  },
  "toc-autonumbering": false,
  "toc-showcode": false,
  "toc-showmarkdowntxt": false,
  "toc-showtags": false,
  "widgets": {
   "application/vnd.jupyter.widget-state+json": {
    "state": {},
    "version_major": 2,
    "version_minor": 0
   }
  }
 },
 "nbformat": 4,
 "nbformat_minor": 4
}
