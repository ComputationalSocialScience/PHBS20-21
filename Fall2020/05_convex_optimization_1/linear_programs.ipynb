{
 "cells": [
  {
   "cell_type": "markdown",
   "metadata": {},
   "source": [
    "# Convex Optimization: Linear Programs\n",
    "\n",
    "**Prerequisites**\n",
    "\n",
    "- Linear Algebra\n",
    "- Calculus\n",
    "- Convex Optimization: Theoretical Foundations\n",
    "\n",
    "\n",
    "**Outcomes**\n",
    "\n",
    "TODO: clean this up"
   ]
  },
  {
   "cell_type": "markdown",
   "metadata": {},
   "source": [
    "## Linear Programs\n",
    "\n",
    "A **linear program** is an optimization problem of the form\n",
    "\n",
    "$$\\begin{align*}\n",
    "\\min_x \\ & c^T x \\\\\n",
    "\\mbox{subject to } \\ & Gx \\le h \\\\\n",
    "& Ax = b\\\\\n",
    "\\end{align*}$$"
   ]
  },
  {
   "cell_type": "markdown",
   "metadata": {},
   "source": [
    "### Standard Form\n",
    "\n",
    "A *linear program in standard form* has only equality constraints and a non-negativity constraint on $x$:\n",
    "\n",
    "$$\\begin{align*}\n",
    "\\min_x \\ & c^T x \\\\\n",
    "& Ax = b,\\\\\n",
    "& x_i \\ge 0 \\; \\forall i\n",
    "\\end{align*}$$"
   ]
  },
  {
   "cell_type": "markdown",
   "metadata": {},
   "source": [
    "<a id='exercise-0'></a>\n",
    "**Exercise 1**\n",
    "\n",
    "Convert a linear program in the general form to a linear program in standard form\n",
    "\n",
    "\n",
    "*Hint:* You will need to introduce a new vector (of slack variables) into the constraints"
   ]
  },
  {
   "cell_type": "markdown",
   "metadata": {
    "slideshow": {
     "slide_type": "subslide"
    }
   },
   "source": [
    "## Example: Diet Problem\n",
    "\n",
    "**Want**: Construct calorie minimizing diet of $m$ distinct foods, subject to obtaining a minimum level of $k$ nutrients\n",
    "\n",
    "Let \n",
    "\n",
    "- $c_i$ for $i = 1, \\dots, m$ represent calories per serving of food $i$ \n",
    "- $a_{i,j}$ for $i=1,\\dots,k$ and $j=1,\\dots, m$ represent the amount of nutrient $i$ in food $j$\n",
    "- $b_i$ for $i=1,\\dots,k$ be the minimum level of nutrient $i$ needed\n",
    "\n",
    "\n",
    "\n",
    "\n"
   ]
  },
  {
   "cell_type": "markdown",
   "metadata": {
    "slideshow": {
     "slide_type": "subslide"
    }
   },
   "source": [
    "##### A linear program\n",
    "\n",
    "We can formulate the diet problem as a linear program by\n",
    "\n",
    "- Constructing a matrix $A$ of all the $a_{k,m}$ values. Each column will represent nutrient values per serving of a single food, while each row will be value of a single nutrient in all foods\n",
    "- Stack the nutrient requirements $b_k$ in a column vector, matching the order of the rows of $A$\n",
    "\n",
    "Then, the linear program can be written\n",
    "\n",
    "$$\\begin{align*}\n",
    "\\min_x \\ & c^T x \\\\\n",
    "& Ax \\ge b,\\\\\n",
    "& x_i \\ge 0 \\; i=1,\\dots,m\n",
    "\\end{align*}$$\n",
    "\n",
    "> NOTE: the line $Ax \\ge b$ is shorthand for imposing the inequality elementwise (row by row)"
   ]
  },
  {
   "cell_type": "markdown",
   "metadata": {
    "slideshow": {
     "slide_type": "subslide"
    }
   },
   "source": [
    "### Convert to standard form\n",
    "\n",
    "We can convert the linear program to standard form by:\n",
    "\n",
    "- Multiplying the $Ax \\ge b$ inequality by $-1$, which is defining $\\tilde{A} = -A$ and $\\tilde{b} = -b$. Now inequality constraint is $$\\tilde{A} x \\le \\tilde{b}$$\n",
    "- Add a vector slack variables to the modified inequality: $$\\tilde{A} x + s = \\tilde{b}$$\n",
    "- Impose non-negativity on our slack vairables\n",
    "\n",
    "The standard form LP is \n",
    "\n",
    "$$\\begin{align*}\n",
    "\\min_x \\ & c^T x \\\\\n",
    "& \\tilde{A}x  + s \\le \\tilde{b},\\\\\n",
    "& x_i \\ge 0 \\; i=1,\\dots,m\\\\\n",
    "& s_i \\ge 0 \\; i=1,\\dots,k\n",
    "\\end{align*}$$"
   ]
  },
  {
   "cell_type": "markdown",
   "metadata": {},
   "source": [
    "## Optimal Transport Primer\n",
    "\n",
    "<a id='exercise-1'></a>\n",
    "**Exercise 2: Transportation problem**\n",
    "\n",
    "> Note: This problem comes from \"Labs for Foundations of Applied Mathematics Volume 2\" by Jeffrey Humpherys And Tyler J. Jarvis released under the [Creative Commons Attribution 3.0 United States license](http://creativecommons.org/licenses/by/3.0/us/). The original source for the lab materials can be found at [https://github.com/Foundations-of-Applied-Mathematics/Labs](https://github.com/Foundations-of-Applied-Mathematics/Labs)\n",
    "\n",
    "Consider the following transportation problem: A piano company needs to transport thirteen pianos\n",
    "from their three supply centers (denoted by 1, 2, 3) to two demand centers (4, 5). Transporting a\n",
    "piano from a supply center to a demand center incurs a cost, listed in the table below. The company wants to minimize shipping costs for the pianos while meeting the demand.\n",
    "\n",
    "| Supply Center | Demand Center | Cost of Transportation | Number of Pianos | \n",
    "| :-----------: | :-----------: | :--------------------: | :--------------: |\n",
    "| 1 | 4 | 4 | $p_1$ |\n",
    "| 1 | 5 | 7 | $p_2$ | \n",
    "| 2 | 4 | 6 | $p_3$ | \n",
    "| 2 | 5 | 8 | $p_4$ |\n",
    "| 3 | 4 | 8 | $p_5$ |\n",
    "| 3 | 5 | 9 | $p_6$ |\n",
    "\n",
    "The number of pianos available at each supply center is given by:\n",
    "\n",
    "| Supply Center | Number of pianos available |\n",
    "| :-----------: | :------------------------: |\n",
    "| 1 | 7 |\n",
    "| 2 | 2 | \n",
    "| 3 | 4 |\n",
    "\n",
    "The number of pianos needed at each demand center is given by\n",
    "\n",
    "| Demand Center | Number of pianos needed |\n",
    "| :-----------: | :---------------------: |\n",
    "| 4 | 5 |\n",
    "| 5 | 8 |\n",
    "\n",
    "A system of constraints can be defined using the variables $p_1$, $p_2$, $p_3$, $p_4$, $p_5$, and $p_6$.\n",
    "First, there cannot be a negative number of pianos transported along any route. Next, use the supply and demand tables and the variables $p_1 \\dots p_6$ to define a supply or demand constraint for each location. You may want to\n",
    "format this as a matrix. Finally, the objective function is the number of pianos shipped along each\n",
    "route multiplied costs found in the costs table.\n",
    "\n",
    "Your task is to formulate the transportation problem as a linear program. That is define the vector $c$, matrix $A$ and vector $b$ that appropriately defines the problem as described above.\n",
    "\n",
    "*Hint:* the matrix $A$ will have 5 rows and 6 columns."
   ]
  },
  {
   "cell_type": "markdown",
   "metadata": {
    "slideshow": {
     "slide_type": "subslide"
    }
   },
   "source": [
    "*your work here*"
   ]
  },
  {
   "cell_type": "markdown",
   "metadata": {
    "slideshow": {
     "slide_type": "slide"
    }
   },
   "source": [
    "## Example\n",
    "\n",
    "Outline: \n",
    "\n",
    "- TODO: check the BYU lab manual on simplex for the demand problem\n",
    "- show setup of problem\n",
    "- solve with scipy.linalg.linprog\n",
    "\n"
   ]
  },
  {
   "cell_type": "markdown",
   "metadata": {
    "slideshow": {
     "slide_type": "slide"
    }
   },
   "source": [
    "<a id='exercise-2'></a>\n",
    "**Exercise 3: Solving the Transportation Problem**\n",
    "\n",
    "Using `scipy.optimize.linprog` solve the transportation problem from exercise 2 above."
   ]
  },
  {
   "cell_type": "code",
   "execution_count": 2,
   "metadata": {},
   "outputs": [],
   "source": [
    "# your code here"
   ]
  },
  {
   "cell_type": "markdown",
   "metadata": {},
   "source": [
    "### References\n",
    "\n",
    "Boyd, Stephen, Stephen P. Boyd, and Lieven Vandenberghe. 2004. Convex Optimization. Cambridge University Press.\n",
    "\n",
    "Jeffrey Humpherys And Tyler J. Jarvis. \"Labs for Foundations of Applied Mathematics Volume 2\""
   ]
  }
 ],
 "metadata": {
  "kernelspec": {
   "display_name": "Python [conda env:css]",
   "language": "python",
   "name": "conda-env-css-py"
  },
  "language_info": {
   "codemirror_mode": {
    "name": "ipython",
    "version": 3
   },
   "file_extension": ".py",
   "mimetype": "text/x-python",
   "name": "python",
   "nbconvert_exporter": "python",
   "pygments_lexer": "ipython3",
   "version": "3.8.5"
  }
 },
 "nbformat": 4,
 "nbformat_minor": 4
}
