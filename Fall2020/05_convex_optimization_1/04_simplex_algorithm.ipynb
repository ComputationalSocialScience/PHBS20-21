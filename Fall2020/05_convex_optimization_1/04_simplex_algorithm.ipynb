{
 "cells": [
  {
   "cell_type": "markdown",
   "metadata": {},
   "source": [
    "# Convex Optimization: The Simplex Algorithm for Linear Programs\n",
    "\n",
    "**Prerequisites**\n",
    "\n",
    "- Linear Algebra\n",
    "- Calculus\n",
    "- Convex Optimization: Theoretical Foundations\n",
    "- Convex Optimization: Linear Programs\n",
    "\n",
    "**Outcomes**\n",
    "\n",
    "- Know and implement the Simplex Algorithm for solving linear programs"
   ]
  },
  {
   "cell_type": "markdown",
   "metadata": {},
   "source": [
    "**Outline**\n",
    "\n",
    "- Solving Linear Programs\n",
    "- The Simplex Algorithm\n",
    "- Implementation\n",
    "- Application"
   ]
  },
  {
   "cell_type": "markdown",
   "metadata": {},
   "source": [
    "## Solving Linear Programs\n",
    "\n",
    "- We have used `scipy.optim.linprog` to solve linear programs\n",
    "- That routine has been a \"black box\"\n",
    "- In this lecture we open up the box and learn how to teach the computer to solve linear programs\n",
    "- We will learn and implement the simplex algorithm"
   ]
  },
  {
   "cell_type": "markdown",
   "metadata": {},
   "source": [
    "TODO: \n",
    "\n",
    "- Create tableau\n",
    "- Pivoting\n",
    "    - Finding the column\n",
    "    - Finding the row\n",
    "    - Doing the pivot\n",
    "- Termination\n",
    "- Reading answer from tableau"
   ]
  },
  {
   "cell_type": "code",
   "execution_count": null,
   "metadata": {},
   "outputs": [],
   "source": []
  }
 ],
 "metadata": {
  "kernelspec": {
   "display_name": "Python 3",
   "language": "python",
   "name": "python3"
  },
  "language_info": {
   "codemirror_mode": {
    "name": "ipython",
    "version": 3
   },
   "file_extension": ".py",
   "mimetype": "text/x-python",
   "name": "python",
   "nbconvert_exporter": "python",
   "pygments_lexer": "ipython3",
   "version": "3.8.5"
  },
  "widgets": {
   "application/vnd.jupyter.widget-state+json": {
    "state": {},
    "version_major": 2,
    "version_minor": 0
   }
  }
 },
 "nbformat": 4,
 "nbformat_minor": 4
}
