{
 "cells": [
  {
   "cell_type": "markdown",
   "metadata": {
    "slideshow": {
     "slide_type": "slide"
    }
   },
   "source": [
    "# Convex Optimization: The Simplex Algorithm for Linear Programs\n",
    "\n",
    "**Prerequisites**\n",
    "\n",
    "- Linear Algebra\n",
    "- Calculus\n",
    "- Convex Optimization: Theoretical Foundations\n",
    "- Convex Optimization: Linear Programs\n",
    "\n",
    "**Outcomes**\n",
    "\n",
    "- Know and implement the Simplex Algorithm for solving linear programs"
   ]
  },
  {
   "cell_type": "code",
   "execution_count": 2,
   "metadata": {},
   "outputs": [],
   "source": [
    "import matplotlib.pyplot as plt\n",
    "from matplotlib.patches import Polygon\n",
    "import seaborn as sns\n",
    "sns.set()\n",
    "import numpy as np"
   ]
  },
  {
   "cell_type": "markdown",
   "metadata": {
    "slideshow": {
     "slide_type": "subslide"
    }
   },
   "source": [
    "**Outline**\n",
    "\n",
    "- Pre-requisites: Matrix Row Operations\n",
    "- The Feasible Space\n",
    "- The Simplex Algorithm\n",
    "- Example: Product Mix\n",
    "- Tidying Up"
   ]
  },
  {
   "cell_type": "markdown",
   "metadata": {
    "slideshow": {
     "slide_type": "slide"
    }
   },
   "source": [
    "## Solving Linear Programs\n",
    "\n",
    "- We have used `scipy.optim.linprog` to solve linear programs\n",
    "- That routine has been a \"black box\"\n",
    "- In this lecture we open up the box and learn how to teach the computer to solve linear programs\n",
    "- We will learn and implement the simplex algorithm"
   ]
  },
  {
   "cell_type": "markdown",
   "metadata": {
    "slideshow": {
     "slide_type": "subslide"
    }
   },
   "source": [
    "## Pre-requisites: Matrix operations\n",
    "\n",
    "Given a matrix $A$ there are three fundamental operations:\n",
    "\n",
    "1. Multiply a row by a constant\n",
    "2. Swap two rows\n",
    "3. Add a multiple of one row to another row"
   ]
  },
  {
   "cell_type": "markdown",
   "metadata": {
    "slideshow": {
     "slide_type": "subslide"
    }
   },
   "source": [
    "We will demonstrate each of the row operations using the matrix below as an example:\n",
    "\n",
    "\\begin{bmatrix}0 &-3 \\\\ 2 & 0 \\\\ 5 & -3 \\\\ 7 & -4\\end{bmatrix}"
   ]
  },
  {
   "cell_type": "markdown",
   "metadata": {
    "slideshow": {
     "slide_type": "subslide"
    }
   },
   "source": [
    "### 1. Multiply a row by a constant\n",
    "\n",
    "Let's multiply the third row (index 2) by $-\\frac{1}{3}$ to turn that entry into a 1\n",
    "\n",
    "The result is\n",
    "\n",
    "$$\\begin{bmatrix}0 & -3 \\\\ 2 & 0 \\\\ 5 & -3 \\\\ 7 & -4\\end{bmatrix} \\Longrightarrow \\begin{bmatrix}0 & -3 \\\\ 2 & 0 \\\\ -\\frac{5}{3} & 1 \\\\ 7 & -4\\end{bmatrix}$$"
   ]
  },
  {
   "cell_type": "markdown",
   "metadata": {
    "slideshow": {
     "slide_type": "subslide"
    }
   },
   "source": [
    "### 2. Swap rows \n",
    "\n",
    "Now let's swap the first and second rows (index 0 and 1)\n",
    "\n",
    "The result is\n",
    "\n",
    "$$\\begin{bmatrix}0 & -3 \\\\ 2 & 0 \\\\ -\\frac{5}{3} & 1 \\\\ 7 & -4\\end{bmatrix} \\Longrightarrow \\begin{bmatrix}2 & 0 \\\\ 0 & -3 \\\\ -\\frac{5}{3} & 1 \\\\ 7 & -4 \\end{bmatrix}$$"
   ]
  },
  {
   "cell_type": "markdown",
   "metadata": {
    "slideshow": {
     "slide_type": "subslide"
    }
   },
   "source": [
    "### 3. Add multiple of one row to another row\n",
    "\n",
    "Finally, let's add a multiple of the third row to the second row to turn item `[1, 1]` to 0\n",
    "\n",
    "Do do this we need to multiply row 2 by 3 and add to row 1\n",
    "\n",
    "The result is\n",
    "\n",
    "$$\\begin{bmatrix}2 & 0 \\\\ 0 & -3 \\\\ -\\frac{5}{3} & 1 \\\\ 7 & -4 \\end{bmatrix} \\Longrightarrow \\begin{bmatrix}2 & 0 \\\\ -5 & 0 \\\\ -\\frac{5}{3} & 1 \\\\ 7 & -4 \\end{bmatrix}$$"
   ]
  },
  {
   "cell_type": "markdown",
   "metadata": {
    "slideshow": {
     "slide_type": "slide"
    }
   },
   "source": [
    "## Feasible Space\n",
    "\n",
    "We will be working with linear programs of the following form\n",
    "\n",
    "$$\\begin{align*}\n",
    "\\min_x \\ & c^T x \\\\\n",
    "& Ax \\le b,\\\\\n",
    "& x \\ge 0\n",
    "\\end{align*}$$\n",
    "\n",
    "\n",
    "> Note: This is slightly more general than standard form as we allow an inequality in the expression with $A$ and $b$"
   ]
  },
  {
   "cell_type": "markdown",
   "metadata": {
    "slideshow": {
     "slide_type": "subslide"
    }
   },
   "source": [
    "- *Definition*: $x \\in \\mathbb{R}^N$ is **feasible** if $A x \\le b$ and $x \\ge 0$\n",
    "- All constraints are linear $\\Longrightarrow$ *feasible space* is defined by a polygon"
   ]
  },
  {
   "cell_type": "markdown",
   "metadata": {
    "slideshow": {
     "slide_type": "subslide"
    }
   },
   "source": [
    "Example: consider the LP\n",
    "\n",
    "$$\\begin{align*}\n",
    "c^T &=\\begin{bmatrix} 1 & 1 \\end{bmatrix} \\\\\n",
    "A &= \\begin{bmatrix} -1 & -1 \\\\ 1 & 0 \\\\ 0 & 1\\end{bmatrix} \\\\\n",
    "b &= \\begin{bmatrix} -170 \\\\ 150 \\\\ 150\\end{bmatrix}\n",
    "\\end{align*}$$"
   ]
  },
  {
   "cell_type": "markdown",
   "metadata": {
    "slideshow": {
     "slide_type": ""
    }
   },
   "source": [
    "We can draw constraints as lines in $\\mathbb{R}^2$ and identify feasible space:"
   ]
  },
  {
   "cell_type": "code",
   "execution_count": 3,
   "metadata": {},
   "outputs": [
    {
     "data": {
      "text/plain": [
       "Text(155, 75, '$x=150$')"
      ]
     },
     "execution_count": 3,
     "metadata": {},
     "output_type": "execute_result"
    },
    {
     "data": {
      "image/png": "[encoded data removed]",
      "text/plain": [
       "<Figure size 576x432 with 1 Axes>"
      ]
     },
     "metadata": {
      "needs_background": "light"
     },
     "output_type": "display_data"
    }
   ],
   "source": [
    "x = np.linspace(0, 170, 10)\n",
    "fig, ax = plt.subplots(figsize=(8, 6))\n",
    "ax.plot(x, -x + 170)\n",
    "ax.hlines(150, 0, 200)\n",
    "ax.vlines(150, 0, 200)\n",
    "\n",
    "feasible = Polygon(np.array([[20, 150], [150, 150], [150, 20]]), alpha=0.6)\n",
    "ax.add_patch(feasible)\n",
    "ax.text(50, 50, \"$y=-x + 170$\")\n",
    "ax.text(50, 175, \"$y = 150$\")\n",
    "ax.text(155, 75, \"$x=150$\")"
   ]
  },
  {
   "cell_type": "code",
   "execution_count": 4,
   "metadata": {
    "slideshow": {
     "slide_type": "subslide"
    }
   },
   "outputs": [
    {
     "data": {
      "image/png": "[encoded data removed]",
      "text/plain": [
       "<Figure size 576x432 with 1 Axes>"
      ]
     },
     "metadata": {},
     "output_type": "display_data"
    }
   ],
   "source": [
    "display(fig)"
   ]
  },
  {
   "cell_type": "markdown",
   "metadata": {},
   "source": [
    "Notice that the feasible space is convex (how to check?)\n",
    "\n",
    "The Simplex algorithm works on this convex space by traversing from one vertex to another, always in a direction that lowers the objective function"
   ]
  },
  {
   "cell_type": "markdown",
   "metadata": {
    "slideshow": {
     "slide_type": "slide"
    }
   },
   "source": [
    "## Simplex Algorithm\n",
    "\n",
    "There are 4 main steps to the simplex algorithm:\n",
    "\n",
    "1. Add slack variables to convert to standard form\n",
    "2. Construct the tableau\n",
    "3. Iterate on the following:\n",
    "    1. Check termination condition\n",
    "    2. Determine pivot column and row\n",
    "    3. Perform pivot operation\n",
    "4. Read solution from tableau"
   ]
  },
  {
   "cell_type": "markdown",
   "metadata": {
    "slideshow": {
     "slide_type": "subslide"
    }
   },
   "source": [
    "We will implement these steps as Python functions\n",
    "\n",
    "At the end of the lecture we'll combine them into a Python class for easier use"
   ]
  },
  {
   "cell_type": "markdown",
   "metadata": {
    "slideshow": {
     "slide_type": "subslide"
    }
   },
   "source": [
    "### 1. Add slack variables\n",
    "\n",
    "Recall that in standard form the expression with $A$ and $b$ must be an equality expression\n",
    "\n",
    "We can convert $Ax \\le b$ into $Ax + s = b$ by adding a vector $s$ of slack variables\n",
    "\n",
    "$s$ will have as many rows as $A$ and a single column"
   ]
  },
  {
   "cell_type": "markdown",
   "metadata": {
    "slideshow": {
     "slide_type": "subslide"
    }
   },
   "source": [
    "We define $$\\begin{align*}\\bar{x} &:= \\begin{bmatrix} x \\\\ s \\end{bmatrix} \\\\ \\bar{c} &:= \\begin{bmatrix} c \\\\ \\mathbf{0} \\end{bmatrix} \\\\ \\bar{A} &:= \\begin{bmatrix} A & \\mathbf{I}\\end{bmatrix}\\end{align*},$$\n",
    "\n",
    "where \n",
    "\n",
    "- $\\mathbf{0}$ represents a vector of zeros with same number of elements as $s$\n",
    "- $\\mathbf{I}$ represents the identity matrix of the same size"
   ]
  },
  {
   "cell_type": "markdown",
   "metadata": {
    "slideshow": {
     "slide_type": "subslide"
    }
   },
   "source": [
    "The system \n",
    "\n",
    "$$\\begin{align*}\n",
    "\\min_{\\bar{x}} \\ & \\bar{c}^T \\bar{x} \\\\\n",
    "& A x + s = b,\\\\\n",
    "& \\bar{x} \\ge 0\n",
    "\\end{align*}$$\n",
    "\n",
    "is equivalent and in standard form"
   ]
  },
  {
   "cell_type": "markdown",
   "metadata": {
    "slideshow": {
     "slide_type": "subslide"
    }
   },
   "source": [
    "Below we write a Python funtion that will convert a general LP into standard form by adding slack variables:"
   ]
  },
  {
   "cell_type": "code",
   "execution_count": null,
   "metadata": {},
   "outputs": [],
   "source": [
    "def to_standard_form(c, A, b):\n",
    "    \"\"\"\n",
    "    Convert a linear program of the form\n",
    "    \n",
    "    min_x dot(c, x) s.t. Ax <= b and x >= 0\n",
    "    \n",
    "    into a standrd linear program of the form\n",
    "    \n",
    "    min_xbar dot(cbar, xbar) s.t. Ax + s = b and xbar >= 0\n",
    "    \"\"\"\n",
    "    # check dimensions\n",
    "    m, n = A.shape\n",
    "    assert (len(b), len(c)) == (m, n)\n",
    "    cbar = np.concatenate([c, np.zeros(m)])\n",
    "    Abar = np.column_stack([A, np.eye(m)])\n",
    "    \n",
    "    # b is unchanged\n",
    "    return cbar, Abar, b"
   ]
  },
  {
   "cell_type": "markdown",
   "metadata": {
    "slideshow": {
     "slide_type": "slide"
    }
   },
   "source": [
    "### 2. Construct Tableau"
   ]
  },
  {
   "cell_type": "markdown",
   "metadata": {},
   "source": [
    "We need to represent the following together:\n",
    "\n",
    "1. The objective\n",
    "2. Constraints\n",
    "3. The vectors $x$ and $s$\n",
    "\n",
    "A convenient way to do this is using a *tableau*"
   ]
  },
  {
   "cell_type": "markdown",
   "metadata": {
    "slideshow": {
     "slide_type": "subslide"
    }
   },
   "source": [
    "We define: $$D = \\begin{bmatrix} 0 & \\bar{c}^T \\\\ b & -\\bar{A} \\end{bmatrix}$$\n",
    "\n",
    "as our tableau"
   ]
  },
  {
   "cell_type": "markdown",
   "metadata": {
    "slideshow": {
     "slide_type": "subslide"
    }
   },
   "source": [
    "<a id='exercise-0'></a>\n",
    "**Exercise 1**\n",
    "\n",
    "Write a Python function that can consume `cbar`, `Abar` and `b` and return the tableau $D$:"
   ]
  },
  {
   "cell_type": "code",
   "execution_count": null,
   "metadata": {},
   "outputs": [],
   "source": [
    "def build_tableau(cbar: np.ndarray, Abar: np.ndarray, b: np.ndarray) -> np.ndarray:\n",
    "    \"\"\"\n",
    "    Given cbar, Abar, and b for a stanard linear program\n",
    "    \n",
    "    construct a tableau of the form\n",
    "    \n",
    "    D = [[0, cbar.T], [b - Abar]]\n",
    "    \"\"\"\n",
    "    # replace `pass` with your code\n",
    "    pass"
   ]
  },
  {
   "cell_type": "markdown",
   "metadata": {
    "slideshow": {
     "slide_type": "slide"
    }
   },
   "source": [
    "### 3. Iteration\n",
    "\n",
    "The construction of the tableau is the end of the setup phase\n",
    "\n",
    "We now are ready to tackle the main iterative part of the algorithm\n",
    "\n",
    "There are three main steps:\n",
    "\n",
    "1. Checking termination condition\n",
    "2. Finding a column and row to pivot\n",
    "3. Doing the pivot operation"
   ]
  },
  {
   "cell_type": "markdown",
   "metadata": {
    "slideshow": {
     "slide_type": "subslide"
    }
   },
   "source": [
    "We will implement each step separately, and use them to form an algorithm as follows:"
   ]
  },
  {
   "cell_type": "code",
   "execution_count": null,
   "metadata": {},
   "outputs": [],
   "source": [
    "def simplex_solve(D: np.ndarray) -> np.ndarray:\n",
    "    \"\"\"\n",
    "    Given a tableau representing a linear program, apply the \n",
    "    simplex algorithm and return the optimal tableau\n",
    "    \"\"\"\n",
    "    while not should_terminate(D):\n",
    "        col = pivot_column(D)\n",
    "        row = pivot_row(D, col)\n",
    "        D = do_pivot(D, col, row)\n",
    "    return D"
   ]
  },
  {
   "cell_type": "markdown",
   "metadata": {
    "slideshow": {
     "slide_type": "subslide"
    }
   },
   "source": [
    "Our next tasks will be to define the functions \n",
    "\n",
    "- `should_terminate`\n",
    "- `pivot_column`\n",
    "- `pivot_row`\n",
    "- `do_pivot`"
   ]
  },
  {
   "cell_type": "markdown",
   "metadata": {
    "slideshow": {
     "slide_type": "subslide"
    }
   },
   "source": [
    "#### 3.A: Check termination\n",
    "\n",
    "At the start of each iteration, we will check for termination\n",
    "\n",
    "Given a tableau `D` we should terminate (stop) when all entries of the first row (except first column) are non-negative"
   ]
  },
  {
   "cell_type": "markdown",
   "metadata": {
    "slideshow": {
     "slide_type": "fragment"
    }
   },
   "source": [
    "<a id='exercise-1'></a>\n",
    "**Exercise 2**\n",
    "\n",
    "Implement the `should_terminate` function below"
   ]
  },
  {
   "cell_type": "code",
   "execution_count": null,
   "metadata": {},
   "outputs": [],
   "source": [
    "def should_terminate(D: np.ndarray) -> bool:\n",
    "    \"\"\"\n",
    "    Given a tableau D, check the termination condition which is\n",
    "    that all of D[0, 1:] >= 0\n",
    "    \"\"\"\n",
    "    # replace `pass` with your code\n",
    "    pass"
   ]
  },
  {
   "cell_type": "markdown",
   "metadata": {
    "slideshow": {
     "slide_type": "subslide"
    }
   },
   "source": [
    "#### 3.B: Find Pivot column\n",
    "\n",
    "If we haven't terminated, we need to find a column to pivot\n",
    "\n",
    "To do this we search the top row of $D$ (ignoring first column) and select the first column with a negative value\n",
    "\n",
    "Let's label the pivot column $j$"
   ]
  },
  {
   "cell_type": "markdown",
   "metadata": {
    "slideshow": {
     "slide_type": "fragment"
    }
   },
   "source": [
    "<a id='exercise-2'></a>\n",
    "**Exercise 3**\n",
    "\n",
    "Implement the `pivot_column` function below"
   ]
  },
  {
   "cell_type": "code",
   "execution_count": null,
   "metadata": {},
   "outputs": [],
   "source": [
    "def pivot_column(D) -> int:\n",
    "    \"\"\"\n",
    "    Given a tableau D, find the next pivot column\n",
    "    \"\"\"\n",
    "    # replace `pass` with your code\n",
    "    pass"
   ]
  },
  {
   "cell_type": "markdown",
   "metadata": {
    "slideshow": {
     "slide_type": "subslide"
    }
   },
   "source": [
    "#### 3.C: Find Pivot row\n",
    "\n",
    "With the pivot column (j) in hand, we now need to find pivot row\n",
    "\n",
    "To do this we follow these steps:\n",
    "\n",
    "- Compute $d_i = - \\frac{D_{i, 0}}{D_{i, j}}$ for all $i > 0$ (ignore the first row)\n",
    "- Select the row $i$ whose value $d_i$ is the smallest\n",
    "\n",
    "\n",
    "> Note: if two rows have same value for $d$, select the row with smaller index\n",
    "\n",
    "> Note: If $D_{i, j} = 0$ for any $i$, we do not consider row $i$"
   ]
  },
  {
   "cell_type": "markdown",
   "metadata": {
    "slideshow": {
     "slide_type": "fragment"
    }
   },
   "source": [
    "<a id='exercise-3'></a>\n",
    "**Exercise 4**\n",
    "\n",
    "Implement the `pivot_row` function below"
   ]
  },
  {
   "cell_type": "code",
   "execution_count": null,
   "metadata": {},
   "outputs": [],
   "source": [
    "def pivot_row(D, col: int) -> int:\n",
    "    \"\"\"\n",
    "    Given a tableau D and pivot column `col`, find the next pivot column\n",
    "    \"\"\"    \n",
    "    # replace `pass` with your code\n",
    "    pass"
   ]
  },
  {
   "cell_type": "markdown",
   "metadata": {
    "slideshow": {
     "slide_type": "subslide"
    }
   },
   "source": [
    "#### 3.D: Do pivot operation\n",
    "\n",
    "Now that we know the column (`j`) and row (`i`) for pivoting, we do the pivot operation\n",
    "\n",
    "The goal of the pivot operation is to use the three matrix row operations to turn column `j` into the negative `i`th unit vector\n",
    "\n",
    "That is we want column `j` to be all `0`, except for a `-1` at row `i`"
   ]
  },
  {
   "cell_type": "markdown",
   "metadata": {
    "slideshow": {
     "slide_type": "subslide"
    }
   },
   "source": [
    "There is a strategy for doing this:\n",
    "\n",
    "1. First multiply row `i` of `D` by `-1/D[i,j]`\n",
    "2. For all rows `i2` where `i2 != i` and `D[i2, j] != 0`, multiply row `i` by `D[i2, j]` and add to row `i2` (this should set `D[i2, j]` to 0)"
   ]
  },
  {
   "cell_type": "markdown",
   "metadata": {
    "slideshow": {
     "slide_type": "fragment"
    }
   },
   "source": [
    "<a id='exercise-4'></a>\n",
    "**Exercise 5**\n",
    "\n",
    "Implement the `do_pivot` function below"
   ]
  },
  {
   "cell_type": "code",
   "execution_count": null,
   "metadata": {},
   "outputs": [],
   "source": [
    "def do_pivot(D, col, row) -> np.ndarray:\n",
    "    \"\"\"\n",
    "    Given a tableau D and a pivot `col` and `row`, do the pivot operation\n",
    "    \"\"\"\n",
    "    # apply step 1. of strategy to make D[row, col] = 1\n",
    "    \n",
    "    \n",
    "    for i2 in range(D.shape[0]):        \n",
    "        if i2 != row and D[i2, col] != 0:\n",
    "            # your code here Apply step 2. of strategy above\n",
    "            pass\n",
    "    \n",
    "    return D"
   ]
  },
  {
   "cell_type": "markdown",
   "metadata": {
    "slideshow": {
     "slide_type": "slide"
    }
   },
   "source": [
    "### 4. Read Optimal Tableau\n",
    "\n",
    "`simplex_solve` can now use your functions to compute optimal tableau (`D_opt`)\n",
    "\n",
    "Our final task is to use `D_opt` to extract optimal function value, optimal $x$, and associated $s$\n",
    "\n",
    "The optimal value is always at top-left corner: `D_opt[0, 0]`"
   ]
  },
  {
   "cell_type": "markdown",
   "metadata": {
    "slideshow": {
     "slide_type": "subslide"
    }
   },
   "source": [
    "The optimal $x$ and $s$ can be read from first column of `D_opt` as follows:\n",
    "\n",
    "- Define `xs = np.zeros(D_opt.shape[1]-1)`\n",
    "- Then for columns `j` going from 1 to `D_opt.shape[1]`...:\n",
    "    - If `D_opt[0, j] == 0`, then `xs[j-1] = 0`\n",
    "    - If `D_opt[0, j] > 0` (only other case) then ...\n",
    "        - Find row `i_j` of column `j` containing a `-1`\n",
    "        - Set `xs[j-1] = D_opt[i_j, 0]`\n",
    "- The optimal $x$ is then first `n` values of `xs`. Associated $s$ is all other values"
   ]
  },
  {
   "cell_type": "markdown",
   "metadata": {
    "slideshow": {
     "slide_type": "subslide"
    }
   },
   "source": [
    "This is a bit tricky to implement, so we have provided the code below:"
   ]
  },
  {
   "cell_type": "code",
   "execution_count": 1,
   "metadata": {},
   "outputs": [],
   "source": [
    "def extract_solution(D_opt, n):\n",
    "    xs = np.zeros(D_opt.shape[1] - 1)\n",
    "    for j in range(1, D_opt.shape[1]):\n",
    "        if D_opt[0, j] > 0:\n",
    "            xs[j-1] = 0\n",
    "        else:\n",
    "            # find row equal to -1\n",
    "            i_j = np.argmin(D_opt[:, j])\n",
    "            xs[j-1] = D_opt[i_j, 0]\n",
    "            \n",
    "    return {\n",
    "        \"value\": D_opt[0,0],\n",
    "        \"x\": xs[:n],\n",
    "        \"s\": xs[n:]\n",
    "    }"
   ]
  },
  {
   "cell_type": "markdown",
   "metadata": {
    "slideshow": {
     "slide_type": "slide"
    }
   },
   "source": [
    "## Example: product mix\n",
    "\n",
    "At this point we should be done!\n",
    "\n",
    "Let's test our code using the product mix problem from the previous lecture"
   ]
  },
  {
   "cell_type": "markdown",
   "metadata": {
    "slideshow": {
     "slide_type": "subslide"
    }
   },
   "source": [
    "Recall the definition of `c`, `A`, and `b`:"
   ]
  },
  {
   "cell_type": "code",
   "execution_count": 5,
   "metadata": {},
   "outputs": [],
   "source": [
    "def product_mix_problem():\n",
    "    p = np.array([250., 215., 275., 180.])  # price vector\n",
    "    d = np.array([10., 20., 12., 10.])      # demand vector\n",
    "    m = np.array([4., 4., 4.])              # resource constraints\n",
    "\n",
    "    H = np.array([                          # resource usage\n",
    "        [0.12, 0.18, 0.13, 0.07],\n",
    "        [0.15, 0.12, 0.13, 0.11],\n",
    "        [0.1 , 0.1 , 0.1 , 0.12]\n",
    "    ])\n",
    "\n",
    "    c = -p\n",
    "    b = np.concatenate((m, d))\n",
    "    A = np.vstack((H, np.eye(len(p))))\n",
    "    return c, A, b"
   ]
  },
  {
   "cell_type": "markdown",
   "metadata": {
    "slideshow": {
     "slide_type": "subslide"
    }
   },
   "source": [
    "We solved this problem with `scipy.optim.linprog` as follows:\n"
   ]
  },
  {
   "cell_type": "code",
   "execution_count": 6,
   "metadata": {},
   "outputs": [
    {
     "data": {
      "text/plain": [
       "     con: array([], dtype=float64)\n",
       "     fun: -7453.596491152559\n",
       " message: 'Optimization terminated successfully.'\n",
       "     nit: 10\n",
       "   slack: array([5.52287105e-11, 3.70965481e-11, 9.65964912e-01, 1.68914482e-09,\n",
       "       1.38070175e+01, 1.65481850e-10, 8.21052631e+00])\n",
       "  status: 0\n",
       " success: True\n",
       "       x: array([10.        ,  6.19298246, 12.        ,  1.78947369])"
      ]
     },
     "execution_count": 6,
     "metadata": {},
     "output_type": "execute_result"
    }
   ],
   "source": [
    "from scipy.optimize import linprog\n",
    "solution_scipy = linprog(*product_mix_problem())\n",
    "solution_scipy"
   ]
  },
  {
   "cell_type": "markdown",
   "metadata": {
    "slideshow": {
     "slide_type": "subslide"
    }
   },
   "source": [
    "We can use our code to solve this problem:"
   ]
  },
  {
   "cell_type": "code",
   "execution_count": null,
   "metadata": {},
   "outputs": [],
   "source": [
    "cbar, Abar, b = to_standard_form(*product_mix_problem())\n",
    "D = build_tableau(cbar, Abar, b)\n",
    "D_opt = simplex_solve(np.copy(D))\n",
    "solution = extract_solution(D_opt, len(solution_scipy.x))"
   ]
  },
  {
   "cell_type": "markdown",
   "metadata": {
    "slideshow": {
     "slide_type": "slide"
    }
   },
   "source": [
    "## Tidying up\n",
    "\n",
    "As seen above, our code works...\n",
    "\n",
    "but it is not particularly convenient to use\n",
    "\n",
    "Let's reorganize the code into a class\n",
    "\n",
    "> Note: typically we would reorganize a bit more, add docstrings, implement nice printing, etc. For now we'll keep it simple"
   ]
  },
  {
   "cell_type": "code",
   "execution_count": null,
   "metadata": {
    "slideshow": {
     "slide_type": "subslide"
    }
   },
   "outputs": [],
   "source": [
    "class SimplexAlgorithm:\n",
    "    def __init__(self, c, A, b):\n",
    "        # store original matrices\n",
    "        self.c = c\n",
    "        self.A = A\n",
    "        self.b = b\n",
    "        \n",
    "        # transform to standard form\n",
    "        cbar, Abar, b = to_standard_form(c, A, b)\n",
    "        self.D = build_tableau(cbar, Abar, b)\n",
    "    \n",
    "    def solve(self):\n",
    "        self.D_opt = simplex_solve(np.copy(self.D))\n",
    "        self.solution = extract_solution(self.D_opt, len(self.c))\n",
    "        return self.solution"
   ]
  },
  {
   "cell_type": "markdown",
   "metadata": {
    "slideshow": {
     "slide_type": "subslide"
    }
   },
   "source": [
    "We can then use our class to solve the problem, letting the class handle transforming the problem, constructing the tableau, and then extracting the solution"
   ]
  },
  {
   "cell_type": "code",
   "execution_count": null,
   "metadata": {},
   "outputs": [],
   "source": [
    "solver = SimplexAlgorithm(*product_mix_problem())\n",
    "solver.solve()"
   ]
  }
 ],
 "metadata": {
  "celltoolbar": "Slideshow",
  "kernelspec": {
   "display_name": "Python 3",
   "language": "python",
   "name": "python3"
  },
  "language_info": {
   "codemirror_mode": {
    "name": "ipython",
    "version": 3
   },
   "file_extension": ".py",
   "mimetype": "text/x-python",
   "name": "python",
   "nbconvert_exporter": "python",
   "pygments_lexer": "ipython3",
   "version": "3.8.5"
  },
  "toc-autonumbering": false,
  "toc-showcode": false,
  "toc-showmarkdowntxt": false,
  "widgets": {
   "application/vnd.jupyter.widget-state+json": {
    "state": {},
    "version_major": 2,
    "version_minor": 0
   }
  }
 },
 "nbformat": 4,
 "nbformat_minor": 4
}
