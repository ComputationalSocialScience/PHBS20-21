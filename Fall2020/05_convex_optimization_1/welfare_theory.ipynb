{
 "cells": [
  {
   "cell_type": "markdown",
   "metadata": {},
   "source": [
    "# Convex Optimization: Welfare Theorems\n",
    "\n",
    "**Prerequisites**\n",
    "\n",
    "- TODO\n",
    "\n",
    "\n",
    "**Outcomes**\n",
    "\n",
    "TODO: clean this up"
   ]
  },
  {
   "cell_type": "code",
   "execution_count": 1,
   "metadata": {},
   "outputs": [],
   "source": [
    "import pandas as pd"
   ]
  },
  {
   "cell_type": "code",
   "execution_count": null,
   "metadata": {},
   "outputs": [],
   "source": []
  }
 ],
 "metadata": {
  "kernelspec": {
   "display_name": "Julia 1.2.0",
   "language": "python",
   "name": "julia-1.2"
  }
 },
 "nbformat": 4,
 "nbformat_minor": 2
}