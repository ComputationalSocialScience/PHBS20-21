{
 "cells": [
  {
   "cell_type": "markdown",
   "metadata": {},
   "source": [
    "# Convex Optimization: Convexity\n",
    "\n",
    "**Prerequisites**\n",
    "\n",
    "- Linear Algebra\n",
    "- Calculus\n",
    "\n",
    "\n",
    "**Outcomes**\n",
    "\n",
    "TODO: clean this up"
   ]
  },
  {
   "cell_type": "markdown",
   "metadata": {},
   "source": [
    "## Outline\n",
    "\n",
    "- Convex Sets\n",
    "- Mathematical Functions\n",
    "- Linear Programming\n",
    "- The Dual Problem\n",
    "- `cvxopt` and `scipy.optimize.linprog`"
   ]
  },
  {
   "cell_type": "code",
   "execution_count": 78,
   "metadata": {},
   "outputs": [],
   "source": [
    "import matplotlib.pyplot as plt\n",
    "import numpy as np"
   ]
  },
  {
   "cell_type": "markdown",
   "metadata": {},
   "source": [
    "## Convex Sets\n",
    "\n",
    "Let $C \\subseteq \\mathbb{R}^n$\n",
    "\n",
    "$C$ is *convex* if for any $x_1, x_2 \\in C$ and any $\\theta \\in [0, 1]$ we have $$\\theta x_1 + (1- \\theta) x_2 \\in C$$"
   ]
  },
  {
   "cell_type": "markdown",
   "metadata": {},
   "source": [
    "### Convex Combination\n",
    "\n",
    "The definition of convexity can be extended to include convex combinations\n",
    "\n",
    "A (finite) *convex combination* of $x_i \\in {C}\\; i = 1, \\dots, k$ has the form $$\\sum_{i=1}^k \\theta_i x_i, \\quad \\theta_i \\ge 0 \\; i = 1, \\dots, k, \\; \\sum_{i=1}^k \\theta_i = 1$$"
   ]
  },
  {
   "cell_type": "markdown",
   "metadata": {},
   "source": [
    "<a id='exercise-0'></a>\n",
    "**Exercise 1**\n",
    "\n",
    "Show that for a convex set $C \\subseteq \\mathbb{R}^n$ any convex combination of members of $C$ is in $C$"
   ]
  },
  {
   "cell_type": "markdown",
   "metadata": {},
   "source": [
    "### Convex Hull\n",
    "\n",
    "The *convex hull* of a set $C$ ($\\textbf{conv} C$) is the set of all covex combinations of points in $C$: $$\\textbf{conv}C = \\left\\{\\sum_{i=1}^k \\theta_i x_i \\bigm \\vert x_i \\in C, \\theta_i \\ge 0, i = 1, \\dots k, \\sum_{i=1}^k \\theta_i = 1 \\right\\}$$"
   ]
  },
  {
   "cell_type": "markdown",
   "metadata": {},
   "source": [
    "#### Example\n",
    "\n",
    "Consider this set of random points in $\\mathbb{R}^2$\n"
   ]
  },
  {
   "cell_type": "code",
   "execution_count": 79,
   "metadata": {},
   "outputs": [
    {
     "data": {
      "image/png": "[encoded data removed]",
      "text/plain": [
       "<Figure size 432x288 with 1 Axes>"
      ]
     },
     "metadata": {
      "needs_background": "light"
     },
     "output_type": "display_data"
    }
   ],
   "source": [
    "X = np.random.randn(30, 2)  # 30 points in R2\n",
    "fig, ax = plt.subplots()\n",
    "ax.plot(X[:, 0], X[:, 1], \"o\", ms=4);\n",
    "ax.axis(\"off\");"
   ]
  },
  {
   "cell_type": "markdown",
   "metadata": {},
   "source": [
    "The convex hull of this set of points is"
   ]
  },
  {
   "cell_type": "code",
   "execution_count": 80,
   "metadata": {},
   "outputs": [
    {
     "data": {
      "image/png": "[encoded data removed]",
      "text/plain": [
       "<Figure size 432x288 with 1 Axes>"
      ]
     },
     "metadata": {
      "needs_background": "light"
     },
     "output_type": "display_data"
    }
   ],
   "source": [
    "from scipy.spatial import ConvexHull\n",
    "_, ax = plt.subplots()\n",
    "ax.plot(X[:, 0], X[:, 1], \"o\", ms=4)\n",
    "for simplex in ConvexHull(X).simplices:\n",
    "    ax.plot(X[simplex, 0], X[simplex, 1], \"k-\")\n",
    "ax.axis(\"off\");"
   ]
  },
  {
   "cell_type": "markdown",
   "metadata": {
    "slideshow": {
     "slide_type": "subslide"
    }
   },
   "source": [
    "The convex hull of a set $C$ is the smallest convex that contains $C$"
   ]
  },
  {
   "cell_type": "markdown",
   "metadata": {
    "slideshow": {
     "slide_type": "subslide"
    }
   },
   "source": [
    "<a id='exercise-1'></a>\n",
    "**Exercise 2**\n",
    "\n",
    "Draw the convex hull of the set in the image below\n",
    "\n",
    "![Non-convex-set](non-convex-set.png)"
   ]
  },
  {
   "cell_type": "markdown",
   "metadata": {},
   "source": [
    "<a id='exercise-2'></a>\n",
    "**Exercise 3**\n",
    "\n",
    "Show that if $C$ is convex, then $\\textbf{conv} C = C$"
   ]
  },
  {
   "cell_type": "markdown",
   "metadata": {
    "slideshow": {
     "slide_type": "slide"
    }
   },
   "source": [
    "## Mathematical Functions\n"
   ]
  },
  {
   "cell_type": "markdown",
   "metadata": {},
   "source": [
    "### Functions\n",
    "\n",
    "A function $f: A \\rightarrow B$ is \n",
    "\n",
    "- a mapping (relation) from a set of inputs ($A$) to a set of outputs ($B$)\n",
    "- and each input is related to exactly one output"
   ]
  },
  {
   "cell_type": "markdown",
   "metadata": {},
   "source": [
    "#### Function Domain\n",
    "\n",
    "The **domain** of a function $f: A \\rightarrow B$ is the set $A$\n",
    "\n",
    "We will follow notation of Boyd et al. 2004 and often write $$f: \\mathbb{R}^n \\rightarrow \\mathbb{R}^m,$$\n",
    "\n",
    "where in the notation above, we mean that $A \\subseteq \\mathbb{R}^N$\n",
    "\n",
    "When using this notation, to refer to the domain of $f$ we will use $\\textbf{dom} f$"
   ]
  },
  {
   "cell_type": "markdown",
   "metadata": {},
   "source": [
    "### Linear Functions\n",
    "\n",
    "A function $f: \\mathbb{R}^n \\rightarrow \\mathbb{R}^m$ is *linear* if it can be expressed in the form $$f(x) = Ax, \\quad A \\in \\mathbb{R}^{m \\times n}$$\n",
    "\n",
    "In the case where $m = 1$ we often write $$f(x) = c^Tx,  \\quad c \\in \\mathbb{R}^n$$"
   ]
  },
  {
   "cell_type": "markdown",
   "metadata": {},
   "source": [
    "<p style=\"color: red; font-size: 40px;\">TODO: example </p>"
   ]
  },
  {
   "cell_type": "markdown",
   "metadata": {},
   "source": [
    "### Affine functions\n",
    "\n",
    "A function $f: \\mathbb{R}^n \\rightarrow \\mathbb{R}^m$ is *affine* if it is the sum of a linear function and a constant $$f(x) = Ax + b, \\quad A \\in \\mathbb{R}^{m \\times n}, \\; b \\in \\mathbb{R}^m$$"
   ]
  },
  {
   "cell_type": "markdown",
   "metadata": {},
   "source": [
    "<p style=\"color: red; font-size: 40px;\">TODO: example </p>"
   ]
  },
  {
   "cell_type": "markdown",
   "metadata": {},
   "source": [
    "### Convex Functions\n",
    "\n",
    "A function $f: \\mathbb{R}^n \\rightarrow \\mathbb{R}$ is *convex* if :\n",
    "\n",
    "1. $\\textbf{dom} f$ is convex\n",
    "2. $\\forall x, y \\in \\textbf{dom} f$ and $\\theta \\in [0, 1]$ $$f(\\theta x + (1 - \\theta) y) \\le \\theta f(x) + (1 - \\theta) f(y)$$"
   ]
  },
  {
   "cell_type": "markdown",
   "metadata": {},
   "source": [
    "#### Graphical Interpretation\n",
    "\n",
    "For any convex function $f$ and $x, y \\in \\textbf{dom} f$ the line between $(x, f(x))$ and $(y, f(y))$ is above the graph $f$\n",
    "\n",
    "For example:"
   ]
  },
  {
   "cell_type": "code",
   "execution_count": 81,
   "metadata": {},
   "outputs": [
    {
     "data": {
      "image/png": "[encoded data removed]",
      "text/plain": [
       "<Figure size 432x288 with 1 Axes>"
      ]
     },
     "metadata": {
      "needs_background": "light"
     },
     "output_type": "display_data"
    }
   ],
   "source": [
    "def f(x):\n",
    "    return x**2\n",
    "\n",
    "X = np.linspace(-2, 2, 20)\n",
    "x = -1\n",
    "y = 1.5\n",
    "\n",
    "# plot function\n",
    "fig, ax = plt.subplots()\n",
    "ax.plot(X, f(X),  \"k-\", lw=0.5)\n",
    "\n",
    "# plot f(x), and f(y)\n",
    "ax.plot(x, f(x), \"ko\")\n",
    "ax.plot(y, f(y), \"ko\")\n",
    "\n",
    "# plot chord between (x, f(x)) and (y, f(y))\n",
    "ax.plot([x, y], [f(x), f(y)], \"k-\")\n",
    "\n",
    "# add annotations\n",
    "ax.text(x, f(x), \"(x, f(x))\", verticalalignment=\"top\", horizontalalignment=\"right\")\n",
    "ax.text(y, f(y), \"(y, f(y))\", verticalalignment=\"top\", horizontalalignment=\"left\")\n",
    "ax.axis(\"off\");"
   ]
  },
  {
   "cell_type": "markdown",
   "metadata": {},
   "source": [
    "\n",
    "<a id='exercise-3'></a>\n",
    "**Exercise 4**\n",
    "\n",
    "Show that all linear functions are convex\n",
    "\n",
    "*Hint:* To do this show that the convexity inequality above (condition 2) holds with equality when $f$ is linear"
   ]
  },
  {
   "cell_type": "markdown",
   "metadata": {},
   "source": [
    "#### First order conditions\n",
    "\n",
    "Define $\\nabla f$ as the *gradient* of $f$: $$\\nabla f \\equiv \\begin{bmatrix} \\frac{\\partial f}{\\partial x_1} \\\\ \\frac{\\partial f}{\\partial x_2} \\\\ \\vdots \\\\ \\frac{\\partial f}{\\partial x_n}\\end{bmatrix}$$"
   ]
  },
  {
   "cell_type": "markdown",
   "metadata": {},
   "source": [
    "$f$ is convex if and only iff for all $x, y \\in \\textbf{dom} f$\n",
    "\n",
    "$$f(y) \\ge f(x) + \\nabla f(x)^T (y - x)$$\n",
    "\n",
    "The right hand side is an affine function of $y$ and is the first-order Taylor approximation of $f$ around $x$"
   ]
  },
  {
   "cell_type": "markdown",
   "metadata": {},
   "source": [
    "The interpretation of the inequality says that the first-order Taylor approximation is a *global underestimator* of $f$\n",
    "\n",
    "For convex functions **local** information (first-order Taylor approximation around $x$) provides **global** information\n",
    "\n",
    "We will use this property heavily when considering optimization because $$\\nabla f(x) = 0 \\Longrightarrow x \\text{ is a global minimizer of } f$$"
   ]
  },
  {
   "cell_type": "markdown",
   "metadata": {},
   "source": [
    "## Linear Programs\n",
    "\n",
    "A **linear program** is an optimization problem of the form\n",
    "\n",
    "$$\\begin{align*}\n",
    "\\min_x \\ & c^T x \\\\\n",
    "\\mbox{subject to } \\ & Gx \\le h \\\\\n",
    "& Ax = b\\\\\n",
    "\\end{align*}$$"
   ]
  },
  {
   "cell_type": "markdown",
   "metadata": {},
   "source": [
    "### Standard Form\n",
    "\n",
    "A *linear program in standard form* has only equality constraints and a non-negativity constraint on $x$:\n",
    "\n",
    "$$\\begin{align*}\n",
    "\\min_x \\ & c^T x \\\\\n",
    "& Ax = b,\\\\\n",
    "& x_i \\ge 0 \\; \\forall i\n",
    "\\end{align*}$$"
   ]
  },
  {
   "cell_type": "markdown",
   "metadata": {},
   "source": [
    "<a id='exercise-4'></a>\n",
    "**Exercise 5**\n",
    "\n",
    "Convert a linear program in the general form to a linear program in standard form\n",
    "\n",
    "\n",
    "*Hint:* You will need to introduce a new vector (of slack variables) into the constraints"
   ]
  },
  {
   "cell_type": "markdown",
   "metadata": {},
   "source": [
    "<p style=\"color: red; font-size: 40px;\">TODO: example </p>"
   ]
  },
  {
   "cell_type": "markdown",
   "metadata": {},
   "source": [
    "## The Dual Problem"
   ]
  },
  {
   "cell_type": "markdown",
   "metadata": {},
   "source": [
    "## Python Tools: `cvxopt` and `scipy.optimize.linprog`"
   ]
  },
  {
   "cell_type": "markdown",
   "metadata": {},
   "source": [
    "### `cvxopt`"
   ]
  },
  {
   "cell_type": "markdown",
   "metadata": {},
   "source": [
    "### `scipy.optimize.linprog`"
   ]
  },
  {
   "cell_type": "markdown",
   "metadata": {},
   "source": [
    "### References\n",
    "\n",
    "Boyd, Stephen, Stephen P. Boyd, and Lieven Vandenberghe. 2004. Convex Optimization. Cambridge University Press."
   ]
  },
  {
   "cell_type": "code",
   "execution_count": null,
   "metadata": {},
   "outputs": [],
   "source": []
  }
 ],
 "metadata": {
  "celltoolbar": "Slideshow",
  "kernelspec": {
   "display_name": "Python 3",
   "language": "python",
   "name": "python3"
  },
  "language_info": {
   "codemirror_mode": {
    "name": "ipython",
    "version": 3
   },
   "file_extension": ".py",
   "mimetype": "text/x-python",
   "name": "python",
   "nbconvert_exporter": "python",
   "pygments_lexer": "ipython3",
   "version": "3.8.5"
  }
 },
 "nbformat": 4,
 "nbformat_minor": 4
}
