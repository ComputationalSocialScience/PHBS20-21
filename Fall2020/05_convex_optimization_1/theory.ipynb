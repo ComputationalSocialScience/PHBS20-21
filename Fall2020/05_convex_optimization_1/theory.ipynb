{
 "cells": [
  {
   "cell_type": "markdown",
   "metadata": {},
   "source": [
    "# Convex Optimization: Theory\n",
    "\n",
    "**Prerequisites**\n",
    "\n",
    "- TODO\n",
    "- Linear Algebra\n",
    "\n",
    "\n",
    "**Outcomes**\n",
    "\n",
    "TODO: clean this up"
   ]
  },
  {
   "cell_type": "markdown",
   "metadata": {},
   "source": [
    "## Outline\n",
    "\n",
    "- Mathematical Functions\n",
    "- Convexity\n",
    "- Linear Programming\n",
    "- The Dual Problem\n",
    "- `cvxopt` and `scipy.optimize.linprog`"
   ]
  },
  {
   "cell_type": "markdown",
   "metadata": {},
   "source": [
    "## Mathematical Functions\n"
   ]
  },
  {
   "cell_type": "markdown",
   "metadata": {},
   "source": [
    "### Functions"
   ]
  },
  {
   "cell_type": "markdown",
   "metadata": {},
   "source": [
    "### Linear Functions"
   ]
  },
  {
   "cell_type": "markdown",
   "metadata": {},
   "source": [
    "### Convex Functions"
   ]
  },
  {
   "cell_type": "markdown",
   "metadata": {},
   "source": [
    "## Linear Programs"
   ]
  },
  {
   "cell_type": "markdown",
   "metadata": {},
   "source": [
    "## The Dual Problem"
   ]
  },
  {
   "cell_type": "markdown",
   "metadata": {},
   "source": [
    "## Python Tools: `cvxopt` and `scipy.optimize.linprog`"
   ]
  },
  {
   "cell_type": "markdown",
   "metadata": {},
   "source": [
    "### `cvxopt`"
   ]
  },
  {
   "cell_type": "markdown",
   "metadata": {},
   "source": [
    "### `scipy.optimize.linprog`"
   ]
  }
 ],
 "metadata": {
  "kernelspec": {
   "display_name": "Python 3.8.5 64-bit ('qeds': conda)",
   "language": "python",
   "name": "python38564bitqedscondaa653f8b53f7c49afbbdf9febe39d1a4a"
  }
 },
 "nbformat": 4,
 "nbformat_minor": 2
}