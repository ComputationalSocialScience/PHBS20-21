{
 "cells": [
  {
   "cell_type": "markdown",
   "metadata": {
    "slideshow": {
     "slide_type": "slide"
    }
   },
   "source": [
    "# GroupBy\n",
    "\n",
    "**Prerequisites**\n",
    "\n",
    "- [Functions](../python_fundamentals/functions.ipynb)  \n",
    "- pandas introduction [1](intro.ipynb) and [2](basics.ipynb)  \n",
    "- [Reshape](reshape.ipynb)  \n",
    "\n",
    "\n",
    "**Outcomes**\n",
    "\n",
    "- Understand the split-apply-combine strategy for aggregate\n",
    "  computations on groups of data  \n",
    "- Be able use basic aggregation methods on `df.groupby` to compute\n",
    "  within group statistics  \n",
    "- Understand how to group by multiple keys at once  \n",
    "\n",
    "\n",
    "**Data**\n",
    "\n",
    "- Details for all delayed US domestic flights in December 2016,\n",
    "  obtained from the [Bureau of Transportation\n",
    "  Statistics](https://www.transtats.bts.gov/DL_SelectFields.asp?Table_ID=236&DB_Short_Name=On-Time)  "
   ]
  },
  {
   "cell_type": "code",
   "execution_count": 2,
   "metadata": {
    "hide-output": false
   },
   "outputs": [],
   "source": [
    "# Uncomment following line to install on colab\n",
    "# %pip install qeds"
   ]
  },
  {
   "cell_type": "code",
   "execution_count": null,
   "metadata": {
    "hide-output": false
   },
   "outputs": [],
   "source": [
    "import random\n",
    "import numpy as np\n",
    "import pandas as pd\n",
    "import qeds\n",
    "import matplotlib.pyplot as plt\n",
    "\n",
    "%matplotlib inline\n",
    "# activate plot theme\n",
    "import qeds\n",
    "qeds.themes.mpl_style();"
   ]
  },
  {
   "cell_type": "markdown",
   "metadata": {
    "slideshow": {
     "slide_type": "subslide"
    }
   },
   "source": [
    "## Outline\n",
    "\n",
    "- [GroupBy](#GroupBy)  \n",
    "  - [Split-Apply-Combine](#Split-Apply-Combine)  \n",
    "  - [Case Study: Airline Delays](#Case-Study:-Airline-Delays)  \n",
    "  - [Exercise: Cohort Analysis using Shopify Data](#Exercise:-Cohort-Analysis-using-Shopify-Data)  \n",
    "  - [Exercises](#Exercises)  "
   ]
  },
  {
   "cell_type": "markdown",
   "metadata": {
    "slideshow": {
     "slide_type": "slide"
    }
   },
   "source": [
    "## Split-Apply-Combine\n",
    "\n",
    "One powerful paradigm for analyzing data is the “Split-Apply-Combine”\n",
    "strategy\n",
    "\n",
    "This strategy has three steps:\n",
    "\n",
    "1. `Split`: split the data into groups based on values in one or more columns.  \n",
    "1. `Apply`: apply a function or routine to each group separately.  \n",
    "1. `Combine`: combine the output of the apply step into a DataFrame,\n",
    "  using the group identifiers as the index  "
   ]
  },
  {
   "cell_type": "markdown",
   "metadata": {
    "slideshow": {
     "slide_type": "subslide"
    }
   },
   "source": [
    "We will cover the core concepts here\n",
    "\n",
    "We **strongly** encourage you\n",
    "to also study the [official\n",
    "documentation](https://pandas.pydata.org/pandas-docs/stable/groupby.html)"
   ]
  },
  {
   "cell_type": "markdown",
   "metadata": {
    "slideshow": {
     "slide_type": "subslide"
    }
   },
   "source": [
    "To describe the concepts, we will need some data\n",
    "\n",
    "We'll start with artificial data and then use a real-world dataset"
   ]
  },
  {
   "cell_type": "code",
   "execution_count": 2,
   "metadata": {
    "hide-output": false
   },
   "outputs": [
    {
     "data": {
      "text/html": [
       "<div>\n",
       "<style scoped>\n",
       "    .dataframe tbody tr th:only-of-type {\n",
       "        vertical-align: middle;\n",
       "    }\n",
       "\n",
       "    .dataframe tbody tr th {\n",
       "        vertical-align: top;\n",
       "    }\n",
       "\n",
       "    .dataframe thead th {\n",
       "        text-align: right;\n",
       "    }\n",
       "</style>\n",
       "<table border=\"1\" class=\"dataframe\">\n",
       "  <thead>\n",
       "    <tr style=\"text-align: right;\">\n",
       "      <th></th>\n",
       "      <th>A</th>\n",
       "      <th>B</th>\n",
       "      <th>C</th>\n",
       "    </tr>\n",
       "  </thead>\n",
       "  <tbody>\n",
       "    <tr>\n",
       "      <th>0</th>\n",
       "      <td>1</td>\n",
       "      <td>1</td>\n",
       "      <td>1.0</td>\n",
       "    </tr>\n",
       "    <tr>\n",
       "      <th>1</th>\n",
       "      <td>1</td>\n",
       "      <td>1</td>\n",
       "      <td>2.0</td>\n",
       "    </tr>\n",
       "    <tr>\n",
       "      <th>2</th>\n",
       "      <td>1</td>\n",
       "      <td>2</td>\n",
       "      <td>3.0</td>\n",
       "    </tr>\n",
       "    <tr>\n",
       "      <th>3</th>\n",
       "      <td>2</td>\n",
       "      <td>2</td>\n",
       "      <td>NaN</td>\n",
       "    </tr>\n",
       "    <tr>\n",
       "      <th>4</th>\n",
       "      <td>2</td>\n",
       "      <td>1</td>\n",
       "      <td>5.0</td>\n",
       "    </tr>\n",
       "    <tr>\n",
       "      <th>5</th>\n",
       "      <td>2</td>\n",
       "      <td>1</td>\n",
       "      <td>NaN</td>\n",
       "    </tr>\n",
       "  </tbody>\n",
       "</table>\n",
       "</div>"
      ],
      "text/plain": [
       "   A  B    C\n",
       "0  1  1  1.0\n",
       "1  1  1  2.0\n",
       "2  1  2  3.0\n",
       "3  2  2  NaN\n",
       "4  2  1  5.0\n",
       "5  2  1  NaN"
      ]
     },
     "execution_count": 2,
     "metadata": {},
     "output_type": "execute_result"
    }
   ],
   "source": [
    "C = np.arange(1, 7, dtype=float)\n",
    "C[[3, 5]] = np.nan\n",
    "df = pd.DataFrame({\n",
    "    \"A\" : [1, 1, 1, 2, 2, 2],\n",
    "    \"B\" : [1, 1, 2, 2, 1, 1],\n",
    "    \"C\": C,\n",
    "})\n",
    "df"
   ]
  },
  {
   "cell_type": "markdown",
   "metadata": {
    "slideshow": {
     "slide_type": "subslide"
    }
   },
   "source": [
    "### First Example\n",
    "\n",
    "\n",
    "To perform the **Split** step, we call the `groupby` method on our\n",
    "DataFrame\n",
    "\n",
    "First argument to `groupby` is how we want to form group\n",
    "\n",
    "The most basic form of splitting is to use a single column"
   ]
  },
  {
   "cell_type": "code",
   "execution_count": 3,
   "metadata": {
    "hide-output": false
   },
   "outputs": [],
   "source": [
    "gbA = df.groupby(\"A\")"
   ]
  },
  {
   "cell_type": "markdown",
   "metadata": {
    "slideshow": {
     "slide_type": "subslide"
    }
   },
   "source": [
    "`gbA` has type `DataFrameGroupBy`:"
   ]
  },
  {
   "cell_type": "code",
   "execution_count": 4,
   "metadata": {
    "hide-output": false
   },
   "outputs": [
    {
     "data": {
      "text/plain": [
       "pandas.core.groupby.generic.DataFrameGroupBy"
      ]
     },
     "execution_count": 4,
     "metadata": {},
     "output_type": "execute_result"
    }
   ],
   "source": [
    "type(gbA)"
   ]
  },
  {
   "cell_type": "markdown",
   "metadata": {
    "slideshow": {
     "slide_type": "fragment"
    }
   },
   "source": [
    "We usually refer to this type as `GroupBy` for short"
   ]
  },
  {
   "cell_type": "markdown",
   "metadata": {
    "slideshow": {
     "slide_type": "subslide"
    }
   },
   "source": [
    "We use `gb.get_group(group_name)` for the group with value `group_name`:"
   ]
  },
  {
   "cell_type": "code",
   "execution_count": null,
   "metadata": {
    "hide-output": false
   },
   "outputs": [],
   "source": [
    "gbA.get_group(1)"
   ]
  },
  {
   "cell_type": "code",
   "execution_count": null,
   "metadata": {
    "hide-output": false
   },
   "outputs": [],
   "source": [
    "gbA.get_group(2)"
   ]
  },
  {
   "cell_type": "markdown",
   "metadata": {
    "slideshow": {
     "slide_type": "fragment"
    }
   },
   "source": [
    "Note that we used the *values* in the `A` column to access groups"
   ]
  },
  {
   "cell_type": "markdown",
   "metadata": {
    "slideshow": {
     "slide_type": "slide"
    }
   },
   "source": [
    "<a id='exercise-0'></a>\n",
    "**Exercise 1**\n",
    "\n",
    "We can *apply* some of our favorite aggregation functions directly on the\n",
    "`GroupBy` object\n",
    "\n",
    "Look closely at the output of the cells below\n",
    "\n",
    "How did pandas compute the sum of `gbA`? What happened to the `NaN`\n",
    "entries in column `C`?\n",
    "\n",
    "Write your thoughts\n",
    "\n",
    "Hint: try `gbA.count()` or `gbA.mean()` if you can’t decide what\n",
    "happened to the `NaN`"
   ]
  },
  {
   "cell_type": "code",
   "execution_count": 5,
   "metadata": {
    "hide-output": false
   },
   "outputs": [
    {
     "data": {
      "text/html": [
       "<div>\n",
       "<style scoped>\n",
       "    .dataframe tbody tr th:only-of-type {\n",
       "        vertical-align: middle;\n",
       "    }\n",
       "\n",
       "    .dataframe tbody tr th {\n",
       "        vertical-align: top;\n",
       "    }\n",
       "\n",
       "    .dataframe thead th {\n",
       "        text-align: right;\n",
       "    }\n",
       "</style>\n",
       "<table border=\"1\" class=\"dataframe\">\n",
       "  <thead>\n",
       "    <tr style=\"text-align: right;\">\n",
       "      <th></th>\n",
       "      <th>A</th>\n",
       "      <th>B</th>\n",
       "      <th>C</th>\n",
       "    </tr>\n",
       "  </thead>\n",
       "  <tbody>\n",
       "    <tr>\n",
       "      <th>0</th>\n",
       "      <td>1</td>\n",
       "      <td>1</td>\n",
       "      <td>1.0</td>\n",
       "    </tr>\n",
       "    <tr>\n",
       "      <th>1</th>\n",
       "      <td>1</td>\n",
       "      <td>1</td>\n",
       "      <td>2.0</td>\n",
       "    </tr>\n",
       "    <tr>\n",
       "      <th>2</th>\n",
       "      <td>1</td>\n",
       "      <td>2</td>\n",
       "      <td>3.0</td>\n",
       "    </tr>\n",
       "    <tr>\n",
       "      <th>3</th>\n",
       "      <td>2</td>\n",
       "      <td>2</td>\n",
       "      <td>NaN</td>\n",
       "    </tr>\n",
       "    <tr>\n",
       "      <th>4</th>\n",
       "      <td>2</td>\n",
       "      <td>1</td>\n",
       "      <td>5.0</td>\n",
       "    </tr>\n",
       "    <tr>\n",
       "      <th>5</th>\n",
       "      <td>2</td>\n",
       "      <td>1</td>\n",
       "      <td>NaN</td>\n",
       "    </tr>\n",
       "  </tbody>\n",
       "</table>\n",
       "</div>"
      ],
      "text/plain": [
       "   A  B    C\n",
       "0  1  1  1.0\n",
       "1  1  1  2.0\n",
       "2  1  2  3.0\n",
       "3  2  2  NaN\n",
       "4  2  1  5.0\n",
       "5  2  1  NaN"
      ]
     },
     "execution_count": 5,
     "metadata": {},
     "output_type": "execute_result"
    }
   ],
   "source": [
    "df"
   ]
  },
  {
   "cell_type": "code",
   "execution_count": 6,
   "metadata": {
    "hide-output": false
   },
   "outputs": [
    {
     "data": {
      "text/html": [
       "<div>\n",
       "<style scoped>\n",
       "    .dataframe tbody tr th:only-of-type {\n",
       "        vertical-align: middle;\n",
       "    }\n",
       "\n",
       "    .dataframe tbody tr th {\n",
       "        vertical-align: top;\n",
       "    }\n",
       "\n",
       "    .dataframe thead th {\n",
       "        text-align: right;\n",
       "    }\n",
       "</style>\n",
       "<table border=\"1\" class=\"dataframe\">\n",
       "  <thead>\n",
       "    <tr style=\"text-align: right;\">\n",
       "      <th></th>\n",
       "      <th>B</th>\n",
       "      <th>C</th>\n",
       "    </tr>\n",
       "    <tr>\n",
       "      <th>A</th>\n",
       "      <th></th>\n",
       "      <th></th>\n",
       "    </tr>\n",
       "  </thead>\n",
       "  <tbody>\n",
       "    <tr>\n",
       "      <th>1</th>\n",
       "      <td>4</td>\n",
       "      <td>6.0</td>\n",
       "    </tr>\n",
       "    <tr>\n",
       "      <th>2</th>\n",
       "      <td>4</td>\n",
       "      <td>5.0</td>\n",
       "    </tr>\n",
       "  </tbody>\n",
       "</table>\n",
       "</div>"
      ],
      "text/plain": [
       "   B    C\n",
       "A        \n",
       "1  4  6.0\n",
       "2  4  5.0"
      ]
     },
     "execution_count": 6,
     "metadata": {},
     "output_type": "execute_result"
    }
   ],
   "source": [
    "gbA.sum()"
   ]
  },
  {
   "cell_type": "markdown",
   "metadata": {
    "slideshow": {
     "slide_type": "subslide"
    }
   },
   "source": [
    "\n",
    "<a id='exercise-1'></a>\n",
    "**Exercise 2**\n",
    "\n",
    "Use introspection (tab completion) to see what other aggregations are\n",
    "defined for GroupBy objects.\n",
    "\n",
    "Pick three and evaluate them in the cells below.\n",
    "\n",
    "Does the output of each of these commands have the same features as the\n",
    "output of `gbA.sum()` from above? If not, what is different?"
   ]
  },
  {
   "cell_type": "code",
   "execution_count": null,
   "metadata": {
    "hide-output": false
   },
   "outputs": [],
   "source": [
    "# method 1"
   ]
  },
  {
   "cell_type": "code",
   "execution_count": null,
   "metadata": {
    "hide-output": false
   },
   "outputs": [],
   "source": [
    "# method 2"
   ]
  },
  {
   "cell_type": "code",
   "execution_count": null,
   "metadata": {
    "hide-output": false
   },
   "outputs": [],
   "source": [
    "# method 3"
   ]
  },
  {
   "cell_type": "markdown",
   "metadata": {
    "slideshow": {
     "slide_type": "subslide"
    }
   },
   "source": [
    "We can also group by multiple columns\n",
    "\n",
    "How?  pass a list of strings to `groupby`\n",
    "\n",
    "DataFrame will be split into collections of rows with unique combinations of requested columns"
   ]
  },
  {
   "cell_type": "code",
   "execution_count": 9,
   "metadata": {
    "hide-output": false,
    "slideshow": {
     "slide_type": "subslide"
    }
   },
   "outputs": [
    {
     "data": {
      "text/plain": [
       "pandas.core.groupby.generic.DataFrameGroupBy"
      ]
     },
     "execution_count": 9,
     "metadata": {},
     "output_type": "execute_result"
    }
   ],
   "source": [
    "gbAB = df.groupby([\"A\", \"B\"])\n",
    "type(gbAB)"
   ]
  },
  {
   "cell_type": "code",
   "execution_count": 23,
   "metadata": {
    "hide-output": false
   },
   "outputs": [
    {
     "data": {
      "text/html": [
       "<div>\n",
       "<style scoped>\n",
       "    .dataframe tbody tr th:only-of-type {\n",
       "        vertical-align: middle;\n",
       "    }\n",
       "\n",
       "    .dataframe tbody tr th {\n",
       "        vertical-align: top;\n",
       "    }\n",
       "\n",
       "    .dataframe thead th {\n",
       "        text-align: right;\n",
       "    }\n",
       "</style>\n",
       "<table border=\"1\" class=\"dataframe\">\n",
       "  <thead>\n",
       "    <tr style=\"text-align: right;\">\n",
       "      <th></th>\n",
       "      <th>A</th>\n",
       "      <th>B</th>\n",
       "      <th>C</th>\n",
       "    </tr>\n",
       "  </thead>\n",
       "  <tbody>\n",
       "    <tr>\n",
       "      <th>0</th>\n",
       "      <td>1</td>\n",
       "      <td>1</td>\n",
       "      <td>1.0</td>\n",
       "    </tr>\n",
       "    <tr>\n",
       "      <th>1</th>\n",
       "      <td>1</td>\n",
       "      <td>1</td>\n",
       "      <td>2.0</td>\n",
       "    </tr>\n",
       "  </tbody>\n",
       "</table>\n",
       "</div>"
      ],
      "text/plain": [
       "   A  B    C\n",
       "0  1  1  1.0\n",
       "1  1  1  2.0"
      ]
     },
     "execution_count": 23,
     "metadata": {},
     "output_type": "execute_result"
    }
   ],
   "source": [
    "# all rows below have A = 1 AND B = 1\n",
    "gbAB.get_group((1, 1))"
   ]
  },
  {
   "cell_type": "markdown",
   "metadata": {
    "slideshow": {
     "slide_type": "subslide"
    }
   },
   "source": [
    "Notice that we still have a GroupBy object, so we can apply our favorite\n",
    "aggregations."
   ]
  },
  {
   "cell_type": "code",
   "execution_count": null,
   "metadata": {
    "hide-output": false
   },
   "outputs": [],
   "source": [
    "gbAB.count()"
   ]
  },
  {
   "cell_type": "markdown",
   "metadata": {},
   "source": [
    "Notice that the output is a DataFrame with two levels on the index\n",
    "and a single column `C`. (Quiz: how do we know it is a DataFrame with\n",
    "one column and not a Series?)\n",
    "\n",
    "This highlights a principle of how pandas handles the *Combine* part of\n",
    "the strategy:\n",
    "\n",
    "> The index of the combined DataFrame will be the group identifiers,\n",
    "with one index level per group key"
   ]
  },
  {
   "cell_type": "markdown",
   "metadata": {
    "slideshow": {
     "slide_type": "slide"
    }
   },
   "source": [
    "### Custom Aggregate Functions\n",
    "\n",
    "So far, we have been applying built-in aggregations to our GroupBy object\n",
    "\n",
    "We can also apply custom aggregations to each group of a GroupBy in two\n",
    "steps:\n",
    "\n",
    "1. Write our custom aggregation as a Python function\n",
    "1. Passing our function as an argument to the `.agg` method of a GroupBy  "
   ]
  },
  {
   "cell_type": "markdown",
   "metadata": {
    "slideshow": {
     "slide_type": "subslide"
    }
   },
   "source": [
    "Let's try it!"
   ]
  },
  {
   "cell_type": "code",
   "execution_count": 12,
   "metadata": {
    "hide-output": false
   },
   "outputs": [],
   "source": [
    "def num_missing(df):\n",
    "    \"Return the number of missing items in each column of df\"\n",
    "    return df.isnull().sum()"
   ]
  },
  {
   "cell_type": "markdown",
   "metadata": {
    "slideshow": {
     "slide_type": "subslide"
    }
   },
   "source": [
    "We can call this function on our original DataFrame to get the number of\n",
    "missing items in each column"
   ]
  },
  {
   "cell_type": "code",
   "execution_count": 13,
   "metadata": {
    "hide-output": false
   },
   "outputs": [
    {
     "data": {
      "text/plain": [
       "A    0\n",
       "B    0\n",
       "C    2\n",
       "dtype: int64"
      ]
     },
     "execution_count": 13,
     "metadata": {},
     "output_type": "execute_result"
    }
   ],
   "source": [
    "num_missing(df)"
   ]
  },
  {
   "cell_type": "markdown",
   "metadata": {
    "slideshow": {
     "slide_type": "subslide"
    }
   },
   "source": [
    "We can also apply it to a GroupBy object to get the number of missing\n",
    "items in each column *for each group*"
   ]
  },
  {
   "cell_type": "code",
   "execution_count": 14,
   "metadata": {
    "hide-output": false
   },
   "outputs": [
    {
     "data": {
      "text/html": [
       "<div>\n",
       "<style scoped>\n",
       "    .dataframe tbody tr th:only-of-type {\n",
       "        vertical-align: middle;\n",
       "    }\n",
       "\n",
       "    .dataframe tbody tr th {\n",
       "        vertical-align: top;\n",
       "    }\n",
       "\n",
       "    .dataframe thead th {\n",
       "        text-align: right;\n",
       "    }\n",
       "</style>\n",
       "<table border=\"1\" class=\"dataframe\">\n",
       "  <thead>\n",
       "    <tr style=\"text-align: right;\">\n",
       "      <th></th>\n",
       "      <th>B</th>\n",
       "      <th>C</th>\n",
       "    </tr>\n",
       "    <tr>\n",
       "      <th>A</th>\n",
       "      <th></th>\n",
       "      <th></th>\n",
       "    </tr>\n",
       "  </thead>\n",
       "  <tbody>\n",
       "    <tr>\n",
       "      <th>1</th>\n",
       "      <td>0</td>\n",
       "      <td>0.0</td>\n",
       "    </tr>\n",
       "    <tr>\n",
       "      <th>2</th>\n",
       "      <td>0</td>\n",
       "      <td>2.0</td>\n",
       "    </tr>\n",
       "  </tbody>\n",
       "</table>\n",
       "</div>"
      ],
      "text/plain": [
       "   B    C\n",
       "A        \n",
       "1  0  0.0\n",
       "2  0  2.0"
      ]
     },
     "execution_count": 14,
     "metadata": {},
     "output_type": "execute_result"
    }
   ],
   "source": [
    "gbA.agg(num_missing)"
   ]
  },
  {
   "cell_type": "markdown",
   "metadata": {
    "slideshow": {
     "slide_type": "subslide"
    }
   },
   "source": [
    "The function we write should either\n",
    "\n",
    "- Consume `DataFrame` and return `Series`\n",
    "- Consume `Series`  and return `scalar`\n",
    "\n",
    "Pandas calls the function for each group\n",
    "\n",
    "For DataFrames, the function is called separately for each column"
   ]
  },
  {
   "cell_type": "markdown",
   "metadata": {
    "slideshow": {
     "slide_type": "slide"
    }
   },
   "source": [
    "### Transforms: The `apply` Method\n",
    "\n",
    "As we saw in the [basics lecture](basics.ipynb), we can apply transforms to DataFrames\n",
    "\n",
    "We can do the same with GroupBy objects using the `.apply` method"
   ]
  },
  {
   "cell_type": "markdown",
   "metadata": {
    "slideshow": {
     "slide_type": "subslide"
    }
   },
   "source": [
    "Let’s see an example"
   ]
  },
  {
   "cell_type": "code",
   "execution_count": 15,
   "metadata": {
    "hide-output": false
   },
   "outputs": [
    {
     "data": {
      "text/html": [
       "<div>\n",
       "<style scoped>\n",
       "    .dataframe tbody tr th:only-of-type {\n",
       "        vertical-align: middle;\n",
       "    }\n",
       "\n",
       "    .dataframe tbody tr th {\n",
       "        vertical-align: top;\n",
       "    }\n",
       "\n",
       "    .dataframe thead th {\n",
       "        text-align: right;\n",
       "    }\n",
       "</style>\n",
       "<table border=\"1\" class=\"dataframe\">\n",
       "  <thead>\n",
       "    <tr style=\"text-align: right;\">\n",
       "      <th></th>\n",
       "      <th>A</th>\n",
       "      <th>B</th>\n",
       "      <th>C</th>\n",
       "    </tr>\n",
       "  </thead>\n",
       "  <tbody>\n",
       "    <tr>\n",
       "      <th>0</th>\n",
       "      <td>1</td>\n",
       "      <td>1</td>\n",
       "      <td>1.0</td>\n",
       "    </tr>\n",
       "    <tr>\n",
       "      <th>1</th>\n",
       "      <td>1</td>\n",
       "      <td>1</td>\n",
       "      <td>2.0</td>\n",
       "    </tr>\n",
       "    <tr>\n",
       "      <th>2</th>\n",
       "      <td>1</td>\n",
       "      <td>2</td>\n",
       "      <td>3.0</td>\n",
       "    </tr>\n",
       "    <tr>\n",
       "      <th>3</th>\n",
       "      <td>2</td>\n",
       "      <td>2</td>\n",
       "      <td>NaN</td>\n",
       "    </tr>\n",
       "    <tr>\n",
       "      <th>4</th>\n",
       "      <td>2</td>\n",
       "      <td>1</td>\n",
       "      <td>5.0</td>\n",
       "    </tr>\n",
       "    <tr>\n",
       "      <th>5</th>\n",
       "      <td>2</td>\n",
       "      <td>1</td>\n",
       "      <td>NaN</td>\n",
       "    </tr>\n",
       "  </tbody>\n",
       "</table>\n",
       "</div>"
      ],
      "text/plain": [
       "   A  B    C\n",
       "0  1  1  1.0\n",
       "1  1  1  2.0\n",
       "2  1  2  3.0\n",
       "3  2  2  NaN\n",
       "4  2  1  5.0\n",
       "5  2  1  NaN"
      ]
     },
     "execution_count": 15,
     "metadata": {},
     "output_type": "execute_result"
    }
   ],
   "source": [
    "df"
   ]
  },
  {
   "cell_type": "code",
   "execution_count": 16,
   "metadata": {
    "hide-output": false
   },
   "outputs": [],
   "source": [
    "def smallest_by_b(df):\n",
    "    return df.nsmallest(2, \"B\")"
   ]
  },
  {
   "cell_type": "code",
   "execution_count": 17,
   "metadata": {
    "hide-output": false
   },
   "outputs": [
    {
     "data": {
      "text/html": [
       "<div>\n",
       "<style scoped>\n",
       "    .dataframe tbody tr th:only-of-type {\n",
       "        vertical-align: middle;\n",
       "    }\n",
       "\n",
       "    .dataframe tbody tr th {\n",
       "        vertical-align: top;\n",
       "    }\n",
       "\n",
       "    .dataframe thead th {\n",
       "        text-align: right;\n",
       "    }\n",
       "</style>\n",
       "<table border=\"1\" class=\"dataframe\">\n",
       "  <thead>\n",
       "    <tr style=\"text-align: right;\">\n",
       "      <th></th>\n",
       "      <th></th>\n",
       "      <th>B</th>\n",
       "      <th>C</th>\n",
       "    </tr>\n",
       "    <tr>\n",
       "      <th>A</th>\n",
       "      <th></th>\n",
       "      <th></th>\n",
       "      <th></th>\n",
       "    </tr>\n",
       "  </thead>\n",
       "  <tbody>\n",
       "    <tr>\n",
       "      <th rowspan=\"2\" valign=\"top\">1</th>\n",
       "      <th>0</th>\n",
       "      <td>1</td>\n",
       "      <td>1.0</td>\n",
       "    </tr>\n",
       "    <tr>\n",
       "      <th>1</th>\n",
       "      <td>1</td>\n",
       "      <td>2.0</td>\n",
       "    </tr>\n",
       "    <tr>\n",
       "      <th rowspan=\"2\" valign=\"top\">2</th>\n",
       "      <th>4</th>\n",
       "      <td>1</td>\n",
       "      <td>5.0</td>\n",
       "    </tr>\n",
       "    <tr>\n",
       "      <th>5</th>\n",
       "      <td>1</td>\n",
       "      <td>NaN</td>\n",
       "    </tr>\n",
       "  </tbody>\n",
       "</table>\n",
       "</div>"
      ],
      "text/plain": [
       "     B    C\n",
       "A          \n",
       "1 0  1  1.0\n",
       "  1  1  2.0\n",
       "2 4  1  5.0\n",
       "  5  1  NaN"
      ]
     },
     "execution_count": 17,
     "metadata": {},
     "output_type": "execute_result"
    }
   ],
   "source": [
    "gbA.apply(smallest_by_b)"
   ]
  },
  {
   "cell_type": "markdown",
   "metadata": {
    "slideshow": {
     "slide_type": "subslide"
    }
   },
   "source": [
    "**NOTE**: The return value above has a two-level index\n",
    "\n",
    "1. The value of `A`\n",
    "2. The index from the original DataFrame\n",
    "\n",
    "The second layer carried the original DataFrames's index because `smallest_by_b` kept the original index in its return value\n",
    "\n",
    "If `smallest_by_b` returned a different index, that would have shown up in `gbA.apply(smallest_by_b)`"
   ]
  },
  {
   "cell_type": "markdown",
   "metadata": {
    "slideshow": {
     "slide_type": "subslide"
    }
   },
   "source": [
    "<a id='exercise-2'></a>\n",
    "**Exercise 3**\n",
    "\n",
    "This exercise has a few steps:\n",
    "\n",
    "1. Write a function that, given a DataFrame, computes each entry’s deviation from the mean of its column\n",
    "2. Apply the function to `gbA`\n",
    "3. With your neighbor describe what the index and and columns are? Where are the group keys (the `A` column)?\n",
    "4. Determine the correct way to add these results back into `df` as new columns (Hint: remember the [merge](merge.ipynb) lecture)"
   ]
  },
  {
   "cell_type": "code",
   "execution_count": null,
   "metadata": {
    "hide-output": false
   },
   "outputs": [],
   "source": [
    "# write function here\n",
    "\n",
    "\n",
    "# apply function here"
   ]
  },
  {
   "cell_type": "code",
   "execution_count": null,
   "metadata": {
    "hide-output": false
   },
   "outputs": [],
   "source": [
    "# add output of function as new columns to df here..."
   ]
  },
  {
   "cell_type": "markdown",
   "metadata": {
    "slideshow": {
     "slide_type": "slide"
    }
   },
   "source": [
    "### `pd.Grouper`\n",
    "\n",
    "Columns don't always contain desired groups\n",
    "\n",
    "Some examples are:\n",
    "\n",
    "- Grouping by a column and a level of the index  \n",
    "- Grouping time series data at a particular frequency  \n",
    "\n",
    "pandas lets you do this through the `pd.Grouper` type"
   ]
  },
  {
   "cell_type": "markdown",
   "metadata": {
    "slideshow": {
     "slide_type": "subslide"
    }
   },
   "source": [
    "To see it in action, let’s make a copy of `df` with `A` moved to the\n",
    "index and a `Date` column added"
   ]
  },
  {
   "cell_type": "code",
   "execution_count": 18,
   "metadata": {
    "hide-output": false
   },
   "outputs": [
    {
     "name": "stderr",
     "output_type": "stream",
     "text": [
      "/home/sglyon/anaconda3/envs/qeds/lib/python3.7/site-packages/ipykernel_launcher.py:3: FutureWarning: The pandas.datetime class is deprecated and will be removed from pandas in a future version. Import from datetime module instead.\n",
      "  This is separate from the ipykernel package so we can avoid doing imports until\n"
     ]
    },
    {
     "data": {
      "text/html": [
       "<div>\n",
       "<style scoped>\n",
       "    .dataframe tbody tr th:only-of-type {\n",
       "        vertical-align: middle;\n",
       "    }\n",
       "\n",
       "    .dataframe tbody tr th {\n",
       "        vertical-align: top;\n",
       "    }\n",
       "\n",
       "    .dataframe thead th {\n",
       "        text-align: right;\n",
       "    }\n",
       "</style>\n",
       "<table border=\"1\" class=\"dataframe\">\n",
       "  <thead>\n",
       "    <tr style=\"text-align: right;\">\n",
       "      <th></th>\n",
       "      <th>B</th>\n",
       "      <th>C</th>\n",
       "      <th>Date</th>\n",
       "    </tr>\n",
       "    <tr>\n",
       "      <th>A</th>\n",
       "      <th></th>\n",
       "      <th></th>\n",
       "      <th></th>\n",
       "    </tr>\n",
       "  </thead>\n",
       "  <tbody>\n",
       "    <tr>\n",
       "      <th>1</th>\n",
       "      <td>1</td>\n",
       "      <td>1.0</td>\n",
       "      <td>2020-09-30</td>\n",
       "    </tr>\n",
       "    <tr>\n",
       "      <th>1</th>\n",
       "      <td>1</td>\n",
       "      <td>2.0</td>\n",
       "      <td>2020-12-31</td>\n",
       "    </tr>\n",
       "    <tr>\n",
       "      <th>1</th>\n",
       "      <td>2</td>\n",
       "      <td>3.0</td>\n",
       "      <td>2021-03-31</td>\n",
       "    </tr>\n",
       "    <tr>\n",
       "      <th>2</th>\n",
       "      <td>2</td>\n",
       "      <td>NaN</td>\n",
       "      <td>2021-06-30</td>\n",
       "    </tr>\n",
       "    <tr>\n",
       "      <th>2</th>\n",
       "      <td>1</td>\n",
       "      <td>5.0</td>\n",
       "      <td>2021-09-30</td>\n",
       "    </tr>\n",
       "    <tr>\n",
       "      <th>2</th>\n",
       "      <td>1</td>\n",
       "      <td>NaN</td>\n",
       "      <td>2021-12-31</td>\n",
       "    </tr>\n",
       "  </tbody>\n",
       "</table>\n",
       "</div>"
      ],
      "text/plain": [
       "   B    C       Date\n",
       "A                   \n",
       "1  1  1.0 2020-09-30\n",
       "1  1  2.0 2020-12-31\n",
       "1  2  3.0 2021-03-31\n",
       "2  2  NaN 2021-06-30\n",
       "2  1  5.0 2021-09-30\n",
       "2  1  NaN 2021-12-31"
      ]
     },
     "execution_count": 18,
     "metadata": {},
     "output_type": "execute_result"
    }
   ],
   "source": [
    "df2 = df.copy()\n",
    "df2[\"Date\"] = pd.date_range(\n",
    "    start=pd.datetime.today().strftime(\"%m/%d/%Y\"),\n",
    "    freq=\"BQ\",\n",
    "    periods=df.shape[0]\n",
    ")\n",
    "df2 = df2.set_index(\"A\")\n",
    "df2"
   ]
  },
  {
   "cell_type": "markdown",
   "metadata": {
    "slideshow": {
     "slide_type": "subslide"
    }
   },
   "source": [
    "We can group by year"
   ]
  },
  {
   "cell_type": "code",
   "execution_count": 19,
   "metadata": {
    "hide-output": false
   },
   "outputs": [
    {
     "data": {
      "text/html": [
       "<div>\n",
       "<style scoped>\n",
       "    .dataframe tbody tr th:only-of-type {\n",
       "        vertical-align: middle;\n",
       "    }\n",
       "\n",
       "    .dataframe tbody tr th {\n",
       "        vertical-align: top;\n",
       "    }\n",
       "\n",
       "    .dataframe thead th {\n",
       "        text-align: right;\n",
       "    }\n",
       "</style>\n",
       "<table border=\"1\" class=\"dataframe\">\n",
       "  <thead>\n",
       "    <tr style=\"text-align: right;\">\n",
       "      <th></th>\n",
       "      <th>B</th>\n",
       "      <th>C</th>\n",
       "    </tr>\n",
       "    <tr>\n",
       "      <th>Date</th>\n",
       "      <th></th>\n",
       "      <th></th>\n",
       "    </tr>\n",
       "  </thead>\n",
       "  <tbody>\n",
       "    <tr>\n",
       "      <th>2020-12-31</th>\n",
       "      <td>2</td>\n",
       "      <td>2</td>\n",
       "    </tr>\n",
       "    <tr>\n",
       "      <th>2021-12-31</th>\n",
       "      <td>4</td>\n",
       "      <td>2</td>\n",
       "    </tr>\n",
       "  </tbody>\n",
       "</table>\n",
       "</div>"
      ],
      "text/plain": [
       "            B  C\n",
       "Date            \n",
       "2020-12-31  2  2\n",
       "2021-12-31  4  2"
      ]
     },
     "execution_count": 19,
     "metadata": {},
     "output_type": "execute_result"
    }
   ],
   "source": [
    "df2.groupby(pd.Grouper(key=\"Date\", freq=\"A\")).count()"
   ]
  },
  {
   "cell_type": "markdown",
   "metadata": {
    "slideshow": {
     "slide_type": "subslide"
    }
   },
   "source": [
    "We can group by the `A` level of the index"
   ]
  },
  {
   "cell_type": "code",
   "execution_count": 20,
   "metadata": {
    "hide-output": false
   },
   "outputs": [
    {
     "data": {
      "text/html": [
       "<div>\n",
       "<style scoped>\n",
       "    .dataframe tbody tr th:only-of-type {\n",
       "        vertical-align: middle;\n",
       "    }\n",
       "\n",
       "    .dataframe tbody tr th {\n",
       "        vertical-align: top;\n",
       "    }\n",
       "\n",
       "    .dataframe thead th {\n",
       "        text-align: right;\n",
       "    }\n",
       "</style>\n",
       "<table border=\"1\" class=\"dataframe\">\n",
       "  <thead>\n",
       "    <tr style=\"text-align: right;\">\n",
       "      <th></th>\n",
       "      <th>B</th>\n",
       "      <th>C</th>\n",
       "      <th>Date</th>\n",
       "    </tr>\n",
       "    <tr>\n",
       "      <th>A</th>\n",
       "      <th></th>\n",
       "      <th></th>\n",
       "      <th></th>\n",
       "    </tr>\n",
       "  </thead>\n",
       "  <tbody>\n",
       "    <tr>\n",
       "      <th>1</th>\n",
       "      <td>3</td>\n",
       "      <td>3</td>\n",
       "      <td>3</td>\n",
       "    </tr>\n",
       "    <tr>\n",
       "      <th>2</th>\n",
       "      <td>3</td>\n",
       "      <td>1</td>\n",
       "      <td>3</td>\n",
       "    </tr>\n",
       "  </tbody>\n",
       "</table>\n",
       "</div>"
      ],
      "text/plain": [
       "   B  C  Date\n",
       "A            \n",
       "1  3  3     3\n",
       "2  3  1     3"
      ]
     },
     "execution_count": 20,
     "metadata": {},
     "output_type": "execute_result"
    }
   ],
   "source": [
    "df2.groupby(pd.Grouper(level=\"A\")).count()"
   ]
  },
  {
   "cell_type": "markdown",
   "metadata": {
    "slideshow": {
     "slide_type": "subslide"
    }
   },
   "source": [
    "We can combine these to group by both"
   ]
  },
  {
   "cell_type": "code",
   "execution_count": 21,
   "metadata": {
    "hide-output": false
   },
   "outputs": [
    {
     "data": {
      "text/html": [
       "<div>\n",
       "<style scoped>\n",
       "    .dataframe tbody tr th:only-of-type {\n",
       "        vertical-align: middle;\n",
       "    }\n",
       "\n",
       "    .dataframe tbody tr th {\n",
       "        vertical-align: top;\n",
       "    }\n",
       "\n",
       "    .dataframe thead th {\n",
       "        text-align: right;\n",
       "    }\n",
       "</style>\n",
       "<table border=\"1\" class=\"dataframe\">\n",
       "  <thead>\n",
       "    <tr style=\"text-align: right;\">\n",
       "      <th></th>\n",
       "      <th></th>\n",
       "      <th>B</th>\n",
       "      <th>C</th>\n",
       "    </tr>\n",
       "    <tr>\n",
       "      <th>Date</th>\n",
       "      <th>A</th>\n",
       "      <th></th>\n",
       "      <th></th>\n",
       "    </tr>\n",
       "  </thead>\n",
       "  <tbody>\n",
       "    <tr>\n",
       "      <th>2020-12-31</th>\n",
       "      <th>1</th>\n",
       "      <td>2</td>\n",
       "      <td>2</td>\n",
       "    </tr>\n",
       "    <tr>\n",
       "      <th rowspan=\"2\" valign=\"top\">2021-12-31</th>\n",
       "      <th>1</th>\n",
       "      <td>1</td>\n",
       "      <td>1</td>\n",
       "    </tr>\n",
       "    <tr>\n",
       "      <th>2</th>\n",
       "      <td>3</td>\n",
       "      <td>1</td>\n",
       "    </tr>\n",
       "  </tbody>\n",
       "</table>\n",
       "</div>"
      ],
      "text/plain": [
       "              B  C\n",
       "Date       A      \n",
       "2020-12-31 1  2  2\n",
       "2021-12-31 1  1  1\n",
       "           2  3  1"
      ]
     },
     "execution_count": 21,
     "metadata": {},
     "output_type": "execute_result"
    }
   ],
   "source": [
    "df2.groupby([pd.Grouper(key=\"Date\", freq=\"A\"), pd.Grouper(level=\"A\")]).count()"
   ]
  },
  {
   "cell_type": "markdown",
   "metadata": {
    "slideshow": {
     "slide_type": "subslide"
    }
   },
   "source": [
    "And we can combine `pd.Grouper` with a string, where the string\n",
    "denotes a column name"
   ]
  },
  {
   "cell_type": "code",
   "execution_count": null,
   "metadata": {
    "hide-output": false
   },
   "outputs": [],
   "source": [
    "df2.groupby([pd.Grouper(key=\"Date\", freq=\"A\"), \"B\"]).count()"
   ]
  },
  {
   "cell_type": "markdown",
   "metadata": {
    "slideshow": {
     "slide_type": "slide"
    }
   },
   "source": [
    "## Case Study: Airline Delays\n",
    "\n",
    "Let's practice on some real data!\n",
    "\n",
    "We'll revisit the airline dataset from the [merge](merge.ipynb) lecture"
   ]
  },
  {
   "cell_type": "code",
   "execution_count": 22,
   "metadata": {
    "hide-output": false
   },
   "outputs": [
    {
     "ename": "NameError",
     "evalue": "name 'qeds' is not defined",
     "output_type": "error",
     "traceback": [
      "\u001b[0;31m---------------------------------------------------------------------------\u001b[0m",
      "\u001b[0;31mNameError\u001b[0m                                 Traceback (most recent call last)",
      "\u001b[0;32m<ipython-input-22-6bfe398276a1>\u001b[0m in \u001b[0;36m<module>\u001b[0;34m\u001b[0m\n\u001b[0;32m----> 1\u001b[0;31m \u001b[0mair_dec\u001b[0m \u001b[0;34m=\u001b[0m \u001b[0mqeds\u001b[0m\u001b[0;34m.\u001b[0m\u001b[0mload\u001b[0m\u001b[0;34m(\u001b[0m\u001b[0;34m\"airline_performance_dec16\"\u001b[0m\u001b[0;34m)\u001b[0m\u001b[0;34m\u001b[0m\u001b[0;34m\u001b[0m\u001b[0m\n\u001b[0m",
      "\u001b[0;31mNameError\u001b[0m: name 'qeds' is not defined"
     ]
    }
   ],
   "source": [
    "air_dec = qeds.load(\"airline_performance_dec16\")"
   ]
  },
  {
   "cell_type": "markdown",
   "metadata": {
    "slideshow": {
     "slide_type": "subslide"
    }
   },
   "source": [
    "First, we compute the average delay in arrival time for all carriers\n",
    "each week"
   ]
  },
  {
   "cell_type": "code",
   "execution_count": null,
   "metadata": {
    "hide-output": false
   },
   "outputs": [],
   "source": [
    "weekly_delays = (\n",
    "    air_dec\n",
    "    .groupby([pd.Grouper(key=\"Date\", freq=\"W\"), \"Carrier\"])\n",
    "    [\"ArrDelay\"]               # extract one column\n",
    "    .mean()                    # take average\n",
    "    .unstack(level=\"Carrier\")  # Flip carrier up as column names\n",
    ")\n",
    "weekly_delays"
   ]
  },
  {
   "cell_type": "markdown",
   "metadata": {
    "slideshow": {
     "slide_type": "subslide"
    }
   },
   "source": [
    "Let’s also plot this data"
   ]
  },
  {
   "cell_type": "code",
   "execution_count": 24,
   "metadata": {
    "hide-output": false
   },
   "outputs": [
    {
     "ename": "NameError",
     "evalue": "name 'weekly_delays' is not defined",
     "output_type": "error",
     "traceback": [
      "\u001b[0;31m---------------------------------------------------------------------------\u001b[0m",
      "\u001b[0;31mNameError\u001b[0m                                 Traceback (most recent call last)",
      "\u001b[0;32m<ipython-input-24-85edf35d3733>\u001b[0m in \u001b[0;36m<module>\u001b[0;34m\u001b[0m\n\u001b[1;32m      1\u001b[0m \u001b[0;31m# plot\u001b[0m\u001b[0;34m\u001b[0m\u001b[0;34m\u001b[0m\u001b[0;34m\u001b[0m\u001b[0m\n\u001b[0;32m----> 2\u001b[0;31m axs = weekly_delays.plot.bar(\n\u001b[0m\u001b[1;32m      3\u001b[0m     \u001b[0mfigsize\u001b[0m\u001b[0;34m=\u001b[0m\u001b[0;34m(\u001b[0m\u001b[0;36m10\u001b[0m\u001b[0;34m,\u001b[0m \u001b[0;36m8\u001b[0m\u001b[0;34m)\u001b[0m\u001b[0;34m,\u001b[0m \u001b[0msubplots\u001b[0m\u001b[0;34m=\u001b[0m\u001b[0;32mTrue\u001b[0m\u001b[0;34m,\u001b[0m \u001b[0mlegend\u001b[0m\u001b[0;34m=\u001b[0m\u001b[0;32mFalse\u001b[0m\u001b[0;34m,\u001b[0m \u001b[0msharex\u001b[0m\u001b[0;34m=\u001b[0m\u001b[0;32mTrue\u001b[0m\u001b[0;34m,\u001b[0m\u001b[0;34m\u001b[0m\u001b[0;34m\u001b[0m\u001b[0m\n\u001b[1;32m      4\u001b[0m     \u001b[0msharey\u001b[0m\u001b[0;34m=\u001b[0m\u001b[0;32mTrue\u001b[0m\u001b[0;34m,\u001b[0m \u001b[0mlayout\u001b[0m\u001b[0;34m=\u001b[0m\u001b[0;34m(\u001b[0m\u001b[0;36m4\u001b[0m\u001b[0;34m,\u001b[0m \u001b[0;36m3\u001b[0m\u001b[0;34m)\u001b[0m\u001b[0;34m,\u001b[0m \u001b[0mgrid\u001b[0m\u001b[0;34m=\u001b[0m\u001b[0;32mFalse\u001b[0m\u001b[0;34m\u001b[0m\u001b[0;34m\u001b[0m\u001b[0m\n\u001b[1;32m      5\u001b[0m )\n",
      "\u001b[0;31mNameError\u001b[0m: name 'weekly_delays' is not defined"
     ]
    }
   ],
   "source": [
    "# plot\n",
    "axs = weekly_delays.plot.bar(\n",
    "    figsize=(10, 8), subplots=True, legend=False, sharex=True,\n",
    "    sharey=True, layout=(4, 3), grid=False\n",
    ")\n",
    "\n",
    "# tweak spacing between subplots and xaxis labels\n",
    "axs[0,0].get_figure().tight_layout()\n",
    "for ax in axs[-1, :]:\n",
    "    ax.set_xticklabels(weekly_delays.index.strftime(\"%a, %b. %d'\"))"
   ]
  },
  {
   "cell_type": "markdown",
   "metadata": {},
   "source": [
    "Most delayed week ended on Sunday December (except for Frontier, who did *worse* on week of 25th)\n",
    "\n",
    "Let’s see why..."
   ]
  },
  {
   "cell_type": "markdown",
   "metadata": {
    "slideshow": {
     "slide_type": "subslide"
    }
   },
   "source": [
    "The `air_dec` DataFrame has information on the minutes of delay\n",
    "attributed to 5 different categories:"
   ]
  },
  {
   "cell_type": "code",
   "execution_count": null,
   "metadata": {
    "hide-output": false
   },
   "outputs": [],
   "source": [
    "delay_cols = [\n",
    "    'CarrierDelay',\n",
    "    'WeatherDelay',\n",
    "    'NASDelay',\n",
    "    'SecurityDelay',\n",
    "    'LateAircraftDelay'\n",
    "]"
   ]
  },
  {
   "cell_type": "markdown",
   "metadata": {
    "slideshow": {
     "slide_type": "subslide"
    }
   },
   "source": [
    "Let’s take a quick look at each of those delay categories for the week ending December 18, 2016"
   ]
  },
  {
   "cell_type": "code",
   "execution_count": null,
   "metadata": {
    "hide-output": false
   },
   "outputs": [],
   "source": [
    "pre_christmas = air_dec.loc[\n",
    "    (air_dec[\"Date\"] >= \"2016-12-12\") & (air_dec[\"Date\"] <= \"2016-12-18\")\n",
    "]\n",
    "\n",
    "# custom agg function\n",
    "def positive(df):\n",
    "    return (df > 0).sum()\n",
    "\n",
    "delay_totals = pre_christmas.groupby(\"Carrier\")[delay_cols].agg([\"sum\", \"mean\", positive])\n",
    "delay_totals"
   ]
  },
  {
   "cell_type": "markdown",
   "metadata": {
    "slideshow": {
     "slide_type": "subslide"
    }
   },
   "source": [
    "**Want**: plot total, average, and number of each type of delay by\n",
    "carrier\n",
    "\n",
    "To do this, we need to have a DataFrame with:\n",
    "\n",
    "- Delay type in index (so it is on horizontal-axis)  \n",
    "- Aggregation method on *outer* most level of columns (so we can do\n",
    "  `data[\"mean\"]` to get averages)  \n",
    "- Carrier name on inner level of columns  "
   ]
  },
  {
   "cell_type": "markdown",
   "metadata": {
    "slideshow": {
     "slide_type": "fragment"
    }
   },
   "source": [
    "Many sequences of the reshaping commands can accomplish this\n",
    "\n",
    "We show one example below"
   ]
  },
  {
   "cell_type": "code",
   "execution_count": null,
   "metadata": {
    "hide-output": false
   },
   "outputs": [],
   "source": [
    "reshaped_delays = (\n",
    "    delay_totals\n",
    "    .stack()             # move aggregation method into index (with Carrier)\n",
    "    .T                   # put delay type in index and Carrier+agg in column\n",
    "    .swaplevel(axis=1)   # make agg method outer level of column label\n",
    "    .sort_index(axis=1)  # sort column labels so it prints nicely\n",
    ")\n",
    "reshaped_delays"
   ]
  },
  {
   "cell_type": "code",
   "execution_count": null,
   "metadata": {
    "hide-output": false,
    "slideshow": {
     "slide_type": "subslide"
    }
   },
   "outputs": [],
   "source": [
    "for agg in [\"mean\", \"sum\", \"positive\"]:\n",
    "    axs = reshaped_delays[agg].plot(\n",
    "        kind=\"bar\", subplots=True, layout=(4, 3), figsize=(10, 8), legend=False,\n",
    "        sharex=True, sharey=True\n",
    "    )\n",
    "    fig = axs[0, 0].get_figure()\n",
    "    fig.suptitle(agg)\n",
    "#     fig.tight_layout();"
   ]
  },
  {
   "cell_type": "markdown",
   "metadata": {
    "slideshow": {
     "slide_type": "subslide"
    }
   },
   "source": [
    "\n",
    "<a id='exercise-3'></a>\n",
    "**Exercise 4**\n",
    "\n",
    "Think about what is shown in the the plots above\n",
    "\n",
    "Answer questions like:\n",
    "\n",
    "- Which type of delay was the most common?  \n",
    "- Which one caused the largest average delay?  \n",
    "- Does that vary by airline?  \n",
    "\n",
    "\n",
    "Write your thoughts"
   ]
  },
  {
   "cell_type": "code",
   "execution_count": null,
   "metadata": {
    "hide-output": false
   },
   "outputs": [],
   "source": [
    "# your code here if needed"
   ]
  },
  {
   "cell_type": "markdown",
   "metadata": {
    "slideshow": {
     "slide_type": "subslide"
    }
   },
   "source": [
    "Let’s summarize what we did:\n",
    "\n",
    "- Computed average flight delay for each airline for each week  \n",
    "- Noticed that one week had more delays for all airlines\n",
    "- Studied the flights in that week to determine the *cause* of the\n",
    "  delays in that week"
   ]
  },
  {
   "cell_type": "markdown",
   "metadata": {
    "slideshow": {
     "slide_type": "subslide"
    }
   },
   "source": [
    "Suppose now that we want to repeat that analysis, but at a daily\n",
    "frequency instead of weekly\n",
    "\n",
    "We could copy/paste the code from above and change the `W` to a `D`,\n",
    "but there’s a better way…\n",
    "\n",
    "Let’s convert the steps above into two functions:\n",
    "\n",
    "1. Produce the set of bar charts for average delays at each frequency \n",
    "1. Produce the second set of charts for the total, average, and number of occurrences of each type of delay"
   ]
  },
  {
   "cell_type": "code",
   "execution_count": null,
   "metadata": {
    "hide-output": false,
    "slideshow": {
     "slide_type": "subslide"
    }
   },
   "outputs": [],
   "source": [
    "def mean_delay_plot(df, freq, figsize=(10, 8)):\n",
    "    \"\"\"\n",
    "    Make a bar chart of average flight delays for each carrier at\n",
    "    a given frequency.\n",
    "    \"\"\"\n",
    "    mean_delays = (\n",
    "        df\n",
    "        .groupby([pd.Grouper(key=\"Date\", freq=freq), \"Carrier\"])\n",
    "        [\"ArrDelay\"]               # extract one column\n",
    "        .mean()                    # take average\n",
    "        .unstack(level=\"Carrier\")  # Flip carrier up as column names\n",
    "    )\n",
    "\n",
    "    # plot\n",
    "    axs = mean_delays.plot.bar(\n",
    "        figsize=figsize, subplots=True, legend=False, sharex=True,\n",
    "        sharey=True, layout=(4, 3), grid=False\n",
    "    )\n",
    "\n",
    "    # tweak spacing between subplots and x-axis labels\n",
    "    axs[0, 0].get_figure().tight_layout()\n",
    "    for ax in axs[-1, :]:\n",
    "        ax.set_xticklabels(mean_delays.index.strftime(\"%a, %b. %d'\"))\n",
    "\n",
    "    # return the axes in case we want to further tweak the plot outside the function\n",
    "    return axs"
   ]
  },
  {
   "cell_type": "code",
   "execution_count": null,
   "metadata": {
    "hide-output": false,
    "slideshow": {
     "slide_type": "subslide"
    }
   },
   "outputs": [],
   "source": [
    "def delay_type_plot(df, start, end):\n",
    "    \"\"\"\n",
    "    Make bar charts for total minutes, average minutes, and number of\n",
    "    occurrences for each delay type, for all flights that were scheduled\n",
    "    between `start` date and `end` date\n",
    "    \"\"\"\n",
    "    sub_df = df.loc[\n",
    "        (df[\"Date\"] >= start) & (df[\"Date\"] <= end)\n",
    "    ]\n",
    "\n",
    "    def positive(df):\n",
    "        return (df > 0).sum()\n",
    "\n",
    "    aggs = sub_df.groupby(\"Carrier\")[delay_cols].agg([\"sum\", \"mean\", positive])\n",
    "\n",
    "    reshaped = aggs.stack().T.swaplevel(axis=1).sort_index(axis=1)\n",
    "\n",
    "    for agg in [\"mean\", \"sum\", \"positive\"]:\n",
    "        axs = reshaped[agg].plot(\n",
    "            kind=\"bar\", subplots=True, layout=(4, 3), figsize=(10, 8), legend=False,\n",
    "            sharex=True, sharey=True\n",
    "        )\n",
    "        fig = axs[0, 0].get_figure()\n",
    "        fig.suptitle(agg)\n",
    "#         fig.tight_layout();"
   ]
  },
  {
   "cell_type": "markdown",
   "metadata": {
    "slideshow": {
     "slide_type": "subslide"
    }
   },
   "source": [
    "\n",
    "<a id='exercise-4'></a>\n",
    "**Exercise 5**\n",
    "\n",
    "Verify that we wrote the functions properly by setting the arguments to\n",
    "appropriate values to replicate the plots from above."
   ]
  },
  {
   "cell_type": "code",
   "execution_count": null,
   "metadata": {
    "hide-output": false
   },
   "outputs": [],
   "source": [
    "# call mean_delay_plot here"
   ]
  },
  {
   "cell_type": "code",
   "execution_count": null,
   "metadata": {
    "hide-output": false
   },
   "outputs": [],
   "source": [
    "# call delay_type_plot here"
   ]
  },
  {
   "cell_type": "markdown",
   "metadata": {
    "slideshow": {
     "slide_type": "subslide"
    }
   },
   "source": [
    "Now let’s look at that plot at a daily frequency"
   ]
  },
  {
   "cell_type": "code",
   "execution_count": null,
   "metadata": {
    "hide-output": false
   },
   "outputs": [],
   "source": [
    "# figure needs to be a bit wider to see all the dates\n",
    "mean_delay_plot(air_dec, \"D\", figsize=(16, 8));"
   ]
  },
  {
   "cell_type": "markdown",
   "metadata": {},
   "source": [
    "As we expected given our analysis above, the longest average delays\n",
    "seemed to happen in the third week\n",
    "\n",
    "In particular, it looks like December 17th and 18th had — on average —\n",
    "higher delays than other days in December"
   ]
  },
  {
   "cell_type": "markdown",
   "metadata": {
    "slideshow": {
     "slide_type": "subslide"
    }
   },
   "source": [
    "Let’s use the `delay_type_plot` function to determine the cause of the\n",
    "delays on those two days\n",
    "\n",
    "Because our analysis is captured in a single function, we can look at\n",
    "the days together and separately without much effort"
   ]
  },
  {
   "cell_type": "code",
   "execution_count": null,
   "metadata": {
    "hide-output": false,
    "slideshow": {
     "slide_type": "-"
    }
   },
   "outputs": [],
   "source": [
    "# both days\n",
    "delay_type_plot(air_dec, \"12-17-16\", \"12-18-16\")"
   ]
  },
  {
   "cell_type": "code",
   "execution_count": null,
   "metadata": {
    "hide-output": false,
    "slideshow": {
     "slide_type": "subslide"
    }
   },
   "outputs": [],
   "source": [
    "# only the 17th\n",
    "delay_type_plot(air_dec, \"12-17-16\", \"12-17-16\")"
   ]
  },
  {
   "cell_type": "code",
   "execution_count": null,
   "metadata": {
    "hide-output": false,
    "slideshow": {
     "slide_type": "subslide"
    }
   },
   "outputs": [],
   "source": [
    "# only the 18th\n",
    "delay_type_plot(air_dec, \"12-18-16\", \"12-18-16\")"
   ]
  },
  {
   "cell_type": "markdown",
   "metadata": {
    "slideshow": {
     "slide_type": "subslide"
    }
   },
   "source": [
    "- The purpose of this exercise was to drive home the ability to *automate* tasks\n",
    "- We wrote a pair of `functions` that allow us to easily repeat the exact same analysis on different subsets of the data, or different datasets entirely (e.g. we could do the same analysis on November 2016 data, with two lines of code)\n",
    "- These principles can be applied in many settings\n",
    "- Keep that in mind as we work through the rest of the materials"
   ]
  },
  {
   "cell_type": "markdown",
   "metadata": {
    "slideshow": {
     "slide_type": "slide"
    }
   },
   "source": [
    "## Exercise: Cohort Analysis using Shopify Data\n",
    "\n",
    "The `qeds` library includes routines to simulate data sets in the\n",
    "format of common sources\n",
    "\n",
    "One of these sources is [Shopify](https://www.shopify.com/) — an\n",
    "e-commerce platform used by many retail companies for online sales"
   ]
  },
  {
   "cell_type": "markdown",
   "metadata": {
    "slideshow": {
     "slide_type": "subslide"
    }
   },
   "source": [
    "The code below will simulate a fairly large data set that has the\n",
    "properties of a order-detail report from Shopify\n",
    "\n",
    "We’ll first look at the data, and then describe the exercise"
   ]
  },
  {
   "cell_type": "code",
   "execution_count": null,
   "metadata": {
    "hide-output": false,
    "slideshow": {
     "slide_type": "-"
    }
   },
   "outputs": [],
   "source": [
    "# Set the \"randomness\" seeds\n",
    "random.seed(42)\n",
    "np.random.seed(42)\n",
    "\n",
    "orders = qeds.data.shopify.simulate_orders(500000)\n",
    "orders.info()\n",
    "\n",
    "orders.head()"
   ]
  },
  {
   "cell_type": "markdown",
   "metadata": {
    "slideshow": {
     "slide_type": "subslide"
    }
   },
   "source": [
    "**Definition:** A customer’s cohort is the month in which a customer placed\n",
    "their first order\n",
    "\n",
    "The customer type column indicates whether order was placed by a new or returning customer"
   ]
  },
  {
   "cell_type": "markdown",
   "metadata": {
    "slideshow": {
     "slide_type": "subslide"
    }
   },
   "source": [
    "We now describe the *want* for the exercise, which we ask you to complete\n",
    "\n",
    "**Want**: Compute the monthly total number of orders, total sales, and\n",
    "total quantity separated by customer cohort and customer type\n",
    "\n",
    "Read that carefully one more time…"
   ]
  },
  {
   "cell_type": "markdown",
   "metadata": {
    "slideshow": {
     "slide_type": "subslide"
    }
   },
   "source": [
    "### Extended Exercise\n",
    "\n",
    "Using the reshape and `groupby` tools you have learned, apply the want\n",
    "operator described above\n",
    "\n",
    "See below for advice on how to proceed"
   ]
  },
  {
   "cell_type": "markdown",
   "metadata": {
    "slideshow": {
     "slide_type": "subslide"
    }
   },
   "source": [
    "When you are finished, you should have something that looks like this:\n",
    "\n",
    "<img src=\"https://datascience.quantecon.org/assets/_static/groupby_files/groupby_cohort_analysis_exercise_output.png\" alt=\"groupby\\_cohort\\_analysis\\_exercise\\_output.png\" style=\"\">\n",
    "\n",
    "  "
   ]
  },
  {
   "cell_type": "markdown",
   "metadata": {
    "slideshow": {
     "slide_type": "subslide"
    }
   },
   "source": [
    "Two notes on the table above:\n",
    "\n",
    "1. Your actual output will be much bigger. This is just to give you an idea of what it might look like\n",
    "1. The numbers you produce should actually be the same as what are included in this table… Index into your answer and compare what you have with this table to verify your progress  "
   ]
  },
  {
   "cell_type": "markdown",
   "metadata": {
    "slideshow": {
     "slide_type": "subslide"
    }
   },
   "source": [
    "Now, how to do it?\n",
    "\n",
    "There is more than one way to code this, but here are some suggested\n",
    "steps.\n",
    "\n",
    "1. Convert the `Day` column to have a `datetime` `dtype` instead of object (Hint: use the `pd.to_datetime` function)\n",
    "1. Add a new column that specifies the date associated with each\n",
    "  customer’s `\"First-time\"` order\n",
    "  - Hint 1: You can do this with a combination of `groupby` and\n",
    "    `join`\n",
    "  - Hint 2: `customer_type` is always one of `Returning` and\n",
    "    `First-time`  \n",
    "  - Hint 3: Some customers don’t have a\n",
    "    `customer_type == \"First-time\"` entry. You will need to set the\n",
    "    value for these users to some date that precedes the dates in the\n",
    "    sample. After adding valid data back into `orders` DataFrame,\n",
    "    you can identify which customers don’t have a `\"First-Time\"`\n",
    "    entry by checking for missing data in the new column.  \n",
    "1. You’ll need to group by 3 things  \n",
    "1. You can apply one of the built-in aggregation functions to the GroupBy\n",
    "1. After doing the aggregation, you’ll need to use your reshaping skills to\n",
    "  move things to the right place in rows and columns\n",
    "\n",
    "\n",
    "Good luck!"
   ]
  },
  {
   "cell_type": "code",
   "execution_count": null,
   "metadata": {},
   "outputs": [],
   "source": []
  }
 ],
 "metadata": {
  "celltoolbar": "Slideshow",
  "date": 1596736608.0739522,
  "filename": "groupby.rst",
  "kernelspec": {
   "display_name": "Python [conda env:qeds]",
   "language": "python",
   "name": "conda-env-qeds-py"
  },
  "language_info": {
   "codemirror_mode": {
    "name": "ipython",
    "version": 3
   },
   "file_extension": ".py",
   "mimetype": "text/x-python",
   "name": "python",
   "nbconvert_exporter": "python",
   "pygments_lexer": "ipython3",
   "version": "3.7.7"
  },
  "title": "GroupBy"
 },
 "nbformat": 4,
 "nbformat_minor": 4
}
